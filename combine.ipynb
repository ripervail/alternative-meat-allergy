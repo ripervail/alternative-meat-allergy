{
 "cells": [
  {
   "cell_type": "markdown",
   "source": "# Combine the CSVs into 1",
   "metadata": {
    "cell_id": "d47e2661-abe8-4784-a695-d09cf34f3d6f",
    "tags": [],
    "deepnote_cell_type": "markdown"
   }
  },
  {
   "cell_type": "code",
   "metadata": {
    "cell_id": "cac7defa-1dd7-4580-9afd-b9470484b60c",
    "tags": [],
    "deepnote_to_be_reexecuted": false,
    "source_hash": "10b9a1ef",
    "execution_start": 1645691096971,
    "execution_millis": 42,
    "deepnote_cell_type": "code"
   },
   "source": "# imports\nimport pandas as pd\nimport numpy as np\nimport os",
   "outputs": [],
   "execution_count": null
  },
  {
   "cell_type": "markdown",
   "source": "Get the average of the duplicates, and parse them by column followed by row\n\nDot swapping to bring the dots back to their original position (8*18, max size 144)\n* For panel 1:\n    * K15/16 to C1/2 (BB w/o urea) - 136 to 2\n    * M15/16 to K1/2 (IgE 62.5) - 138 to 10\n    * O15/16 to I5/6 (Chicken breast) - 140 to 44\n    * L15/16 to D1/2 (PBS) - 137 to 3\n    * N15/16 to L1/2 (IgE 31.25) - 139 to 11\n    * P15/16 to J5/6 (Cooked soy) - 141 to 45\n    * Delete last 8 elements (136 onwards)\n\n* For panel 2: (a bit more complicated)\n    * Swap I3/4 with K3/4 (BSF PKM WT with BB w urea gel) (28 with 26)\n    * Swap H3/4 with L3/4 (BSF M<P WT with BB w/o urea gel) (25 with 29)\n    * Just delete the empty dots\n    * A5/6, E5/6, G5/6, I5/6, K5/6 (36, 40, 42, 44, 46)\n    * B5/6, F5/6, H5/6, J5/6, L5/6 (37, 41, 43, 45, 47)\n    * Rearrange as I see fit later on",
   "metadata": {
    "cell_id": "1f5b8d44-1095-476f-b5f3-6766b4215c07",
    "tags": [],
    "deepnote_cell_type": "markdown"
   }
  },
  {
   "cell_type": "code",
   "metadata": {
    "tags": [],
    "cell_id": "1d78ddaa-1bcd-4500-ba85-96b3dc08bb39",
    "deepnote_to_be_reexecuted": false,
    "source_hash": "96630687",
    "execution_start": 1645691097013,
    "execution_millis": 8548,
    "deepnote_cell_type": "code"
   },
   "source": "# Set directory of batch\nbatch_directory = \"150222-CSV\"\n# List of dataframes of values\nbatch1 = []\nbatch2 = []\n# Record panel\npanels = []\n# Record ID\nid1 = []\nid2 = []\n\nprint(f\"Number of membranes: {len(os.listdir(batch_directory))}\")\n\nfor file in os.listdir(batch_directory):\n    # Get panel number and id\n    panel, idx = file.split(\"-\")\n    idx = idx[:len(idx)-4]\n    panels.append(panel)\n\n    # Use only the first 2 columns with usecols\n    csv = pd.read_csv(batch_directory + '/' + file, \n                      usecols=[0,1], \n                      names=['Spot', 'Value']) # Must be the full file path\n    # Remove top 9 rows as they are irrelevant\n    csv = csv.dropna().iloc[4:,].reset_index(drop=True)\n    # Split Spot into Row and Column\n    csv['Row'] = csv['Spot'].str[4]\n    csv['Col'] = csv['Spot'].str[5:]\n    # Handle value error if values are in scientific notation\n    try:\n        csv['Value'].astype(int)\n    except ValueError:\n        print(f'Notation error: File {file} needs to be converted to int!')\n        continue\n\n    # Convert them into list of values\n    # We process them column by column, and average the duplicates\n    l = []\n    for col in range(1, 9): # We use 2*i - 1 and 2*i\n        for row in ['A', 'B', 'C', 'D', 'E', 'F', 'G', 'H', 'I', 'J', 'K', 'L', 'M', 'N', 'O', 'P', 'Q', 'R']:\n            spot1 = \"Spot\" + row + str(2*col - 1)\n            spot2 = \"Spot\" + row + str(2*col)\n            dot1 = int(csv.loc[csv['Spot'] == spot1, 'Value'].iloc[0])\n            dot2 = int(csv.loc[csv['Spot'] == spot2, 'Value'].iloc[0])\n            dot = (dot1 + dot2) / 2\n            l.append(dot)\n\n    # Swap the dots back to their original position\n    # Swap panel 1\n    if panel == \"1\":\n        l[2] = l[136]\n        # l[10] = l[138]\n        l[44] = l[140]\n        l[3] = l[137]\n        # l[11] = l[139]\n        l[45] = l[141]\n        del l[136:]\n\n        batch1.append(l)\n        id1.append(idx)\n        \n    # Delete panel 2 empty\n    if panel == \"2\":\n        print(l[28], l[26], l[25], l[29])\n        # Swap\n        l[28], l[26] = l[26], l[28]\n        l[25], l[29] = l[29], l[25]\n        print(l[28], l[26], l[25], l[29])\n        # Delete 36 and 37\n        del l[36:38]\n        # Delete 40 to 49\n        del l[38:46]\n\n        batch2.append(l)\n        id2.append(idx)",
   "outputs": [
    {
     "name": "stdout",
     "text": "Number of membranes: 60\n178576.5 169297.0 163987.5 177806.0\n169297.0 178576.5 177806.0 163987.5\n165607.5 154597.0 147975.5 167754.5\n154597.0 165607.5 167754.5 147975.5\n513799.5 522256.5 516444.0 510863.0\n522256.5 513799.5 510863.0 516444.0\n479377.0 486847.0 482201.5 479116.0\n486847.0 479377.0 479116.0 482201.5\n1137580.0 1114145.0 1099810.0 1141140.0\n1114145.0 1137580.0 1141140.0 1099810.0\n203215.0 200855.5 189413.5 202135.0\n200855.5 203215.0 202135.0 189413.5\n526290.0 516852.0 512376.0 525881.0\n516852.0 526290.0 525881.0 512376.0\n232823.0 225338.5 216961.5 232899.5\n225338.5 232823.0 232899.5 216961.5\n434765.5 446986.5 434717.0 413927.0\n446986.5 434765.5 413927.0 434717.0\n438040.5 434820.0 426076.0 437184.5\n434820.0 438040.5 437184.5 426076.0\n171787.0 179006.0 172562.5 166314.0\n179006.0 171787.0 166314.0 172562.5\n698723.5 695508.5 687399.5 698886.0\n695508.5 698723.5 698886.0 687399.5\n552512.5 546807.0 544116.0 551094.5\n546807.0 552512.5 551094.5 544116.0\n172113.5 170362.5 171962.5 172115.5\n170362.5 172113.5 172115.5 171962.5\n161354.5 163575.5 160578.5 155795.5\n163575.5 161354.5 155795.5 160578.5\n150192.0 137132.0 133982.0 145632.0\n137132.0 150192.0 145632.0 133982.0\n153544.5 154654.0 156160.0 150823.5\n154654.0 153544.5 150823.5 156160.0\n435366.0 432538.5 428090.5 435265.5\n432538.5 435366.0 435265.5 428090.5\n208293.0 198832.0 196843.5 208265.5\n198832.0 208293.0 208265.5 196843.5\n376551.0 373833.5 372497.5 369621.5\n373833.5 376551.0 369621.5 372497.5\n190775.0 190388.0 189722.0 188408.0\n190388.0 190775.0 188408.0 189722.0\n192372.5 193047.0 194862.0 189262.0\n193047.0 192372.5 189262.0 194862.0\n585992.5 581841.5 580857.5 583723.0\n581841.5 585992.5 583723.0 580857.5\n204061.5 197679.0 190951.5 202335.0\n197679.0 204061.5 202335.0 190951.5\n208668.0 199448.0 192032.5 208592.5\n199448.0 208668.0 208592.5 192032.5\n486780.5 481693.5 471920.5 487137.0\n481693.5 486780.5 487137.0 471920.5\n196437.0 193455.0 190905.0 193037.0\n193455.0 196437.0 193037.0 190905.0\n175814.0 166104.0 161307.5 177457.5\n166104.0 175814.0 177457.5 161307.5\n171982.0 166796.0 161715.5 173472.0\n166796.0 171982.0 173472.0 161715.5\n224621.5 224932.0 223659.0 223402.5\n224932.0 224621.5 223402.5 223659.0\n",
     "output_type": "stream"
    }
   ],
   "execution_count": null
  },
  {
   "cell_type": "code",
   "metadata": {
    "cell_id": "d15a7874-46cf-47fc-9937-ae00c803de24",
    "tags": [],
    "deepnote_to_be_reexecuted": false,
    "source_hash": "bb80929",
    "execution_start": 1645691105565,
    "execution_millis": 10,
    "deepnote_cell_type": "code"
   },
   "source": "print(len(batch2[0]))",
   "outputs": [
    {
     "name": "stdout",
     "text": "134\n",
     "output_type": "stream"
    }
   ],
   "execution_count": null
  },
  {
   "cell_type": "markdown",
   "source": "## Save each panel's CSV separately, and do the normalisation separately",
   "metadata": {
    "cell_id": "bcc48b40-4403-4e69-884e-ae637971954b",
    "tags": [],
    "deepnote_cell_type": "markdown"
   }
  },
  {
   "cell_type": "code",
   "metadata": {
    "cell_id": "1993c65b-07f5-4071-924f-3d0e5e187055",
    "tags": [],
    "deepnote_to_be_reexecuted": false,
    "source_hash": "cc619e52",
    "execution_start": 1645691105581,
    "execution_millis": 639,
    "deepnote_table_state": {
     "pageSize": 10,
     "pageIndex": 2,
     "filters": [],
     "sortBy": []
    },
    "deepnote_table_loading": false,
    "deepnote_cell_type": "code"
   },
   "source": "# For panel 1\npanel1 = pd.DataFrame.from_records(batch1)\n\n# Add batch date\npanel1.insert(0, \"Batch\", batch_directory)\n# Add panel number\npanel1.insert(0, \"Panel\", 1)\n# Add ID\npanel1.insert(0, \"ID\", id1)\n\npanel1",
   "outputs": [
    {
     "output_type": "execute_result",
     "execution_count": 4,
     "data": {
      "application/vnd.deepnote.dataframe.v3+json": {
       "column_count": 139,
       "row_count": 30,
       "columns": [
        {
         "name": "ID",
         "dtype": "object",
         "stats": {
          "unique_count": 30,
          "nan_count": 0,
          "categories": [
           {
            "name": "30",
            "count": 1
           },
           {
            "name": "5",
            "count": 1
           },
           {
            "name": "28 others",
            "count": 28
           }
          ]
         }
        },
        {
         "name": "Panel",
         "dtype": "int64",
         "stats": {
          "unique_count": 1,
          "nan_count": 0,
          "min": "1",
          "max": "1",
          "histogram": [
           {
            "bin_start": 0.5,
            "bin_end": 0.6,
            "count": 0
           },
           {
            "bin_start": 0.6,
            "bin_end": 0.7,
            "count": 0
           },
           {
            "bin_start": 0.7,
            "bin_end": 0.8,
            "count": 0
           },
           {
            "bin_start": 0.8,
            "bin_end": 0.9,
            "count": 0
           },
           {
            "bin_start": 0.9,
            "bin_end": 1,
            "count": 0
           },
           {
            "bin_start": 1,
            "bin_end": 1.1,
            "count": 30
           },
           {
            "bin_start": 1.1,
            "bin_end": 1.2000000000000002,
            "count": 0
           },
           {
            "bin_start": 1.2000000000000002,
            "bin_end": 1.3,
            "count": 0
           },
           {
            "bin_start": 1.3,
            "bin_end": 1.4,
            "count": 0
           },
           {
            "bin_start": 1.4,
            "bin_end": 1.5,
            "count": 0
           }
          ]
         }
        },
        {
         "name": "Batch",
         "dtype": "object",
         "stats": {
          "unique_count": 1,
          "nan_count": 0,
          "categories": [
           {
            "name": "150222-CSV",
            "count": 30
           }
          ]
         }
        },
        {
         "name": 0,
         "dtype": "float64",
         "stats": {
          "unique_count": 30,
          "nan_count": 0,
          "min": "175281.0",
          "max": "1343635.0",
          "histogram": [
           {
            "bin_start": 175281,
            "bin_end": 292116.4,
            "count": 9
           },
           {
            "bin_start": 292116.4,
            "bin_end": 408951.8,
            "count": 7
           },
           {
            "bin_start": 408951.8,
            "bin_end": 525787.2,
            "count": 4
           },
           {
            "bin_start": 525787.2,
            "bin_end": 642622.6,
            "count": 5
           },
           {
            "bin_start": 642622.6,
            "bin_end": 759458,
            "count": 4
           },
           {
            "bin_start": 759458,
            "bin_end": 876293.3999999999,
            "count": 0
           },
           {
            "bin_start": 876293.3999999999,
            "bin_end": 993128.7999999999,
            "count": 0
           },
           {
            "bin_start": 993128.7999999999,
            "bin_end": 1109964.2,
            "count": 0
           },
           {
            "bin_start": 1109964.2,
            "bin_end": 1226799.5999999999,
            "count": 0
           },
           {
            "bin_start": 1226799.5999999999,
            "bin_end": 1343635,
            "count": 1
           }
          ]
         }
        },
        {
         "name": 1,
         "dtype": "float64",
         "stats": {
          "unique_count": 30,
          "nan_count": 0,
          "min": "168012.0",
          "max": "1329010.0",
          "histogram": [
           {
            "bin_start": 168012,
            "bin_end": 284111.8,
            "count": 10
           },
           {
            "bin_start": 284111.8,
            "bin_end": 400211.6,
            "count": 7
           },
           {
            "bin_start": 400211.6,
            "bin_end": 516311.4,
            "count": 3
           },
           {
            "bin_start": 516311.4,
            "bin_end": 632411.2,
            "count": 5
           },
           {
            "bin_start": 632411.2,
            "bin_end": 748511,
            "count": 4
           },
           {
            "bin_start": 748511,
            "bin_end": 864610.8,
            "count": 0
           },
           {
            "bin_start": 864610.8,
            "bin_end": 980710.6,
            "count": 0
           },
           {
            "bin_start": 980710.6,
            "bin_end": 1096810.4,
            "count": 0
           },
           {
            "bin_start": 1096810.4,
            "bin_end": 1212910.2000000002,
            "count": 0
           },
           {
            "bin_start": 1212910.2000000002,
            "bin_end": 1329010,
            "count": 1
           }
          ]
         }
        },
        {
         "name": 2,
         "dtype": "float64",
         "stats": {
          "unique_count": 30,
          "nan_count": 0,
          "min": "170760.5",
          "max": "1341620.0",
          "histogram": [
           {
            "bin_start": 170760.5,
            "bin_end": 287846.45,
            "count": 10
           },
           {
            "bin_start": 287846.45,
            "bin_end": 404932.4,
            "count": 6
           },
           {
            "bin_start": 404932.4,
            "bin_end": 522018.35,
            "count": 5
           },
           {
            "bin_start": 522018.35,
            "bin_end": 639104.3,
            "count": 5
           },
           {
            "bin_start": 639104.3,
            "bin_end": 756190.25,
            "count": 3
           },
           {
            "bin_start": 756190.25,
            "bin_end": 873276.2,
            "count": 0
           },
           {
            "bin_start": 873276.2,
            "bin_end": 990362.15,
            "count": 0
           },
           {
            "bin_start": 990362.15,
            "bin_end": 1107448.1,
            "count": 0
           },
           {
            "bin_start": 1107448.1,
            "bin_end": 1224534.05,
            "count": 0
           },
           {
            "bin_start": 1224534.05,
            "bin_end": 1341620,
            "count": 1
           }
          ]
         }
        },
        {
         "name": 3,
         "dtype": "float64",
         "stats": {
          "unique_count": 30,
          "nan_count": 0,
          "min": "171753.5",
          "max": "1342090.0",
          "histogram": [
           {
            "bin_start": 171753.5,
            "bin_end": 288787.15,
            "count": 10
           },
           {
            "bin_start": 288787.15,
            "bin_end": 405820.8,
            "count": 6
           },
           {
            "bin_start": 405820.8,
            "bin_end": 522854.44999999995,
            "count": 5
           },
           {
            "bin_start": 522854.44999999995,
            "bin_end": 639888.1,
            "count": 5
           },
           {
            "bin_start": 639888.1,
            "bin_end": 756921.75,
            "count": 3
           },
           {
            "bin_start": 756921.75,
            "bin_end": 873955.3999999999,
            "count": 0
           },
           {
            "bin_start": 873955.3999999999,
            "bin_end": 990989.0499999999,
            "count": 0
           },
           {
            "bin_start": 990989.0499999999,
            "bin_end": 1108022.7,
            "count": 0
           },
           {
            "bin_start": 1108022.7,
            "bin_end": 1225056.3499999999,
            "count": 0
           },
           {
            "bin_start": 1225056.3499999999,
            "bin_end": 1342090,
            "count": 1
           }
          ]
         }
        },
        {
         "name": 4,
         "dtype": "float64",
         "stats": {
          "unique_count": 30,
          "nan_count": 0,
          "min": "152962.5",
          "max": "1329725.0",
          "histogram": [
           {
            "bin_start": 152962.5,
            "bin_end": 270638.75,
            "count": 10
           },
           {
            "bin_start": 270638.75,
            "bin_end": 388315,
            "count": 7
           },
           {
            "bin_start": 388315,
            "bin_end": 505991.25,
            "count": 4
           },
           {
            "bin_start": 505991.25,
            "bin_end": 623667.5,
            "count": 4
           },
           {
            "bin_start": 623667.5,
            "bin_end": 741343.75,
            "count": 4
           },
           {
            "bin_start": 741343.75,
            "bin_end": 859020,
            "count": 0
           },
           {
            "bin_start": 859020,
            "bin_end": 976696.25,
            "count": 0
           },
           {
            "bin_start": 976696.25,
            "bin_end": 1094372.5,
            "count": 0
           },
           {
            "bin_start": 1094372.5,
            "bin_end": 1212048.75,
            "count": 0
           },
           {
            "bin_start": 1212048.75,
            "bin_end": 1329725,
            "count": 1
           }
          ]
         }
        },
        {
         "name": 5,
         "dtype": "float64",
         "stats": {
          "unique_count": 30,
          "nan_count": 0,
          "min": "149766.5",
          "max": "1327230.0",
          "histogram": [
           {
            "bin_start": 149766.5,
            "bin_end": 267512.85,
            "count": 10
           },
           {
            "bin_start": 267512.85,
            "bin_end": 385259.2,
            "count": 6
           },
           {
            "bin_start": 385259.2,
            "bin_end": 503005.55000000005,
            "count": 5
           },
           {
            "bin_start": 503005.55000000005,
            "bin_end": 620751.9,
            "count": 4
           },
           {
            "bin_start": 620751.9,
            "bin_end": 738498.25,
            "count": 4
           },
           {
            "bin_start": 738498.25,
            "bin_end": 856244.6000000001,
            "count": 0
           },
           {
            "bin_start": 856244.6000000001,
            "bin_end": 973990.9500000001,
            "count": 0
           },
           {
            "bin_start": 973990.9500000001,
            "bin_end": 1091737.3,
            "count": 0
           },
           {
            "bin_start": 1091737.3,
            "bin_end": 1209483.6500000001,
            "count": 0
           },
           {
            "bin_start": 1209483.6500000001,
            "bin_end": 1327230,
            "count": 1
           }
          ]
         }
        },
        {
         "name": 6,
         "dtype": "float64",
         "stats": {
          "unique_count": 30,
          "nan_count": 0,
          "min": "221353.5",
          "max": "1405180.0",
          "histogram": [
           {
            "bin_start": 221353.5,
            "bin_end": 339736.15,
            "count": 9
           },
           {
            "bin_start": 339736.15,
            "bin_end": 458118.8,
            "count": 7
           },
           {
            "bin_start": 458118.8,
            "bin_end": 576501.45,
            "count": 5
           },
           {
            "bin_start": 576501.45,
            "bin_end": 694884.1,
            "count": 3
           },
           {
            "bin_start": 694884.1,
            "bin_end": 813266.75,
            "count": 5
           },
           {
            "bin_start": 813266.75,
            "bin_end": 931649.3999999999,
            "count": 0
           },
           {
            "bin_start": 931649.3999999999,
            "bin_end": 1050032.0499999998,
            "count": 0
           },
           {
            "bin_start": 1050032.0499999998,
            "bin_end": 1168414.7,
            "count": 0
           },
           {
            "bin_start": 1168414.7,
            "bin_end": 1286797.3499999999,
            "count": 0
           },
           {
            "bin_start": 1286797.3499999999,
            "bin_end": 1405180,
            "count": 1
           }
          ]
         }
        },
        {
         "name": 7,
         "dtype": "float64",
         "stats": {
          "unique_count": 30,
          "nan_count": 0,
          "min": "197180.5",
          "max": "1362095.0",
          "histogram": [
           {
            "bin_start": 197180.5,
            "bin_end": 313671.95,
            "count": 10
           },
           {
            "bin_start": 313671.95,
            "bin_end": 430163.4,
            "count": 5
           },
           {
            "bin_start": 430163.4,
            "bin_end": 546654.85,
            "count": 5
           },
           {
            "bin_start": 546654.85,
            "bin_end": 663146.3,
            "count": 4
           },
           {
            "bin_start": 663146.3,
            "bin_end": 779637.75,
            "count": 4
           },
           {
            "bin_start": 779637.75,
            "bin_end": 896129.2,
            "count": 1
           },
           {
            "bin_start": 896129.2,
            "bin_end": 1012620.65,
            "count": 0
           },
           {
            "bin_start": 1012620.65,
            "bin_end": 1129112.1,
            "count": 0
           },
           {
            "bin_start": 1129112.1,
            "bin_end": 1245603.5499999998,
            "count": 0
           },
           {
            "bin_start": 1245603.5499999998,
            "bin_end": 1362095,
            "count": 1
           }
          ]
         }
        },
        {
         "name": 8,
         "dtype": "float64",
         "stats": {
          "unique_count": 30,
          "nan_count": 0,
          "min": "180631.0",
          "max": "1352350.0",
          "histogram": [
           {
            "bin_start": 180631,
            "bin_end": 297802.9,
            "count": 10
           },
           {
            "bin_start": 297802.9,
            "bin_end": 414974.8,
            "count": 6
           },
           {
            "bin_start": 414974.8,
            "bin_end": 532146.7,
            "count": 5
           },
           {
            "bin_start": 532146.7,
            "bin_end": 649318.6,
            "count": 4
           },
           {
            "bin_start": 649318.6,
            "bin_end": 766490.5,
            "count": 4
           },
           {
            "bin_start": 766490.5,
            "bin_end": 883662.3999999999,
            "count": 0
           },
           {
            "bin_start": 883662.3999999999,
            "bin_end": 1000834.2999999999,
            "count": 0
           },
           {
            "bin_start": 1000834.2999999999,
            "bin_end": 1118006.2,
            "count": 0
           },
           {
            "bin_start": 1118006.2,
            "bin_end": 1235178.0999999999,
            "count": 0
           },
           {
            "bin_start": 1235178.0999999999,
            "bin_end": 1352350,
            "count": 1
           }
          ]
         }
        },
        {
         "name": 9,
         "dtype": "float64",
         "stats": {
          "unique_count": 30,
          "nan_count": 0,
          "min": "166901.0",
          "max": "1319365.0",
          "histogram": [
           {
            "bin_start": 166901,
            "bin_end": 282147.4,
            "count": 10
           },
           {
            "bin_start": 282147.4,
            "bin_end": 397393.8,
            "count": 7
           },
           {
            "bin_start": 397393.8,
            "bin_end": 512640.19999999995,
            "count": 5
           },
           {
            "bin_start": 512640.19999999995,
            "bin_end": 627886.6,
            "count": 4
           },
           {
            "bin_start": 627886.6,
            "bin_end": 743133,
            "count": 3
           },
           {
            "bin_start": 743133,
            "bin_end": 858379.3999999999,
            "count": 0
           },
           {
            "bin_start": 858379.3999999999,
            "bin_end": 973625.7999999999,
            "count": 0
           },
           {
            "bin_start": 973625.7999999999,
            "bin_end": 1088872.2,
            "count": 0
           },
           {
            "bin_start": 1088872.2,
            "bin_end": 1204118.6,
            "count": 0
           },
           {
            "bin_start": 1204118.6,
            "bin_end": 1319365,
            "count": 1
           }
          ]
         }
        },
        {
         "name": 10,
         "dtype": "float64",
         "stats": {
          "unique_count": 30,
          "nan_count": 0,
          "min": "145519.5",
          "max": "1319380.0",
          "histogram": [
           {
            "bin_start": 145519.5,
            "bin_end": 262905.55,
            "count": 10
           },
           {
            "bin_start": 262905.55,
            "bin_end": 380291.6,
            "count": 6
           },
           {
            "bin_start": 380291.6,
            "bin_end": 497677.65,
            "count": 5
           },
           {
            "bin_start": 497677.65,
            "bin_end": 615063.7,
            "count": 4
           },
           {
            "bin_start": 615063.7,
            "bin_end": 732449.75,
            "count": 4
           },
           {
            "bin_start": 732449.75,
            "bin_end": 849835.8,
            "count": 0
           },
           {
            "bin_start": 849835.8,
            "bin_end": 967221.85,
            "count": 0
           },
           {
            "bin_start": 967221.85,
            "bin_end": 1084607.9,
            "count": 0
           },
           {
            "bin_start": 1084607.9,
            "bin_end": 1201993.95,
            "count": 0
           },
           {
            "bin_start": 1201993.95,
            "bin_end": 1319380,
            "count": 1
           }
          ]
         }
        },
        {
         "name": 11,
         "dtype": "float64",
         "stats": {
          "unique_count": 30,
          "nan_count": 0,
          "min": "142565.5",
          "max": "1322855.0",
          "histogram": [
           {
            "bin_start": 142565.5,
            "bin_end": 260594.45,
            "count": 10
           },
           {
            "bin_start": 260594.45,
            "bin_end": 378623.4,
            "count": 6
           },
           {
            "bin_start": 378623.4,
            "bin_end": 496652.35,
            "count": 5
           },
           {
            "bin_start": 496652.35,
            "bin_end": 614681.3,
            "count": 5
           },
           {
            "bin_start": 614681.3,
            "bin_end": 732710.25,
            "count": 3
           },
           {
            "bin_start": 732710.25,
            "bin_end": 850739.2,
            "count": 0
           },
           {
            "bin_start": 850739.2,
            "bin_end": 968768.15,
            "count": 0
           },
           {
            "bin_start": 968768.15,
            "bin_end": 1086797.1,
            "count": 0
           },
           {
            "bin_start": 1086797.1,
            "bin_end": 1204826.05,
            "count": 0
           },
           {
            "bin_start": 1204826.05,
            "bin_end": 1322855,
            "count": 1
           }
          ]
         }
        },
        {
         "name": 12,
         "dtype": "float64",
         "stats": {
          "unique_count": 30,
          "nan_count": 0,
          "min": "146462.5",
          "max": "1328510.0",
          "histogram": [
           {
            "bin_start": 146462.5,
            "bin_end": 264667.25,
            "count": 10
           },
           {
            "bin_start": 264667.25,
            "bin_end": 382872,
            "count": 6
           },
           {
            "bin_start": 382872,
            "bin_end": 501076.75,
            "count": 5
           },
           {
            "bin_start": 501076.75,
            "bin_end": 619281.5,
            "count": 5
           },
           {
            "bin_start": 619281.5,
            "bin_end": 737486.25,
            "count": 3
           },
           {
            "bin_start": 737486.25,
            "bin_end": 855691,
            "count": 0
           },
           {
            "bin_start": 855691,
            "bin_end": 973895.75,
            "count": 0
           },
           {
            "bin_start": 973895.75,
            "bin_end": 1092100.5,
            "count": 0
           },
           {
            "bin_start": 1092100.5,
            "bin_end": 1210305.25,
            "count": 0
           },
           {
            "bin_start": 1210305.25,
            "bin_end": 1328510,
            "count": 1
           }
          ]
         }
        },
        {
         "name": 13,
         "dtype": "float64",
         "stats": {
          "unique_count": 30,
          "nan_count": 0,
          "min": "148730.0",
          "max": "1331515.0",
          "histogram": [
           {
            "bin_start": 148730,
            "bin_end": 267008.5,
            "count": 10
           },
           {
            "bin_start": 267008.5,
            "bin_end": 385287,
            "count": 6
           },
           {
            "bin_start": 385287,
            "bin_end": 503565.5,
            "count": 5
           },
           {
            "bin_start": 503565.5,
            "bin_end": 621844,
            "count": 5
           },
           {
            "bin_start": 621844,
            "bin_end": 740122.5,
            "count": 3
           },
           {
            "bin_start": 740122.5,
            "bin_end": 858401,
            "count": 0
           },
           {
            "bin_start": 858401,
            "bin_end": 976679.5,
            "count": 0
           },
           {
            "bin_start": 976679.5,
            "bin_end": 1094958,
            "count": 0
           },
           {
            "bin_start": 1094958,
            "bin_end": 1213236.5,
            "count": 0
           },
           {
            "bin_start": 1213236.5,
            "bin_end": 1331515,
            "count": 1
           }
          ]
         }
        },
        {
         "name": 14,
         "dtype": "float64",
         "stats": {
          "unique_count": 30,
          "nan_count": 0,
          "min": "149319.0",
          "max": "1335320.0",
          "histogram": [
           {
            "bin_start": 149319,
            "bin_end": 267919.1,
            "count": 9
           },
           {
            "bin_start": 267919.1,
            "bin_end": 386519.2,
            "count": 7
           },
           {
            "bin_start": 386519.2,
            "bin_end": 505119.30000000005,
            "count": 5
           },
           {
            "bin_start": 505119.30000000005,
            "bin_end": 623719.4,
            "count": 5
           },
           {
            "bin_start": 623719.4,
            "bin_end": 742319.5,
            "count": 3
           },
           {
            "bin_start": 742319.5,
            "bin_end": 860919.6000000001,
            "count": 0
           },
           {
            "bin_start": 860919.6000000001,
            "bin_end": 979519.7000000001,
            "count": 0
           },
           {
            "bin_start": 979519.7000000001,
            "bin_end": 1098119.8,
            "count": 0
           },
           {
            "bin_start": 1098119.8,
            "bin_end": 1216719.9000000001,
            "count": 0
           },
           {
            "bin_start": 1216719.9000000001,
            "bin_end": 1335320,
            "count": 1
           }
          ]
         }
        },
        {
         "name": 15,
         "dtype": "float64",
         "stats": {
          "unique_count": 30,
          "nan_count": 0,
          "min": "157979.0",
          "max": "1342280.0",
          "histogram": [
           {
            "bin_start": 157979,
            "bin_end": 276409.1,
            "count": 8
           },
           {
            "bin_start": 276409.1,
            "bin_end": 394839.2,
            "count": 7
           },
           {
            "bin_start": 394839.2,
            "bin_end": 513269.30000000005,
            "count": 6
           },
           {
            "bin_start": 513269.30000000005,
            "bin_end": 631699.4,
            "count": 4
           },
           {
            "bin_start": 631699.4,
            "bin_end": 750129.5,
            "count": 4
           },
           {
            "bin_start": 750129.5,
            "bin_end": 868559.6000000001,
            "count": 0
           },
           {
            "bin_start": 868559.6000000001,
            "bin_end": 986989.7000000001,
            "count": 0
           },
           {
            "bin_start": 986989.7000000001,
            "bin_end": 1105419.8,
            "count": 0
           },
           {
            "bin_start": 1105419.8,
            "bin_end": 1223849.9000000001,
            "count": 0
           },
           {
            "bin_start": 1223849.9000000001,
            "bin_end": 1342280,
            "count": 1
           }
          ]
         }
        },
        {
         "name": 16,
         "dtype": "float64",
         "stats": {
          "unique_count": 30,
          "nan_count": 0,
          "min": "165388.5",
          "max": "1347455.0",
          "histogram": [
           {
            "bin_start": 165388.5,
            "bin_end": 283595.15,
            "count": 9
           },
           {
            "bin_start": 283595.15,
            "bin_end": 401801.8,
            "count": 7
           },
           {
            "bin_start": 401801.8,
            "bin_end": 520008.44999999995,
            "count": 5
           },
           {
            "bin_start": 520008.44999999995,
            "bin_end": 638215.1,
            "count": 5
           },
           {
            "bin_start": 638215.1,
            "bin_end": 756421.75,
            "count": 3
           },
           {
            "bin_start": 756421.75,
            "bin_end": 874628.3999999999,
            "count": 0
           },
           {
            "bin_start": 874628.3999999999,
            "bin_end": 992835.0499999999,
            "count": 0
           },
           {
            "bin_start": 992835.0499999999,
            "bin_end": 1111041.7,
            "count": 0
           },
           {
            "bin_start": 1111041.7,
            "bin_end": 1229248.3499999999,
            "count": 0
           },
           {
            "bin_start": 1229248.3499999999,
            "bin_end": 1347455,
            "count": 1
           }
          ]
         }
        },
        {
         "name": 17,
         "dtype": "float64",
         "stats": {
          "unique_count": 30,
          "nan_count": 0,
          "min": "178925.0",
          "max": "1352240.0",
          "histogram": [
           {
            "bin_start": 178925,
            "bin_end": 296256.5,
            "count": 10
           },
           {
            "bin_start": 296256.5,
            "bin_end": 413588,
            "count": 6
           },
           {
            "bin_start": 413588,
            "bin_end": 530919.5,
            "count": 5
           },
           {
            "bin_start": 530919.5,
            "bin_end": 648251,
            "count": 5
           },
           {
            "bin_start": 648251,
            "bin_end": 765582.5,
            "count": 3
           },
           {
            "bin_start": 765582.5,
            "bin_end": 882914,
            "count": 0
           },
           {
            "bin_start": 882914,
            "bin_end": 1000245.5,
            "count": 0
           },
           {
            "bin_start": 1000245.5,
            "bin_end": 1117577,
            "count": 0
           },
           {
            "bin_start": 1117577,
            "bin_end": 1234908.5,
            "count": 0
           },
           {
            "bin_start": 1234908.5,
            "bin_end": 1352240,
            "count": 1
           }
          ]
         }
        },
        {
         "name": 18,
         "dtype": "float64",
         "stats": {
          "unique_count": 30,
          "nan_count": 0,
          "min": "163768.0",
          "max": "1335335.0",
          "histogram": [
           {
            "bin_start": 163768,
            "bin_end": 280924.7,
            "count": 10
           },
           {
            "bin_start": 280924.7,
            "bin_end": 398081.4,
            "count": 7
           },
           {
            "bin_start": 398081.4,
            "bin_end": 515238.1,
            "count": 3
           },
           {
            "bin_start": 515238.1,
            "bin_end": 632394.8,
            "count": 5
           },
           {
            "bin_start": 632394.8,
            "bin_end": 749551.5,
            "count": 4
           },
           {
            "bin_start": 749551.5,
            "bin_end": 866708.2,
            "count": 0
           },
           {
            "bin_start": 866708.2,
            "bin_end": 983864.9,
            "count": 0
           },
           {
            "bin_start": 983864.9,
            "bin_end": 1101021.6,
            "count": 0
           },
           {
            "bin_start": 1101021.6,
            "bin_end": 1218178.3,
            "count": 0
           },
           {
            "bin_start": 1218178.3,
            "bin_end": 1335335,
            "count": 1
           }
          ]
         }
        },
        {
         "name": 19,
         "dtype": "float64",
         "stats": {
          "unique_count": 30,
          "nan_count": 0,
          "min": "152671.0",
          "max": "1325495.0",
          "histogram": [
           {
            "bin_start": 152671,
            "bin_end": 269953.4,
            "count": 10
           },
           {
            "bin_start": 269953.4,
            "bin_end": 387235.8,
            "count": 7
           },
           {
            "bin_start": 387235.8,
            "bin_end": 504518.19999999995,
            "count": 4
           },
           {
            "bin_start": 504518.19999999995,
            "bin_end": 621800.6,
            "count": 4
           },
           {
            "bin_start": 621800.6,
            "bin_end": 739083,
            "count": 4
           },
           {
            "bin_start": 739083,
            "bin_end": 856365.3999999999,
            "count": 0
           },
           {
            "bin_start": 856365.3999999999,
            "bin_end": 973647.7999999999,
            "count": 0
           },
           {
            "bin_start": 973647.7999999999,
            "bin_end": 1090930.2,
            "count": 0
           },
           {
            "bin_start": 1090930.2,
            "bin_end": 1208212.5999999999,
            "count": 0
           },
           {
            "bin_start": 1208212.5999999999,
            "bin_end": 1325495,
            "count": 1
           }
          ]
         }
        },
        {
         "name": 20,
         "dtype": "float64",
         "stats": {
          "unique_count": 30,
          "nan_count": 0,
          "min": "151752.0",
          "max": "1343185.0",
          "histogram": [
           {
            "bin_start": 151752,
            "bin_end": 270895.3,
            "count": 8
           },
           {
            "bin_start": 270895.3,
            "bin_end": 390038.6,
            "count": 8
           },
           {
            "bin_start": 390038.6,
            "bin_end": 509181.9,
            "count": 6
           },
           {
            "bin_start": 509181.9,
            "bin_end": 628325.2,
            "count": 3
           },
           {
            "bin_start": 628325.2,
            "bin_end": 747468.5,
            "count": 4
           },
           {
            "bin_start": 747468.5,
            "bin_end": 866611.8,
            "count": 0
           },
           {
            "bin_start": 866611.8,
            "bin_end": 985755.1,
            "count": 0
           },
           {
            "bin_start": 985755.1,
            "bin_end": 1104898.4,
            "count": 0
           },
           {
            "bin_start": 1104898.4,
            "bin_end": 1224041.7,
            "count": 0
           },
           {
            "bin_start": 1224041.7,
            "bin_end": 1343185,
            "count": 1
           }
          ]
         }
        },
        {
         "name": 21,
         "dtype": "float64",
         "stats": {
          "unique_count": 30,
          "nan_count": 0,
          "min": "144820.0",
          "max": "1320670.0",
          "histogram": [
           {
            "bin_start": 144820,
            "bin_end": 262405,
            "count": 8
           },
           {
            "bin_start": 262405,
            "bin_end": 379990,
            "count": 7
           },
           {
            "bin_start": 379990,
            "bin_end": 497575,
            "count": 6
           },
           {
            "bin_start": 497575,
            "bin_end": 615160,
            "count": 3
           },
           {
            "bin_start": 615160,
            "bin_end": 732745,
            "count": 5
           },
           {
            "bin_start": 732745,
            "bin_end": 850330,
            "count": 0
           },
           {
            "bin_start": 850330,
            "bin_end": 967915,
            "count": 0
           },
           {
            "bin_start": 967915,
            "bin_end": 1085500,
            "count": 0
           },
           {
            "bin_start": 1085500,
            "bin_end": 1203085,
            "count": 0
           },
           {
            "bin_start": 1203085,
            "bin_end": 1320670,
            "count": 1
           }
          ]
         }
        },
        {
         "name": 22,
         "dtype": "float64",
         "stats": {
          "unique_count": 30,
          "nan_count": 0,
          "min": "149252.0",
          "max": "1327740.0",
          "histogram": [
           {
            "bin_start": 149252,
            "bin_end": 267100.8,
            "count": 10
           },
           {
            "bin_start": 267100.8,
            "bin_end": 384949.6,
            "count": 5
           },
           {
            "bin_start": 384949.6,
            "bin_end": 502798.4,
            "count": 7
           },
           {
            "bin_start": 502798.4,
            "bin_end": 620647.2,
            "count": 3
           },
           {
            "bin_start": 620647.2,
            "bin_end": 738496,
            "count": 4
           },
           {
            "bin_start": 738496,
            "bin_end": 856344.8,
            "count": 0
           },
           {
            "bin_start": 856344.8,
            "bin_end": 974193.6,
            "count": 0
           },
           {
            "bin_start": 974193.6,
            "bin_end": 1092042.4,
            "count": 0
           },
           {
            "bin_start": 1092042.4,
            "bin_end": 1209891.2,
            "count": 0
           },
           {
            "bin_start": 1209891.2,
            "bin_end": 1327740,
            "count": 1
           }
          ]
         }
        },
        {
         "name": 23,
         "dtype": "float64",
         "stats": {
          "unique_count": 30,
          "nan_count": 0,
          "min": "140026.5",
          "max": "1313155.0",
          "histogram": [
           {
            "bin_start": 140026.5,
            "bin_end": 257339.35,
            "count": 10
           },
           {
            "bin_start": 257339.35,
            "bin_end": 374652.2,
            "count": 5
           },
           {
            "bin_start": 374652.2,
            "bin_end": 491965.05000000005,
            "count": 7
           },
           {
            "bin_start": 491965.05000000005,
            "bin_end": 609277.9,
            "count": 3
           },
           {
            "bin_start": 609277.9,
            "bin_end": 726590.75,
            "count": 4
           },
           {
            "bin_start": 726590.75,
            "bin_end": 843903.6000000001,
            "count": 0
           },
           {
            "bin_start": 843903.6000000001,
            "bin_end": 961216.4500000001,
            "count": 0
           },
           {
            "bin_start": 961216.4500000001,
            "bin_end": 1078529.3,
            "count": 0
           },
           {
            "bin_start": 1078529.3,
            "bin_end": 1195842.1500000001,
            "count": 0
           },
           {
            "bin_start": 1195842.1500000001,
            "bin_end": 1313155,
            "count": 1
           }
          ]
         }
        },
        {
         "name": 24,
         "dtype": "float64",
         "stats": {
          "unique_count": 30,
          "nan_count": 0,
          "min": "143127.5",
          "max": "1311165.0",
          "histogram": [
           {
            "bin_start": 143127.5,
            "bin_end": 259931.25,
            "count": 10
           },
           {
            "bin_start": 259931.25,
            "bin_end": 376735,
            "count": 7
           },
           {
            "bin_start": 376735,
            "bin_end": 493538.75,
            "count": 5
           },
           {
            "bin_start": 493538.75,
            "bin_end": 610342.5,
            "count": 3
           },
           {
            "bin_start": 610342.5,
            "bin_end": 727146.25,
            "count": 4
           },
           {
            "bin_start": 727146.25,
            "bin_end": 843950,
            "count": 0
           },
           {
            "bin_start": 843950,
            "bin_end": 960753.75,
            "count": 0
           },
           {
            "bin_start": 960753.75,
            "bin_end": 1077557.5,
            "count": 0
           },
           {
            "bin_start": 1077557.5,
            "bin_end": 1194361.25,
            "count": 0
           },
           {
            "bin_start": 1194361.25,
            "bin_end": 1311165,
            "count": 1
           }
          ]
         }
        },
        {
         "name": 25,
         "dtype": "float64",
         "stats": {
          "unique_count": 30,
          "nan_count": 0,
          "min": "137226.5",
          "max": "1307365.0",
          "histogram": [
           {
            "bin_start": 137226.5,
            "bin_end": 254240.35,
            "count": 10
           },
           {
            "bin_start": 254240.35,
            "bin_end": 371254.2,
            "count": 6
           },
           {
            "bin_start": 371254.2,
            "bin_end": 488268.05000000005,
            "count": 6
           },
           {
            "bin_start": 488268.05000000005,
            "bin_end": 605281.9,
            "count": 3
           },
           {
            "bin_start": 605281.9,
            "bin_end": 722295.75,
            "count": 4
           },
           {
            "bin_start": 722295.75,
            "bin_end": 839309.6000000001,
            "count": 0
           },
           {
            "bin_start": 839309.6000000001,
            "bin_end": 956323.4500000001,
            "count": 0
           },
           {
            "bin_start": 956323.4500000001,
            "bin_end": 1073337.3,
            "count": 0
           },
           {
            "bin_start": 1073337.3,
            "bin_end": 1190351.1500000001,
            "count": 0
           },
           {
            "bin_start": 1190351.1500000001,
            "bin_end": 1307365,
            "count": 1
           }
          ]
         }
        },
        {
         "name": 26,
         "dtype": "float64",
         "stats": {
          "unique_count": 30,
          "nan_count": 0,
          "min": "149114.5",
          "max": "1315930.0",
          "histogram": [
           {
            "bin_start": 149114.5,
            "bin_end": 265796.05,
            "count": 9
           },
           {
            "bin_start": 265796.05,
            "bin_end": 382477.6,
            "count": 6
           },
           {
            "bin_start": 382477.6,
            "bin_end": 499159.15,
            "count": 6
           },
           {
            "bin_start": 499159.15,
            "bin_end": 615840.7,
            "count": 4
           },
           {
            "bin_start": 615840.7,
            "bin_end": 732522.25,
            "count": 3
           },
           {
            "bin_start": 732522.25,
            "bin_end": 849203.8,
            "count": 1
           },
           {
            "bin_start": 849203.8,
            "bin_end": 965885.35,
            "count": 0
           },
           {
            "bin_start": 965885.35,
            "bin_end": 1082566.9,
            "count": 0
           },
           {
            "bin_start": 1082566.9,
            "bin_end": 1199248.45,
            "count": 0
           },
           {
            "bin_start": 1199248.45,
            "bin_end": 1315930,
            "count": 1
           }
          ]
         }
        },
        {
         "name": 27,
         "dtype": "float64",
         "stats": {
          "unique_count": 30,
          "nan_count": 0,
          "min": "135347.0",
          "max": "1311610.0",
          "histogram": [
           {
            "bin_start": 135347,
            "bin_end": 252973.3,
            "count": 10
           },
           {
            "bin_start": 252973.3,
            "bin_end": 370599.6,
            "count": 5
           },
           {
            "bin_start": 370599.6,
            "bin_end": 488225.9,
            "count": 6
           },
           {
            "bin_start": 488225.9,
            "bin_end": 605852.2,
            "count": 4
           },
           {
            "bin_start": 605852.2,
            "bin_end": 723478.5,
            "count": 4
           },
           {
            "bin_start": 723478.5,
            "bin_end": 841104.8,
            "count": 0
           },
           {
            "bin_start": 841104.8,
            "bin_end": 958731.1,
            "count": 0
           },
           {
            "bin_start": 958731.1,
            "bin_end": 1076357.4,
            "count": 0
           },
           {
            "bin_start": 1076357.4,
            "bin_end": 1193983.7,
            "count": 0
           },
           {
            "bin_start": 1193983.7,
            "bin_end": 1311610,
            "count": 1
           }
          ]
         }
        },
        {
         "name": 28,
         "dtype": "float64",
         "stats": {
          "unique_count": 30,
          "nan_count": 0,
          "min": "134198.5",
          "max": "1319195.0",
          "histogram": [
           {
            "bin_start": 134198.5,
            "bin_end": 252698.15,
            "count": 10
           },
           {
            "bin_start": 252698.15,
            "bin_end": 371197.8,
            "count": 5
           },
           {
            "bin_start": 371197.8,
            "bin_end": 489697.44999999995,
            "count": 6
           },
           {
            "bin_start": 489697.44999999995,
            "bin_end": 608197.1,
            "count": 4
           },
           {
            "bin_start": 608197.1,
            "bin_end": 726696.75,
            "count": 4
           },
           {
            "bin_start": 726696.75,
            "bin_end": 845196.3999999999,
            "count": 0
           },
           {
            "bin_start": 845196.3999999999,
            "bin_end": 963696.0499999999,
            "count": 0
           },
           {
            "bin_start": 963696.0499999999,
            "bin_end": 1082195.7,
            "count": 0
           },
           {
            "bin_start": 1082195.7,
            "bin_end": 1200695.3499999999,
            "count": 0
           },
           {
            "bin_start": 1200695.3499999999,
            "bin_end": 1319195,
            "count": 1
           }
          ]
         }
        },
        {
         "name": 29,
         "dtype": "float64",
         "stats": {
          "unique_count": 30,
          "nan_count": 0,
          "min": "131588.0",
          "max": "1319235.0",
          "histogram": [
           {
            "bin_start": 131588,
            "bin_end": 250352.7,
            "count": 10
           },
           {
            "bin_start": 250352.7,
            "bin_end": 369117.4,
            "count": 6
           },
           {
            "bin_start": 369117.4,
            "bin_end": 487882.1,
            "count": 5
           },
           {
            "bin_start": 487882.1,
            "bin_end": 606646.8,
            "count": 5
           },
           {
            "bin_start": 606646.8,
            "bin_end": 725411.5,
            "count": 3
           },
           {
            "bin_start": 725411.5,
            "bin_end": 844176.2,
            "count": 0
           },
           {
            "bin_start": 844176.2,
            "bin_end": 962940.9,
            "count": 0
           },
           {
            "bin_start": 962940.9,
            "bin_end": 1081705.6,
            "count": 0
           },
           {
            "bin_start": 1081705.6,
            "bin_end": 1200470.3,
            "count": 0
           },
           {
            "bin_start": 1200470.3,
            "bin_end": 1319235,
            "count": 1
           }
          ]
         }
        },
        {
         "name": 30,
         "dtype": "float64",
         "stats": {
          "unique_count": 30,
          "nan_count": 0,
          "min": "137594.5",
          "max": "1331265.0",
          "histogram": [
           {
            "bin_start": 137594.5,
            "bin_end": 256961.55,
            "count": 10
           },
           {
            "bin_start": 256961.55,
            "bin_end": 376328.6,
            "count": 5
           },
           {
            "bin_start": 376328.6,
            "bin_end": 495695.65,
            "count": 6
           },
           {
            "bin_start": 495695.65,
            "bin_end": 615062.7,
            "count": 5
           },
           {
            "bin_start": 615062.7,
            "bin_end": 734429.75,
            "count": 3
           },
           {
            "bin_start": 734429.75,
            "bin_end": 853796.8,
            "count": 0
           },
           {
            "bin_start": 853796.8,
            "bin_end": 973163.85,
            "count": 0
           },
           {
            "bin_start": 973163.85,
            "bin_end": 1092530.9,
            "count": 0
           },
           {
            "bin_start": 1092530.9,
            "bin_end": 1211897.95,
            "count": 0
           },
           {
            "bin_start": 1211897.95,
            "bin_end": 1331265,
            "count": 1
           }
          ]
         }
        },
        {
         "name": 31,
         "dtype": "float64",
         "stats": {
          "unique_count": 30,
          "nan_count": 0,
          "min": "140100.0",
          "max": "1331095.0",
          "histogram": [
           {
            "bin_start": 140100,
            "bin_end": 259199.5,
            "count": 10
           },
           {
            "bin_start": 259199.5,
            "bin_end": 378299,
            "count": 5
           },
           {
            "bin_start": 378299,
            "bin_end": 497398.5,
            "count": 6
           },
           {
            "bin_start": 497398.5,
            "bin_end": 616498,
            "count": 5
           },
           {
            "bin_start": 616498,
            "bin_end": 735597.5,
            "count": 3
           },
           {
            "bin_start": 735597.5,
            "bin_end": 854697,
            "count": 0
           },
           {
            "bin_start": 854697,
            "bin_end": 973796.5,
            "count": 0
           },
           {
            "bin_start": 973796.5,
            "bin_end": 1092896,
            "count": 0
           },
           {
            "bin_start": 1092896,
            "bin_end": 1211995.5,
            "count": 0
           },
           {
            "bin_start": 1211995.5,
            "bin_end": 1331095,
            "count": 1
           }
          ]
         }
        },
        {
         "name": 32,
         "dtype": "float64",
         "stats": {
          "unique_count": 30,
          "nan_count": 0,
          "min": "145553.0",
          "max": "1336985.0",
          "histogram": [
           {
            "bin_start": 145553,
            "bin_end": 264696.2,
            "count": 9
           },
           {
            "bin_start": 264696.2,
            "bin_end": 383839.4,
            "count": 7
           },
           {
            "bin_start": 383839.4,
            "bin_end": 502982.6,
            "count": 5
           },
           {
            "bin_start": 502982.6,
            "bin_end": 622125.8,
            "count": 4
           },
           {
            "bin_start": 622125.8,
            "bin_end": 741269,
            "count": 4
           },
           {
            "bin_start": 741269,
            "bin_end": 860412.2,
            "count": 0
           },
           {
            "bin_start": 860412.2,
            "bin_end": 979555.4,
            "count": 0
           },
           {
            "bin_start": 979555.4,
            "bin_end": 1098698.6,
            "count": 0
           },
           {
            "bin_start": 1098698.6,
            "bin_end": 1217841.8,
            "count": 0
           },
           {
            "bin_start": 1217841.8,
            "bin_end": 1336985,
            "count": 1
           }
          ]
         }
        },
        {
         "name": 33,
         "dtype": "float64",
         "stats": {
          "unique_count": 30,
          "nan_count": 0,
          "min": "155562.0",
          "max": "1334720.0",
          "histogram": [
           {
            "bin_start": 155562,
            "bin_end": 273477.8,
            "count": 10
           },
           {
            "bin_start": 273477.8,
            "bin_end": 391393.6,
            "count": 6
           },
           {
            "bin_start": 391393.6,
            "bin_end": 509309.4,
            "count": 5
           },
           {
            "bin_start": 509309.4,
            "bin_end": 627225.2,
            "count": 5
           },
           {
            "bin_start": 627225.2,
            "bin_end": 745141,
            "count": 3
           },
           {
            "bin_start": 745141,
            "bin_end": 863056.8,
            "count": 0
           },
           {
            "bin_start": 863056.8,
            "bin_end": 980972.6,
            "count": 0
           },
           {
            "bin_start": 980972.6,
            "bin_end": 1098888.4,
            "count": 0
           },
           {
            "bin_start": 1098888.4,
            "bin_end": 1216804.2,
            "count": 0
           },
           {
            "bin_start": 1216804.2,
            "bin_end": 1334720,
            "count": 1
           }
          ]
         }
        },
        {
         "name": 34,
         "dtype": "float64",
         "stats": {
          "unique_count": 30,
          "nan_count": 0,
          "min": "162394.5",
          "max": "1338765.0",
          "histogram": [
           {
            "bin_start": 162394.5,
            "bin_end": 280031.55,
            "count": 10
           },
           {
            "bin_start": 280031.55,
            "bin_end": 397668.6,
            "count": 6
           },
           {
            "bin_start": 397668.6,
            "bin_end": 515305.65,
            "count": 5
           },
           {
            "bin_start": 515305.65,
            "bin_end": 632942.7,
            "count": 5
           },
           {
            "bin_start": 632942.7,
            "bin_end": 750579.75,
            "count": 3
           },
           {
            "bin_start": 750579.75,
            "bin_end": 868216.8,
            "count": 0
           },
           {
            "bin_start": 868216.8,
            "bin_end": 985853.85,
            "count": 0
           },
           {
            "bin_start": 985853.85,
            "bin_end": 1103490.9,
            "count": 0
           },
           {
            "bin_start": 1103490.9,
            "bin_end": 1221127.95,
            "count": 0
           },
           {
            "bin_start": 1221127.95,
            "bin_end": 1338765,
            "count": 1
           }
          ]
         }
        },
        {
         "name": 35,
         "dtype": "float64",
         "stats": {
          "unique_count": 30,
          "nan_count": 0,
          "min": "179425.5",
          "max": "1344655.0",
          "histogram": [
           {
            "bin_start": 179425.5,
            "bin_end": 295948.45,
            "count": 10
           },
           {
            "bin_start": 295948.45,
            "bin_end": 412471.4,
            "count": 6
           },
           {
            "bin_start": 412471.4,
            "bin_end": 528994.35,
            "count": 5
           },
           {
            "bin_start": 528994.35,
            "bin_end": 645517.3,
            "count": 5
           },
           {
            "bin_start": 645517.3,
            "bin_end": 762040.25,
            "count": 3
           },
           {
            "bin_start": 762040.25,
            "bin_end": 878563.2,
            "count": 0
           },
           {
            "bin_start": 878563.2,
            "bin_end": 995086.15,
            "count": 0
           },
           {
            "bin_start": 995086.15,
            "bin_end": 1111609.1,
            "count": 0
           },
           {
            "bin_start": 1111609.1,
            "bin_end": 1228132.05,
            "count": 0
           },
           {
            "bin_start": 1228132.05,
            "bin_end": 1344655,
            "count": 1
           }
          ]
         }
        },
        {
         "name": 36,
         "dtype": "float64",
         "stats": {
          "unique_count": 30,
          "nan_count": 0,
          "min": "155201.0",
          "max": "1334155.0",
          "histogram": [
           {
            "bin_start": 155201,
            "bin_end": 273096.4,
            "count": 10
           },
           {
            "bin_start": 273096.4,
            "bin_end": 390991.8,
            "count": 7
           },
           {
            "bin_start": 390991.8,
            "bin_end": 508887.19999999995,
            "count": 3
           },
           {
            "bin_start": 508887.19999999995,
            "bin_end": 626782.6,
            "count": 5
           },
           {
            "bin_start": 626782.6,
            "bin_end": 744678,
            "count": 4
           },
           {
            "bin_start": 744678,
            "bin_end": 862573.3999999999,
            "count": 0
           },
           {
            "bin_start": 862573.3999999999,
            "bin_end": 980468.7999999999,
            "count": 0
           },
           {
            "bin_start": 980468.7999999999,
            "bin_end": 1098364.2,
            "count": 0
           },
           {
            "bin_start": 1098364.2,
            "bin_end": 1216259.5999999999,
            "count": 0
           },
           {
            "bin_start": 1216259.5999999999,
            "bin_end": 1334155,
            "count": 1
           }
          ]
         }
        },
        {
         "name": 37,
         "dtype": "float64",
         "stats": {
          "unique_count": 30,
          "nan_count": 0,
          "min": "140109.5",
          "max": "1324095.0",
          "histogram": [
           {
            "bin_start": 140109.5,
            "bin_end": 258508.05,
            "count": 10
           },
           {
            "bin_start": 258508.05,
            "bin_end": 376906.6,
            "count": 6
           },
           {
            "bin_start": 376906.6,
            "bin_end": 495305.15,
            "count": 5
           },
           {
            "bin_start": 495305.15,
            "bin_end": 613703.7,
            "count": 4
           },
           {
            "bin_start": 613703.7,
            "bin_end": 732102.25,
            "count": 4
           },
           {
            "bin_start": 732102.25,
            "bin_end": 850500.8,
            "count": 0
           },
           {
            "bin_start": 850500.8,
            "bin_end": 968899.35,
            "count": 0
           },
           {
            "bin_start": 968899.35,
            "bin_end": 1087297.9,
            "count": 0
           },
           {
            "bin_start": 1087297.9,
            "bin_end": 1205696.45,
            "count": 0
           },
           {
            "bin_start": 1205696.45,
            "bin_end": 1324095,
            "count": 1
           }
          ]
         }
        },
        {
         "name": 38,
         "dtype": "float64",
         "stats": {
          "unique_count": 30,
          "nan_count": 0,
          "min": "160839.0",
          "max": "1348030.0",
          "histogram": [
           {
            "bin_start": 160839,
            "bin_end": 279558.1,
            "count": 10
           },
           {
            "bin_start": 279558.1,
            "bin_end": 398277.2,
            "count": 5
           },
           {
            "bin_start": 398277.2,
            "bin_end": 516996.30000000005,
            "count": 7
           },
           {
            "bin_start": 516996.30000000005,
            "bin_end": 635715.4,
            "count": 3
           },
           {
            "bin_start": 635715.4,
            "bin_end": 754434.5,
            "count": 3
           },
           {
            "bin_start": 754434.5,
            "bin_end": 873153.6000000001,
            "count": 1
           },
           {
            "bin_start": 873153.6000000001,
            "bin_end": 991872.7000000001,
            "count": 0
           },
           {
            "bin_start": 991872.7000000001,
            "bin_end": 1110591.8,
            "count": 0
           },
           {
            "bin_start": 1110591.8,
            "bin_end": 1229310.9000000001,
            "count": 0
           },
           {
            "bin_start": 1229310.9000000001,
            "bin_end": 1348030,
            "count": 1
           }
          ]
         }
        },
        {
         "name": 39,
         "dtype": "float64",
         "stats": {
          "unique_count": 30,
          "nan_count": 0,
          "min": "143141.5",
          "max": "1316510.0",
          "histogram": [
           {
            "bin_start": 143141.5,
            "bin_end": 260478.35,
            "count": 10
           },
           {
            "bin_start": 260478.35,
            "bin_end": 377815.2,
            "count": 5
           },
           {
            "bin_start": 377815.2,
            "bin_end": 495152.05000000005,
            "count": 7
           },
           {
            "bin_start": 495152.05000000005,
            "bin_end": 612488.9,
            "count": 3
           },
           {
            "bin_start": 612488.9,
            "bin_end": 729825.75,
            "count": 3
           },
           {
            "bin_start": 729825.75,
            "bin_end": 847162.6000000001,
            "count": 1
           },
           {
            "bin_start": 847162.6000000001,
            "bin_end": 964499.4500000001,
            "count": 0
           },
           {
            "bin_start": 964499.4500000001,
            "bin_end": 1081836.3,
            "count": 0
           },
           {
            "bin_start": 1081836.3,
            "bin_end": 1199173.1500000001,
            "count": 0
           },
           {
            "bin_start": 1199173.1500000001,
            "bin_end": 1316510,
            "count": 1
           }
          ]
         }
        },
        {
         "name": 40,
         "dtype": "float64",
         "stats": {
          "unique_count": 30,
          "nan_count": 0,
          "min": "139450.0",
          "max": "1310560.0",
          "histogram": [
           {
            "bin_start": 139450,
            "bin_end": 256561,
            "count": 10
           },
           {
            "bin_start": 256561,
            "bin_end": 373672,
            "count": 5
           },
           {
            "bin_start": 373672,
            "bin_end": 490783,
            "count": 6
           },
           {
            "bin_start": 490783,
            "bin_end": 607894,
            "count": 4
           },
           {
            "bin_start": 607894,
            "bin_end": 725005,
            "count": 4
           },
           {
            "bin_start": 725005,
            "bin_end": 842116,
            "count": 0
           },
           {
            "bin_start": 842116,
            "bin_end": 959227,
            "count": 0
           },
           {
            "bin_start": 959227,
            "bin_end": 1076338,
            "count": 0
           },
           {
            "bin_start": 1076338,
            "bin_end": 1193449,
            "count": 0
           },
           {
            "bin_start": 1193449,
            "bin_end": 1310560,
            "count": 1
           }
          ]
         }
        },
        {
         "name": 41,
         "dtype": "float64",
         "stats": {
          "unique_count": 30,
          "nan_count": 0,
          "min": "136424.0",
          "max": "1304380.0",
          "histogram": [
           {
            "bin_start": 136424,
            "bin_end": 253219.6,
            "count": 10
           },
           {
            "bin_start": 253219.6,
            "bin_end": 370015.2,
            "count": 6
           },
           {
            "bin_start": 370015.2,
            "bin_end": 486810.80000000005,
            "count": 5
           },
           {
            "bin_start": 486810.80000000005,
            "bin_end": 603606.4,
            "count": 4
           },
           {
            "bin_start": 603606.4,
            "bin_end": 720402,
            "count": 4
           },
           {
            "bin_start": 720402,
            "bin_end": 837197.6000000001,
            "count": 0
           },
           {
            "bin_start": 837197.6000000001,
            "bin_end": 953993.2000000001,
            "count": 0
           },
           {
            "bin_start": 953993.2000000001,
            "bin_end": 1070788.8,
            "count": 0
           },
           {
            "bin_start": 1070788.8,
            "bin_end": 1187584.4000000001,
            "count": 0
           },
           {
            "bin_start": 1187584.4000000001,
            "bin_end": 1304380,
            "count": 1
           }
          ]
         }
        },
        {
         "name": 42,
         "dtype": "float64",
         "stats": {
          "unique_count": 30,
          "nan_count": 0,
          "min": "135218.5",
          "max": "1306320.0",
          "histogram": [
           {
            "bin_start": 135218.5,
            "bin_end": 252328.65,
            "count": 10
           },
           {
            "bin_start": 252328.65,
            "bin_end": 369438.8,
            "count": 5
           },
           {
            "bin_start": 369438.8,
            "bin_end": 486548.94999999995,
            "count": 6
           },
           {
            "bin_start": 486548.94999999995,
            "bin_end": 603659.1,
            "count": 4
           },
           {
            "bin_start": 603659.1,
            "bin_end": 720769.25,
            "count": 4
           },
           {
            "bin_start": 720769.25,
            "bin_end": 837879.3999999999,
            "count": 0
           },
           {
            "bin_start": 837879.3999999999,
            "bin_end": 954989.5499999999,
            "count": 0
           },
           {
            "bin_start": 954989.5499999999,
            "bin_end": 1072099.7,
            "count": 0
           },
           {
            "bin_start": 1072099.7,
            "bin_end": 1189209.8499999999,
            "count": 0
           },
           {
            "bin_start": 1189209.8499999999,
            "bin_end": 1306320,
            "count": 1
           }
          ]
         }
        },
        {
         "name": 43,
         "dtype": "float64",
         "stats": {
          "unique_count": 30,
          "nan_count": 0,
          "min": "128277.5",
          "max": "1305405.0",
          "histogram": [
           {
            "bin_start": 128277.5,
            "bin_end": 245990.25,
            "count": 10
           },
           {
            "bin_start": 245990.25,
            "bin_end": 363703,
            "count": 5
           },
           {
            "bin_start": 363703,
            "bin_end": 481415.75,
            "count": 6
           },
           {
            "bin_start": 481415.75,
            "bin_end": 599128.5,
            "count": 4
           },
           {
            "bin_start": 599128.5,
            "bin_end": 716841.25,
            "count": 4
           },
           {
            "bin_start": 716841.25,
            "bin_end": 834554,
            "count": 0
           },
           {
            "bin_start": 834554,
            "bin_end": 952266.75,
            "count": 0
           },
           {
            "bin_start": 952266.75,
            "bin_end": 1069979.5,
            "count": 0
           },
           {
            "bin_start": 1069979.5,
            "bin_end": 1187692.25,
            "count": 0
           },
           {
            "bin_start": 1187692.25,
            "bin_end": 1305405,
            "count": 1
           }
          ]
         }
        },
        {
         "name": 44,
         "dtype": "float64",
         "stats": {
          "unique_count": 30,
          "nan_count": 0,
          "min": "180264.5",
          "max": "1349945.0",
          "histogram": [
           {
            "bin_start": 180264.5,
            "bin_end": 297232.55,
            "count": 10
           },
           {
            "bin_start": 297232.55,
            "bin_end": 414200.6,
            "count": 6
           },
           {
            "bin_start": 414200.6,
            "bin_end": 531168.65,
            "count": 5
           },
           {
            "bin_start": 531168.65,
            "bin_end": 648136.7,
            "count": 5
           },
           {
            "bin_start": 648136.7,
            "bin_end": 765104.75,
            "count": 3
           },
           {
            "bin_start": 765104.75,
            "bin_end": 882072.8,
            "count": 0
           },
           {
            "bin_start": 882072.8,
            "bin_end": 999040.85,
            "count": 0
           },
           {
            "bin_start": 999040.85,
            "bin_end": 1116008.9,
            "count": 0
           },
           {
            "bin_start": 1116008.9,
            "bin_end": 1232976.95,
            "count": 0
           },
           {
            "bin_start": 1232976.95,
            "bin_end": 1349945,
            "count": 1
           }
          ]
         }
        },
        {
         "name": 45,
         "dtype": "float64",
         "stats": {
          "unique_count": 30,
          "nan_count": 0,
          "min": "187574.0",
          "max": "1351285.0",
          "histogram": [
           {
            "bin_start": 187574,
            "bin_end": 303945.1,
            "count": 10
           },
           {
            "bin_start": 303945.1,
            "bin_end": 420316.2,
            "count": 6
           },
           {
            "bin_start": 420316.2,
            "bin_end": 536687.3,
            "count": 5
           },
           {
            "bin_start": 536687.3,
            "bin_end": 653058.4,
            "count": 5
           },
           {
            "bin_start": 653058.4,
            "bin_end": 769429.5,
            "count": 3
           },
           {
            "bin_start": 769429.5,
            "bin_end": 885800.6000000001,
            "count": 0
           },
           {
            "bin_start": 885800.6000000001,
            "bin_end": 1002171.7000000001,
            "count": 0
           },
           {
            "bin_start": 1002171.7000000001,
            "bin_end": 1118542.8,
            "count": 0
           },
           {
            "bin_start": 1118542.8,
            "bin_end": 1234913.9,
            "count": 0
           },
           {
            "bin_start": 1234913.9,
            "bin_end": 1351285,
            "count": 1
           }
          ]
         }
        },
        {
         "name": 46,
         "dtype": "float64",
         "stats": {
          "unique_count": 30,
          "nan_count": 0,
          "min": "129605.5",
          "max": "1319235.0",
          "histogram": [
           {
            "bin_start": 129605.5,
            "bin_end": 248568.45,
            "count": 10
           },
           {
            "bin_start": 248568.45,
            "bin_end": 367531.4,
            "count": 5
           },
           {
            "bin_start": 367531.4,
            "bin_end": 486494.35,
            "count": 6
           },
           {
            "bin_start": 486494.35,
            "bin_end": 605457.3,
            "count": 4
           },
           {
            "bin_start": 605457.3,
            "bin_end": 724420.25,
            "count": 4
           },
           {
            "bin_start": 724420.25,
            "bin_end": 843383.2,
            "count": 0
           },
           {
            "bin_start": 843383.2,
            "bin_end": 962346.15,
            "count": 0
           },
           {
            "bin_start": 962346.15,
            "bin_end": 1081309.1,
            "count": 0
           },
           {
            "bin_start": 1081309.1,
            "bin_end": 1200272.05,
            "count": 0
           },
           {
            "bin_start": 1200272.05,
            "bin_end": 1319235,
            "count": 1
           }
          ]
         }
        },
        {
         "name": 47,
         "dtype": "float64",
         "stats": {
          "unique_count": 30,
          "nan_count": 0,
          "min": "129733.0",
          "max": "1323450.0",
          "histogram": [
           {
            "bin_start": 129733,
            "bin_end": 249104.7,
            "count": 9
           },
           {
            "bin_start": 249104.7,
            "bin_end": 368476.4,
            "count": 8
           },
           {
            "bin_start": 368476.4,
            "bin_end": 487848.1,
            "count": 4
           },
           {
            "bin_start": 487848.1,
            "bin_end": 607219.8,
            "count": 5
           },
           {
            "bin_start": 607219.8,
            "bin_end": 726591.5,
            "count": 3
           },
           {
            "bin_start": 726591.5,
            "bin_end": 845963.2,
            "count": 0
           },
           {
            "bin_start": 845963.2,
            "bin_end": 965334.9,
            "count": 0
           },
           {
            "bin_start": 965334.9,
            "bin_end": 1084706.6,
            "count": 0
           },
           {
            "bin_start": 1084706.6,
            "bin_end": 1204078.3,
            "count": 0
           },
           {
            "bin_start": 1204078.3,
            "bin_end": 1323450,
            "count": 1
           }
          ]
         }
        },
        {
         "name": 48,
         "dtype": "float64",
         "stats": {
          "unique_count": 30,
          "nan_count": 0,
          "min": "134654.0",
          "max": "1323850.0",
          "histogram": [
           {
            "bin_start": 134654,
            "bin_end": 253573.6,
            "count": 10
           },
           {
            "bin_start": 253573.6,
            "bin_end": 372493.2,
            "count": 7
           },
           {
            "bin_start": 372493.2,
            "bin_end": 491412.80000000005,
            "count": 4
           },
           {
            "bin_start": 491412.80000000005,
            "bin_end": 610332.4,
            "count": 5
           },
           {
            "bin_start": 610332.4,
            "bin_end": 729252,
            "count": 3
           },
           {
            "bin_start": 729252,
            "bin_end": 848171.6000000001,
            "count": 0
           },
           {
            "bin_start": 848171.6000000001,
            "bin_end": 967091.2000000001,
            "count": 0
           },
           {
            "bin_start": 967091.2000000001,
            "bin_end": 1086010.8,
            "count": 0
           },
           {
            "bin_start": 1086010.8,
            "bin_end": 1204930.4000000001,
            "count": 0
           },
           {
            "bin_start": 1204930.4000000001,
            "bin_end": 1323850,
            "count": 1
           }
          ]
         }
        },
        {
         "name": 49,
         "dtype": "float64",
         "stats": {
          "unique_count": 30,
          "nan_count": 0,
          "min": "143189.0",
          "max": "1333620.0",
          "histogram": [
           {
            "bin_start": 143189,
            "bin_end": 262232.1,
            "count": 9
           },
           {
            "bin_start": 262232.1,
            "bin_end": 381275.2,
            "count": 6
           },
           {
            "bin_start": 381275.2,
            "bin_end": 500318.30000000005,
            "count": 6
           },
           {
            "bin_start": 500318.30000000005,
            "bin_end": 619361.4,
            "count": 4
           },
           {
            "bin_start": 619361.4,
            "bin_end": 738404.5,
            "count": 4
           },
           {
            "bin_start": 738404.5,
            "bin_end": 857447.6000000001,
            "count": 0
           },
           {
            "bin_start": 857447.6000000001,
            "bin_end": 976490.7000000001,
            "count": 0
           },
           {
            "bin_start": 976490.7000000001,
            "bin_end": 1095533.8,
            "count": 0
           },
           {
            "bin_start": 1095533.8,
            "bin_end": 1214576.9000000001,
            "count": 0
           },
           {
            "bin_start": 1214576.9000000001,
            "bin_end": 1333620,
            "count": 1
           }
          ]
         }
        },
        {
         "name": 50,
         "dtype": "float64",
         "stats": {
          "unique_count": 30,
          "nan_count": 0,
          "min": "148446.5",
          "max": "1329285.0",
          "histogram": [
           {
            "bin_start": 148446.5,
            "bin_end": 266530.35,
            "count": 10
           },
           {
            "bin_start": 266530.35,
            "bin_end": 384614.2,
            "count": 7
           },
           {
            "bin_start": 384614.2,
            "bin_end": 502698.05000000005,
            "count": 4
           },
           {
            "bin_start": 502698.05000000005,
            "bin_end": 620781.9,
            "count": 5
           },
           {
            "bin_start": 620781.9,
            "bin_end": 738865.75,
            "count": 3
           },
           {
            "bin_start": 738865.75,
            "bin_end": 856949.6000000001,
            "count": 0
           },
           {
            "bin_start": 856949.6000000001,
            "bin_end": 975033.4500000001,
            "count": 0
           },
           {
            "bin_start": 975033.4500000001,
            "bin_end": 1093117.3,
            "count": 0
           },
           {
            "bin_start": 1093117.3,
            "bin_end": 1211201.1500000001,
            "count": 0
           },
           {
            "bin_start": 1211201.1500000001,
            "bin_end": 1329285,
            "count": 1
           }
          ]
         }
        },
        {
         "name": 51,
         "dtype": "float64",
         "stats": {
          "unique_count": 30,
          "nan_count": 0,
          "min": "151169.5",
          "max": "1332495.0",
          "histogram": [
           {
            "bin_start": 151169.5,
            "bin_end": 269302.05,
            "count": 10
           },
           {
            "bin_start": 269302.05,
            "bin_end": 387434.6,
            "count": 6
           },
           {
            "bin_start": 387434.6,
            "bin_end": 505567.15,
            "count": 5
           },
           {
            "bin_start": 505567.15,
            "bin_end": 623699.7,
            "count": 5
           },
           {
            "bin_start": 623699.7,
            "bin_end": 741832.25,
            "count": 3
           },
           {
            "bin_start": 741832.25,
            "bin_end": 859964.8,
            "count": 0
           },
           {
            "bin_start": 859964.8,
            "bin_end": 978097.35,
            "count": 0
           },
           {
            "bin_start": 978097.35,
            "bin_end": 1096229.9,
            "count": 0
           },
           {
            "bin_start": 1096229.9,
            "bin_end": 1214362.45,
            "count": 0
           },
           {
            "bin_start": 1214362.45,
            "bin_end": 1332495,
            "count": 1
           }
          ]
         }
        },
        {
         "name": 52,
         "dtype": "float64",
         "stats": {
          "unique_count": 30,
          "nan_count": 0,
          "min": "163471.0",
          "max": "1338585.0",
          "histogram": [
           {
            "bin_start": 163471,
            "bin_end": 280982.4,
            "count": 10
           },
           {
            "bin_start": 280982.4,
            "bin_end": 398493.8,
            "count": 6
           },
           {
            "bin_start": 398493.8,
            "bin_end": 516005.19999999995,
            "count": 5
           },
           {
            "bin_start": 516005.19999999995,
            "bin_end": 633516.6,
            "count": 5
           },
           {
            "bin_start": 633516.6,
            "bin_end": 751028,
            "count": 3
           },
           {
            "bin_start": 751028,
            "bin_end": 868539.3999999999,
            "count": 0
           },
           {
            "bin_start": 868539.3999999999,
            "bin_end": 986050.7999999999,
            "count": 0
           },
           {
            "bin_start": 986050.7999999999,
            "bin_end": 1103562.2,
            "count": 0
           },
           {
            "bin_start": 1103562.2,
            "bin_end": 1221073.5999999999,
            "count": 0
           },
           {
            "bin_start": 1221073.5999999999,
            "bin_end": 1338585,
            "count": 1
           }
          ]
         }
        },
        {
         "name": 53,
         "dtype": "float64",
         "stats": {
          "unique_count": 30,
          "nan_count": 0,
          "min": "178718.0",
          "max": "1344025.0",
          "histogram": [
           {
            "bin_start": 178718,
            "bin_end": 295248.7,
            "count": 10
           },
           {
            "bin_start": 295248.7,
            "bin_end": 411779.4,
            "count": 6
           },
           {
            "bin_start": 411779.4,
            "bin_end": 528310.1,
            "count": 5
           },
           {
            "bin_start": 528310.1,
            "bin_end": 644840.8,
            "count": 5
           },
           {
            "bin_start": 644840.8,
            "bin_end": 761371.5,
            "count": 3
           },
           {
            "bin_start": 761371.5,
            "bin_end": 877902.2,
            "count": 0
           },
           {
            "bin_start": 877902.2,
            "bin_end": 994432.9,
            "count": 0
           },
           {
            "bin_start": 994432.9,
            "bin_end": 1110963.6,
            "count": 0
           },
           {
            "bin_start": 1110963.6,
            "bin_end": 1227494.3,
            "count": 0
           },
           {
            "bin_start": 1227494.3,
            "bin_end": 1344025,
            "count": 1
           }
          ]
         }
        },
        {
         "name": 54,
         "dtype": "float64",
         "stats": {
          "unique_count": 30,
          "nan_count": 0,
          "min": "160716.5",
          "max": "1335050.0",
          "histogram": [
           {
            "bin_start": 160716.5,
            "bin_end": 278149.85,
            "count": 10
           },
           {
            "bin_start": 278149.85,
            "bin_end": 395583.2,
            "count": 6
           },
           {
            "bin_start": 395583.2,
            "bin_end": 513016.55000000005,
            "count": 5
           },
           {
            "bin_start": 513016.55000000005,
            "bin_end": 630449.9,
            "count": 4
           },
           {
            "bin_start": 630449.9,
            "bin_end": 747883.25,
            "count": 4
           },
           {
            "bin_start": 747883.25,
            "bin_end": 865316.6000000001,
            "count": 0
           },
           {
            "bin_start": 865316.6000000001,
            "bin_end": 982749.9500000001,
            "count": 0
           },
           {
            "bin_start": 982749.9500000001,
            "bin_end": 1100183.3,
            "count": 0
           },
           {
            "bin_start": 1100183.3,
            "bin_end": 1217616.6500000001,
            "count": 0
           },
           {
            "bin_start": 1217616.6500000001,
            "bin_end": 1335050,
            "count": 1
           }
          ]
         }
        },
        {
         "name": 55,
         "dtype": "float64",
         "stats": {
          "unique_count": 30,
          "nan_count": 0,
          "min": "187718.0",
          "max": "1370180.0",
          "histogram": [
           {
            "bin_start": 187718,
            "bin_end": 305964.2,
            "count": 10
           },
           {
            "bin_start": 305964.2,
            "bin_end": 424210.4,
            "count": 7
           },
           {
            "bin_start": 424210.4,
            "bin_end": 542456.6,
            "count": 5
           },
           {
            "bin_start": 542456.6,
            "bin_end": 660702.8,
            "count": 3
           },
           {
            "bin_start": 660702.8,
            "bin_end": 778949,
            "count": 3
           },
           {
            "bin_start": 778949,
            "bin_end": 897195.2,
            "count": 1
           },
           {
            "bin_start": 897195.2,
            "bin_end": 1015441.4,
            "count": 0
           },
           {
            "bin_start": 1015441.4,
            "bin_end": 1133687.6,
            "count": 0
           },
           {
            "bin_start": 1133687.6,
            "bin_end": 1251933.8,
            "count": 0
           },
           {
            "bin_start": 1251933.8,
            "bin_end": 1370180,
            "count": 1
           }
          ]
         }
        },
        {
         "name": 56,
         "dtype": "float64",
         "stats": {
          "unique_count": 30,
          "nan_count": 0,
          "min": "156751.5",
          "max": "1341500.0",
          "histogram": [
           {
            "bin_start": 156751.5,
            "bin_end": 275226.35,
            "count": 10
           },
           {
            "bin_start": 275226.35,
            "bin_end": 393701.2,
            "count": 5
           },
           {
            "bin_start": 393701.2,
            "bin_end": 512176.05000000005,
            "count": 7
           },
           {
            "bin_start": 512176.05000000005,
            "bin_end": 630650.9,
            "count": 3
           },
           {
            "bin_start": 630650.9,
            "bin_end": 749125.75,
            "count": 3
           },
           {
            "bin_start": 749125.75,
            "bin_end": 867600.6000000001,
            "count": 1
           },
           {
            "bin_start": 867600.6000000001,
            "bin_end": 986075.4500000001,
            "count": 0
           },
           {
            "bin_start": 986075.4500000001,
            "bin_end": 1104550.3,
            "count": 0
           },
           {
            "bin_start": 1104550.3,
            "bin_end": 1223025.1500000001,
            "count": 0
           },
           {
            "bin_start": 1223025.1500000001,
            "bin_end": 1341500,
            "count": 1
           }
          ]
         }
        },
        {
         "name": 57,
         "dtype": "float64",
         "stats": {
          "unique_count": 30,
          "nan_count": 0,
          "min": "139694.0",
          "max": "1305205.0",
          "histogram": [
           {
            "bin_start": 139694,
            "bin_end": 256245.1,
            "count": 10
           },
           {
            "bin_start": 256245.1,
            "bin_end": 372796.2,
            "count": 6
           },
           {
            "bin_start": 372796.2,
            "bin_end": 489347.30000000005,
            "count": 5
           },
           {
            "bin_start": 489347.30000000005,
            "bin_end": 605898.4,
            "count": 4
           },
           {
            "bin_start": 605898.4,
            "bin_end": 722449.5,
            "count": 4
           },
           {
            "bin_start": 722449.5,
            "bin_end": 839000.6000000001,
            "count": 0
           },
           {
            "bin_start": 839000.6000000001,
            "bin_end": 955551.7000000001,
            "count": 0
           },
           {
            "bin_start": 955551.7000000001,
            "bin_end": 1072102.8,
            "count": 0
           },
           {
            "bin_start": 1072102.8,
            "bin_end": 1188653.9000000001,
            "count": 0
           },
           {
            "bin_start": 1188653.9000000001,
            "bin_end": 1305205,
            "count": 1
           }
          ]
         }
        },
        {
         "name": 58,
         "dtype": "float64",
         "stats": {
          "unique_count": 30,
          "nan_count": 0,
          "min": "139007.5",
          "max": "1309680.0",
          "histogram": [
           {
            "bin_start": 139007.5,
            "bin_end": 256074.75,
            "count": 10
           },
           {
            "bin_start": 256074.75,
            "bin_end": 373142,
            "count": 6
           },
           {
            "bin_start": 373142,
            "bin_end": 490209.25,
            "count": 5
           },
           {
            "bin_start": 490209.25,
            "bin_end": 607276.5,
            "count": 4
           },
           {
            "bin_start": 607276.5,
            "bin_end": 724343.75,
            "count": 4
           },
           {
            "bin_start": 724343.75,
            "bin_end": 841411,
            "count": 0
           },
           {
            "bin_start": 841411,
            "bin_end": 958478.25,
            "count": 0
           },
           {
            "bin_start": 958478.25,
            "bin_end": 1075545.5,
            "count": 0
           },
           {
            "bin_start": 1075545.5,
            "bin_end": 1192612.75,
            "count": 0
           },
           {
            "bin_start": 1192612.75,
            "bin_end": 1309680,
            "count": 1
           }
          ]
         }
        },
        {
         "name": 59,
         "dtype": "float64",
         "stats": {
          "unique_count": 30,
          "nan_count": 0,
          "min": "128534.5",
          "max": "1303695.0",
          "histogram": [
           {
            "bin_start": 128534.5,
            "bin_end": 246050.55,
            "count": 10
           },
           {
            "bin_start": 246050.55,
            "bin_end": 363566.6,
            "count": 5
           },
           {
            "bin_start": 363566.6,
            "bin_end": 481082.65,
            "count": 6
           },
           {
            "bin_start": 481082.65,
            "bin_end": 598598.7,
            "count": 4
           },
           {
            "bin_start": 598598.7,
            "bin_end": 716114.75,
            "count": 4
           },
           {
            "bin_start": 716114.75,
            "bin_end": 833630.8,
            "count": 0
           },
           {
            "bin_start": 833630.8,
            "bin_end": 951146.85,
            "count": 0
           },
           {
            "bin_start": 951146.85,
            "bin_end": 1068662.9,
            "count": 0
           },
           {
            "bin_start": 1068662.9,
            "bin_end": 1186178.95,
            "count": 0
           },
           {
            "bin_start": 1186178.95,
            "bin_end": 1303695,
            "count": 1
           }
          ]
         }
        },
        {
         "name": 60,
         "dtype": "float64",
         "stats": {
          "unique_count": 30,
          "nan_count": 0,
          "min": "131310.0",
          "max": "1321835.0",
          "histogram": [
           {
            "bin_start": 131310,
            "bin_end": 250362.5,
            "count": 10
           },
           {
            "bin_start": 250362.5,
            "bin_end": 369415,
            "count": 4
           },
           {
            "bin_start": 369415,
            "bin_end": 488467.5,
            "count": 7
           },
           {
            "bin_start": 488467.5,
            "bin_end": 607520,
            "count": 4
           },
           {
            "bin_start": 607520,
            "bin_end": 726572.5,
            "count": 4
           },
           {
            "bin_start": 726572.5,
            "bin_end": 845625,
            "count": 0
           },
           {
            "bin_start": 845625,
            "bin_end": 964677.5,
            "count": 0
           },
           {
            "bin_start": 964677.5,
            "bin_end": 1083730,
            "count": 0
           },
           {
            "bin_start": 1083730,
            "bin_end": 1202782.5,
            "count": 0
           },
           {
            "bin_start": 1202782.5,
            "bin_end": 1321835,
            "count": 1
           }
          ]
         }
        },
        {
         "name": 61,
         "dtype": "float64",
         "stats": {
          "unique_count": 30,
          "nan_count": 0,
          "min": "120461.5",
          "max": "1307195.0",
          "histogram": [
           {
            "bin_start": 120461.5,
            "bin_end": 239134.85,
            "count": 10
           },
           {
            "bin_start": 239134.85,
            "bin_end": 357808.2,
            "count": 5
           },
           {
            "bin_start": 357808.2,
            "bin_end": 476481.55000000005,
            "count": 6
           },
           {
            "bin_start": 476481.55000000005,
            "bin_end": 595154.9,
            "count": 4
           },
           {
            "bin_start": 595154.9,
            "bin_end": 713828.25,
            "count": 4
           },
           {
            "bin_start": 713828.25,
            "bin_end": 832501.6000000001,
            "count": 0
           },
           {
            "bin_start": 832501.6000000001,
            "bin_end": 951174.9500000001,
            "count": 0
           },
           {
            "bin_start": 951174.9500000001,
            "bin_end": 1069848.3,
            "count": 0
           },
           {
            "bin_start": 1069848.3,
            "bin_end": 1188521.6500000001,
            "count": 0
           },
           {
            "bin_start": 1188521.6500000001,
            "bin_end": 1307195,
            "count": 1
           }
          ]
         }
        },
        {
         "name": 62,
         "dtype": "float64",
         "stats": {
          "unique_count": 30,
          "nan_count": 0,
          "min": "128583.0",
          "max": "1319525.0",
          "histogram": [
           {
            "bin_start": 128583,
            "bin_end": 247677.2,
            "count": 10
           },
           {
            "bin_start": 247677.2,
            "bin_end": 366771.4,
            "count": 5
           },
           {
            "bin_start": 366771.4,
            "bin_end": 485865.6,
            "count": 6
           },
           {
            "bin_start": 485865.6,
            "bin_end": 604959.8,
            "count": 4
           },
           {
            "bin_start": 604959.8,
            "bin_end": 724054,
            "count": 4
           },
           {
            "bin_start": 724054,
            "bin_end": 843148.2,
            "count": 0
           },
           {
            "bin_start": 843148.2,
            "bin_end": 962242.4,
            "count": 0
           },
           {
            "bin_start": 962242.4,
            "bin_end": 1081336.6,
            "count": 0
           },
           {
            "bin_start": 1081336.6,
            "bin_end": 1200430.8,
            "count": 0
           },
           {
            "bin_start": 1200430.8,
            "bin_end": 1319525,
            "count": 1
           }
          ]
         }
        },
        {
         "name": 63,
         "dtype": "float64",
         "stats": {
          "unique_count": 30,
          "nan_count": 0,
          "min": "127061.5",
          "max": "1317555.0",
          "histogram": [
           {
            "bin_start": 127061.5,
            "bin_end": 246110.85,
            "count": 10
           },
           {
            "bin_start": 246110.85,
            "bin_end": 365160.2,
            "count": 6
           },
           {
            "bin_start": 365160.2,
            "bin_end": 484209.55000000005,
            "count": 5
           },
           {
            "bin_start": 484209.55000000005,
            "bin_end": 603258.9,
            "count": 4
           },
           {
            "bin_start": 603258.9,
            "bin_end": 722308.25,
            "count": 4
           },
           {
            "bin_start": 722308.25,
            "bin_end": 841357.6000000001,
            "count": 0
           },
           {
            "bin_start": 841357.6000000001,
            "bin_end": 960406.9500000001,
            "count": 0
           },
           {
            "bin_start": 960406.9500000001,
            "bin_end": 1079456.3,
            "count": 0
           },
           {
            "bin_start": 1079456.3,
            "bin_end": 1198505.6500000001,
            "count": 0
           },
           {
            "bin_start": 1198505.6500000001,
            "bin_end": 1317555,
            "count": 1
           }
          ]
         }
        },
        {
         "name": 64,
         "dtype": "float64",
         "stats": {
          "unique_count": 30,
          "nan_count": 0,
          "min": "131896.0",
          "max": "1319815.0",
          "histogram": [
           {
            "bin_start": 131896,
            "bin_end": 250687.9,
            "count": 10
           },
           {
            "bin_start": 250687.9,
            "bin_end": 369479.8,
            "count": 6
           },
           {
            "bin_start": 369479.8,
            "bin_end": 488271.69999999995,
            "count": 5
           },
           {
            "bin_start": 488271.69999999995,
            "bin_end": 607063.6,
            "count": 4
           },
           {
            "bin_start": 607063.6,
            "bin_end": 725855.5,
            "count": 4
           },
           {
            "bin_start": 725855.5,
            "bin_end": 844647.3999999999,
            "count": 0
           },
           {
            "bin_start": 844647.3999999999,
            "bin_end": 963439.2999999999,
            "count": 0
           },
           {
            "bin_start": 963439.2999999999,
            "bin_end": 1082231.2,
            "count": 0
           },
           {
            "bin_start": 1082231.2,
            "bin_end": 1201023.0999999999,
            "count": 0
           },
           {
            "bin_start": 1201023.0999999999,
            "bin_end": 1319815,
            "count": 1
           }
          ]
         }
        },
        {
         "name": 65,
         "dtype": "float64",
         "stats": {
          "unique_count": 30,
          "nan_count": 0,
          "min": "137494.5",
          "max": "1331680.0",
          "histogram": [
           {
            "bin_start": 137494.5,
            "bin_end": 256913.05,
            "count": 10
           },
           {
            "bin_start": 256913.05,
            "bin_end": 376331.6,
            "count": 6
           },
           {
            "bin_start": 376331.6,
            "bin_end": 495750.15,
            "count": 5
           },
           {
            "bin_start": 495750.15,
            "bin_end": 615168.7,
            "count": 4
           },
           {
            "bin_start": 615168.7,
            "bin_end": 734587.25,
            "count": 4
           },
           {
            "bin_start": 734587.25,
            "bin_end": 854005.8,
            "count": 0
           },
           {
            "bin_start": 854005.8,
            "bin_end": 973424.35,
            "count": 0
           },
           {
            "bin_start": 973424.35,
            "bin_end": 1092842.9,
            "count": 0
           },
           {
            "bin_start": 1092842.9,
            "bin_end": 1212261.45,
            "count": 0
           },
           {
            "bin_start": 1212261.45,
            "bin_end": 1331680,
            "count": 1
           }
          ]
         }
        },
        {
         "name": 66,
         "dtype": "float64",
         "stats": {
          "unique_count": 30,
          "nan_count": 0,
          "min": "143111.0",
          "max": "1337960.0",
          "histogram": [
           {
            "bin_start": 143111,
            "bin_end": 262595.9,
            "count": 8
           },
           {
            "bin_start": 262595.9,
            "bin_end": 382080.8,
            "count": 5
           },
           {
            "bin_start": 382080.8,
            "bin_end": 501565.69999999995,
            "count": 8
           },
           {
            "bin_start": 501565.69999999995,
            "bin_end": 621050.6,
            "count": 4
           },
           {
            "bin_start": 621050.6,
            "bin_end": 740535.5,
            "count": 3
           },
           {
            "bin_start": 740535.5,
            "bin_end": 860020.3999999999,
            "count": 1
           },
           {
            "bin_start": 860020.3999999999,
            "bin_end": 979505.2999999999,
            "count": 0
           },
           {
            "bin_start": 979505.2999999999,
            "bin_end": 1098990.2,
            "count": 0
           },
           {
            "bin_start": 1098990.2,
            "bin_end": 1218475.0999999999,
            "count": 0
           },
           {
            "bin_start": 1218475.0999999999,
            "bin_end": 1337960,
            "count": 1
           }
          ]
         }
        },
        {
         "name": 67,
         "dtype": "float64",
         "stats": {
          "unique_count": 30,
          "nan_count": 0,
          "min": "147330.0",
          "max": "1325815.0",
          "histogram": [
           {
            "bin_start": 147330,
            "bin_end": 265178.5,
            "count": 10
           },
           {
            "bin_start": 265178.5,
            "bin_end": 383027,
            "count": 6
           },
           {
            "bin_start": 383027,
            "bin_end": 500875.5,
            "count": 5
           },
           {
            "bin_start": 500875.5,
            "bin_end": 618724,
            "count": 5
           },
           {
            "bin_start": 618724,
            "bin_end": 736572.5,
            "count": 3
           },
           {
            "bin_start": 736572.5,
            "bin_end": 854421,
            "count": 0
           },
           {
            "bin_start": 854421,
            "bin_end": 972269.5,
            "count": 0
           },
           {
            "bin_start": 972269.5,
            "bin_end": 1090118,
            "count": 0
           },
           {
            "bin_start": 1090118,
            "bin_end": 1207966.5,
            "count": 0
           },
           {
            "bin_start": 1207966.5,
            "bin_end": 1325815,
            "count": 1
           }
          ]
         }
        },
        {
         "name": 68,
         "dtype": "float64",
         "stats": {
          "unique_count": 30,
          "nan_count": 0,
          "min": "153290.5",
          "max": "1341195.0",
          "histogram": [
           {
            "bin_start": 153290.5,
            "bin_end": 272080.95,
            "count": 10
           },
           {
            "bin_start": 272080.95,
            "bin_end": 390871.4,
            "count": 6
           },
           {
            "bin_start": 390871.4,
            "bin_end": 509661.85,
            "count": 5
           },
           {
            "bin_start": 509661.85,
            "bin_end": 628452.3,
            "count": 5
           },
           {
            "bin_start": 628452.3,
            "bin_end": 747242.75,
            "count": 3
           },
           {
            "bin_start": 747242.75,
            "bin_end": 866033.2,
            "count": 0
           },
           {
            "bin_start": 866033.2,
            "bin_end": 984823.65,
            "count": 0
           },
           {
            "bin_start": 984823.65,
            "bin_end": 1103614.1,
            "count": 0
           },
           {
            "bin_start": 1103614.1,
            "bin_end": 1222404.55,
            "count": 0
           },
           {
            "bin_start": 1222404.55,
            "bin_end": 1341195,
            "count": 1
           }
          ]
         }
        },
        {
         "name": 69,
         "dtype": "float64",
         "stats": {
          "unique_count": 30,
          "nan_count": 0,
          "min": "159105.5",
          "max": "1335660.0",
          "histogram": [
           {
            "bin_start": 159105.5,
            "bin_end": 276760.95,
            "count": 10
           },
           {
            "bin_start": 276760.95,
            "bin_end": 394416.4,
            "count": 6
           },
           {
            "bin_start": 394416.4,
            "bin_end": 512071.85,
            "count": 5
           },
           {
            "bin_start": 512071.85,
            "bin_end": 629727.3,
            "count": 5
           },
           {
            "bin_start": 629727.3,
            "bin_end": 747382.75,
            "count": 3
           },
           {
            "bin_start": 747382.75,
            "bin_end": 865038.2,
            "count": 0
           },
           {
            "bin_start": 865038.2,
            "bin_end": 982693.65,
            "count": 0
           },
           {
            "bin_start": 982693.65,
            "bin_end": 1100349.1,
            "count": 0
           },
           {
            "bin_start": 1100349.1,
            "bin_end": 1218004.55,
            "count": 0
           },
           {
            "bin_start": 1218004.55,
            "bin_end": 1335660,
            "count": 1
           }
          ]
         }
        },
        {
         "name": 70,
         "dtype": "float64",
         "stats": {
          "unique_count": 30,
          "nan_count": 0,
          "min": "166903.5",
          "max": "1337795.0",
          "histogram": [
           {
            "bin_start": 166903.5,
            "bin_end": 283992.65,
            "count": 10
           },
           {
            "bin_start": 283992.65,
            "bin_end": 401081.8,
            "count": 7
           },
           {
            "bin_start": 401081.8,
            "bin_end": 518170.94999999995,
            "count": 4
           },
           {
            "bin_start": 518170.94999999995,
            "bin_end": 635260.1,
            "count": 5
           },
           {
            "bin_start": 635260.1,
            "bin_end": 752349.25,
            "count": 3
           },
           {
            "bin_start": 752349.25,
            "bin_end": 869438.3999999999,
            "count": 0
           },
           {
            "bin_start": 869438.3999999999,
            "bin_end": 986527.5499999999,
            "count": 0
           },
           {
            "bin_start": 986527.5499999999,
            "bin_end": 1103616.7,
            "count": 0
           },
           {
            "bin_start": 1103616.7,
            "bin_end": 1220705.8499999999,
            "count": 0
           },
           {
            "bin_start": 1220705.8499999999,
            "bin_end": 1337795,
            "count": 1
           }
          ]
         }
        },
        {
         "name": 71,
         "dtype": "float64",
         "stats": {
          "unique_count": 30,
          "nan_count": 0,
          "min": "176034.5",
          "max": "1342775.0",
          "histogram": [
           {
            "bin_start": 176034.5,
            "bin_end": 292708.55,
            "count": 10
           },
           {
            "bin_start": 292708.55,
            "bin_end": 409382.6,
            "count": 7
           },
           {
            "bin_start": 409382.6,
            "bin_end": 526056.65,
            "count": 4
           },
           {
            "bin_start": 526056.65,
            "bin_end": 642730.7,
            "count": 5
           },
           {
            "bin_start": 642730.7,
            "bin_end": 759404.75,
            "count": 3
           },
           {
            "bin_start": 759404.75,
            "bin_end": 876078.8,
            "count": 0
           },
           {
            "bin_start": 876078.8,
            "bin_end": 992752.85,
            "count": 0
           },
           {
            "bin_start": 992752.85,
            "bin_end": 1109426.9,
            "count": 0
           },
           {
            "bin_start": 1109426.9,
            "bin_end": 1226100.95,
            "count": 0
           },
           {
            "bin_start": 1226100.95,
            "bin_end": 1342775,
            "count": 1
           }
          ]
         }
        },
        {
         "name": 72,
         "dtype": "float64",
         "stats": {
          "unique_count": 30,
          "nan_count": 0,
          "min": "163650.5",
          "max": "1331990.0",
          "histogram": [
           {
            "bin_start": 163650.5,
            "bin_end": 280484.45,
            "count": 10
           },
           {
            "bin_start": 280484.45,
            "bin_end": 397318.4,
            "count": 6
           },
           {
            "bin_start": 397318.4,
            "bin_end": 514152.35,
            "count": 5
           },
           {
            "bin_start": 514152.35,
            "bin_end": 630986.3,
            "count": 4
           },
           {
            "bin_start": 630986.3,
            "bin_end": 747820.25,
            "count": 4
           },
           {
            "bin_start": 747820.25,
            "bin_end": 864654.2,
            "count": 0
           },
           {
            "bin_start": 864654.2,
            "bin_end": 981488.15,
            "count": 0
           },
           {
            "bin_start": 981488.15,
            "bin_end": 1098322.1,
            "count": 0
           },
           {
            "bin_start": 1098322.1,
            "bin_end": 1215156.05,
            "count": 0
           },
           {
            "bin_start": 1215156.05,
            "bin_end": 1331990,
            "count": 1
           }
          ]
         }
        },
        {
         "name": 73,
         "dtype": "float64",
         "stats": {
          "unique_count": 30,
          "nan_count": 0,
          "min": "152565.0",
          "max": "1315855.0",
          "histogram": [
           {
            "bin_start": 152565,
            "bin_end": 268894,
            "count": 10
           },
           {
            "bin_start": 268894,
            "bin_end": 385223,
            "count": 7
           },
           {
            "bin_start": 385223,
            "bin_end": 501552,
            "count": 5
           },
           {
            "bin_start": 501552,
            "bin_end": 617881,
            "count": 3
           },
           {
            "bin_start": 617881,
            "bin_end": 734210,
            "count": 4
           },
           {
            "bin_start": 734210,
            "bin_end": 850539,
            "count": 0
           },
           {
            "bin_start": 850539,
            "bin_end": 966868,
            "count": 0
           },
           {
            "bin_start": 966868,
            "bin_end": 1083197,
            "count": 0
           },
           {
            "bin_start": 1083197,
            "bin_end": 1199526,
            "count": 0
           },
           {
            "bin_start": 1199526,
            "bin_end": 1315855,
            "count": 1
           }
          ]
         }
        },
        {
         "name": 74,
         "dtype": "float64",
         "stats": {
          "unique_count": 30,
          "nan_count": 0,
          "min": "145759.5",
          "max": "1310410.0",
          "histogram": [
           {
            "bin_start": 145759.5,
            "bin_end": 262224.55,
            "count": 10
           },
           {
            "bin_start": 262224.55,
            "bin_end": 378689.6,
            "count": 6
           },
           {
            "bin_start": 378689.6,
            "bin_end": 495154.65,
            "count": 5
           },
           {
            "bin_start": 495154.65,
            "bin_end": 611619.7,
            "count": 4
           },
           {
            "bin_start": 611619.7,
            "bin_end": 728084.75,
            "count": 4
           },
           {
            "bin_start": 728084.75,
            "bin_end": 844549.8,
            "count": 0
           },
           {
            "bin_start": 844549.8,
            "bin_end": 961014.85,
            "count": 0
           },
           {
            "bin_start": 961014.85,
            "bin_end": 1077479.9,
            "count": 0
           },
           {
            "bin_start": 1077479.9,
            "bin_end": 1193944.9500000002,
            "count": 0
           },
           {
            "bin_start": 1193944.9500000002,
            "bin_end": 1310410,
            "count": 1
           }
          ]
         }
        },
        {
         "name": 75,
         "dtype": "float64",
         "stats": {
          "unique_count": 30,
          "nan_count": 0,
          "min": "131993.5",
          "max": "1301335.0",
          "histogram": [
           {
            "bin_start": 131993.5,
            "bin_end": 248927.65,
            "count": 10
           },
           {
            "bin_start": 248927.65,
            "bin_end": 365861.8,
            "count": 5
           },
           {
            "bin_start": 365861.8,
            "bin_end": 482795.94999999995,
            "count": 6
           },
           {
            "bin_start": 482795.94999999995,
            "bin_end": 599730.1,
            "count": 4
           },
           {
            "bin_start": 599730.1,
            "bin_end": 716664.25,
            "count": 4
           },
           {
            "bin_start": 716664.25,
            "bin_end": 833598.3999999999,
            "count": 0
           },
           {
            "bin_start": 833598.3999999999,
            "bin_end": 950532.5499999999,
            "count": 0
           },
           {
            "bin_start": 950532.5499999999,
            "bin_end": 1067466.7,
            "count": 0
           },
           {
            "bin_start": 1067466.7,
            "bin_end": 1184400.8499999999,
            "count": 0
           },
           {
            "bin_start": 1184400.8499999999,
            "bin_end": 1301335,
            "count": 1
           }
          ]
         }
        },
        {
         "name": 76,
         "dtype": "float64",
         "stats": {
          "unique_count": 30,
          "nan_count": 0,
          "min": "125745.0",
          "max": "1301615.0",
          "histogram": [
           {
            "bin_start": 125745,
            "bin_end": 243332,
            "count": 10
           },
           {
            "bin_start": 243332,
            "bin_end": 360919,
            "count": 5
           },
           {
            "bin_start": 360919,
            "bin_end": 478506,
            "count": 6
           },
           {
            "bin_start": 478506,
            "bin_end": 596093,
            "count": 4
           },
           {
            "bin_start": 596093,
            "bin_end": 713680,
            "count": 4
           },
           {
            "bin_start": 713680,
            "bin_end": 831267,
            "count": 0
           },
           {
            "bin_start": 831267,
            "bin_end": 948854,
            "count": 0
           },
           {
            "bin_start": 948854,
            "bin_end": 1066441,
            "count": 0
           },
           {
            "bin_start": 1066441,
            "bin_end": 1184028,
            "count": 0
           },
           {
            "bin_start": 1184028,
            "bin_end": 1301615,
            "count": 1
           }
          ]
         }
        },
        {
         "name": 77,
         "dtype": "float64",
         "stats": {
          "unique_count": 30,
          "nan_count": 0,
          "min": "117573.5",
          "max": "1303690.0",
          "histogram": [
           {
            "bin_start": 117573.5,
            "bin_end": 236185.15,
            "count": 10
           },
           {
            "bin_start": 236185.15,
            "bin_end": 354796.8,
            "count": 5
           },
           {
            "bin_start": 354796.8,
            "bin_end": 473408.44999999995,
            "count": 6
           },
           {
            "bin_start": 473408.44999999995,
            "bin_end": 592020.1,
            "count": 4
           },
           {
            "bin_start": 592020.1,
            "bin_end": 710631.75,
            "count": 4
           },
           {
            "bin_start": 710631.75,
            "bin_end": 829243.3999999999,
            "count": 0
           },
           {
            "bin_start": 829243.3999999999,
            "bin_end": 947855.0499999999,
            "count": 0
           },
           {
            "bin_start": 947855.0499999999,
            "bin_end": 1066466.7,
            "count": 0
           },
           {
            "bin_start": 1066466.7,
            "bin_end": 1185078.3499999999,
            "count": 0
           },
           {
            "bin_start": 1185078.3499999999,
            "bin_end": 1303690,
            "count": 1
           }
          ]
         }
        },
        {
         "name": 78,
         "dtype": "float64",
         "stats": {
          "unique_count": 30,
          "nan_count": 0,
          "min": "120965.5",
          "max": "1309035.0",
          "histogram": [
           {
            "bin_start": 120965.5,
            "bin_end": 239772.45,
            "count": 10
           },
           {
            "bin_start": 239772.45,
            "bin_end": 358579.4,
            "count": 5
           },
           {
            "bin_start": 358579.4,
            "bin_end": 477386.35,
            "count": 6
           },
           {
            "bin_start": 477386.35,
            "bin_end": 596193.3,
            "count": 4
           },
           {
            "bin_start": 596193.3,
            "bin_end": 715000.25,
            "count": 4
           },
           {
            "bin_start": 715000.25,
            "bin_end": 833807.2,
            "count": 0
           },
           {
            "bin_start": 833807.2,
            "bin_end": 952614.15,
            "count": 0
           },
           {
            "bin_start": 952614.15,
            "bin_end": 1071421.1,
            "count": 0
           },
           {
            "bin_start": 1071421.1,
            "bin_end": 1190228.05,
            "count": 0
           },
           {
            "bin_start": 1190228.05,
            "bin_end": 1309035,
            "count": 1
           }
          ]
         }
        },
        {
         "name": 79,
         "dtype": "float64",
         "stats": {
          "unique_count": 30,
          "nan_count": 0,
          "min": "103258.0",
          "max": "1312320.0",
          "histogram": [
           {
            "bin_start": 103258,
            "bin_end": 224164.2,
            "count": 8
           },
           {
            "bin_start": 224164.2,
            "bin_end": 345070.4,
            "count": 6
           },
           {
            "bin_start": 345070.4,
            "bin_end": 465976.6,
            "count": 7
           },
           {
            "bin_start": 465976.6,
            "bin_end": 586882.8,
            "count": 3
           },
           {
            "bin_start": 586882.8,
            "bin_end": 707789,
            "count": 5
           },
           {
            "bin_start": 707789,
            "bin_end": 828695.2,
            "count": 0
           },
           {
            "bin_start": 828695.2,
            "bin_end": 949601.4,
            "count": 0
           },
           {
            "bin_start": 949601.4,
            "bin_end": 1070507.6,
            "count": 0
           },
           {
            "bin_start": 1070507.6,
            "bin_end": 1191413.8,
            "count": 0
           },
           {
            "bin_start": 1191413.8,
            "bin_end": 1312320,
            "count": 1
           }
          ]
         }
        },
        {
         "name": 80,
         "dtype": "float64",
         "stats": {
          "unique_count": 30,
          "nan_count": 0,
          "min": "125875.5",
          "max": "1316750.0",
          "histogram": [
           {
            "bin_start": 125875.5,
            "bin_end": 244962.95,
            "count": 10
           },
           {
            "bin_start": 244962.95,
            "bin_end": 364050.4,
            "count": 7
           },
           {
            "bin_start": 364050.4,
            "bin_end": 483137.85,
            "count": 4
           },
           {
            "bin_start": 483137.85,
            "bin_end": 602225.3,
            "count": 4
           },
           {
            "bin_start": 602225.3,
            "bin_end": 721312.75,
            "count": 4
           },
           {
            "bin_start": 721312.75,
            "bin_end": 840400.2,
            "count": 0
           },
           {
            "bin_start": 840400.2,
            "bin_end": 959487.65,
            "count": 0
           },
           {
            "bin_start": 959487.65,
            "bin_end": 1078575.1,
            "count": 0
           },
           {
            "bin_start": 1078575.1,
            "bin_end": 1197662.55,
            "count": 0
           },
           {
            "bin_start": 1197662.55,
            "bin_end": 1316750,
            "count": 1
           }
          ]
         }
        },
        {
         "name": 81,
         "dtype": "float64",
         "stats": {
          "unique_count": 30,
          "nan_count": 0,
          "min": "130204.0",
          "max": "1317910.0",
          "histogram": [
           {
            "bin_start": 130204,
            "bin_end": 248974.6,
            "count": 10
           },
           {
            "bin_start": 248974.6,
            "bin_end": 367745.2,
            "count": 7
           },
           {
            "bin_start": 367745.2,
            "bin_end": 486515.80000000005,
            "count": 4
           },
           {
            "bin_start": 486515.80000000005,
            "bin_end": 605286.4,
            "count": 5
           },
           {
            "bin_start": 605286.4,
            "bin_end": 724057,
            "count": 3
           },
           {
            "bin_start": 724057,
            "bin_end": 842827.6000000001,
            "count": 0
           },
           {
            "bin_start": 842827.6000000001,
            "bin_end": 961598.2000000001,
            "count": 0
           },
           {
            "bin_start": 961598.2000000001,
            "bin_end": 1080368.8,
            "count": 0
           },
           {
            "bin_start": 1080368.8,
            "bin_end": 1199139.4000000001,
            "count": 0
           },
           {
            "bin_start": 1199139.4000000001,
            "bin_end": 1317910,
            "count": 1
           }
          ]
         }
        },
        {
         "name": 82,
         "dtype": "float64",
         "stats": {
          "unique_count": 30,
          "nan_count": 0,
          "min": "138993.5",
          "max": "1326505.0",
          "histogram": [
           {
            "bin_start": 138993.5,
            "bin_end": 257744.65,
            "count": 10
           },
           {
            "bin_start": 257744.65,
            "bin_end": 376495.8,
            "count": 6
           },
           {
            "bin_start": 376495.8,
            "bin_end": 495246.94999999995,
            "count": 5
           },
           {
            "bin_start": 495246.94999999995,
            "bin_end": 613998.1,
            "count": 5
           },
           {
            "bin_start": 613998.1,
            "bin_end": 732749.25,
            "count": 3
           },
           {
            "bin_start": 732749.25,
            "bin_end": 851500.3999999999,
            "count": 0
           },
           {
            "bin_start": 851500.3999999999,
            "bin_end": 970251.5499999999,
            "count": 0
           },
           {
            "bin_start": 970251.5499999999,
            "bin_end": 1089002.7,
            "count": 0
           },
           {
            "bin_start": 1089002.7,
            "bin_end": 1207753.8499999999,
            "count": 0
           },
           {
            "bin_start": 1207753.8499999999,
            "bin_end": 1326505,
            "count": 1
           }
          ]
         }
        },
        {
         "name": 83,
         "dtype": "float64",
         "stats": {
          "unique_count": 30,
          "nan_count": 0,
          "min": "139930.0",
          "max": "1322565.0",
          "histogram": [
           {
            "bin_start": 139930,
            "bin_end": 258193.5,
            "count": 10
           },
           {
            "bin_start": 258193.5,
            "bin_end": 376457,
            "count": 7
           },
           {
            "bin_start": 376457,
            "bin_end": 494720.5,
            "count": 4
           },
           {
            "bin_start": 494720.5,
            "bin_end": 612984,
            "count": 5
           },
           {
            "bin_start": 612984,
            "bin_end": 731247.5,
            "count": 3
           },
           {
            "bin_start": 731247.5,
            "bin_end": 849511,
            "count": 0
           },
           {
            "bin_start": 849511,
            "bin_end": 967774.5,
            "count": 0
           },
           {
            "bin_start": 967774.5,
            "bin_end": 1086038,
            "count": 0
           },
           {
            "bin_start": 1086038,
            "bin_end": 1204301.5,
            "count": 0
           },
           {
            "bin_start": 1204301.5,
            "bin_end": 1322565,
            "count": 1
           }
          ]
         }
        },
        {
         "name": 84,
         "dtype": "float64",
         "stats": {
          "unique_count": 30,
          "nan_count": 0,
          "min": "145392.5",
          "max": "1324615.0",
          "histogram": [
           {
            "bin_start": 145392.5,
            "bin_end": 263314.75,
            "count": 10
           },
           {
            "bin_start": 263314.75,
            "bin_end": 381237,
            "count": 7
           },
           {
            "bin_start": 381237,
            "bin_end": 499159.25,
            "count": 4
           },
           {
            "bin_start": 499159.25,
            "bin_end": 617081.5,
            "count": 5
           },
           {
            "bin_start": 617081.5,
            "bin_end": 735003.75,
            "count": 3
           },
           {
            "bin_start": 735003.75,
            "bin_end": 852926,
            "count": 0
           },
           {
            "bin_start": 852926,
            "bin_end": 970848.25,
            "count": 0
           },
           {
            "bin_start": 970848.25,
            "bin_end": 1088770.5,
            "count": 0
           },
           {
            "bin_start": 1088770.5,
            "bin_end": 1206692.75,
            "count": 0
           },
           {
            "bin_start": 1206692.75,
            "bin_end": 1324615,
            "count": 1
           }
          ]
         }
        },
        {
         "name": 85,
         "dtype": "float64",
         "stats": {
          "unique_count": 30,
          "nan_count": 0,
          "min": "149384.0",
          "max": "1327320.0",
          "histogram": [
           {
            "bin_start": 149384,
            "bin_end": 267177.6,
            "count": 10
           },
           {
            "bin_start": 267177.6,
            "bin_end": 384971.2,
            "count": 7
           },
           {
            "bin_start": 384971.2,
            "bin_end": 502764.80000000005,
            "count": 4
           },
           {
            "bin_start": 502764.80000000005,
            "bin_end": 620558.4,
            "count": 5
           },
           {
            "bin_start": 620558.4,
            "bin_end": 738352,
            "count": 3
           },
           {
            "bin_start": 738352,
            "bin_end": 856145.6000000001,
            "count": 0
           },
           {
            "bin_start": 856145.6000000001,
            "bin_end": 973939.2000000001,
            "count": 0
           },
           {
            "bin_start": 973939.2000000001,
            "bin_end": 1091732.8,
            "count": 0
           },
           {
            "bin_start": 1091732.8,
            "bin_end": 1209526.4000000001,
            "count": 0
           },
           {
            "bin_start": 1209526.4000000001,
            "bin_end": 1327320,
            "count": 1
           }
          ]
         }
        },
        {
         "name": 86,
         "dtype": "float64",
         "stats": {
          "unique_count": 30,
          "nan_count": 0,
          "min": "154212.5",
          "max": "1328980.0",
          "histogram": [
           {
            "bin_start": 154212.5,
            "bin_end": 271689.25,
            "count": 10
           },
           {
            "bin_start": 271689.25,
            "bin_end": 389166,
            "count": 7
           },
           {
            "bin_start": 389166,
            "bin_end": 506642.75,
            "count": 4
           },
           {
            "bin_start": 506642.75,
            "bin_end": 624119.5,
            "count": 5
           },
           {
            "bin_start": 624119.5,
            "bin_end": 741596.25,
            "count": 3
           },
           {
            "bin_start": 741596.25,
            "bin_end": 859073,
            "count": 0
           },
           {
            "bin_start": 859073,
            "bin_end": 976549.75,
            "count": 0
           },
           {
            "bin_start": 976549.75,
            "bin_end": 1094026.5,
            "count": 0
           },
           {
            "bin_start": 1094026.5,
            "bin_end": 1211503.25,
            "count": 0
           },
           {
            "bin_start": 1211503.25,
            "bin_end": 1328980,
            "count": 1
           }
          ]
         }
        },
        {
         "name": 87,
         "dtype": "float64",
         "stats": {
          "unique_count": 30,
          "nan_count": 0,
          "min": "159861.5",
          "max": "1332665.0",
          "histogram": [
           {
            "bin_start": 159861.5,
            "bin_end": 277141.85,
            "count": 10
           },
           {
            "bin_start": 277141.85,
            "bin_end": 394422.2,
            "count": 7
           },
           {
            "bin_start": 394422.2,
            "bin_end": 511702.55000000005,
            "count": 4
           },
           {
            "bin_start": 511702.55000000005,
            "bin_end": 628982.9,
            "count": 5
           },
           {
            "bin_start": 628982.9,
            "bin_end": 746263.25,
            "count": 3
           },
           {
            "bin_start": 746263.25,
            "bin_end": 863543.6000000001,
            "count": 0
           },
           {
            "bin_start": 863543.6000000001,
            "bin_end": 980823.9500000001,
            "count": 0
           },
           {
            "bin_start": 980823.9500000001,
            "bin_end": 1098104.3,
            "count": 0
           },
           {
            "bin_start": 1098104.3,
            "bin_end": 1215384.6500000001,
            "count": 0
           },
           {
            "bin_start": 1215384.6500000001,
            "bin_end": 1332665,
            "count": 1
           }
          ]
         }
        },
        {
         "name": 88,
         "dtype": "float64",
         "stats": {
          "unique_count": 30,
          "nan_count": 0,
          "min": "168257.5",
          "max": "1338700.0",
          "histogram": [
           {
            "bin_start": 168257.5,
            "bin_end": 285301.75,
            "count": 10
           },
           {
            "bin_start": 285301.75,
            "bin_end": 402346,
            "count": 7
           },
           {
            "bin_start": 402346,
            "bin_end": 519390.25,
            "count": 4
           },
           {
            "bin_start": 519390.25,
            "bin_end": 636434.5,
            "count": 5
           },
           {
            "bin_start": 636434.5,
            "bin_end": 753478.75,
            "count": 3
           },
           {
            "bin_start": 753478.75,
            "bin_end": 870523,
            "count": 0
           },
           {
            "bin_start": 870523,
            "bin_end": 987567.25,
            "count": 0
           },
           {
            "bin_start": 987567.25,
            "bin_end": 1104611.5,
            "count": 0
           },
           {
            "bin_start": 1104611.5,
            "bin_end": 1221655.75,
            "count": 0
           },
           {
            "bin_start": 1221655.75,
            "bin_end": 1338700,
            "count": 1
           }
          ]
         }
        },
        {
         "name": 89,
         "dtype": "float64",
         "stats": {
          "unique_count": 30,
          "nan_count": 0,
          "min": "181066.0",
          "max": "1351625.0",
          "histogram": [
           {
            "bin_start": 181066,
            "bin_end": 298121.9,
            "count": 10
           },
           {
            "bin_start": 298121.9,
            "bin_end": 415177.8,
            "count": 7
           },
           {
            "bin_start": 415177.8,
            "bin_end": 532233.7,
            "count": 4
           },
           {
            "bin_start": 532233.7,
            "bin_end": 649289.6,
            "count": 5
           },
           {
            "bin_start": 649289.6,
            "bin_end": 766345.5,
            "count": 3
           },
           {
            "bin_start": 766345.5,
            "bin_end": 883401.3999999999,
            "count": 0
           },
           {
            "bin_start": 883401.3999999999,
            "bin_end": 1000457.2999999999,
            "count": 0
           },
           {
            "bin_start": 1000457.2999999999,
            "bin_end": 1117513.2,
            "count": 0
           },
           {
            "bin_start": 1117513.2,
            "bin_end": 1234569.0999999999,
            "count": 0
           },
           {
            "bin_start": 1234569.0999999999,
            "bin_end": 1351625,
            "count": 1
           }
          ]
         }
        },
        {
         "name": 90,
         "dtype": "float64",
         "stats": {
          "unique_count": 30,
          "nan_count": 0,
          "min": "152737.5",
          "max": "1329050.0",
          "histogram": [
           {
            "bin_start": 152737.5,
            "bin_end": 270368.75,
            "count": 10
           },
           {
            "bin_start": 270368.75,
            "bin_end": 388000,
            "count": 7
           },
           {
            "bin_start": 388000,
            "bin_end": 505631.25,
            "count": 3
           },
           {
            "bin_start": 505631.25,
            "bin_end": 623262.5,
            "count": 5
           },
           {
            "bin_start": 623262.5,
            "bin_end": 740893.75,
            "count": 4
           },
           {
            "bin_start": 740893.75,
            "bin_end": 858525,
            "count": 0
           },
           {
            "bin_start": 858525,
            "bin_end": 976156.25,
            "count": 0
           },
           {
            "bin_start": 976156.25,
            "bin_end": 1093787.5,
            "count": 0
           },
           {
            "bin_start": 1093787.5,
            "bin_end": 1211418.75,
            "count": 0
           },
           {
            "bin_start": 1211418.75,
            "bin_end": 1329050,
            "count": 1
           }
          ]
         }
        },
        {
         "name": 91,
         "dtype": "float64",
         "stats": {
          "unique_count": 30,
          "nan_count": 0,
          "min": "138872.0",
          "max": "1315825.0",
          "histogram": [
           {
            "bin_start": 138872,
            "bin_end": 256567.3,
            "count": 9
           },
           {
            "bin_start": 256567.3,
            "bin_end": 374262.6,
            "count": 8
           },
           {
            "bin_start": 374262.6,
            "bin_end": 491957.9,
            "count": 3
           },
           {
            "bin_start": 491957.9,
            "bin_end": 609653.2,
            "count": 5
           },
           {
            "bin_start": 609653.2,
            "bin_end": 727348.5,
            "count": 4
           },
           {
            "bin_start": 727348.5,
            "bin_end": 845043.8,
            "count": 0
           },
           {
            "bin_start": 845043.8,
            "bin_end": 962739.1,
            "count": 0
           },
           {
            "bin_start": 962739.1,
            "bin_end": 1080434.4,
            "count": 0
           },
           {
            "bin_start": 1080434.4,
            "bin_end": 1198129.7,
            "count": 0
           },
           {
            "bin_start": 1198129.7,
            "bin_end": 1315825,
            "count": 1
           }
          ]
         }
        },
        {
         "name": 92,
         "dtype": "float64",
         "stats": {
          "unique_count": 30,
          "nan_count": 0,
          "min": "139742.5",
          "max": "1312120.0",
          "histogram": [
           {
            "bin_start": 139742.5,
            "bin_end": 256980.25,
            "count": 10
           },
           {
            "bin_start": 256980.25,
            "bin_end": 374218,
            "count": 6
           },
           {
            "bin_start": 374218,
            "bin_end": 491455.75,
            "count": 5
           },
           {
            "bin_start": 491455.75,
            "bin_end": 608693.5,
            "count": 4
           },
           {
            "bin_start": 608693.5,
            "bin_end": 725931.25,
            "count": 4
           },
           {
            "bin_start": 725931.25,
            "bin_end": 843169,
            "count": 0
           },
           {
            "bin_start": 843169,
            "bin_end": 960406.75,
            "count": 0
           },
           {
            "bin_start": 960406.75,
            "bin_end": 1077644.5,
            "count": 0
           },
           {
            "bin_start": 1077644.5,
            "bin_end": 1194882.25,
            "count": 0
           },
           {
            "bin_start": 1194882.25,
            "bin_end": 1312120,
            "count": 1
           }
          ]
         }
        },
        {
         "name": 93,
         "dtype": "float64",
         "stats": {
          "unique_count": 30,
          "nan_count": 0,
          "min": "127840.5",
          "max": "1309200.0",
          "histogram": [
           {
            "bin_start": 127840.5,
            "bin_end": 245976.45,
            "count": 10
           },
           {
            "bin_start": 245976.45,
            "bin_end": 364112.4,
            "count": 5
           },
           {
            "bin_start": 364112.4,
            "bin_end": 482248.35,
            "count": 6
           },
           {
            "bin_start": 482248.35,
            "bin_end": 600384.3,
            "count": 4
           },
           {
            "bin_start": 600384.3,
            "bin_end": 718520.25,
            "count": 4
           },
           {
            "bin_start": 718520.25,
            "bin_end": 836656.2,
            "count": 0
           },
           {
            "bin_start": 836656.2,
            "bin_end": 954792.15,
            "count": 0
           },
           {
            "bin_start": 954792.15,
            "bin_end": 1072928.1,
            "count": 0
           },
           {
            "bin_start": 1072928.1,
            "bin_end": 1191064.05,
            "count": 0
           },
           {
            "bin_start": 1191064.05,
            "bin_end": 1309200,
            "count": 1
           }
          ]
         }
        },
        {
         "name": 94,
         "dtype": "float64",
         "stats": {
          "unique_count": 30,
          "nan_count": 0,
          "min": "124436.0",
          "max": "1311590.0",
          "histogram": [
           {
            "bin_start": 124436,
            "bin_end": 243151.4,
            "count": 10
           },
           {
            "bin_start": 243151.4,
            "bin_end": 361866.8,
            "count": 5
           },
           {
            "bin_start": 361866.8,
            "bin_end": 480582.19999999995,
            "count": 6
           },
           {
            "bin_start": 480582.19999999995,
            "bin_end": 599297.6,
            "count": 4
           },
           {
            "bin_start": 599297.6,
            "bin_end": 718013,
            "count": 4
           },
           {
            "bin_start": 718013,
            "bin_end": 836728.3999999999,
            "count": 0
           },
           {
            "bin_start": 836728.3999999999,
            "bin_end": 955443.7999999999,
            "count": 0
           },
           {
            "bin_start": 955443.7999999999,
            "bin_end": 1074159.2,
            "count": 0
           },
           {
            "bin_start": 1074159.2,
            "bin_end": 1192874.5999999999,
            "count": 0
           },
           {
            "bin_start": 1192874.5999999999,
            "bin_end": 1311590,
            "count": 1
           }
          ]
         }
        },
        {
         "name": 95,
         "dtype": "float64",
         "stats": {
          "unique_count": 30,
          "nan_count": 0,
          "min": "120340.0",
          "max": "1313335.0",
          "histogram": [
           {
            "bin_start": 120340,
            "bin_end": 239639.5,
            "count": 10
           },
           {
            "bin_start": 239639.5,
            "bin_end": 358939,
            "count": 5
           },
           {
            "bin_start": 358939,
            "bin_end": 478238.5,
            "count": 6
           },
           {
            "bin_start": 478238.5,
            "bin_end": 597538,
            "count": 4
           },
           {
            "bin_start": 597538,
            "bin_end": 716837.5,
            "count": 4
           },
           {
            "bin_start": 716837.5,
            "bin_end": 836137,
            "count": 0
           },
           {
            "bin_start": 836137,
            "bin_end": 955436.5,
            "count": 0
           },
           {
            "bin_start": 955436.5,
            "bin_end": 1074736,
            "count": 0
           },
           {
            "bin_start": 1074736,
            "bin_end": 1194035.5,
            "count": 0
           },
           {
            "bin_start": 1194035.5,
            "bin_end": 1313335,
            "count": 1
           }
          ]
         }
        },
        {
         "name": 96,
         "dtype": "float64",
         "stats": {
          "unique_count": 30,
          "nan_count": 0,
          "min": "128934.5",
          "max": "1318160.0",
          "histogram": [
           {
            "bin_start": 128934.5,
            "bin_end": 247857.05,
            "count": 10
           },
           {
            "bin_start": 247857.05,
            "bin_end": 366779.6,
            "count": 6
           },
           {
            "bin_start": 366779.6,
            "bin_end": 485702.15,
            "count": 5
           },
           {
            "bin_start": 485702.15,
            "bin_end": 604624.7,
            "count": 4
           },
           {
            "bin_start": 604624.7,
            "bin_end": 723547.25,
            "count": 4
           },
           {
            "bin_start": 723547.25,
            "bin_end": 842469.8,
            "count": 0
           },
           {
            "bin_start": 842469.8,
            "bin_end": 961392.35,
            "count": 0
           },
           {
            "bin_start": 961392.35,
            "bin_end": 1080314.9,
            "count": 0
           },
           {
            "bin_start": 1080314.9,
            "bin_end": 1199237.45,
            "count": 0
           },
           {
            "bin_start": 1199237.45,
            "bin_end": 1318160,
            "count": 1
           }
          ]
         }
        },
        {
         "name": 97,
         "dtype": "float64",
         "stats": {
          "unique_count": 30,
          "nan_count": 0,
          "min": "125803.5",
          "max": "1321505.0",
          "histogram": [
           {
            "bin_start": 125803.5,
            "bin_end": 245373.65,
            "count": 9
           },
           {
            "bin_start": 245373.65,
            "bin_end": 364943.8,
            "count": 6
           },
           {
            "bin_start": 364943.8,
            "bin_end": 484513.94999999995,
            "count": 6
           },
           {
            "bin_start": 484513.94999999995,
            "bin_end": 604084.1,
            "count": 4
           },
           {
            "bin_start": 604084.1,
            "bin_end": 723654.25,
            "count": 4
           },
           {
            "bin_start": 723654.25,
            "bin_end": 843224.3999999999,
            "count": 0
           },
           {
            "bin_start": 843224.3999999999,
            "bin_end": 962794.5499999999,
            "count": 0
           },
           {
            "bin_start": 962794.5499999999,
            "bin_end": 1082364.7,
            "count": 0
           },
           {
            "bin_start": 1082364.7,
            "bin_end": 1201934.8499999999,
            "count": 0
           },
           {
            "bin_start": 1201934.8499999999,
            "bin_end": 1321505,
            "count": 1
           }
          ]
         }
        },
        {
         "name": 98,
         "dtype": "float64",
         "stats": {
          "unique_count": 30,
          "nan_count": 0,
          "min": "135892.5",
          "max": "1322625.0",
          "histogram": [
           {
            "bin_start": 135892.5,
            "bin_end": 254565.75,
            "count": 10
           },
           {
            "bin_start": 254565.75,
            "bin_end": 373239,
            "count": 6
           },
           {
            "bin_start": 373239,
            "bin_end": 491912.25,
            "count": 5
           },
           {
            "bin_start": 491912.25,
            "bin_end": 610585.5,
            "count": 5
           },
           {
            "bin_start": 610585.5,
            "bin_end": 729258.75,
            "count": 3
           },
           {
            "bin_start": 729258.75,
            "bin_end": 847932,
            "count": 0
           },
           {
            "bin_start": 847932,
            "bin_end": 966605.25,
            "count": 0
           },
           {
            "bin_start": 966605.25,
            "bin_end": 1085278.5,
            "count": 0
           },
           {
            "bin_start": 1085278.5,
            "bin_end": 1203951.75,
            "count": 0
           },
           {
            "bin_start": 1203951.75,
            "bin_end": 1322625,
            "count": 1
           }
          ]
         }
        },
        {
         "name": 99,
         "dtype": "float64",
         "stats": {
          "unique_count": 30,
          "nan_count": 0,
          "min": "141527.5",
          "max": "1324755.0",
          "histogram": [
           {
            "bin_start": 141527.5,
            "bin_end": 259850.25,
            "count": 10
           },
           {
            "bin_start": 259850.25,
            "bin_end": 378173,
            "count": 5
           },
           {
            "bin_start": 378173,
            "bin_end": 496495.75,
            "count": 6
           },
           {
            "bin_start": 496495.75,
            "bin_end": 614818.5,
            "count": 5
           },
           {
            "bin_start": 614818.5,
            "bin_end": 733141.25,
            "count": 3
           },
           {
            "bin_start": 733141.25,
            "bin_end": 851464,
            "count": 0
           },
           {
            "bin_start": 851464,
            "bin_end": 969786.75,
            "count": 0
           },
           {
            "bin_start": 969786.75,
            "bin_end": 1088109.5,
            "count": 0
           },
           {
            "bin_start": 1088109.5,
            "bin_end": 1206432.25,
            "count": 0
           },
           {
            "bin_start": 1206432.25,
            "bin_end": 1324755,
            "count": 1
           }
          ]
         }
        },
        {
         "name": 100,
         "dtype": "float64",
         "stats": {
          "unique_count": 30,
          "nan_count": 0,
          "min": "147096.0",
          "max": "1328360.0",
          "histogram": [
           {
            "bin_start": 147096,
            "bin_end": 265222.4,
            "count": 10
           },
           {
            "bin_start": 265222.4,
            "bin_end": 383348.8,
            "count": 7
           },
           {
            "bin_start": 383348.8,
            "bin_end": 501475.19999999995,
            "count": 4
           },
           {
            "bin_start": 501475.19999999995,
            "bin_end": 619601.6,
            "count": 5
           },
           {
            "bin_start": 619601.6,
            "bin_end": 737728,
            "count": 3
           },
           {
            "bin_start": 737728,
            "bin_end": 855854.3999999999,
            "count": 0
           },
           {
            "bin_start": 855854.3999999999,
            "bin_end": 973980.7999999999,
            "count": 0
           },
           {
            "bin_start": 973980.7999999999,
            "bin_end": 1092107.2,
            "count": 0
           },
           {
            "bin_start": 1092107.2,
            "bin_end": 1210233.5999999999,
            "count": 0
           },
           {
            "bin_start": 1210233.5999999999,
            "bin_end": 1328360,
            "count": 1
           }
          ]
         }
        },
        {
         "name": 101,
         "dtype": "float64",
         "stats": {
          "unique_count": 30,
          "nan_count": 0,
          "min": "148617.5",
          "max": "1326775.0",
          "histogram": [
           {
            "bin_start": 148617.5,
            "bin_end": 266433.25,
            "count": 10
           },
           {
            "bin_start": 266433.25,
            "bin_end": 384249,
            "count": 7
           },
           {
            "bin_start": 384249,
            "bin_end": 502064.75,
            "count": 4
           },
           {
            "bin_start": 502064.75,
            "bin_end": 619880.5,
            "count": 5
           },
           {
            "bin_start": 619880.5,
            "bin_end": 737696.25,
            "count": 3
           },
           {
            "bin_start": 737696.25,
            "bin_end": 855512,
            "count": 0
           },
           {
            "bin_start": 855512,
            "bin_end": 973327.75,
            "count": 0
           },
           {
            "bin_start": 973327.75,
            "bin_end": 1091143.5,
            "count": 0
           },
           {
            "bin_start": 1091143.5,
            "bin_end": 1208959.25,
            "count": 0
           },
           {
            "bin_start": 1208959.25,
            "bin_end": 1326775,
            "count": 1
           }
          ]
         }
        },
        {
         "name": 102,
         "dtype": "float64",
         "stats": {
          "unique_count": 30,
          "nan_count": 0,
          "min": "153485.0",
          "max": "1339685.0",
          "histogram": [
           {
            "bin_start": 153485,
            "bin_end": 272105,
            "count": 10
           },
           {
            "bin_start": 272105,
            "bin_end": 390725,
            "count": 6
           },
           {
            "bin_start": 390725,
            "bin_end": 509345,
            "count": 5
           },
           {
            "bin_start": 509345,
            "bin_end": 627965,
            "count": 5
           },
           {
            "bin_start": 627965,
            "bin_end": 746585,
            "count": 3
           },
           {
            "bin_start": 746585,
            "bin_end": 865205,
            "count": 0
           },
           {
            "bin_start": 865205,
            "bin_end": 983825,
            "count": 0
           },
           {
            "bin_start": 983825,
            "bin_end": 1102445,
            "count": 0
           },
           {
            "bin_start": 1102445,
            "bin_end": 1221065,
            "count": 0
           },
           {
            "bin_start": 1221065,
            "bin_end": 1339685,
            "count": 1
           }
          ]
         }
        },
        {
         "name": 103,
         "dtype": "float64",
         "stats": {
          "unique_count": 30,
          "nan_count": 0,
          "min": "156252.5",
          "max": "1331410.0",
          "histogram": [
           {
            "bin_start": 156252.5,
            "bin_end": 273768.25,
            "count": 10
           },
           {
            "bin_start": 273768.25,
            "bin_end": 391284,
            "count": 6
           },
           {
            "bin_start": 391284,
            "bin_end": 508799.75,
            "count": 5
           },
           {
            "bin_start": 508799.75,
            "bin_end": 626315.5,
            "count": 5
           },
           {
            "bin_start": 626315.5,
            "bin_end": 743831.25,
            "count": 3
           },
           {
            "bin_start": 743831.25,
            "bin_end": 861347,
            "count": 0
           },
           {
            "bin_start": 861347,
            "bin_end": 978862.75,
            "count": 0
           },
           {
            "bin_start": 978862.75,
            "bin_end": 1096378.5,
            "count": 0
           },
           {
            "bin_start": 1096378.5,
            "bin_end": 1213894.25,
            "count": 0
           },
           {
            "bin_start": 1213894.25,
            "bin_end": 1331410,
            "count": 1
           }
          ]
         }
        },
        {
         "name": 104,
         "dtype": "float64",
         "stats": {
          "unique_count": 30,
          "nan_count": 0,
          "min": "156767.0",
          "max": "1333595.0",
          "histogram": [
           {
            "bin_start": 156767,
            "bin_end": 274449.8,
            "count": 10
           },
           {
            "bin_start": 274449.8,
            "bin_end": 392132.6,
            "count": 7
           },
           {
            "bin_start": 392132.6,
            "bin_end": 509815.4,
            "count": 4
           },
           {
            "bin_start": 509815.4,
            "bin_end": 627498.2,
            "count": 5
           },
           {
            "bin_start": 627498.2,
            "bin_end": 745181,
            "count": 3
           },
           {
            "bin_start": 745181,
            "bin_end": 862863.8,
            "count": 0
           },
           {
            "bin_start": 862863.8,
            "bin_end": 980546.6,
            "count": 0
           },
           {
            "bin_start": 980546.6,
            "bin_end": 1098229.4,
            "count": 0
           },
           {
            "bin_start": 1098229.4,
            "bin_end": 1215912.2,
            "count": 0
           },
           {
            "bin_start": 1215912.2,
            "bin_end": 1333595,
            "count": 1
           }
          ]
         }
        },
        {
         "name": 105,
         "dtype": "float64",
         "stats": {
          "unique_count": 30,
          "nan_count": 0,
          "min": "162429.5",
          "max": "1337415.0",
          "histogram": [
           {
            "bin_start": 162429.5,
            "bin_end": 279928.05,
            "count": 10
           },
           {
            "bin_start": 279928.05,
            "bin_end": 397426.6,
            "count": 6
           },
           {
            "bin_start": 397426.6,
            "bin_end": 514925.15,
            "count": 5
           },
           {
            "bin_start": 514925.15,
            "bin_end": 632423.7,
            "count": 5
           },
           {
            "bin_start": 632423.7,
            "bin_end": 749922.25,
            "count": 3
           },
           {
            "bin_start": 749922.25,
            "bin_end": 867420.8,
            "count": 0
           },
           {
            "bin_start": 867420.8,
            "bin_end": 984919.35,
            "count": 0
           },
           {
            "bin_start": 984919.35,
            "bin_end": 1102417.9,
            "count": 0
           },
           {
            "bin_start": 1102417.9,
            "bin_end": 1219916.45,
            "count": 0
           },
           {
            "bin_start": 1219916.45,
            "bin_end": 1337415,
            "count": 1
           }
          ]
         }
        },
        {
         "name": 106,
         "dtype": "float64",
         "stats": {
          "unique_count": 30,
          "nan_count": 0,
          "min": "169641.5",
          "max": "1344965.0",
          "histogram": [
           {
            "bin_start": 169641.5,
            "bin_end": 287173.85,
            "count": 10
           },
           {
            "bin_start": 287173.85,
            "bin_end": 404706.2,
            "count": 6
           },
           {
            "bin_start": 404706.2,
            "bin_end": 522238.55000000005,
            "count": 5
           },
           {
            "bin_start": 522238.55000000005,
            "bin_end": 639770.9,
            "count": 5
           },
           {
            "bin_start": 639770.9,
            "bin_end": 757303.25,
            "count": 3
           },
           {
            "bin_start": 757303.25,
            "bin_end": 874835.6000000001,
            "count": 0
           },
           {
            "bin_start": 874835.6000000001,
            "bin_end": 992367.9500000001,
            "count": 0
           },
           {
            "bin_start": 992367.9500000001,
            "bin_end": 1109900.3,
            "count": 0
           },
           {
            "bin_start": 1109900.3,
            "bin_end": 1227432.6500000001,
            "count": 0
           },
           {
            "bin_start": 1227432.6500000001,
            "bin_end": 1344965,
            "count": 1
           }
          ]
         }
        },
        {
         "name": 107,
         "dtype": "float64",
         "stats": {
          "unique_count": 30,
          "nan_count": 0,
          "min": "181465.0",
          "max": "1348330.0",
          "histogram": [
           {
            "bin_start": 181465,
            "bin_end": 298151.5,
            "count": 10
           },
           {
            "bin_start": 298151.5,
            "bin_end": 414838,
            "count": 6
           },
           {
            "bin_start": 414838,
            "bin_end": 531524.5,
            "count": 5
           },
           {
            "bin_start": 531524.5,
            "bin_end": 648211,
            "count": 5
           },
           {
            "bin_start": 648211,
            "bin_end": 764897.5,
            "count": 3
           },
           {
            "bin_start": 764897.5,
            "bin_end": 881584,
            "count": 0
           },
           {
            "bin_start": 881584,
            "bin_end": 998270.5,
            "count": 0
           },
           {
            "bin_start": 998270.5,
            "bin_end": 1114957,
            "count": 0
           },
           {
            "bin_start": 1114957,
            "bin_end": 1231643.5,
            "count": 0
           },
           {
            "bin_start": 1231643.5,
            "bin_end": 1348330,
            "count": 1
           }
          ]
         }
        },
        {
         "name": 108,
         "dtype": "float64",
         "stats": {
          "unique_count": 30,
          "nan_count": 0,
          "min": "168882.5",
          "max": "1334030.0",
          "histogram": [
           {
            "bin_start": 168882.5,
            "bin_end": 285397.25,
            "count": 10
           },
           {
            "bin_start": 285397.25,
            "bin_end": 401912,
            "count": 6
           },
           {
            "bin_start": 401912,
            "bin_end": 518426.75,
            "count": 4
           },
           {
            "bin_start": 518426.75,
            "bin_end": 634941.5,
            "count": 5
           },
           {
            "bin_start": 634941.5,
            "bin_end": 751456.25,
            "count": 4
           },
           {
            "bin_start": 751456.25,
            "bin_end": 867971,
            "count": 0
           },
           {
            "bin_start": 867971,
            "bin_end": 984485.75,
            "count": 0
           },
           {
            "bin_start": 984485.75,
            "bin_end": 1101000.5,
            "count": 0
           },
           {
            "bin_start": 1101000.5,
            "bin_end": 1217515.25,
            "count": 0
           },
           {
            "bin_start": 1217515.25,
            "bin_end": 1334030,
            "count": 1
           }
          ]
         }
        },
        {
         "name": 109,
         "dtype": "float64",
         "stats": {
          "unique_count": 30,
          "nan_count": 0,
          "min": "154095.0",
          "max": "1327255.0",
          "histogram": [
           {
            "bin_start": 154095,
            "bin_end": 271411,
            "count": 10
           },
           {
            "bin_start": 271411,
            "bin_end": 388727,
            "count": 6
           },
           {
            "bin_start": 388727,
            "bin_end": 506043,
            "count": 4
           },
           {
            "bin_start": 506043,
            "bin_end": 623359,
            "count": 5
           },
           {
            "bin_start": 623359,
            "bin_end": 740675,
            "count": 4
           },
           {
            "bin_start": 740675,
            "bin_end": 857991,
            "count": 0
           },
           {
            "bin_start": 857991,
            "bin_end": 975307,
            "count": 0
           },
           {
            "bin_start": 975307,
            "bin_end": 1092623,
            "count": 0
           },
           {
            "bin_start": 1092623,
            "bin_end": 1209939,
            "count": 0
           },
           {
            "bin_start": 1209939,
            "bin_end": 1327255,
            "count": 1
           }
          ]
         }
        },
        {
         "name": 110,
         "dtype": "float64",
         "stats": {
          "unique_count": 30,
          "nan_count": 0,
          "min": "147901.5",
          "max": "1325200.0",
          "histogram": [
           {
            "bin_start": 147901.5,
            "bin_end": 265631.35,
            "count": 10
           },
           {
            "bin_start": 265631.35,
            "bin_end": 383361.2,
            "count": 6
           },
           {
            "bin_start": 383361.2,
            "bin_end": 501091.05000000005,
            "count": 5
           },
           {
            "bin_start": 501091.05000000005,
            "bin_end": 618820.9,
            "count": 4
           },
           {
            "bin_start": 618820.9,
            "bin_end": 736550.75,
            "count": 4
           },
           {
            "bin_start": 736550.75,
            "bin_end": 854280.6000000001,
            "count": 0
           },
           {
            "bin_start": 854280.6000000001,
            "bin_end": 972010.4500000001,
            "count": 0
           },
           {
            "bin_start": 972010.4500000001,
            "bin_end": 1089740.3,
            "count": 0
           },
           {
            "bin_start": 1089740.3,
            "bin_end": 1207470.1500000001,
            "count": 0
           },
           {
            "bin_start": 1207470.1500000001,
            "bin_end": 1325200,
            "count": 1
           }
          ]
         }
        },
        {
         "name": 111,
         "dtype": "float64",
         "stats": {
          "unique_count": 30,
          "nan_count": 0,
          "min": "137827.0",
          "max": "1321620.0",
          "histogram": [
           {
            "bin_start": 137827,
            "bin_end": 256206.3,
            "count": 10
           },
           {
            "bin_start": 256206.3,
            "bin_end": 374585.6,
            "count": 5
           },
           {
            "bin_start": 374585.6,
            "bin_end": 492964.9,
            "count": 6
           },
           {
            "bin_start": 492964.9,
            "bin_end": 611344.2,
            "count": 4
           },
           {
            "bin_start": 611344.2,
            "bin_end": 729723.5,
            "count": 4
           },
           {
            "bin_start": 729723.5,
            "bin_end": 848102.8,
            "count": 0
           },
           {
            "bin_start": 848102.8,
            "bin_end": 966482.1,
            "count": 0
           },
           {
            "bin_start": 966482.1,
            "bin_end": 1084861.4,
            "count": 0
           },
           {
            "bin_start": 1084861.4,
            "bin_end": 1203240.7,
            "count": 0
           },
           {
            "bin_start": 1203240.7,
            "bin_end": 1321620,
            "count": 1
           }
          ]
         }
        },
        {
         "name": 112,
         "dtype": "float64",
         "stats": {
          "unique_count": 30,
          "nan_count": 0,
          "min": "136552.5",
          "max": "1324170.0",
          "histogram": [
           {
            "bin_start": 136552.5,
            "bin_end": 255314.25,
            "count": 10
           },
           {
            "bin_start": 255314.25,
            "bin_end": 374076,
            "count": 5
           },
           {
            "bin_start": 374076,
            "bin_end": 492837.75,
            "count": 6
           },
           {
            "bin_start": 492837.75,
            "bin_end": 611599.5,
            "count": 4
           },
           {
            "bin_start": 611599.5,
            "bin_end": 730361.25,
            "count": 4
           },
           {
            "bin_start": 730361.25,
            "bin_end": 849123,
            "count": 0
           },
           {
            "bin_start": 849123,
            "bin_end": 967884.75,
            "count": 0
           },
           {
            "bin_start": 967884.75,
            "bin_end": 1086646.5,
            "count": 0
           },
           {
            "bin_start": 1086646.5,
            "bin_end": 1205408.25,
            "count": 0
           },
           {
            "bin_start": 1205408.25,
            "bin_end": 1324170,
            "count": 1
           }
          ]
         }
        },
        {
         "name": 113,
         "dtype": "float64",
         "stats": {
          "unique_count": 30,
          "nan_count": 0,
          "min": "134331.5",
          "max": "1322835.0",
          "histogram": [
           {
            "bin_start": 134331.5,
            "bin_end": 253181.85,
            "count": 10
           },
           {
            "bin_start": 253181.85,
            "bin_end": 372032.2,
            "count": 6
           },
           {
            "bin_start": 372032.2,
            "bin_end": 490882.55000000005,
            "count": 5
           },
           {
            "bin_start": 490882.55000000005,
            "bin_end": 609732.9,
            "count": 4
           },
           {
            "bin_start": 609732.9,
            "bin_end": 728583.25,
            "count": 4
           },
           {
            "bin_start": 728583.25,
            "bin_end": 847433.6000000001,
            "count": 0
           },
           {
            "bin_start": 847433.6000000001,
            "bin_end": 966283.9500000001,
            "count": 0
           },
           {
            "bin_start": 966283.9500000001,
            "bin_end": 1085134.3,
            "count": 0
           },
           {
            "bin_start": 1085134.3,
            "bin_end": 1203984.6500000001,
            "count": 0
           },
           {
            "bin_start": 1203984.6500000001,
            "bin_end": 1322835,
            "count": 1
           }
          ]
         }
        },
        {
         "name": 114,
         "dtype": "float64",
         "stats": {
          "unique_count": 30,
          "nan_count": 0,
          "min": "140502.0",
          "max": "1324275.0",
          "histogram": [
           {
            "bin_start": 140502,
            "bin_end": 258879.3,
            "count": 10
           },
           {
            "bin_start": 258879.3,
            "bin_end": 377256.6,
            "count": 6
           },
           {
            "bin_start": 377256.6,
            "bin_end": 495633.9,
            "count": 5
           },
           {
            "bin_start": 495633.9,
            "bin_end": 614011.2,
            "count": 4
           },
           {
            "bin_start": 614011.2,
            "bin_end": 732388.5,
            "count": 4
           },
           {
            "bin_start": 732388.5,
            "bin_end": 850765.8,
            "count": 0
           },
           {
            "bin_start": 850765.8,
            "bin_end": 969143.1,
            "count": 0
           },
           {
            "bin_start": 969143.1,
            "bin_end": 1087520.4,
            "count": 0
           },
           {
            "bin_start": 1087520.4,
            "bin_end": 1205897.7,
            "count": 0
           },
           {
            "bin_start": 1205897.7,
            "bin_end": 1324275,
            "count": 1
           }
          ]
         }
        },
        {
         "name": 115,
         "dtype": "float64",
         "stats": {
          "unique_count": 30,
          "nan_count": 0,
          "min": "140455.0",
          "max": "1324960.0",
          "histogram": [
           {
            "bin_start": 140455,
            "bin_end": 258905.5,
            "count": 10
           },
           {
            "bin_start": 258905.5,
            "bin_end": 377356,
            "count": 6
           },
           {
            "bin_start": 377356,
            "bin_end": 495806.5,
            "count": 5
           },
           {
            "bin_start": 495806.5,
            "bin_end": 614257,
            "count": 4
           },
           {
            "bin_start": 614257,
            "bin_end": 732707.5,
            "count": 4
           },
           {
            "bin_start": 732707.5,
            "bin_end": 851158,
            "count": 0
           },
           {
            "bin_start": 851158,
            "bin_end": 969608.5,
            "count": 0
           },
           {
            "bin_start": 969608.5,
            "bin_end": 1088059,
            "count": 0
           },
           {
            "bin_start": 1088059,
            "bin_end": 1206509.5,
            "count": 0
           },
           {
            "bin_start": 1206509.5,
            "bin_end": 1324960,
            "count": 1
           }
          ]
         }
        },
        {
         "name": 116,
         "dtype": "float64",
         "stats": {
          "unique_count": 30,
          "nan_count": 0,
          "min": "147820.5",
          "max": "1327765.0",
          "histogram": [
           {
            "bin_start": 147820.5,
            "bin_end": 265814.95,
            "count": 10
           },
           {
            "bin_start": 265814.95,
            "bin_end": 383809.4,
            "count": 6
           },
           {
            "bin_start": 383809.4,
            "bin_end": 501803.85,
            "count": 5
           },
           {
            "bin_start": 501803.85,
            "bin_end": 619798.3,
            "count": 5
           },
           {
            "bin_start": 619798.3,
            "bin_end": 737792.75,
            "count": 3
           },
           {
            "bin_start": 737792.75,
            "bin_end": 855787.2,
            "count": 0
           },
           {
            "bin_start": 855787.2,
            "bin_end": 973781.65,
            "count": 0
           },
           {
            "bin_start": 973781.65,
            "bin_end": 1091776.1,
            "count": 0
           },
           {
            "bin_start": 1091776.1,
            "bin_end": 1209770.55,
            "count": 0
           },
           {
            "bin_start": 1209770.55,
            "bin_end": 1327765,
            "count": 1
           }
          ]
         }
        },
        {
         "name": 117,
         "dtype": "float64",
         "stats": {
          "unique_count": 30,
          "nan_count": 0,
          "min": "151548.5",
          "max": "1326100.0",
          "histogram": [
           {
            "bin_start": 151548.5,
            "bin_end": 269003.65,
            "count": 10
           },
           {
            "bin_start": 269003.65,
            "bin_end": 386458.8,
            "count": 6
           },
           {
            "bin_start": 386458.8,
            "bin_end": 503913.94999999995,
            "count": 5
           },
           {
            "bin_start": 503913.94999999995,
            "bin_end": 621369.1,
            "count": 5
           },
           {
            "bin_start": 621369.1,
            "bin_end": 738824.25,
            "count": 3
           },
           {
            "bin_start": 738824.25,
            "bin_end": 856279.3999999999,
            "count": 0
           },
           {
            "bin_start": 856279.3999999999,
            "bin_end": 973734.5499999999,
            "count": 0
           },
           {
            "bin_start": 973734.5499999999,
            "bin_end": 1091189.7,
            "count": 0
           },
           {
            "bin_start": 1091189.7,
            "bin_end": 1208644.8499999999,
            "count": 0
           },
           {
            "bin_start": 1208644.8499999999,
            "bin_end": 1326100,
            "count": 1
           }
          ]
         }
        },
        {
         "name": 118,
         "dtype": "float64",
         "stats": {
          "unique_count": 30,
          "nan_count": 0,
          "min": "158197.0",
          "max": "1333300.0",
          "histogram": [
           {
            "bin_start": 158197,
            "bin_end": 275707.3,
            "count": 10
           },
           {
            "bin_start": 275707.3,
            "bin_end": 393217.6,
            "count": 7
           },
           {
            "bin_start": 393217.6,
            "bin_end": 510727.9,
            "count": 4
           },
           {
            "bin_start": 510727.9,
            "bin_end": 628238.2,
            "count": 5
           },
           {
            "bin_start": 628238.2,
            "bin_end": 745748.5,
            "count": 3
           },
           {
            "bin_start": 745748.5,
            "bin_end": 863258.8,
            "count": 0
           },
           {
            "bin_start": 863258.8,
            "bin_end": 980769.1,
            "count": 0
           },
           {
            "bin_start": 980769.1,
            "bin_end": 1098279.4,
            "count": 0
           },
           {
            "bin_start": 1098279.4,
            "bin_end": 1215789.7,
            "count": 0
           },
           {
            "bin_start": 1215789.7,
            "bin_end": 1333300,
            "count": 1
           }
          ]
         }
        },
        {
         "name": 119,
         "dtype": "float64",
         "stats": {
          "unique_count": 30,
          "nan_count": 0,
          "min": "156279.0",
          "max": "1332435.0",
          "histogram": [
           {
            "bin_start": 156279,
            "bin_end": 273894.6,
            "count": 10
           },
           {
            "bin_start": 273894.6,
            "bin_end": 391510.2,
            "count": 7
           },
           {
            "bin_start": 391510.2,
            "bin_end": 509125.80000000005,
            "count": 4
           },
           {
            "bin_start": 509125.80000000005,
            "bin_end": 626741.4,
            "count": 5
           },
           {
            "bin_start": 626741.4,
            "bin_end": 744357,
            "count": 3
           },
           {
            "bin_start": 744357,
            "bin_end": 861972.6000000001,
            "count": 0
           },
           {
            "bin_start": 861972.6000000001,
            "bin_end": 979588.2000000001,
            "count": 0
           },
           {
            "bin_start": 979588.2000000001,
            "bin_end": 1097203.8,
            "count": 0
           },
           {
            "bin_start": 1097203.8,
            "bin_end": 1214819.4000000001,
            "count": 0
           },
           {
            "bin_start": 1214819.4000000001,
            "bin_end": 1332435,
            "count": 1
           }
          ]
         }
        },
        {
         "name": 120,
         "dtype": "float64",
         "stats": {
          "unique_count": 30,
          "nan_count": 0,
          "min": "158089.0",
          "max": "1334950.0",
          "histogram": [
           {
            "bin_start": 158089,
            "bin_end": 275775.1,
            "count": 10
           },
           {
            "bin_start": 275775.1,
            "bin_end": 393461.2,
            "count": 7
           },
           {
            "bin_start": 393461.2,
            "bin_end": 511147.30000000005,
            "count": 4
           },
           {
            "bin_start": 511147.30000000005,
            "bin_end": 628833.4,
            "count": 5
           },
           {
            "bin_start": 628833.4,
            "bin_end": 746519.5,
            "count": 3
           },
           {
            "bin_start": 746519.5,
            "bin_end": 864205.6000000001,
            "count": 0
           },
           {
            "bin_start": 864205.6000000001,
            "bin_end": 981891.7000000001,
            "count": 0
           },
           {
            "bin_start": 981891.7000000001,
            "bin_end": 1099577.8,
            "count": 0
           },
           {
            "bin_start": 1099577.8,
            "bin_end": 1217263.9000000001,
            "count": 0
           },
           {
            "bin_start": 1217263.9000000001,
            "bin_end": 1334950,
            "count": 1
           }
          ]
         }
        },
        {
         "name": 121,
         "dtype": "float64",
         "stats": {
          "unique_count": 30,
          "nan_count": 0,
          "min": "161389.0",
          "max": "1335340.0",
          "histogram": [
           {
            "bin_start": 161389,
            "bin_end": 278784.1,
            "count": 10
           },
           {
            "bin_start": 278784.1,
            "bin_end": 396179.2,
            "count": 7
           },
           {
            "bin_start": 396179.2,
            "bin_end": 513574.30000000005,
            "count": 4
           },
           {
            "bin_start": 513574.30000000005,
            "bin_end": 630969.4,
            "count": 5
           },
           {
            "bin_start": 630969.4,
            "bin_end": 748364.5,
            "count": 3
           },
           {
            "bin_start": 748364.5,
            "bin_end": 865759.6000000001,
            "count": 0
           },
           {
            "bin_start": 865759.6000000001,
            "bin_end": 983154.7000000001,
            "count": 0
           },
           {
            "bin_start": 983154.7000000001,
            "bin_end": 1100549.8,
            "count": 0
           },
           {
            "bin_start": 1100549.8,
            "bin_end": 1217944.9000000001,
            "count": 0
           },
           {
            "bin_start": 1217944.9000000001,
            "bin_end": 1335340,
            "count": 1
           }
          ]
         }
        },
        {
         "name": 122,
         "dtype": "float64",
         "stats": {
          "unique_count": 30,
          "nan_count": 0,
          "min": "162057.5",
          "max": "1340140.0",
          "histogram": [
           {
            "bin_start": 162057.5,
            "bin_end": 279865.75,
            "count": 10
           },
           {
            "bin_start": 279865.75,
            "bin_end": 397674,
            "count": 7
           },
           {
            "bin_start": 397674,
            "bin_end": 515482.25,
            "count": 4
           },
           {
            "bin_start": 515482.25,
            "bin_end": 633290.5,
            "count": 5
           },
           {
            "bin_start": 633290.5,
            "bin_end": 751098.75,
            "count": 3
           },
           {
            "bin_start": 751098.75,
            "bin_end": 868907,
            "count": 0
           },
           {
            "bin_start": 868907,
            "bin_end": 986715.25,
            "count": 0
           },
           {
            "bin_start": 986715.25,
            "bin_end": 1104523.5,
            "count": 0
           },
           {
            "bin_start": 1104523.5,
            "bin_end": 1222331.75,
            "count": 0
           },
           {
            "bin_start": 1222331.75,
            "bin_end": 1340140,
            "count": 1
           }
          ]
         }
        },
        {
         "name": 123,
         "dtype": "float64",
         "stats": {
          "unique_count": 30,
          "nan_count": 0,
          "min": "165676.5",
          "max": "1340210.0",
          "histogram": [
           {
            "bin_start": 165676.5,
            "bin_end": 283129.85,
            "count": 10
           },
           {
            "bin_start": 283129.85,
            "bin_end": 400583.2,
            "count": 7
           },
           {
            "bin_start": 400583.2,
            "bin_end": 518036.55000000005,
            "count": 4
           },
           {
            "bin_start": 518036.55000000005,
            "bin_end": 635489.9,
            "count": 5
           },
           {
            "bin_start": 635489.9,
            "bin_end": 752943.25,
            "count": 3
           },
           {
            "bin_start": 752943.25,
            "bin_end": 870396.6000000001,
            "count": 0
           },
           {
            "bin_start": 870396.6000000001,
            "bin_end": 987849.9500000001,
            "count": 0
           },
           {
            "bin_start": 987849.9500000001,
            "bin_end": 1105303.3,
            "count": 0
           },
           {
            "bin_start": 1105303.3,
            "bin_end": 1222756.6500000001,
            "count": 0
           },
           {
            "bin_start": 1222756.6500000001,
            "bin_end": 1340210,
            "count": 1
           }
          ]
         }
        },
        {
         "name": 124,
         "dtype": "float64",
         "stats": {
          "unique_count": 30,
          "nan_count": 0,
          "min": "175940.0",
          "max": "1346090.0",
          "histogram": [
           {
            "bin_start": 175940,
            "bin_end": 292955,
            "count": 10
           },
           {
            "bin_start": 292955,
            "bin_end": 409970,
            "count": 6
           },
           {
            "bin_start": 409970,
            "bin_end": 526985,
            "count": 5
           },
           {
            "bin_start": 526985,
            "bin_end": 644000,
            "count": 5
           },
           {
            "bin_start": 644000,
            "bin_end": 761015,
            "count": 3
           },
           {
            "bin_start": 761015,
            "bin_end": 878030,
            "count": 0
           },
           {
            "bin_start": 878030,
            "bin_end": 995045,
            "count": 0
           },
           {
            "bin_start": 995045,
            "bin_end": 1112060,
            "count": 0
           },
           {
            "bin_start": 1112060,
            "bin_end": 1229075,
            "count": 0
           },
           {
            "bin_start": 1229075,
            "bin_end": 1346090,
            "count": 1
           }
          ]
         }
        },
        {
         "name": 125,
         "dtype": "float64",
         "stats": {
          "unique_count": 30,
          "nan_count": 0,
          "min": "188101.5",
          "max": "1353400.0",
          "histogram": [
           {
            "bin_start": 188101.5,
            "bin_end": 304631.35,
            "count": 10
           },
           {
            "bin_start": 304631.35,
            "bin_end": 421161.2,
            "count": 4
           },
           {
            "bin_start": 421161.2,
            "bin_end": 537691.05,
            "count": 7
           },
           {
            "bin_start": 537691.05,
            "bin_end": 654220.9,
            "count": 5
           },
           {
            "bin_start": 654220.9,
            "bin_end": 770750.75,
            "count": 2
           },
           {
            "bin_start": 770750.75,
            "bin_end": 887280.6000000001,
            "count": 1
           },
           {
            "bin_start": 887280.6000000001,
            "bin_end": 1003810.4500000001,
            "count": 0
           },
           {
            "bin_start": 1003810.4500000001,
            "bin_end": 1120340.3,
            "count": 0
           },
           {
            "bin_start": 1120340.3,
            "bin_end": 1236870.1500000001,
            "count": 0
           },
           {
            "bin_start": 1236870.1500000001,
            "bin_end": 1353400,
            "count": 1
           }
          ]
         }
        },
        {
         "name": 126,
         "dtype": "float64",
         "stats": {
          "unique_count": 30,
          "nan_count": 0,
          "min": "170911.5",
          "max": "1350640.0",
          "histogram": [
           {
            "bin_start": 170911.5,
            "bin_end": 288884.35,
            "count": 10
           },
           {
            "bin_start": 288884.35,
            "bin_end": 406857.2,
            "count": 7
           },
           {
            "bin_start": 406857.2,
            "bin_end": 524830.05,
            "count": 3
           },
           {
            "bin_start": 524830.05,
            "bin_end": 642802.9,
            "count": 5
           },
           {
            "bin_start": 642802.9,
            "bin_end": 760775.75,
            "count": 4
           },
           {
            "bin_start": 760775.75,
            "bin_end": 878748.6000000001,
            "count": 0
           },
           {
            "bin_start": 878748.6000000001,
            "bin_end": 996721.4500000001,
            "count": 0
           },
           {
            "bin_start": 996721.4500000001,
            "bin_end": 1114694.3,
            "count": 0
           },
           {
            "bin_start": 1114694.3,
            "bin_end": 1232667.1500000001,
            "count": 0
           },
           {
            "bin_start": 1232667.1500000001,
            "bin_end": 1350640,
            "count": 1
           }
          ]
         }
        },
        {
         "name": 127,
         "dtype": "float64",
         "stats": {
          "unique_count": 30,
          "nan_count": 0,
          "min": "163842.5",
          "max": "1341710.0",
          "histogram": [
           {
            "bin_start": 163842.5,
            "bin_end": 281629.25,
            "count": 10
           },
           {
            "bin_start": 281629.25,
            "bin_end": 399416,
            "count": 7
           },
           {
            "bin_start": 399416,
            "bin_end": 517202.75,
            "count": 3
           },
           {
            "bin_start": 517202.75,
            "bin_end": 634989.5,
            "count": 5
           },
           {
            "bin_start": 634989.5,
            "bin_end": 752776.25,
            "count": 4
           },
           {
            "bin_start": 752776.25,
            "bin_end": 870563,
            "count": 0
           },
           {
            "bin_start": 870563,
            "bin_end": 988349.75,
            "count": 0
           },
           {
            "bin_start": 988349.75,
            "bin_end": 1106136.5,
            "count": 0
           },
           {
            "bin_start": 1106136.5,
            "bin_end": 1223923.25,
            "count": 0
           },
           {
            "bin_start": 1223923.25,
            "bin_end": 1341710,
            "count": 1
           }
          ]
         }
        },
        {
         "name": 128,
         "dtype": "float64",
         "stats": {
          "unique_count": 30,
          "nan_count": 0,
          "min": "164025.0",
          "max": "1339540.0",
          "histogram": [
           {
            "bin_start": 164025,
            "bin_end": 281576.5,
            "count": 10
           },
           {
            "bin_start": 281576.5,
            "bin_end": 399128,
            "count": 6
           },
           {
            "bin_start": 399128,
            "bin_end": 516679.5,
            "count": 4
           },
           {
            "bin_start": 516679.5,
            "bin_end": 634231,
            "count": 5
           },
           {
            "bin_start": 634231,
            "bin_end": 751782.5,
            "count": 4
           },
           {
            "bin_start": 751782.5,
            "bin_end": 869334,
            "count": 0
           },
           {
            "bin_start": 869334,
            "bin_end": 986885.5,
            "count": 0
           },
           {
            "bin_start": 986885.5,
            "bin_end": 1104437,
            "count": 0
           },
           {
            "bin_start": 1104437,
            "bin_end": 1221988.5,
            "count": 0
           },
           {
            "bin_start": 1221988.5,
            "bin_end": 1339540,
            "count": 1
           }
          ]
         }
        },
        {
         "name": 129,
         "dtype": "float64",
         "stats": {
          "unique_count": 30,
          "nan_count": 0,
          "min": "159829.0",
          "max": "1337105.0",
          "histogram": [
           {
            "bin_start": 159829,
            "bin_end": 277556.6,
            "count": 10
           },
           {
            "bin_start": 277556.6,
            "bin_end": 395284.2,
            "count": 6
           },
           {
            "bin_start": 395284.2,
            "bin_end": 513011.80000000005,
            "count": 5
           },
           {
            "bin_start": 513011.80000000005,
            "bin_end": 630739.4,
            "count": 4
           },
           {
            "bin_start": 630739.4,
            "bin_end": 748467,
            "count": 4
           },
           {
            "bin_start": 748467,
            "bin_end": 866194.6000000001,
            "count": 0
           },
           {
            "bin_start": 866194.6000000001,
            "bin_end": 983922.2000000001,
            "count": 0
           },
           {
            "bin_start": 983922.2000000001,
            "bin_end": 1101649.8,
            "count": 0
           },
           {
            "bin_start": 1101649.8,
            "bin_end": 1219377.4000000001,
            "count": 0
           },
           {
            "bin_start": 1219377.4000000001,
            "bin_end": 1337105,
            "count": 1
           }
          ]
         }
        },
        {
         "name": 130,
         "dtype": "float64",
         "stats": {
          "unique_count": 30,
          "nan_count": 0,
          "min": "160161.5",
          "max": "1337055.0",
          "histogram": [
           {
            "bin_start": 160161.5,
            "bin_end": 277850.85,
            "count": 10
           },
           {
            "bin_start": 277850.85,
            "bin_end": 395540.2,
            "count": 6
           },
           {
            "bin_start": 395540.2,
            "bin_end": 513229.55000000005,
            "count": 5
           },
           {
            "bin_start": 513229.55000000005,
            "bin_end": 630918.9,
            "count": 4
           },
           {
            "bin_start": 630918.9,
            "bin_end": 748608.25,
            "count": 4
           },
           {
            "bin_start": 748608.25,
            "bin_end": 866297.6000000001,
            "count": 0
           },
           {
            "bin_start": 866297.6000000001,
            "bin_end": 983986.9500000001,
            "count": 0
           },
           {
            "bin_start": 983986.9500000001,
            "bin_end": 1101676.3,
            "count": 0
           },
           {
            "bin_start": 1101676.3,
            "bin_end": 1219365.6500000001,
            "count": 0
           },
           {
            "bin_start": 1219365.6500000001,
            "bin_end": 1337055,
            "count": 1
           }
          ]
         }
        },
        {
         "name": 131,
         "dtype": "float64",
         "stats": {
          "unique_count": 30,
          "nan_count": 0,
          "min": "159456.5",
          "max": "1335485.0",
          "histogram": [
           {
            "bin_start": 159456.5,
            "bin_end": 277059.35,
            "count": 10
           },
           {
            "bin_start": 277059.35,
            "bin_end": 394662.2,
            "count": 6
           },
           {
            "bin_start": 394662.2,
            "bin_end": 512265.05000000005,
            "count": 5
           },
           {
            "bin_start": 512265.05000000005,
            "bin_end": 629867.9,
            "count": 5
           },
           {
            "bin_start": 629867.9,
            "bin_end": 747470.75,
            "count": 3
           },
           {
            "bin_start": 747470.75,
            "bin_end": 865073.6000000001,
            "count": 0
           },
           {
            "bin_start": 865073.6000000001,
            "bin_end": 982676.4500000001,
            "count": 0
           },
           {
            "bin_start": 982676.4500000001,
            "bin_end": 1100279.3,
            "count": 0
           },
           {
            "bin_start": 1100279.3,
            "bin_end": 1217882.1500000001,
            "count": 0
           },
           {
            "bin_start": 1217882.1500000001,
            "bin_end": 1335485,
            "count": 1
           }
          ]
         }
        },
        {
         "name": 132,
         "dtype": "float64",
         "stats": {
          "unique_count": 30,
          "nan_count": 0,
          "min": "160694.0",
          "max": "1335380.0",
          "histogram": [
           {
            "bin_start": 160694,
            "bin_end": 278162.6,
            "count": 10
           },
           {
            "bin_start": 278162.6,
            "bin_end": 395631.2,
            "count": 6
           },
           {
            "bin_start": 395631.2,
            "bin_end": 513099.80000000005,
            "count": 5
           },
           {
            "bin_start": 513099.80000000005,
            "bin_end": 630568.4,
            "count": 5
           },
           {
            "bin_start": 630568.4,
            "bin_end": 748037,
            "count": 3
           },
           {
            "bin_start": 748037,
            "bin_end": 865505.6000000001,
            "count": 0
           },
           {
            "bin_start": 865505.6000000001,
            "bin_end": 982974.2000000001,
            "count": 0
           },
           {
            "bin_start": 982974.2000000001,
            "bin_end": 1100442.8,
            "count": 0
           },
           {
            "bin_start": 1100442.8,
            "bin_end": 1217911.4000000001,
            "count": 0
           },
           {
            "bin_start": 1217911.4000000001,
            "bin_end": 1335380,
            "count": 1
           }
          ]
         }
        },
        {
         "name": 133,
         "dtype": "float64",
         "stats": {
          "unique_count": 30,
          "nan_count": 0,
          "min": "161086.5",
          "max": "1334795.0",
          "histogram": [
           {
            "bin_start": 161086.5,
            "bin_end": 278457.35,
            "count": 10
           },
           {
            "bin_start": 278457.35,
            "bin_end": 395828.2,
            "count": 6
           },
           {
            "bin_start": 395828.2,
            "bin_end": 513199.05000000005,
            "count": 5
           },
           {
            "bin_start": 513199.05000000005,
            "bin_end": 630569.9,
            "count": 5
           },
           {
            "bin_start": 630569.9,
            "bin_end": 747940.75,
            "count": 3
           },
           {
            "bin_start": 747940.75,
            "bin_end": 865311.6000000001,
            "count": 0
           },
           {
            "bin_start": 865311.6000000001,
            "bin_end": 982682.4500000001,
            "count": 0
           },
           {
            "bin_start": 982682.4500000001,
            "bin_end": 1100053.3,
            "count": 0
           },
           {
            "bin_start": 1100053.3,
            "bin_end": 1217424.1500000001,
            "count": 0
           },
           {
            "bin_start": 1217424.1500000001,
            "bin_end": 1334795,
            "count": 1
           }
          ]
         }
        },
        {
         "name": 134,
         "dtype": "float64",
         "stats": {
          "unique_count": 30,
          "nan_count": 0,
          "min": "163521.0",
          "max": "1339800.0",
          "histogram": [
           {
            "bin_start": 163521,
            "bin_end": 281148.9,
            "count": 10
           },
           {
            "bin_start": 281148.9,
            "bin_end": 398776.8,
            "count": 6
           },
           {
            "bin_start": 398776.8,
            "bin_end": 516404.69999999995,
            "count": 5
           },
           {
            "bin_start": 516404.69999999995,
            "bin_end": 634032.6,
            "count": 5
           },
           {
            "bin_start": 634032.6,
            "bin_end": 751660.5,
            "count": 3
           },
           {
            "bin_start": 751660.5,
            "bin_end": 869288.3999999999,
            "count": 0
           },
           {
            "bin_start": 869288.3999999999,
            "bin_end": 986916.2999999999,
            "count": 0
           },
           {
            "bin_start": 986916.2999999999,
            "bin_end": 1104544.2,
            "count": 0
           },
           {
            "bin_start": 1104544.2,
            "bin_end": 1222172.0999999999,
            "count": 0
           },
           {
            "bin_start": 1222172.0999999999,
            "bin_end": 1339800,
            "count": 1
           }
          ]
         }
        },
        {
         "name": 135,
         "dtype": "float64",
         "stats": {
          "unique_count": 30,
          "nan_count": 0,
          "min": "165212.0",
          "max": "1338305.0",
          "histogram": [
           {
            "bin_start": 165212,
            "bin_end": 282521.3,
            "count": 10
           },
           {
            "bin_start": 282521.3,
            "bin_end": 399830.6,
            "count": 6
           },
           {
            "bin_start": 399830.6,
            "bin_end": 517139.9,
            "count": 5
           },
           {
            "bin_start": 517139.9,
            "bin_end": 634449.2,
            "count": 5
           },
           {
            "bin_start": 634449.2,
            "bin_end": 751758.5,
            "count": 3
           },
           {
            "bin_start": 751758.5,
            "bin_end": 869067.8,
            "count": 0
           },
           {
            "bin_start": 869067.8,
            "bin_end": 986377.1,
            "count": 0
           },
           {
            "bin_start": 986377.1,
            "bin_end": 1103686.4,
            "count": 0
           },
           {
            "bin_start": 1103686.4,
            "bin_end": 1220995.7,
            "count": 0
           },
           {
            "bin_start": 1220995.7,
            "bin_end": 1338305,
            "count": 1
           }
          ]
         }
        },
        {
         "name": "_deepnote_index_column",
         "dtype": "int64"
        }
       ],
       "rows": [
        {
         "0": 213659.5,
         "1": 192211.5,
         "2": 200887,
         "3": 199032,
         "4": 190367.5,
         "5": 189064.5,
         "6": 273896,
         "7": 254795,
         "8": 225220,
         "9": 191442.5,
         "10": 179241,
         "11": 177568.5,
         "12": 183731,
         "13": 183398.5,
         "14": 188854.5,
         "15": 195751.5,
         "16": 200358,
         "17": 207576,
         "18": 202317,
         "19": 188113,
         "20": 240412.5,
         "21": 214990.5,
         "22": 200912.5,
         "23": 181803,
         "24": 180014.5,
         "25": 170879,
         "26": 184652,
         "27": 167697,
         "28": 167000,
         "29": 164260.5,
         "30": 171010,
         "31": 173602.5,
         "32": 178028.5,
         "33": 185889,
         "34": 191985,
         "35": 197890.5,
         "36": 196406,
         "37": 186969.5,
         "38": 212796,
         "39": 182689,
         "40": 179518.5,
         "41": 169979,
         "42": 166137,
         "43": 161530,
         "44": 208257.5,
         "45": 213772.5,
         "46": 161571,
         "47": 162643,
         "48": 170813.5,
         "49": 176869,
         "50": 179815,
         "51": 185332,
         "52": 194800,
         "53": 198407.5,
         "54": 199168.5,
         "55": 226739.5,
         "56": 221957,
         "57": 179608.5,
         "58": 172868.5,
         "59": 160301.5,
         "60": 155655,
         "61": 151258.5,
         "62": 162048.5,
         "63": 162875,
         "64": 164693,
         "65": 176581.5,
         "66": 180385.5,
         "67": 180134.5,
         "68": 188578.5,
         "69": 190667,
         "70": 193240,
         "71": 198430,
         "72": 197490,
         "73": 188412,
         "74": 186290.5,
         "75": 173211,
         "76": 164269,
         "77": 158468.5,
         "78": 155293.5,
         "79": 157071,
         "80": 159178,
         "81": 164391,
         "82": 175702.5,
         "83": 175863,
         "84": 180542,
         "85": 181744,
         "86": 186215.5,
         "87": 189853.5,
         "88": 193508.5,
         "89": 201945.5,
         "90": 195881.5,
         "91": 185613.5,
         "92": 175341,
         "93": 171152,
         "94": 171112,
         "95": 166470.5,
         "96": 169290.5,
         "97": 172521,
         "98": 172677.5,
         "99": 174413.5,
         "100": 179724,
         "101": 182664,
         "102": 189228,
         "103": 186784.5,
         "104": 189340,
         "105": 195120.5,
         "106": 198332.5,
         "107": 204522.5,
         "108": 196931,
         "109": 189357,
         "110": 186239.5,
         "111": 184522,
         "112": 188369,
         "113": 181294,
         "114": 184700.5,
         "115": 181306.5,
         "116": 184027.5,
         "117": 182619,
         "118": 187861,
         "119": 187703.5,
         "120": 190134,
         "121": 192885,
         "122": 196437,
         "123": 200769,
         "124": 206137.5,
         "125": 214466.5,
         "126": 219058.5,
         "127": 208279.5,
         "128": 204520.5,
         "129": 203832.5,
         "130": 202929,
         "131": 200680.5,
         "132": 201888,
         "133": 199478,
         "134": 202755,
         "135": 199012,
         "ID": "158",
         "Panel": 1,
         "Batch": "150222-CSV",
         "_deepnote_index_column": 20
        },
        {
         "0": 430477,
         "1": 428249,
         "2": 432371,
         "3": 433895.5,
         "4": 417143.5,
         "5": 415813.5,
         "6": 490811,
         "7": 457799,
         "8": 446132.5,
         "9": 415377,
         "10": 411229.5,
         "11": 409738,
         "12": 412275.5,
         "13": 412881,
         "14": 418058.5,
         "15": 426526,
         "16": 432276,
         "17": 449408.5,
         "18": 421772.5,
         "19": 413980.5,
         "20": 410935.5,
         "21": 407148.5,
         "22": 408264,
         "23": 406480.5,
         "24": 406009.5,
         "25": 401820,
         "26": 405791.5,
         "27": 399338.5,
         "28": 400777,
         "29": 398664,
         "30": 404428,
         "31": 406902.5,
         "32": 411728,
         "33": 419774,
         "34": 427569.5,
         "35": 438555,
         "36": 417008,
         "37": 408739,
         "38": 406356,
         "39": 404222.5,
         "40": 405196,
         "41": 401370,
         "42": 399814.5,
         "43": 395835.5,
         "44": 437567,
         "45": 440187.5,
         "46": 396126.5,
         "47": 399661,
         "48": 403423,
         "49": 410246,
         "50": 413676,
         "51": 418095,
         "52": 428832,
         "53": 436785.5,
         "54": 422667,
         "55": 414511,
         "56": 410619,
         "57": 406191,
         "58": 400398.5,
         "59": 395152,
         "60": 392790,
         "61": 387500.5,
         "62": 394362.5,
         "63": 393317.5,
         "64": 396280,
         "65": 402697,
         "66": 409932.5,
         "67": 411649,
         "68": 416750.5,
         "69": 420938,
         "70": 425996,
         "71": 437281.5,
         "72": 424242,
         "73": 414967.5,
         "74": 409159.5,
         "75": 400400.5,
         "76": 391302.5,
         "77": 384949.5,
         "78": 385922.5,
         "79": 387229.5,
         "80": 389514.5,
         "81": 395304.5,
         "82": 403675.5,
         "83": 408237,
         "84": 411072,
         "85": 414266,
         "86": 418108.5,
         "87": 420975,
         "88": 427900,
         "89": 439278,
         "90": 427229,
         "91": 415354.5,
         "92": 406441.5,
         "93": 396466.5,
         "94": 389173.5,
         "95": 386622.5,
         "96": 392859.5,
         "97": 393518.5,
         "98": 399506,
         "99": 404731,
         "100": 410449,
         "101": 413731,
         "102": 416716.5,
         "103": 416541,
         "104": 420071.5,
         "105": 424339,
         "106": 431162.5,
         "107": 442307.5,
         "108": 429900.5,
         "109": 418975.5,
         "110": 410983.5,
         "111": 403914.5,
         "112": 404130,
         "113": 402193,
         "114": 406086.5,
         "115": 407201,
         "116": 411004.5,
         "117": 414680,
         "118": 419459.5,
         "119": 421250,
         "120": 424212,
         "121": 424390,
         "122": 426267.5,
         "123": 431636.5,
         "124": 436909.5,
         "125": 450996.5,
         "126": 433722.5,
         "127": 426930.5,
         "128": 423183.5,
         "129": 421379,
         "130": 422231.5,
         "131": 421839,
         "132": 422582,
         "133": 425537.5,
         "134": 426949,
         "135": 428124,
         "ID": "10",
         "Panel": 1,
         "Batch": "150222-CSV",
         "_deepnote_index_column": 21
        },
        {
         "0": 196431.5,
         "1": 180231.5,
         "2": 184005.5,
         "3": 186533,
         "4": 164841.5,
         "5": 163915,
         "6": 250543,
         "7": 240807,
         "8": 205013.5,
         "9": 184484,
         "10": 153784.5,
         "11": 159376.5,
         "12": 168410.5,
         "13": 177801,
         "14": 178384.5,
         "15": 301202,
         "16": 199845.5,
         "17": 241165.5,
         "18": 190648,
         "19": 188631,
         "20": 237037.5,
         "21": 207719,
         "22": 240518,
         "23": 160963.5,
         "24": 169218.5,
         "25": 146694.5,
         "26": 194121.5,
         "27": 157078,
         "28": 172781,
         "29": 159267,
         "30": 173963.5,
         "31": 198203.5,
         "32": 190453.5,
         "33": 180798.5,
         "34": 188782,
         "35": 197963.5,
         "36": 173481.5,
         "37": 159437,
         "38": 162952.5,
         "39": 149133,
         "40": 148754.5,
         "41": 139784.5,
         "42": 142193,
         "43": 140473,
         "44": 192742.5,
         "45": 201089,
         "46": 169924.5,
         "47": 167077,
         "48": 172052.5,
         "49": 324438.5,
         "50": 180103,
         "51": 239234.5,
         "52": 188389,
         "53": 216697.5,
         "54": 175658.5,
         "55": 192969,
         "56": 156751.5,
         "57": 139694,
         "58": 139007.5,
         "59": 134158,
         "60": 141366.5,
         "61": 142305,
         "62": 187774.5,
         "63": 182857.5,
         "64": 192011,
         "65": 235672,
         "66": 280553,
         "67": 196527,
         "68": 199945.5,
         "69": 197673,
         "70": 209252.5,
         "71": 221031,
         "72": 183131,
         "73": 165058,
         "74": 149033,
         "75": 149139,
         "76": 134991.5,
         "77": 135708.5,
         "78": 142399.5,
         "79": 141520,
         "80": 150150,
         "81": 158713.5,
         "82": 188012.5,
         "83": 161619.5,
         "84": 169151,
         "85": 177591,
         "86": 168105.5,
         "87": 176837,
         "88": 179541.5,
         "89": 188220,
         "90": 152737.5,
         "91": 138872,
         "92": 148168,
         "93": 138702,
         "94": 183567,
         "95": 149467,
         "96": 186646.5,
         "97": 166235,
         "98": 160100,
         "99": 187079.5,
         "100": 185041.5,
         "101": 190031.5,
         "102": 206128,
         "103": 222918.5,
         "104": 196312,
         "105": 189867.5,
         "106": 202081.5,
         "107": 217798.5,
         "108": 192534,
         "109": 175550,
         "110": 183218.5,
         "111": 153736,
         "112": 175367,
         "113": 158473.5,
         "114": 167477,
         "115": 163763,
         "116": 164734.5,
         "117": 167626,
         "118": 174471.5,
         "119": 187986,
         "120": 174603,
         "121": 177719,
         "122": 185436.5,
         "123": 180720.5,
         "124": 193034,
         "125": 200066,
         "126": 170911.5,
         "127": 163842.5,
         "128": 167478.5,
         "129": 175349.5,
         "130": 176536.5,
         "131": 265686.5,
         "132": 179757.5,
         "133": 248202,
         "134": 189117.5,
         "135": 180631,
         "ID": "216",
         "Panel": 1,
         "Batch": "150222-CSV",
         "_deepnote_index_column": 22
        },
        {
         "0": 1343635,
         "1": 1329010,
         "2": 1341620,
         "3": 1342090,
         "4": 1329725,
         "5": 1327230,
         "6": 1405180,
         "7": 1362095,
         "8": 1352350,
         "9": 1319365,
         "10": 1319380,
         "11": 1322855,
         "12": 1328510,
         "13": 1331515,
         "14": 1335320,
         "15": 1342280,
         "16": 1347455,
         "17": 1352240,
         "18": 1335335,
         "19": 1325495,
         "20": 1343185,
         "21": 1320670,
         "22": 1327740,
         "23": 1313155,
         "24": 1311165,
         "25": 1307365,
         "26": 1315930,
         "27": 1311610,
         "28": 1319195,
         "29": 1319235,
         "30": 1331265,
         "31": 1331095,
         "32": 1336985,
         "33": 1334720,
         "34": 1338765,
         "35": 1344655,
         "36": 1334155,
         "37": 1324095,
         "38": 1348030,
         "39": 1316510,
         "40": 1310560,
         "41": 1304380,
         "42": 1306320,
         "43": 1305405,
         "44": 1349945,
         "45": 1351285,
         "46": 1319235,
         "47": 1323450,
         "48": 1323850,
         "49": 1333620,
         "50": 1329285,
         "51": 1332495,
         "52": 1338585,
         "53": 1344025,
         "54": 1335050,
         "55": 1370180,
         "56": 1341500,
         "57": 1305205,
         "58": 1309680,
         "59": 1303695,
         "60": 1321835,
         "61": 1307195,
         "62": 1319525,
         "63": 1317555,
         "64": 1319815,
         "65": 1331680,
         "66": 1337960,
         "67": 1325815,
         "68": 1341195,
         "69": 1335660,
         "70": 1337795,
         "71": 1342775,
         "72": 1331990,
         "73": 1315855,
         "74": 1310410,
         "75": 1301335,
         "76": 1301615,
         "77": 1303690,
         "78": 1309035,
         "79": 1312320,
         "80": 1316750,
         "81": 1317910,
         "82": 1326505,
         "83": 1322565,
         "84": 1324615,
         "85": 1327320,
         "86": 1328980,
         "87": 1332665,
         "88": 1338700,
         "89": 1351625,
         "90": 1329050,
         "91": 1315825,
         "92": 1312120,
         "93": 1309200,
         "94": 1311590,
         "95": 1313335,
         "96": 1318160,
         "97": 1321505,
         "98": 1322625,
         "99": 1324755,
         "100": 1328360,
         "101": 1326775,
         "102": 1339685,
         "103": 1331410,
         "104": 1333595,
         "105": 1337415,
         "106": 1344965,
         "107": 1348330,
         "108": 1334030,
         "109": 1327255,
         "110": 1325200,
         "111": 1321620,
         "112": 1324170,
         "113": 1322835,
         "114": 1324275,
         "115": 1324960,
         "116": 1327765,
         "117": 1326100,
         "118": 1333300,
         "119": 1332435,
         "120": 1334950,
         "121": 1335340,
         "122": 1340140,
         "123": 1340210,
         "124": 1346090,
         "125": 1353400,
         "126": 1350640,
         "127": 1341710,
         "128": 1339540,
         "129": 1337105,
         "130": 1337055,
         "131": 1335485,
         "132": 1335380,
         "133": 1334795,
         "134": 1339800,
         "135": 1338305,
         "ID": "146",
         "Panel": 1,
         "Batch": "150222-CSV",
         "_deepnote_index_column": 23
        },
        {
         "0": 464587,
         "1": 444042.5,
         "2": 411942,
         "3": 415223,
         "4": 403446.5,
         "5": 401985.5,
         "6": 446938,
         "7": 447214.5,
         "8": 422204.5,
         "9": 406925.5,
         "10": 398946.5,
         "11": 395981,
         "12": 396887.5,
         "13": 397397,
         "14": 396810,
         "15": 403307.5,
         "16": 410807.5,
         "17": 425196.5,
         "18": 413068.5,
         "19": 404054.5,
         "20": 413183.5,
         "21": 408305.5,
         "22": 421845,
         "23": 392649.5,
         "24": 391966,
         "25": 392087,
         "26": 410399,
         "27": 393007.5,
         "28": 390340,
         "29": 385655.5,
         "30": 392131.5,
         "31": 392081,
         "32": 399574.5,
         "33": 400216.5,
         "34": 407451,
         "35": 420473.5,
         "36": 406850.5,
         "37": 397366,
         "38": 419155.5,
         "39": 418979.5,
         "40": 397788.5,
         "41": 398295.5,
         "42": 393984,
         "43": 388397.5,
         "44": 421312,
         "45": 425029,
         "46": 383437,
         "47": 382740,
         "48": 384492,
         "49": 420316,
         "50": 395931,
         "51": 407122.5,
         "52": 410077.5,
         "53": 429576,
         "54": 412620.5,
         "55": 495391.5,
         "56": 465102.5,
         "57": 409203,
         "58": 419448.5,
         "59": 401623,
         "60": 404511.5,
         "61": 379198.5,
         "62": 395066.5,
         "63": 388113.5,
         "64": 382424,
         "65": 418860.5,
         "66": 420417.5,
         "67": 395871,
         "68": 424366,
         "69": 417100.5,
         "70": 415707.5,
         "71": 426340.5,
         "72": 415815,
         "73": 409758.5,
         "74": 403904.5,
         "75": 394920.5,
         "76": 383888.5,
         "77": 377029,
         "78": 374213,
         "79": 371739.5,
         "80": 369962,
         "81": 378685,
         "82": 388262.5,
         "83": 390681.5,
         "84": 394271.5,
         "85": 400461.5,
         "86": 403359.5,
         "87": 406326.5,
         "88": 416345.5,
         "89": 428912.5,
         "90": 414404.5,
         "91": 406213.5,
         "92": 400322.5,
         "93": 389639.5,
         "94": 383088.5,
         "95": 375705.5,
         "96": 374904.5,
         "97": 380740.5,
         "98": 380910,
         "99": 395404,
         "100": 400460.5,
         "101": 402676,
         "102": 417165,
         "103": 414441,
         "104": 408349,
         "105": 423607.5,
         "106": 422308.5,
         "107": 428646.5,
         "108": 420855,
         "109": 409458.5,
         "110": 399938.5,
         "111": 395738,
         "112": 393519,
         "113": 386901.5,
         "114": 388215.5,
         "115": 387992.5,
         "116": 391653,
         "117": 395816.5,
         "118": 400902.5,
         "119": 406891,
         "120": 409150,
         "121": 408959.5,
         "122": 411810,
         "123": 412529,
         "124": 418421,
         "125": 441136.5,
         "126": 422770.5,
         "127": 411640.5,
         "128": 407931,
         "129": 405705.5,
         "130": 405886,
         "131": 405462.5,
         "132": 404854,
         "133": 403952.5,
         "134": 408720,
         "135": 409588.5,
         "ID": "8",
         "Panel": 1,
         "Batch": "150222-CSV",
         "_deepnote_index_column": 24
        },
        {
         "0": 276002,
         "1": 263142.5,
         "2": 263391.5,
         "3": 264276.5,
         "4": 244421.5,
         "5": 240421.5,
         "6": 305425.5,
         "7": 282234,
         "8": 266331,
         "9": 254517.5,
         "10": 242018.5,
         "11": 237583.5,
         "12": 238554,
         "13": 234632.5,
         "14": 232794.5,
         "15": 240905,
         "16": 240831,
         "17": 250709,
         "18": 265044,
         "19": 261359.5,
         "20": 251619,
         "21": 246596,
         "22": 248832.5,
         "23": 239004.5,
         "24": 237540,
         "25": 235975,
         "26": 255999.5,
         "27": 233984,
         "28": 231624.5,
         "29": 224887,
         "30": 228080,
         "31": 225594.5,
         "32": 232478.5,
         "33": 234112.5,
         "34": 239732,
         "35": 246803.5,
         "36": 261648,
         "37": 249119.5,
         "38": 263952.5,
         "39": 245365.5,
         "40": 240677.5,
         "41": 237957,
         "42": 239836,
         "43": 231052,
         "44": 265336,
         "45": 268045,
         "46": 222217.5,
         "47": 220885.5,
         "48": 219577.5,
         "49": 234469.5,
         "50": 233641.5,
         "51": 236069.5,
         "52": 242382,
         "53": 251390,
         "54": 263712.5,
         "55": 286943,
         "56": 270709.5,
         "57": 246593.5,
         "58": 249217,
         "59": 239934.5,
         "60": 237627.5,
         "61": 223408.5,
         "62": 225987.5,
         "63": 214363,
         "64": 217137,
         "65": 229873,
         "66": 236020.5,
         "67": 229170,
         "68": 240022.5,
         "69": 244036.5,
         "70": 247600,
         "71": 253104.5,
         "72": 268227,
         "73": 257393.5,
         "74": 251961.5,
         "75": 245262.5,
         "76": 239274,
         "77": 232814,
         "78": 231942.5,
         "79": 225724,
         "80": 222883,
         "81": 219858,
         "82": 227009.5,
         "83": 227541,
         "84": 230468,
         "85": 236607,
         "86": 242827,
         "87": 246800.5,
         "88": 254384,
         "89": 260912,
         "90": 268780,
         "91": 257255.5,
         "92": 250467,
         "93": 241351.5,
         "94": 238313.5,
         "95": 233954.5,
         "96": 235737,
         "97": 234403.5,
         "98": 234239.5,
         "99": 235449.5,
         "100": 242182.5,
         "101": 238991,
         "102": 250103.5,
         "103": 245001.5,
         "104": 247611,
         "105": 252545,
         "106": 257157.5,
         "107": 264324,
         "108": 269843,
         "109": 260778,
         "110": 252094.5,
         "111": 245871.5,
         "112": 248439,
         "113": 245783.5,
         "114": 247230.5,
         "115": 246484.5,
         "116": 249486.5,
         "117": 247085,
         "118": 250784.5,
         "119": 251887.5,
         "120": 251657,
         "121": 252904.5,
         "122": 259673,
         "123": 261152,
         "124": 262791,
         "125": 268160,
         "126": 274284,
         "127": 269227.5,
         "128": 267270,
         "129": 266249,
         "130": 265115.5,
         "131": 266307.5,
         "132": 264643.5,
         "133": 266200.5,
         "134": 265859,
         "135": 262185,
         "ID": "1",
         "Panel": 1,
         "Batch": "150222-CSV",
         "_deepnote_index_column": 25
        },
        {
         "0": 427443,
         "1": 379191.5,
         "2": 366531,
         "3": 368160.5,
         "4": 375298.5,
         "5": 371491.5,
         "6": 458647.5,
         "7": 432879.5,
         "8": 417943,
         "9": 388495.5,
         "10": 362546.5,
         "11": 361881.5,
         "12": 365244.5,
         "13": 366179.5,
         "14": 365244,
         "15": 417005,
         "16": 366745,
         "17": 377350.5,
         "18": 390865,
         "19": 378704.5,
         "20": 435675,
         "21": 438934,
         "22": 439622.5,
         "23": 378021.5,
         "24": 363719.5,
         "25": 359719.5,
         "26": 465811.5,
         "27": 372304,
         "28": 384193.5,
         "29": 362899,
         "30": 380728.5,
         "31": 379851.5,
         "32": 368666,
         "33": 360367.5,
         "34": 361969,
         "35": 366239.5,
         "36": 388168.5,
         "37": 375111.5,
         "38": 446342,
         "39": 423248.5,
         "40": 399904.5,
         "41": 390040.5,
         "42": 376818,
         "43": 371991.5,
         "44": 378458.5,
         "45": 385345,
         "46": 380044.5,
         "47": 365477.5,
         "48": 358599.5,
         "49": 401962.5,
         "50": 368122,
         "51": 412658,
         "52": 369512.5,
         "53": 389005,
         "54": 398701.5,
         "55": 505196,
         "56": 472686.5,
         "57": 409808.5,
         "58": 436843,
         "59": 404645.5,
         "60": 460745,
         "61": 359625.5,
         "62": 428987.5,
         "63": 411923.5,
         "64": 387851.5,
         "65": 460932,
         "66": 453063.5,
         "67": 380221.5,
         "68": 439193,
         "69": 427628.5,
         "70": 392025.5,
         "71": 402357,
         "72": 426493,
         "73": 384884.5,
         "74": 395103,
         "75": 374056.5,
         "76": 362600,
         "77": 365275,
         "78": 365242.5,
         "79": 367298.5,
         "80": 359475.5,
         "81": 351107.5,
         "82": 379062,
         "83": 345654.5,
         "84": 348531,
         "85": 377266,
         "86": 358545.5,
         "87": 367994.5,
         "88": 382436,
         "89": 399338,
         "90": 379998.5,
         "91": 369936,
         "92": 376059,
         "93": 368918,
         "94": 374518,
         "95": 359188.5,
         "96": 360348.5,
         "97": 366520,
         "98": 353013,
         "99": 389070.5,
         "100": 379765.5,
         "101": 372795,
         "102": 432467,
         "103": 402190.5,
         "104": 392068,
         "105": 413298.5,
         "106": 420189.5,
         "107": 405154,
         "108": 407181.5,
         "109": 423613,
         "110": 386895.5,
         "111": 386643,
         "112": 395139.5,
         "113": 363115,
         "114": 364388,
         "115": 357413.5,
         "116": 356754.5,
         "117": 353166,
         "118": 359167,
         "119": 372949,
         "120": 366270,
         "121": 366716,
         "122": 384584,
         "123": 373240.5,
         "124": 384210.5,
         "125": 432678.5,
         "126": 402299,
         "127": 388370.5,
         "128": 385022,
         "129": 380975,
         "130": 375142.5,
         "131": 376311,
         "132": 367367.5,
         "133": 367980.5,
         "134": 375601.5,
         "135": 367539,
         "ID": "235",
         "Panel": 1,
         "Batch": "150222-CSV",
         "_deepnote_index_column": 26
        },
        {
         "0": 401550,
         "1": 392715,
         "2": 406270.5,
         "3": 407180,
         "4": 387542.5,
         "5": 387625.5,
         "6": 486435,
         "7": 438297,
         "8": 409923,
         "9": 385159.5,
         "10": 383745.5,
         "11": 386454,
         "12": 393388.5,
         "13": 398423.5,
         "14": 403232.5,
         "15": 409010,
         "16": 415796,
         "17": 423901,
         "18": 390989.5,
         "19": 386173,
         "20": 389465,
         "21": 383264.5,
         "22": 389210,
         "23": 375906,
         "24": 376537,
         "25": 373019.5,
         "26": 389159,
         "27": 377353.5,
         "28": 407338.5,
         "29": 384979,
         "30": 399671.5,
         "31": 397825.5,
         "32": 405302.5,
         "33": 406879.5,
         "34": 410099.5,
         "35": 416826,
         "36": 390410.5,
         "37": 383124.5,
         "38": 402750.5,
         "39": 378469,
         "40": 373701.5,
         "41": 369527,
         "42": 370483.5,
         "43": 371523.5,
         "44": 416493.5,
         "45": 426808,
         "46": 385855.5,
         "47": 388638.5,
         "48": 395917.5,
         "49": 408332,
         "50": 400701,
         "51": 401648.5,
         "52": 407020,
         "53": 414150,
         "54": 391741.5,
         "55": 417778,
         "56": 400270,
         "57": 369802.5,
         "58": 372663.5,
         "59": 366455.5,
         "60": 401906.5,
         "61": 373133.5,
         "62": 385770,
         "63": 384039.5,
         "64": 388346.5,
         "65": 401707,
         "66": 416750,
         "67": 393540,
         "68": 403287.5,
         "69": 401416.5,
         "70": 405122,
         "71": 411943,
         "72": 386758.5,
         "73": 375421.5,
         "74": 373287.5,
         "75": 368523,
         "76": 367427,
         "77": 369512.5,
         "78": 374887.5,
         "79": 378501,
         "80": 380717,
         "81": 384174,
         "82": 390089.5,
         "83": 388574.5,
         "84": 390524,
         "85": 391234,
         "86": 394118,
         "87": 396854.5,
         "88": 407112,
         "89": 413238.5,
         "90": 382919.5,
         "91": 373256,
         "92": 370748.5,
         "93": 370855,
         "94": 374611,
         "95": 378378,
         "96": 381267,
         "97": 385945.5,
         "98": 385533.5,
         "99": 387896,
         "100": 391648,
         "101": 391096,
         "102": 403809,
         "103": 393979.5,
         "104": 397408,
         "105": 402069.5,
         "106": 409192.5,
         "107": 416010,
         "108": 385537,
         "109": 380018,
         "110": 380165,
         "111": 383616.5,
         "112": 386899.5,
         "113": 387709.5,
         "114": 391314,
         "115": 391328.5,
         "116": 391928.5,
         "117": 391422.5,
         "118": 396751.5,
         "119": 395674.5,
         "120": 405133.5,
         "121": 398850.5,
         "122": 415274,
         "123": 407837.5,
         "124": 418269.5,
         "125": 443390.5,
         "126": 399390.5,
         "127": 397570,
         "128": 399802,
         "129": 403122.5,
         "130": 406624,
         "131": 406524.5,
         "132": 407158.5,
         "133": 405789.5,
         "134": 408449,
         "135": 405435.5,
         "ID": "122",
         "Panel": 1,
         "Batch": "150222-CSV",
         "_deepnote_index_column": 27
        },
        {
         "0": 665325,
         "1": 654826.5,
         "2": 615961.5,
         "3": 616678.5,
         "4": 628485.5,
         "5": 625330,
         "6": 704140.5,
         "7": 665974.5,
         "8": 654531,
         "9": 619752,
         "10": 615793,
         "11": 614382,
         "12": 614124.5,
         "13": 613355.5,
         "14": 615405.5,
         "15": 618937.5,
         "16": 620791,
         "17": 624405.5,
         "18": 646182,
         "19": 632445.5,
         "20": 635952,
         "21": 624961.5,
         "22": 653446,
         "23": 616534,
         "24": 616376,
         "25": 612264.5,
         "26": 628148,
         "27": 611031.5,
         "28": 610444.5,
         "29": 605619,
         "30": 609438,
         "31": 610651,
         "32": 624143.5,
         "33": 610597.5,
         "34": 612398.5,
         "35": 613864,
         "36": 636454,
         "37": 625832.5,
         "38": 664494,
         "39": 634170,
         "40": 628103,
         "41": 618056.5,
         "42": 614582,
         "43": 609790.5,
         "44": 624819,
         "45": 629992.5,
         "46": 605881,
         "47": 604126.5,
         "48": 606378,
         "49": 634441.5,
         "50": 606637,
         "51": 610641,
         "52": 607067,
         "53": 615474.5,
         "54": 637633.5,
         "55": 687556,
         "56": 668679.5,
         "57": 626866,
         "58": 648408.5,
         "59": 617829,
         "60": 643908,
         "61": 604008,
         "62": 615148.5,
         "63": 608894,
         "64": 609635.5,
         "65": 622467,
         "66": 645021.5,
         "67": 602367.5,
         "68": 615018.5,
         "69": 605318.5,
         "70": 608142.5,
         "71": 616290,
         "72": 640938.5,
         "73": 628192.5,
         "74": 623181.5,
         "75": 617833.5,
         "76": 611823.5,
         "77": 609358,
         "78": 608077.5,
         "79": 607872,
         "80": 606336,
         "81": 603893.5,
         "82": 609885,
         "83": 599549,
         "84": 596695.5,
         "85": 597318,
         "86": 597681,
         "87": 601339.5,
         "88": 610158,
         "89": 622281,
         "90": 644906.5,
         "91": 631786,
         "92": 619630.5,
         "93": 615553,
         "94": 614614.5,
         "95": 613571,
         "96": 614182.5,
         "97": 613822,
         "98": 608695,
         "99": 610354.5,
         "100": 604861.5,
         "101": 596855,
         "102": 607918.5,
         "103": 602948,
         "104": 602653,
         "105": 617763,
         "106": 620701.5,
         "107": 627576.5,
         "108": 647250,
         "109": 631535,
         "110": 627299,
         "111": 622395,
         "112": 623921.5,
         "113": 618552.5,
         "114": 618457,
         "115": 614331,
         "116": 609880.5,
         "117": 604280,
         "118": 605161,
         "119": 603847,
         "120": 601501,
         "121": 603764.5,
         "122": 609765.5,
         "123": 613642.5,
         "124": 622110.5,
         "125": 636957.5,
         "126": 648223,
         "127": 640319,
         "128": 636159,
         "129": 633784,
         "130": 630931,
         "131": 627190,
         "132": 623762,
         "133": 620043,
         "134": 619212,
         "135": 615029,
         "ID": "162",
         "Panel": 1,
         "Batch": "150222-CSV",
         "_deepnote_index_column": 28
        },
        {
         "0": 757196.5,
         "1": 734274.5,
         "2": 719937.5,
         "3": 719481,
         "4": 703424,
         "5": 700694,
         "6": 776893,
         "7": 761046,
         "8": 726664.5,
         "9": 725829,
         "10": 710196,
         "11": 712616,
         "12": 718251.5,
         "13": 722301.5,
         "14": 725304.5,
         "15": 731314,
         "16": 736397.5,
         "17": 739810,
         "18": 711399.5,
         "19": 706632.5,
         "20": 704250,
         "21": 699379,
         "22": 717915,
         "23": 689123.5,
         "24": 692909.5,
         "25": 692099,
         "26": 714760,
         "27": 704166.5,
         "28": 710573.5,
         "29": 708663.5,
         "30": 714896.5,
         "31": 716734.5,
         "32": 720097.5,
         "33": 721492,
         "34": 726097.5,
         "35": 732202.5,
         "36": 704102,
         "37": 694197.5,
         "38": 762882,
         "39": 741087,
         "40": 699288,
         "41": 696646,
         "42": 695928,
         "43": 694997,
         "44": 729087,
         "45": 734391.5,
         "46": 703835,
         "47": 704286.5,
         "48": 706569,
         "49": 715656.5,
         "50": 712140,
         "51": 718010,
         "52": 721978,
         "53": 731733.5,
         "54": 701046.5,
         "55": 813758.5,
         "56": 751320.5,
         "57": 703250.5,
         "58": 709678.5,
         "59": 712524.5,
         "60": 721673,
         "61": 693172.5,
         "62": 711553,
         "63": 706597.5,
         "64": 702881,
         "65": 717904.5,
         "66": 746033.5,
         "67": 707269.5,
         "68": 742652.5,
         "69": 738129,
         "70": 724065.5,
         "71": 735178.5,
         "72": 697112,
         "73": 687872,
         "74": 705032.5,
         "75": 696980.5,
         "76": 689056.5,
         "77": 691479.5,
         "78": 695628,
         "79": 697774.5,
         "80": 698658,
         "81": 699142,
         "82": 706798.5,
         "83": 702229.5,
         "84": 703846,
         "85": 709265,
         "86": 712322.5,
         "87": 716143.5,
         "88": 730922.5,
         "89": 736635.5,
         "90": 693527,
         "91": 687654.5,
         "92": 690672,
         "93": 692376.5,
         "94": 695494,
         "95": 695626,
         "96": 699900.5,
         "97": 702926.5,
         "98": 701253.5,
         "99": 711840,
         "100": 710619,
         "101": 710575,
         "102": 722242.5,
         "103": 721168.5,
         "104": 716188.5,
         "105": 738550,
         "106": 737089,
         "107": 739919.5,
         "108": 704697.5,
         "109": 700163.5,
         "110": 700113.5,
         "111": 716171,
         "112": 714963.5,
         "113": 702774,
         "114": 704560,
         "115": 704529,
         "116": 706382.5,
         "117": 705699,
         "118": 708946.5,
         "119": 711363.5,
         "120": 713587.5,
         "121": 715748.5,
         "122": 720350,
         "123": 724123.5,
         "124": 732926,
         "125": 775329.5,
         "126": 715480.5,
         "127": 711719.5,
         "128": 711794.5,
         "129": 712119.5,
         "130": 712776.5,
         "131": 714811,
         "132": 714193,
         "133": 715186.5,
         "134": 720052,
         "135": 717564.5,
         "ID": "74",
         "Panel": 1,
         "Batch": "150222-CSV",
         "_deepnote_index_column": 29
        }
       ]
      },
      "text/plain": "     ID  Panel       Batch          0          1          2          3  \\\n0    30      1  150222-CSV   275929.5   273712.0   278562.0   277234.5   \n1     5      1  150222-CSV   207067.0   203687.0   202864.5   202691.0   \n2     2      1  150222-CSV   316393.0   245686.5   192628.0   194511.0   \n3   168      1  150222-CSV   216432.5   203909.5   196577.5   198888.5   \n4    61      1  150222-CSV   332340.5   326788.5   329644.5   330614.5   \n5    14      1  150222-CSV   360785.5   362059.0   372381.0   372864.0   \n6   220      1  150222-CSV   279525.0   240902.0   207959.5   209578.5   \n7   142      1  150222-CSV   708788.5   703801.5   713389.0   714972.0   \n8   169      1  150222-CSV   737439.5   718947.0   718155.5   721511.0   \n9   127      1  150222-CSV   251338.5   232795.0   245453.0   249671.0   \n10  120      1  150222-CSV   378140.0   374824.0   373068.5   375921.5   \n11    4      1  150222-CSV   175281.0   168012.0   170760.5   171753.5   \n12  129      1  150222-CSV   612874.5   609787.5   621493.0   623649.0   \n13  131      1  150222-CSV   574655.5   545775.5   427272.5   417388.5   \n14    B      1  150222-CSV   532320.5   526363.5   539261.0   538660.5   \n15   27      1  150222-CSV   365206.5   353582.0   359998.5   355971.5   \n16   15      1  150222-CSV   573609.0   555642.0   574880.0   575123.0   \n17  217      1  150222-CSV   396728.0   364866.5   355972.5   357018.0   \n18  219      1  150222-CSV   470969.0   457533.5   457619.0   458498.0   \n19  234      1  150222-CSV   556585.0   535950.0   526020.5   527833.5   \n20  158      1  150222-CSV   213659.5   192211.5   200887.0   199032.0   \n21   10      1  150222-CSV   430477.0   428249.0   432371.0   433895.5   \n22  216      1  150222-CSV   196431.5   180231.5   184005.5   186533.0   \n23  146      1  150222-CSV  1343635.0  1329010.0  1341620.0  1342090.0   \n24    8      1  150222-CSV   464587.0   444042.5   411942.0   415223.0   \n25    1      1  150222-CSV   276002.0   263142.5   263391.5   264276.5   \n26  235      1  150222-CSV   427443.0   379191.5   366531.0   368160.5   \n27  122      1  150222-CSV   401550.0   392715.0   406270.5   407180.0   \n28  162      1  150222-CSV   665325.0   654826.5   615961.5   616678.5   \n29   74      1  150222-CSV   757196.5   734274.5   719937.5   719481.0   \n\n            4          5          6  ...        126        127        128  \\\n0    261851.0   262740.0   350092.0  ...   272664.0   270047.0   264732.5   \n1    184140.0   181549.0   255618.0  ...   215587.0   208414.5   204950.5   \n2    173604.5   174264.0   232959.5  ...   203795.5   185624.0   187149.5   \n3    193620.5   189475.0   293384.5  ...   215597.5   200138.0   195792.5   \n4    313646.0   314211.5   414414.5  ...   325486.5   316998.0   315434.5   \n5    347659.5   342489.5   402313.5  ...   380295.5   374138.5   372376.5   \n6    189970.5   191756.5   285277.5  ...   219489.5   209542.0   210231.0   \n7    690790.0   691195.5   805841.5  ...   710237.0   699282.0   699966.0   \n8    703168.0   702354.5   790045.0  ...   715103.5   705472.5   704018.0   \n9    230574.0   228173.0   333984.0  ...   246606.0   237656.5   238686.0   \n10   362734.5   360668.0   447138.5  ...   379776.5   368519.0   363729.5   \n11   152962.5   149766.5   221353.5  ...   178826.5   167506.5   164025.0   \n12   599538.0   598220.0   672983.0  ...   622289.0   619255.0   616763.5   \n13   495837.5   478223.5   807200.5  ...   588592.0   556413.0   519235.0   \n14   510237.0   508481.0   594689.5  ...   538698.5   533988.5   532005.5   \n15   338733.5   335380.0   422580.5  ...   356081.0   350492.0   350017.5   \n16   552445.5   549797.0   642669.5  ...   571800.0   564486.0   566806.0   \n17   338839.5   338722.0   406584.5  ...   354567.0   347255.5   346809.5   \n18   444771.5   442973.5   509753.5  ...   460126.5   443626.5   443263.0   \n19   506701.0   503274.5   567821.0  ...   540823.5   532936.0   531041.0   \n20   190367.5   189064.5   273896.0  ...   219058.5   208279.5   204520.5   \n21   417143.5   415813.5   490811.0  ...   433722.5   426930.5   423183.5   \n22   164841.5   163915.0   250543.0  ...   170911.5   163842.5   167478.5   \n23  1329725.0  1327230.0  1405180.0  ...  1350640.0  1341710.0  1339540.0   \n24   403446.5   401985.5   446938.0  ...   422770.5   411640.5   407931.0   \n25   244421.5   240421.5   305425.5  ...   274284.0   269227.5   267270.0   \n26   375298.5   371491.5   458647.5  ...   402299.0   388370.5   385022.0   \n27   387542.5   387625.5   486435.0  ...   399390.5   397570.0   399802.0   \n28   628485.5   625330.0   704140.5  ...   648223.0   640319.0   636159.0   \n29   703424.0   700694.0   776893.0  ...   715480.5   711719.5   711794.5   \n\n          129        130        131        132        133        134  \\\n0    264959.0   265451.5   266696.5   266357.0   267911.5   272430.5   \n1    203018.5   204633.5   202623.0   202989.5   202083.0   203006.5   \n2    184896.5   181384.5   184017.0   184819.0   184738.0   196037.0   \n3    191446.5   188850.0   185772.5   185657.5   187802.5   199538.5   \n4    312708.5   316768.0   316668.5   320041.5   320643.5   325363.0   \n5    368809.5   369974.5   367968.5   368094.0   367214.0   370032.5   \n6    205590.0   207105.5   207704.0   204323.0   203712.5   204766.5   \n7    697242.0   699591.5   698411.0   700535.0   700045.0   706924.0   \n8    702209.5   702567.0   703123.5   705571.5   709199.0   713010.5   \n9    237163.0   239732.0   238637.0   239818.0   240360.5   243488.0   \n10   358883.5   359745.0   358526.0   359675.0   361668.5   366844.0   \n11   159829.0   160161.5   159456.5   160694.0   161086.5   163521.0   \n12   615443.0   614319.5   614894.0   616360.5   615422.0   617860.5   \n13   499229.0   494655.5   494025.0   479228.0   465852.0   458101.0   \n14   529399.5   530942.0   532576.0   533911.0   533227.5   536927.5   \n15   347304.0   350085.5   348191.5   350835.0   352010.5   353407.0   \n16   566635.0   569128.0   568625.5   570078.0   569346.5   573102.0   \n17   346432.0   347848.0   347342.0   348959.0   351526.0   354347.0   \n18   442379.0   440661.5   445806.0   447085.0   450103.5   465658.0   \n19   533368.5   527033.5   525289.0   521597.0   522595.0   527744.5   \n20   203832.5   202929.0   200680.5   201888.0   199478.0   202755.0   \n21   421379.0   422231.5   421839.0   422582.0   425537.5   426949.0   \n22   175349.5   176536.5   265686.5   179757.5   248202.0   189117.5   \n23  1337105.0  1337055.0  1335485.0  1335380.0  1334795.0  1339800.0   \n24   405705.5   405886.0   405462.5   404854.0   403952.5   408720.0   \n25   266249.0   265115.5   266307.5   264643.5   266200.5   265859.0   \n26   380975.0   375142.5   376311.0   367367.5   367980.5   375601.5   \n27   403122.5   406624.0   406524.5   407158.5   405789.5   408449.0   \n28   633784.0   630931.0   627190.0   623762.0   620043.0   619212.0   \n29   712119.5   712776.5   714811.0   714193.0   715186.5   720052.0   \n\n          135  \n0    273096.0  \n1    201396.0  \n2    189384.0  \n3    193515.5  \n4    325841.0  \n5    370655.5  \n6    205544.0  \n7    708434.0  \n8    714883.5  \n9    242887.5  \n10   369198.0  \n11   165212.0  \n12   618996.0  \n13   436391.5  \n14   536850.0  \n15   353412.0  \n16   572171.5  \n17   354521.5  \n18   454359.0  \n19   526853.5  \n20   199012.0  \n21   428124.0  \n22   180631.0  \n23  1338305.0  \n24   409588.5  \n25   262185.0  \n26   367539.0  \n27   405435.5  \n28   615029.0  \n29   717564.5  \n\n[30 rows x 139 columns]",
      "text/html": "<div>\n<style scoped>\n    .dataframe tbody tr th:only-of-type {\n        vertical-align: middle;\n    }\n\n    .dataframe tbody tr th {\n        vertical-align: top;\n    }\n\n    .dataframe thead th {\n        text-align: right;\n    }\n</style>\n<table border=\"1\" class=\"dataframe\">\n  <thead>\n    <tr style=\"text-align: right;\">\n      <th></th>\n      <th>ID</th>\n      <th>Panel</th>\n      <th>Batch</th>\n      <th>0</th>\n      <th>1</th>\n      <th>2</th>\n      <th>3</th>\n      <th>4</th>\n      <th>5</th>\n      <th>6</th>\n      <th>...</th>\n      <th>126</th>\n      <th>127</th>\n      <th>128</th>\n      <th>129</th>\n      <th>130</th>\n      <th>131</th>\n      <th>132</th>\n      <th>133</th>\n      <th>134</th>\n      <th>135</th>\n    </tr>\n  </thead>\n  <tbody>\n    <tr>\n      <th>0</th>\n      <td>30</td>\n      <td>1</td>\n      <td>150222-CSV</td>\n      <td>275929.5</td>\n      <td>273712.0</td>\n      <td>278562.0</td>\n      <td>277234.5</td>\n      <td>261851.0</td>\n      <td>262740.0</td>\n      <td>350092.0</td>\n      <td>...</td>\n      <td>272664.0</td>\n      <td>270047.0</td>\n      <td>264732.5</td>\n      <td>264959.0</td>\n      <td>265451.5</td>\n      <td>266696.5</td>\n      <td>266357.0</td>\n      <td>267911.5</td>\n      <td>272430.5</td>\n      <td>273096.0</td>\n    </tr>\n    <tr>\n      <th>1</th>\n      <td>5</td>\n      <td>1</td>\n      <td>150222-CSV</td>\n      <td>207067.0</td>\n      <td>203687.0</td>\n      <td>202864.5</td>\n      <td>202691.0</td>\n      <td>184140.0</td>\n      <td>181549.0</td>\n      <td>255618.0</td>\n      <td>...</td>\n      <td>215587.0</td>\n      <td>208414.5</td>\n      <td>204950.5</td>\n      <td>203018.5</td>\n      <td>204633.5</td>\n      <td>202623.0</td>\n      <td>202989.5</td>\n      <td>202083.0</td>\n      <td>203006.5</td>\n      <td>201396.0</td>\n    </tr>\n    <tr>\n      <th>2</th>\n      <td>2</td>\n      <td>1</td>\n      <td>150222-CSV</td>\n      <td>316393.0</td>\n      <td>245686.5</td>\n      <td>192628.0</td>\n      <td>194511.0</td>\n      <td>173604.5</td>\n      <td>174264.0</td>\n      <td>232959.5</td>\n      <td>...</td>\n      <td>203795.5</td>\n      <td>185624.0</td>\n      <td>187149.5</td>\n      <td>184896.5</td>\n      <td>181384.5</td>\n      <td>184017.0</td>\n      <td>184819.0</td>\n      <td>184738.0</td>\n      <td>196037.0</td>\n      <td>189384.0</td>\n    </tr>\n    <tr>\n      <th>3</th>\n      <td>168</td>\n      <td>1</td>\n      <td>150222-CSV</td>\n      <td>216432.5</td>\n      <td>203909.5</td>\n      <td>196577.5</td>\n      <td>198888.5</td>\n      <td>193620.5</td>\n      <td>189475.0</td>\n      <td>293384.5</td>\n      <td>...</td>\n      <td>215597.5</td>\n      <td>200138.0</td>\n      <td>195792.5</td>\n      <td>191446.5</td>\n      <td>188850.0</td>\n      <td>185772.5</td>\n      <td>185657.5</td>\n      <td>187802.5</td>\n      <td>199538.5</td>\n      <td>193515.5</td>\n    </tr>\n    <tr>\n      <th>4</th>\n      <td>61</td>\n      <td>1</td>\n      <td>150222-CSV</td>\n      <td>332340.5</td>\n      <td>326788.5</td>\n      <td>329644.5</td>\n      <td>330614.5</td>\n      <td>313646.0</td>\n      <td>314211.5</td>\n      <td>414414.5</td>\n      <td>...</td>\n      <td>325486.5</td>\n      <td>316998.0</td>\n      <td>315434.5</td>\n      <td>312708.5</td>\n      <td>316768.0</td>\n      <td>316668.5</td>\n      <td>320041.5</td>\n      <td>320643.5</td>\n      <td>325363.0</td>\n      <td>325841.0</td>\n    </tr>\n    <tr>\n      <th>5</th>\n      <td>14</td>\n      <td>1</td>\n      <td>150222-CSV</td>\n      <td>360785.5</td>\n      <td>362059.0</td>\n      <td>372381.0</td>\n      <td>372864.0</td>\n      <td>347659.5</td>\n      <td>342489.5</td>\n      <td>402313.5</td>\n      <td>...</td>\n      <td>380295.5</td>\n      <td>374138.5</td>\n      <td>372376.5</td>\n      <td>368809.5</td>\n      <td>369974.5</td>\n      <td>367968.5</td>\n      <td>368094.0</td>\n      <td>367214.0</td>\n      <td>370032.5</td>\n      <td>370655.5</td>\n    </tr>\n    <tr>\n      <th>6</th>\n      <td>220</td>\n      <td>1</td>\n      <td>150222-CSV</td>\n      <td>279525.0</td>\n      <td>240902.0</td>\n      <td>207959.5</td>\n      <td>209578.5</td>\n      <td>189970.5</td>\n      <td>191756.5</td>\n      <td>285277.5</td>\n      <td>...</td>\n      <td>219489.5</td>\n      <td>209542.0</td>\n      <td>210231.0</td>\n      <td>205590.0</td>\n      <td>207105.5</td>\n      <td>207704.0</td>\n      <td>204323.0</td>\n      <td>203712.5</td>\n      <td>204766.5</td>\n      <td>205544.0</td>\n    </tr>\n    <tr>\n      <th>7</th>\n      <td>142</td>\n      <td>1</td>\n      <td>150222-CSV</td>\n      <td>708788.5</td>\n      <td>703801.5</td>\n      <td>713389.0</td>\n      <td>714972.0</td>\n      <td>690790.0</td>\n      <td>691195.5</td>\n      <td>805841.5</td>\n      <td>...</td>\n      <td>710237.0</td>\n      <td>699282.0</td>\n      <td>699966.0</td>\n      <td>697242.0</td>\n      <td>699591.5</td>\n      <td>698411.0</td>\n      <td>700535.0</td>\n      <td>700045.0</td>\n      <td>706924.0</td>\n      <td>708434.0</td>\n    </tr>\n    <tr>\n      <th>8</th>\n      <td>169</td>\n      <td>1</td>\n      <td>150222-CSV</td>\n      <td>737439.5</td>\n      <td>718947.0</td>\n      <td>718155.5</td>\n      <td>721511.0</td>\n      <td>703168.0</td>\n      <td>702354.5</td>\n      <td>790045.0</td>\n      <td>...</td>\n      <td>715103.5</td>\n      <td>705472.5</td>\n      <td>704018.0</td>\n      <td>702209.5</td>\n      <td>702567.0</td>\n      <td>703123.5</td>\n      <td>705571.5</td>\n      <td>709199.0</td>\n      <td>713010.5</td>\n      <td>714883.5</td>\n    </tr>\n    <tr>\n      <th>9</th>\n      <td>127</td>\n      <td>1</td>\n      <td>150222-CSV</td>\n      <td>251338.5</td>\n      <td>232795.0</td>\n      <td>245453.0</td>\n      <td>249671.0</td>\n      <td>230574.0</td>\n      <td>228173.0</td>\n      <td>333984.0</td>\n      <td>...</td>\n      <td>246606.0</td>\n      <td>237656.5</td>\n      <td>238686.0</td>\n      <td>237163.0</td>\n      <td>239732.0</td>\n      <td>238637.0</td>\n      <td>239818.0</td>\n      <td>240360.5</td>\n      <td>243488.0</td>\n      <td>242887.5</td>\n    </tr>\n    <tr>\n      <th>10</th>\n      <td>120</td>\n      <td>1</td>\n      <td>150222-CSV</td>\n      <td>378140.0</td>\n      <td>374824.0</td>\n      <td>373068.5</td>\n      <td>375921.5</td>\n      <td>362734.5</td>\n      <td>360668.0</td>\n      <td>447138.5</td>\n      <td>...</td>\n      <td>379776.5</td>\n      <td>368519.0</td>\n      <td>363729.5</td>\n      <td>358883.5</td>\n      <td>359745.0</td>\n      <td>358526.0</td>\n      <td>359675.0</td>\n      <td>361668.5</td>\n      <td>366844.0</td>\n      <td>369198.0</td>\n    </tr>\n    <tr>\n      <th>11</th>\n      <td>4</td>\n      <td>1</td>\n      <td>150222-CSV</td>\n      <td>175281.0</td>\n      <td>168012.0</td>\n      <td>170760.5</td>\n      <td>171753.5</td>\n      <td>152962.5</td>\n      <td>149766.5</td>\n      <td>221353.5</td>\n      <td>...</td>\n      <td>178826.5</td>\n      <td>167506.5</td>\n      <td>164025.0</td>\n      <td>159829.0</td>\n      <td>160161.5</td>\n      <td>159456.5</td>\n      <td>160694.0</td>\n      <td>161086.5</td>\n      <td>163521.0</td>\n      <td>165212.0</td>\n    </tr>\n    <tr>\n      <th>12</th>\n      <td>129</td>\n      <td>1</td>\n      <td>150222-CSV</td>\n      <td>612874.5</td>\n      <td>609787.5</td>\n      <td>621493.0</td>\n      <td>623649.0</td>\n      <td>599538.0</td>\n      <td>598220.0</td>\n      <td>672983.0</td>\n      <td>...</td>\n      <td>622289.0</td>\n      <td>619255.0</td>\n      <td>616763.5</td>\n      <td>615443.0</td>\n      <td>614319.5</td>\n      <td>614894.0</td>\n      <td>616360.5</td>\n      <td>615422.0</td>\n      <td>617860.5</td>\n      <td>618996.0</td>\n    </tr>\n    <tr>\n      <th>13</th>\n      <td>131</td>\n      <td>1</td>\n      <td>150222-CSV</td>\n      <td>574655.5</td>\n      <td>545775.5</td>\n      <td>427272.5</td>\n      <td>417388.5</td>\n      <td>495837.5</td>\n      <td>478223.5</td>\n      <td>807200.5</td>\n      <td>...</td>\n      <td>588592.0</td>\n      <td>556413.0</td>\n      <td>519235.0</td>\n      <td>499229.0</td>\n      <td>494655.5</td>\n      <td>494025.0</td>\n      <td>479228.0</td>\n      <td>465852.0</td>\n      <td>458101.0</td>\n      <td>436391.5</td>\n    </tr>\n    <tr>\n      <th>14</th>\n      <td>B</td>\n      <td>1</td>\n      <td>150222-CSV</td>\n      <td>532320.5</td>\n      <td>526363.5</td>\n      <td>539261.0</td>\n      <td>538660.5</td>\n      <td>510237.0</td>\n      <td>508481.0</td>\n      <td>594689.5</td>\n      <td>...</td>\n      <td>538698.5</td>\n      <td>533988.5</td>\n      <td>532005.5</td>\n      <td>529399.5</td>\n      <td>530942.0</td>\n      <td>532576.0</td>\n      <td>533911.0</td>\n      <td>533227.5</td>\n      <td>536927.5</td>\n      <td>536850.0</td>\n    </tr>\n    <tr>\n      <th>15</th>\n      <td>27</td>\n      <td>1</td>\n      <td>150222-CSV</td>\n      <td>365206.5</td>\n      <td>353582.0</td>\n      <td>359998.5</td>\n      <td>355971.5</td>\n      <td>338733.5</td>\n      <td>335380.0</td>\n      <td>422580.5</td>\n      <td>...</td>\n      <td>356081.0</td>\n      <td>350492.0</td>\n      <td>350017.5</td>\n      <td>347304.0</td>\n      <td>350085.5</td>\n      <td>348191.5</td>\n      <td>350835.0</td>\n      <td>352010.5</td>\n      <td>353407.0</td>\n      <td>353412.0</td>\n    </tr>\n    <tr>\n      <th>16</th>\n      <td>15</td>\n      <td>1</td>\n      <td>150222-CSV</td>\n      <td>573609.0</td>\n      <td>555642.0</td>\n      <td>574880.0</td>\n      <td>575123.0</td>\n      <td>552445.5</td>\n      <td>549797.0</td>\n      <td>642669.5</td>\n      <td>...</td>\n      <td>571800.0</td>\n      <td>564486.0</td>\n      <td>566806.0</td>\n      <td>566635.0</td>\n      <td>569128.0</td>\n      <td>568625.5</td>\n      <td>570078.0</td>\n      <td>569346.5</td>\n      <td>573102.0</td>\n      <td>572171.5</td>\n    </tr>\n    <tr>\n      <th>17</th>\n      <td>217</td>\n      <td>1</td>\n      <td>150222-CSV</td>\n      <td>396728.0</td>\n      <td>364866.5</td>\n      <td>355972.5</td>\n      <td>357018.0</td>\n      <td>338839.5</td>\n      <td>338722.0</td>\n      <td>406584.5</td>\n      <td>...</td>\n      <td>354567.0</td>\n      <td>347255.5</td>\n      <td>346809.5</td>\n      <td>346432.0</td>\n      <td>347848.0</td>\n      <td>347342.0</td>\n      <td>348959.0</td>\n      <td>351526.0</td>\n      <td>354347.0</td>\n      <td>354521.5</td>\n    </tr>\n    <tr>\n      <th>18</th>\n      <td>219</td>\n      <td>1</td>\n      <td>150222-CSV</td>\n      <td>470969.0</td>\n      <td>457533.5</td>\n      <td>457619.0</td>\n      <td>458498.0</td>\n      <td>444771.5</td>\n      <td>442973.5</td>\n      <td>509753.5</td>\n      <td>...</td>\n      <td>460126.5</td>\n      <td>443626.5</td>\n      <td>443263.0</td>\n      <td>442379.0</td>\n      <td>440661.5</td>\n      <td>445806.0</td>\n      <td>447085.0</td>\n      <td>450103.5</td>\n      <td>465658.0</td>\n      <td>454359.0</td>\n    </tr>\n    <tr>\n      <th>19</th>\n      <td>234</td>\n      <td>1</td>\n      <td>150222-CSV</td>\n      <td>556585.0</td>\n      <td>535950.0</td>\n      <td>526020.5</td>\n      <td>527833.5</td>\n      <td>506701.0</td>\n      <td>503274.5</td>\n      <td>567821.0</td>\n      <td>...</td>\n      <td>540823.5</td>\n      <td>532936.0</td>\n      <td>531041.0</td>\n      <td>533368.5</td>\n      <td>527033.5</td>\n      <td>525289.0</td>\n      <td>521597.0</td>\n      <td>522595.0</td>\n      <td>527744.5</td>\n      <td>526853.5</td>\n    </tr>\n    <tr>\n      <th>20</th>\n      <td>158</td>\n      <td>1</td>\n      <td>150222-CSV</td>\n      <td>213659.5</td>\n      <td>192211.5</td>\n      <td>200887.0</td>\n      <td>199032.0</td>\n      <td>190367.5</td>\n      <td>189064.5</td>\n      <td>273896.0</td>\n      <td>...</td>\n      <td>219058.5</td>\n      <td>208279.5</td>\n      <td>204520.5</td>\n      <td>203832.5</td>\n      <td>202929.0</td>\n      <td>200680.5</td>\n      <td>201888.0</td>\n      <td>199478.0</td>\n      <td>202755.0</td>\n      <td>199012.0</td>\n    </tr>\n    <tr>\n      <th>21</th>\n      <td>10</td>\n      <td>1</td>\n      <td>150222-CSV</td>\n      <td>430477.0</td>\n      <td>428249.0</td>\n      <td>432371.0</td>\n      <td>433895.5</td>\n      <td>417143.5</td>\n      <td>415813.5</td>\n      <td>490811.0</td>\n      <td>...</td>\n      <td>433722.5</td>\n      <td>426930.5</td>\n      <td>423183.5</td>\n      <td>421379.0</td>\n      <td>422231.5</td>\n      <td>421839.0</td>\n      <td>422582.0</td>\n      <td>425537.5</td>\n      <td>426949.0</td>\n      <td>428124.0</td>\n    </tr>\n    <tr>\n      <th>22</th>\n      <td>216</td>\n      <td>1</td>\n      <td>150222-CSV</td>\n      <td>196431.5</td>\n      <td>180231.5</td>\n      <td>184005.5</td>\n      <td>186533.0</td>\n      <td>164841.5</td>\n      <td>163915.0</td>\n      <td>250543.0</td>\n      <td>...</td>\n      <td>170911.5</td>\n      <td>163842.5</td>\n      <td>167478.5</td>\n      <td>175349.5</td>\n      <td>176536.5</td>\n      <td>265686.5</td>\n      <td>179757.5</td>\n      <td>248202.0</td>\n      <td>189117.5</td>\n      <td>180631.0</td>\n    </tr>\n    <tr>\n      <th>23</th>\n      <td>146</td>\n      <td>1</td>\n      <td>150222-CSV</td>\n      <td>1343635.0</td>\n      <td>1329010.0</td>\n      <td>1341620.0</td>\n      <td>1342090.0</td>\n      <td>1329725.0</td>\n      <td>1327230.0</td>\n      <td>1405180.0</td>\n      <td>...</td>\n      <td>1350640.0</td>\n      <td>1341710.0</td>\n      <td>1339540.0</td>\n      <td>1337105.0</td>\n      <td>1337055.0</td>\n      <td>1335485.0</td>\n      <td>1335380.0</td>\n      <td>1334795.0</td>\n      <td>1339800.0</td>\n      <td>1338305.0</td>\n    </tr>\n    <tr>\n      <th>24</th>\n      <td>8</td>\n      <td>1</td>\n      <td>150222-CSV</td>\n      <td>464587.0</td>\n      <td>444042.5</td>\n      <td>411942.0</td>\n      <td>415223.0</td>\n      <td>403446.5</td>\n      <td>401985.5</td>\n      <td>446938.0</td>\n      <td>...</td>\n      <td>422770.5</td>\n      <td>411640.5</td>\n      <td>407931.0</td>\n      <td>405705.5</td>\n      <td>405886.0</td>\n      <td>405462.5</td>\n      <td>404854.0</td>\n      <td>403952.5</td>\n      <td>408720.0</td>\n      <td>409588.5</td>\n    </tr>\n    <tr>\n      <th>25</th>\n      <td>1</td>\n      <td>1</td>\n      <td>150222-CSV</td>\n      <td>276002.0</td>\n      <td>263142.5</td>\n      <td>263391.5</td>\n      <td>264276.5</td>\n      <td>244421.5</td>\n      <td>240421.5</td>\n      <td>305425.5</td>\n      <td>...</td>\n      <td>274284.0</td>\n      <td>269227.5</td>\n      <td>267270.0</td>\n      <td>266249.0</td>\n      <td>265115.5</td>\n      <td>266307.5</td>\n      <td>264643.5</td>\n      <td>266200.5</td>\n      <td>265859.0</td>\n      <td>262185.0</td>\n    </tr>\n    <tr>\n      <th>26</th>\n      <td>235</td>\n      <td>1</td>\n      <td>150222-CSV</td>\n      <td>427443.0</td>\n      <td>379191.5</td>\n      <td>366531.0</td>\n      <td>368160.5</td>\n      <td>375298.5</td>\n      <td>371491.5</td>\n      <td>458647.5</td>\n      <td>...</td>\n      <td>402299.0</td>\n      <td>388370.5</td>\n      <td>385022.0</td>\n      <td>380975.0</td>\n      <td>375142.5</td>\n      <td>376311.0</td>\n      <td>367367.5</td>\n      <td>367980.5</td>\n      <td>375601.5</td>\n      <td>367539.0</td>\n    </tr>\n    <tr>\n      <th>27</th>\n      <td>122</td>\n      <td>1</td>\n      <td>150222-CSV</td>\n      <td>401550.0</td>\n      <td>392715.0</td>\n      <td>406270.5</td>\n      <td>407180.0</td>\n      <td>387542.5</td>\n      <td>387625.5</td>\n      <td>486435.0</td>\n      <td>...</td>\n      <td>399390.5</td>\n      <td>397570.0</td>\n      <td>399802.0</td>\n      <td>403122.5</td>\n      <td>406624.0</td>\n      <td>406524.5</td>\n      <td>407158.5</td>\n      <td>405789.5</td>\n      <td>408449.0</td>\n      <td>405435.5</td>\n    </tr>\n    <tr>\n      <th>28</th>\n      <td>162</td>\n      <td>1</td>\n      <td>150222-CSV</td>\n      <td>665325.0</td>\n      <td>654826.5</td>\n      <td>615961.5</td>\n      <td>616678.5</td>\n      <td>628485.5</td>\n      <td>625330.0</td>\n      <td>704140.5</td>\n      <td>...</td>\n      <td>648223.0</td>\n      <td>640319.0</td>\n      <td>636159.0</td>\n      <td>633784.0</td>\n      <td>630931.0</td>\n      <td>627190.0</td>\n      <td>623762.0</td>\n      <td>620043.0</td>\n      <td>619212.0</td>\n      <td>615029.0</td>\n    </tr>\n    <tr>\n      <th>29</th>\n      <td>74</td>\n      <td>1</td>\n      <td>150222-CSV</td>\n      <td>757196.5</td>\n      <td>734274.5</td>\n      <td>719937.5</td>\n      <td>719481.0</td>\n      <td>703424.0</td>\n      <td>700694.0</td>\n      <td>776893.0</td>\n      <td>...</td>\n      <td>715480.5</td>\n      <td>711719.5</td>\n      <td>711794.5</td>\n      <td>712119.5</td>\n      <td>712776.5</td>\n      <td>714811.0</td>\n      <td>714193.0</td>\n      <td>715186.5</td>\n      <td>720052.0</td>\n      <td>717564.5</td>\n    </tr>\n  </tbody>\n</table>\n<p>30 rows × 139 columns</p>\n</div>"
     },
     "metadata": {}
    }
   ],
   "execution_count": null
  },
  {
   "cell_type": "code",
   "metadata": {
    "cell_id": "7bdf647c-d0ee-47a5-ac7c-031b2dffdc7c",
    "tags": [],
    "deepnote_to_be_reexecuted": false,
    "source_hash": "3e0b36aa",
    "execution_start": 1645691106218,
    "execution_millis": 478,
    "deepnote_cell_type": "code"
   },
   "source": "# For panel 2\npanel2 = pd.DataFrame.from_records(batch2)\n# Add batch date\npanel2.insert(0, \"Batch\", batch_directory)\n# Add panel number\npanel2.insert(0, \"Panel\", 2)\n# Add ID\npanel2.insert(0, \"ID\", id2)\n\npanel2",
   "outputs": [
    {
     "output_type": "execute_result",
     "execution_count": 5,
     "data": {
      "application/vnd.deepnote.dataframe.v3+json": {
       "column_count": 137,
       "row_count": 30,
       "columns": [
        {
         "name": "ID",
         "dtype": "object",
         "stats": {
          "unique_count": 30,
          "nan_count": 0,
          "categories": [
           {
            "name": "74",
            "count": 1
           },
           {
            "name": "B",
            "count": 1
           },
           {
            "name": "28 others",
            "count": 28
           }
          ]
         }
        },
        {
         "name": "Panel",
         "dtype": "int64",
         "stats": {
          "unique_count": 1,
          "nan_count": 0,
          "min": "2",
          "max": "2",
          "histogram": [
           {
            "bin_start": 1.5,
            "bin_end": 1.6,
            "count": 0
           },
           {
            "bin_start": 1.6,
            "bin_end": 1.7,
            "count": 0
           },
           {
            "bin_start": 1.7,
            "bin_end": 1.8,
            "count": 0
           },
           {
            "bin_start": 1.8,
            "bin_end": 1.9,
            "count": 0
           },
           {
            "bin_start": 1.9,
            "bin_end": 2,
            "count": 0
           },
           {
            "bin_start": 2,
            "bin_end": 2.1,
            "count": 30
           },
           {
            "bin_start": 2.1,
            "bin_end": 2.2,
            "count": 0
           },
           {
            "bin_start": 2.2,
            "bin_end": 2.3,
            "count": 0
           },
           {
            "bin_start": 2.3,
            "bin_end": 2.4,
            "count": 0
           },
           {
            "bin_start": 2.4,
            "bin_end": 2.5,
            "count": 0
           }
          ]
         }
        },
        {
         "name": "Batch",
         "dtype": "object",
         "stats": {
          "unique_count": 1,
          "nan_count": 0,
          "categories": [
           {
            "name": "150222-CSV",
            "count": 30
           }
          ]
         }
        },
        {
         "name": 0,
         "dtype": "float64",
         "stats": {
          "unique_count": 30,
          "nan_count": 0,
          "min": "176295.0",
          "max": "1177495.0",
          "histogram": [
           {
            "bin_start": 176295,
            "bin_end": 276415,
            "count": 16
           },
           {
            "bin_start": 276415,
            "bin_end": 376535,
            "count": 2
           },
           {
            "bin_start": 376535,
            "bin_end": 476655,
            "count": 3
           },
           {
            "bin_start": 476655,
            "bin_end": 576775,
            "count": 4
           },
           {
            "bin_start": 576775,
            "bin_end": 676895,
            "count": 2
           },
           {
            "bin_start": 676895,
            "bin_end": 777015,
            "count": 2
           },
           {
            "bin_start": 777015,
            "bin_end": 877135,
            "count": 0
           },
           {
            "bin_start": 877135,
            "bin_end": 977255,
            "count": 0
           },
           {
            "bin_start": 977255,
            "bin_end": 1077375,
            "count": 0
           },
           {
            "bin_start": 1077375,
            "bin_end": 1177495,
            "count": 1
           }
          ]
         }
        },
        {
         "name": 1,
         "dtype": "float64",
         "stats": {
          "unique_count": 30,
          "nan_count": 0,
          "min": "172086.5",
          "max": "1170845.0",
          "histogram": [
           {
            "bin_start": 172086.5,
            "bin_end": 271962.35,
            "count": 18
           },
           {
            "bin_start": 271962.35,
            "bin_end": 371838.2,
            "count": 0
           },
           {
            "bin_start": 371838.2,
            "bin_end": 471714.05000000005,
            "count": 3
           },
           {
            "bin_start": 471714.05000000005,
            "bin_end": 571589.9,
            "count": 4
           },
           {
            "bin_start": 571589.9,
            "bin_end": 671465.75,
            "count": 3
           },
           {
            "bin_start": 671465.75,
            "bin_end": 771341.6000000001,
            "count": 1
           },
           {
            "bin_start": 771341.6000000001,
            "bin_end": 871217.4500000001,
            "count": 0
           },
           {
            "bin_start": 871217.4500000001,
            "bin_end": 971093.3,
            "count": 0
           },
           {
            "bin_start": 971093.3,
            "bin_end": 1070969.15,
            "count": 0
           },
           {
            "bin_start": 1070969.15,
            "bin_end": 1170845,
            "count": 1
           }
          ]
         }
        },
        {
         "name": 2,
         "dtype": "float64",
         "stats": {
          "unique_count": 30,
          "nan_count": 0,
          "min": "161402.0",
          "max": "1155535.0",
          "histogram": [
           {
            "bin_start": 161402,
            "bin_end": 260815.3,
            "count": 18
           },
           {
            "bin_start": 260815.3,
            "bin_end": 360228.6,
            "count": 0
           },
           {
            "bin_start": 360228.6,
            "bin_end": 459641.9,
            "count": 3
           },
           {
            "bin_start": 459641.9,
            "bin_end": 559055.2,
            "count": 5
           },
           {
            "bin_start": 559055.2,
            "bin_end": 658468.5,
            "count": 2
           },
           {
            "bin_start": 658468.5,
            "bin_end": 757881.8,
            "count": 1
           },
           {
            "bin_start": 757881.8,
            "bin_end": 857295.1,
            "count": 0
           },
           {
            "bin_start": 857295.1,
            "bin_end": 956708.4,
            "count": 0
           },
           {
            "bin_start": 956708.4,
            "bin_end": 1056121.7000000002,
            "count": 0
           },
           {
            "bin_start": 1056121.7000000002,
            "bin_end": 1155535,
            "count": 1
           }
          ]
         }
        },
        {
         "name": 3,
         "dtype": "float64",
         "stats": {
          "unique_count": 30,
          "nan_count": 0,
          "min": "160230.5",
          "max": "1147420.0",
          "histogram": [
           {
            "bin_start": 160230.5,
            "bin_end": 258949.45,
            "count": 18
           },
           {
            "bin_start": 258949.45,
            "bin_end": 357668.4,
            "count": 0
           },
           {
            "bin_start": 357668.4,
            "bin_end": 456387.35,
            "count": 3
           },
           {
            "bin_start": 456387.35,
            "bin_end": 555106.3,
            "count": 5
           },
           {
            "bin_start": 555106.3,
            "bin_end": 653825.25,
            "count": 2
           },
           {
            "bin_start": 653825.25,
            "bin_end": 752544.2,
            "count": 1
           },
           {
            "bin_start": 752544.2,
            "bin_end": 851263.15,
            "count": 0
           },
           {
            "bin_start": 851263.15,
            "bin_end": 949982.1,
            "count": 0
           },
           {
            "bin_start": 949982.1,
            "bin_end": 1048701.0499999998,
            "count": 0
           },
           {
            "bin_start": 1048701.0499999998,
            "bin_end": 1147420,
            "count": 1
           }
          ]
         }
        },
        {
         "name": 4,
         "dtype": "float64",
         "stats": {
          "unique_count": 30,
          "nan_count": 0,
          "min": "159232.0",
          "max": "1143915.0",
          "histogram": [
           {
            "bin_start": 159232,
            "bin_end": 257700.3,
            "count": 18
           },
           {
            "bin_start": 257700.3,
            "bin_end": 356168.6,
            "count": 0
           },
           {
            "bin_start": 356168.6,
            "bin_end": 454636.9,
            "count": 3
           },
           {
            "bin_start": 454636.9,
            "bin_end": 553105.2,
            "count": 5
           },
           {
            "bin_start": 553105.2,
            "bin_end": 651573.5,
            "count": 2
           },
           {
            "bin_start": 651573.5,
            "bin_end": 750041.8,
            "count": 1
           },
           {
            "bin_start": 750041.8,
            "bin_end": 848510.1,
            "count": 0
           },
           {
            "bin_start": 848510.1,
            "bin_end": 946978.4,
            "count": 0
           },
           {
            "bin_start": 946978.4,
            "bin_end": 1045446.7000000001,
            "count": 0
           },
           {
            "bin_start": 1045446.7000000001,
            "bin_end": 1143915,
            "count": 1
           }
          ]
         }
        },
        {
         "name": 5,
         "dtype": "float64",
         "stats": {
          "unique_count": 30,
          "nan_count": 0,
          "min": "157171.5",
          "max": "1134840.0",
          "histogram": [
           {
            "bin_start": 157171.5,
            "bin_end": 254938.35,
            "count": 18
           },
           {
            "bin_start": 254938.35,
            "bin_end": 352705.2,
            "count": 0
           },
           {
            "bin_start": 352705.2,
            "bin_end": 450472.05000000005,
            "count": 3
           },
           {
            "bin_start": 450472.05000000005,
            "bin_end": 548238.9,
            "count": 5
           },
           {
            "bin_start": 548238.9,
            "bin_end": 646005.75,
            "count": 2
           },
           {
            "bin_start": 646005.75,
            "bin_end": 743772.6000000001,
            "count": 1
           },
           {
            "bin_start": 743772.6000000001,
            "bin_end": 841539.4500000001,
            "count": 0
           },
           {
            "bin_start": 841539.4500000001,
            "bin_end": 939306.3,
            "count": 0
           },
           {
            "bin_start": 939306.3,
            "bin_end": 1037073.15,
            "count": 0
           },
           {
            "bin_start": 1037073.15,
            "bin_end": 1134840,
            "count": 1
           }
          ]
         }
        },
        {
         "name": 6,
         "dtype": "float64",
         "stats": {
          "unique_count": 30,
          "nan_count": 0,
          "min": "237221.0",
          "max": "1334620.0",
          "histogram": [
           {
            "bin_start": 237221,
            "bin_end": 346960.9,
            "count": 18
           },
           {
            "bin_start": 346960.9,
            "bin_end": 456700.8,
            "count": 0
           },
           {
            "bin_start": 456700.8,
            "bin_end": 566440.7,
            "count": 3
           },
           {
            "bin_start": 566440.7,
            "bin_end": 676180.6,
            "count": 5
           },
           {
            "bin_start": 676180.6,
            "bin_end": 785920.5,
            "count": 2
           },
           {
            "bin_start": 785920.5,
            "bin_end": 895660.3999999999,
            "count": 1
           },
           {
            "bin_start": 895660.3999999999,
            "bin_end": 1005400.2999999999,
            "count": 0
           },
           {
            "bin_start": 1005400.2999999999,
            "bin_end": 1115140.2,
            "count": 0
           },
           {
            "bin_start": 1115140.2,
            "bin_end": 1224880.1,
            "count": 0
           },
           {
            "bin_start": 1224880.1,
            "bin_end": 1334620,
            "count": 1
           }
          ]
         }
        },
        {
         "name": 7,
         "dtype": "float64",
         "stats": {
          "unique_count": 30,
          "nan_count": 0,
          "min": "209818.0",
          "max": "1228670.0",
          "histogram": [
           {
            "bin_start": 209818,
            "bin_end": 311703.2,
            "count": 18
           },
           {
            "bin_start": 311703.2,
            "bin_end": 413588.4,
            "count": 0
           },
           {
            "bin_start": 413588.4,
            "bin_end": 515473.6,
            "count": 3
           },
           {
            "bin_start": 515473.6,
            "bin_end": 617358.8,
            "count": 5
           },
           {
            "bin_start": 617358.8,
            "bin_end": 719244,
            "count": 1
           },
           {
            "bin_start": 719244,
            "bin_end": 821129.2,
            "count": 2
           },
           {
            "bin_start": 821129.2,
            "bin_end": 923014.4,
            "count": 0
           },
           {
            "bin_start": 923014.4,
            "bin_end": 1024899.6,
            "count": 0
           },
           {
            "bin_start": 1024899.6,
            "bin_end": 1126784.7999999998,
            "count": 0
           },
           {
            "bin_start": 1126784.7999999998,
            "bin_end": 1228670,
            "count": 1
           }
          ]
         }
        },
        {
         "name": 8,
         "dtype": "float64",
         "stats": {
          "unique_count": 30,
          "nan_count": 0,
          "min": "202866.0",
          "max": "1225195.0",
          "histogram": [
           {
            "bin_start": 202866,
            "bin_end": 305098.9,
            "count": 18
           },
           {
            "bin_start": 305098.9,
            "bin_end": 407331.8,
            "count": 0
           },
           {
            "bin_start": 407331.8,
            "bin_end": 509564.69999999995,
            "count": 3
           },
           {
            "bin_start": 509564.69999999995,
            "bin_end": 611797.6,
            "count": 5
           },
           {
            "bin_start": 611797.6,
            "bin_end": 714030.5,
            "count": 2
           },
           {
            "bin_start": 714030.5,
            "bin_end": 816263.3999999999,
            "count": 1
           },
           {
            "bin_start": 816263.3999999999,
            "bin_end": 918496.2999999999,
            "count": 0
           },
           {
            "bin_start": 918496.2999999999,
            "bin_end": 1020729.2,
            "count": 0
           },
           {
            "bin_start": 1020729.2,
            "bin_end": 1122962.1,
            "count": 0
           },
           {
            "bin_start": 1122962.1,
            "bin_end": 1225195,
            "count": 1
           }
          ]
         }
        },
        {
         "name": 9,
         "dtype": "float64",
         "stats": {
          "unique_count": 30,
          "nan_count": 0,
          "min": "176941.0",
          "max": "1158130.0",
          "histogram": [
           {
            "bin_start": 176941,
            "bin_end": 275059.9,
            "count": 18
           },
           {
            "bin_start": 275059.9,
            "bin_end": 373178.8,
            "count": 0
           },
           {
            "bin_start": 373178.8,
            "bin_end": 471297.69999999995,
            "count": 3
           },
           {
            "bin_start": 471297.69999999995,
            "bin_end": 569416.6,
            "count": 6
           },
           {
            "bin_start": 569416.6,
            "bin_end": 667535.5,
            "count": 1
           },
           {
            "bin_start": 667535.5,
            "bin_end": 765654.3999999999,
            "count": 1
           },
           {
            "bin_start": 765654.3999999999,
            "bin_end": 863773.2999999999,
            "count": 0
           },
           {
            "bin_start": 863773.2999999999,
            "bin_end": 961892.2,
            "count": 0
           },
           {
            "bin_start": 961892.2,
            "bin_end": 1060011.1,
            "count": 0
           },
           {
            "bin_start": 1060011.1,
            "bin_end": 1158130,
            "count": 1
           }
          ]
         }
        },
        {
         "name": 10,
         "dtype": "float64",
         "stats": {
          "unique_count": 30,
          "nan_count": 0,
          "min": "172682.0",
          "max": "1166880.0",
          "histogram": [
           {
            "bin_start": 172682,
            "bin_end": 272101.8,
            "count": 18
           },
           {
            "bin_start": 272101.8,
            "bin_end": 371521.6,
            "count": 0
           },
           {
            "bin_start": 371521.6,
            "bin_end": 470941.4,
            "count": 3
           },
           {
            "bin_start": 470941.4,
            "bin_end": 570361.2,
            "count": 6
           },
           {
            "bin_start": 570361.2,
            "bin_end": 669781,
            "count": 1
           },
           {
            "bin_start": 669781,
            "bin_end": 769200.8,
            "count": 1
           },
           {
            "bin_start": 769200.8,
            "bin_end": 868620.6,
            "count": 0
           },
           {
            "bin_start": 868620.6,
            "bin_end": 968040.4,
            "count": 0
           },
           {
            "bin_start": 968040.4,
            "bin_end": 1067460.2000000002,
            "count": 0
           },
           {
            "bin_start": 1067460.2000000002,
            "bin_end": 1166880,
            "count": 1
           }
          ]
         }
        },
        {
         "name": 11,
         "dtype": "float64",
         "stats": {
          "unique_count": 30,
          "nan_count": 0,
          "min": "157132.0",
          "max": "1148480.0",
          "histogram": [
           {
            "bin_start": 157132,
            "bin_end": 256266.8,
            "count": 18
           },
           {
            "bin_start": 256266.8,
            "bin_end": 355401.6,
            "count": 0
           },
           {
            "bin_start": 355401.6,
            "bin_end": 454536.4,
            "count": 3
           },
           {
            "bin_start": 454536.4,
            "bin_end": 553671.2,
            "count": 5
           },
           {
            "bin_start": 553671.2,
            "bin_end": 652806,
            "count": 2
           },
           {
            "bin_start": 652806,
            "bin_end": 751940.8,
            "count": 1
           },
           {
            "bin_start": 751940.8,
            "bin_end": 851075.6,
            "count": 0
           },
           {
            "bin_start": 851075.6,
            "bin_end": 950210.4,
            "count": 0
           },
           {
            "bin_start": 950210.4,
            "bin_end": 1049345.2000000002,
            "count": 0
           },
           {
            "bin_start": 1049345.2000000002,
            "bin_end": 1148480,
            "count": 1
           }
          ]
         }
        },
        {
         "name": 12,
         "dtype": "float64",
         "stats": {
          "unique_count": 30,
          "nan_count": 0,
          "min": "158322.0",
          "max": "1157110.0",
          "histogram": [
           {
            "bin_start": 158322,
            "bin_end": 258200.8,
            "count": 18
           },
           {
            "bin_start": 258200.8,
            "bin_end": 358079.6,
            "count": 0
           },
           {
            "bin_start": 358079.6,
            "bin_end": 457958.4,
            "count": 3
           },
           {
            "bin_start": 457958.4,
            "bin_end": 557837.2,
            "count": 5
           },
           {
            "bin_start": 557837.2,
            "bin_end": 657716,
            "count": 2
           },
           {
            "bin_start": 657716,
            "bin_end": 757594.8,
            "count": 1
           },
           {
            "bin_start": 757594.8,
            "bin_end": 857473.6,
            "count": 0
           },
           {
            "bin_start": 857473.6,
            "bin_end": 957352.4,
            "count": 0
           },
           {
            "bin_start": 957352.4,
            "bin_end": 1057231.2000000002,
            "count": 0
           },
           {
            "bin_start": 1057231.2000000002,
            "bin_end": 1157110,
            "count": 1
           }
          ]
         }
        },
        {
         "name": 13,
         "dtype": "float64",
         "stats": {
          "unique_count": 30,
          "nan_count": 0,
          "min": "159862.0",
          "max": "1168365.0",
          "histogram": [
           {
            "bin_start": 159862,
            "bin_end": 260712.3,
            "count": 18
           },
           {
            "bin_start": 260712.3,
            "bin_end": 361562.6,
            "count": 0
           },
           {
            "bin_start": 361562.6,
            "bin_end": 462412.9,
            "count": 3
           },
           {
            "bin_start": 462412.9,
            "bin_end": 563263.2,
            "count": 6
           },
           {
            "bin_start": 563263.2,
            "bin_end": 664113.5,
            "count": 1
           },
           {
            "bin_start": 664113.5,
            "bin_end": 764963.8,
            "count": 1
           },
           {
            "bin_start": 764963.8,
            "bin_end": 865814.1,
            "count": 0
           },
           {
            "bin_start": 865814.1,
            "bin_end": 966664.4,
            "count": 0
           },
           {
            "bin_start": 966664.4,
            "bin_end": 1067514.7000000002,
            "count": 0
           },
           {
            "bin_start": 1067514.7000000002,
            "bin_end": 1168365,
            "count": 1
           }
          ]
         }
        },
        {
         "name": 14,
         "dtype": "float64",
         "stats": {
          "unique_count": 30,
          "nan_count": 0,
          "min": "168286.0",
          "max": "1178440.0",
          "histogram": [
           {
            "bin_start": 168286,
            "bin_end": 269301.4,
            "count": 18
           },
           {
            "bin_start": 269301.4,
            "bin_end": 370316.8,
            "count": 0
           },
           {
            "bin_start": 370316.8,
            "bin_end": 471332.19999999995,
            "count": 3
           },
           {
            "bin_start": 471332.19999999995,
            "bin_end": 572347.6,
            "count": 6
           },
           {
            "bin_start": 572347.6,
            "bin_end": 673363,
            "count": 1
           },
           {
            "bin_start": 673363,
            "bin_end": 774378.3999999999,
            "count": 1
           },
           {
            "bin_start": 774378.3999999999,
            "bin_end": 875393.7999999999,
            "count": 0
           },
           {
            "bin_start": 875393.7999999999,
            "bin_end": 976409.2,
            "count": 0
           },
           {
            "bin_start": 976409.2,
            "bin_end": 1077424.6,
            "count": 0
           },
           {
            "bin_start": 1077424.6,
            "bin_end": 1178440,
            "count": 1
           }
          ]
         }
        },
        {
         "name": 15,
         "dtype": "float64",
         "stats": {
          "unique_count": 30,
          "nan_count": 0,
          "min": "175411.5",
          "max": "1191445.0",
          "histogram": [
           {
            "bin_start": 175411.5,
            "bin_end": 277014.85,
            "count": 18
           },
           {
            "bin_start": 277014.85,
            "bin_end": 378618.2,
            "count": 0
           },
           {
            "bin_start": 378618.2,
            "bin_end": 480221.55000000005,
            "count": 3
           },
           {
            "bin_start": 480221.55000000005,
            "bin_end": 581824.9,
            "count": 6
           },
           {
            "bin_start": 581824.9,
            "bin_end": 683428.25,
            "count": 1
           },
           {
            "bin_start": 683428.25,
            "bin_end": 785031.6000000001,
            "count": 0
           },
           {
            "bin_start": 785031.6000000001,
            "bin_end": 886634.9500000001,
            "count": 1
           },
           {
            "bin_start": 886634.9500000001,
            "bin_end": 988238.3,
            "count": 0
           },
           {
            "bin_start": 988238.3,
            "bin_end": 1089841.65,
            "count": 0
           },
           {
            "bin_start": 1089841.65,
            "bin_end": 1191445,
            "count": 1
           }
          ]
         }
        },
        {
         "name": 16,
         "dtype": "float64",
         "stats": {
          "unique_count": 30,
          "nan_count": 0,
          "min": "184412.0",
          "max": "1205910.0",
          "histogram": [
           {
            "bin_start": 184412,
            "bin_end": 286561.8,
            "count": 18
           },
           {
            "bin_start": 286561.8,
            "bin_end": 388711.6,
            "count": 0
           },
           {
            "bin_start": 388711.6,
            "bin_end": 490861.4,
            "count": 3
           },
           {
            "bin_start": 490861.4,
            "bin_end": 593011.2,
            "count": 6
           },
           {
            "bin_start": 593011.2,
            "bin_end": 695161,
            "count": 1
           },
           {
            "bin_start": 695161,
            "bin_end": 797310.8,
            "count": 1
           },
           {
            "bin_start": 797310.8,
            "bin_end": 899460.6,
            "count": 0
           },
           {
            "bin_start": 899460.6,
            "bin_end": 1001610.4,
            "count": 0
           },
           {
            "bin_start": 1001610.4,
            "bin_end": 1103760.2000000002,
            "count": 0
           },
           {
            "bin_start": 1103760.2000000002,
            "bin_end": 1205910,
            "count": 1
           }
          ]
         }
        },
        {
         "name": 17,
         "dtype": "float64",
         "stats": {
          "unique_count": 30,
          "nan_count": 0,
          "min": "193901.0",
          "max": "1222100.0",
          "histogram": [
           {
            "bin_start": 193901,
            "bin_end": 296720.9,
            "count": 18
           },
           {
            "bin_start": 296720.9,
            "bin_end": 399540.8,
            "count": 0
           },
           {
            "bin_start": 399540.8,
            "bin_end": 502360.69999999995,
            "count": 2
           },
           {
            "bin_start": 502360.69999999995,
            "bin_end": 605180.6,
            "count": 6
           },
           {
            "bin_start": 605180.6,
            "bin_end": 708000.5,
            "count": 2
           },
           {
            "bin_start": 708000.5,
            "bin_end": 810820.3999999999,
            "count": 1
           },
           {
            "bin_start": 810820.3999999999,
            "bin_end": 913640.2999999999,
            "count": 0
           },
           {
            "bin_start": 913640.2999999999,
            "bin_end": 1016460.2,
            "count": 0
           },
           {
            "bin_start": 1016460.2,
            "bin_end": 1119280.1,
            "count": 0
           },
           {
            "bin_start": 1119280.1,
            "bin_end": 1222100,
            "count": 1
           }
          ]
         }
        },
        {
         "name": 18,
         "dtype": "float64",
         "stats": {
          "unique_count": 30,
          "nan_count": 0,
          "min": "165902.0",
          "max": "1152145.0",
          "histogram": [
           {
            "bin_start": 165902,
            "bin_end": 264526.3,
            "count": 18
           },
           {
            "bin_start": 264526.3,
            "bin_end": 363150.6,
            "count": 0
           },
           {
            "bin_start": 363150.6,
            "bin_end": 461774.9,
            "count": 2
           },
           {
            "bin_start": 461774.9,
            "bin_end": 560399.2,
            "count": 6
           },
           {
            "bin_start": 560399.2,
            "bin_end": 659023.5,
            "count": 2
           },
           {
            "bin_start": 659023.5,
            "bin_end": 757647.8,
            "count": 1
           },
           {
            "bin_start": 757647.8,
            "bin_end": 856272.1,
            "count": 0
           },
           {
            "bin_start": 856272.1,
            "bin_end": 954896.4,
            "count": 0
           },
           {
            "bin_start": 954896.4,
            "bin_end": 1053520.7000000002,
            "count": 0
           },
           {
            "bin_start": 1053520.7000000002,
            "bin_end": 1152145,
            "count": 1
           }
          ]
         }
        },
        {
         "name": 19,
         "dtype": "float64",
         "stats": {
          "unique_count": 30,
          "nan_count": 0,
          "min": "157817.5",
          "max": "1139945.0",
          "histogram": [
           {
            "bin_start": 157817.5,
            "bin_end": 256030.25,
            "count": 18
           },
           {
            "bin_start": 256030.25,
            "bin_end": 354243,
            "count": 0
           },
           {
            "bin_start": 354243,
            "bin_end": 452455.75,
            "count": 1
           },
           {
            "bin_start": 452455.75,
            "bin_end": 550668.5,
            "count": 6
           },
           {
            "bin_start": 550668.5,
            "bin_end": 648881.25,
            "count": 3
           },
           {
            "bin_start": 648881.25,
            "bin_end": 747094,
            "count": 0
           },
           {
            "bin_start": 747094,
            "bin_end": 845306.75,
            "count": 1
           },
           {
            "bin_start": 845306.75,
            "bin_end": 943519.5,
            "count": 0
           },
           {
            "bin_start": 943519.5,
            "bin_end": 1041732.25,
            "count": 0
           },
           {
            "bin_start": 1041732.25,
            "bin_end": 1139945,
            "count": 1
           }
          ]
         }
        },
        {
         "name": 20,
         "dtype": "float64",
         "stats": {
          "unique_count": 30,
          "nan_count": 0,
          "min": "156269.0",
          "max": "1135255.0",
          "histogram": [
           {
            "bin_start": 156269,
            "bin_end": 254167.6,
            "count": 16
           },
           {
            "bin_start": 254167.6,
            "bin_end": 352066.2,
            "count": 2
           },
           {
            "bin_start": 352066.2,
            "bin_end": 449964.80000000005,
            "count": 2
           },
           {
            "bin_start": 449964.80000000005,
            "bin_end": 547863.4,
            "count": 5
           },
           {
            "bin_start": 547863.4,
            "bin_end": 645762,
            "count": 3
           },
           {
            "bin_start": 645762,
            "bin_end": 743660.6000000001,
            "count": 0
           },
           {
            "bin_start": 743660.6000000001,
            "bin_end": 841559.2000000001,
            "count": 1
           },
           {
            "bin_start": 841559.2000000001,
            "bin_end": 939457.8,
            "count": 0
           },
           {
            "bin_start": 939457.8,
            "bin_end": 1037356.4,
            "count": 0
           },
           {
            "bin_start": 1037356.4,
            "bin_end": 1135255,
            "count": 1
           }
          ]
         }
        },
        {
         "name": 21,
         "dtype": "float64",
         "stats": {
          "unique_count": 30,
          "nan_count": 0,
          "min": "146123.0",
          "max": "1123870.0",
          "histogram": [
           {
            "bin_start": 146123,
            "bin_end": 243897.7,
            "count": 15
           },
           {
            "bin_start": 243897.7,
            "bin_end": 341672.4,
            "count": 3
           },
           {
            "bin_start": 341672.4,
            "bin_end": 439447.1,
            "count": 1
           },
           {
            "bin_start": 439447.1,
            "bin_end": 537221.8,
            "count": 6
           },
           {
            "bin_start": 537221.8,
            "bin_end": 634996.5,
            "count": 3
           },
           {
            "bin_start": 634996.5,
            "bin_end": 732771.2,
            "count": 0
           },
           {
            "bin_start": 732771.2,
            "bin_end": 830545.9,
            "count": 1
           },
           {
            "bin_start": 830545.9,
            "bin_end": 928320.6,
            "count": 0
           },
           {
            "bin_start": 928320.6,
            "bin_end": 1026095.2999999999,
            "count": 0
           },
           {
            "bin_start": 1026095.2999999999,
            "bin_end": 1123870,
            "count": 1
           }
          ]
         }
        },
        {
         "name": 22,
         "dtype": "float64",
         "stats": {
          "unique_count": 30,
          "nan_count": 0,
          "min": "147158.5",
          "max": "1128600.0",
          "histogram": [
           {
            "bin_start": 147158.5,
            "bin_end": 245302.65,
            "count": 16
           },
           {
            "bin_start": 245302.65,
            "bin_end": 343446.8,
            "count": 2
           },
           {
            "bin_start": 343446.8,
            "bin_end": 441590.94999999995,
            "count": 1
           },
           {
            "bin_start": 441590.94999999995,
            "bin_end": 539735.1,
            "count": 5
           },
           {
            "bin_start": 539735.1,
            "bin_end": 637879.25,
            "count": 4
           },
           {
            "bin_start": 637879.25,
            "bin_end": 736023.3999999999,
            "count": 0
           },
           {
            "bin_start": 736023.3999999999,
            "bin_end": 834167.5499999999,
            "count": 1
           },
           {
            "bin_start": 834167.5499999999,
            "bin_end": 932311.7,
            "count": 0
           },
           {
            "bin_start": 932311.7,
            "bin_end": 1030455.85,
            "count": 0
           },
           {
            "bin_start": 1030455.85,
            "bin_end": 1128600,
            "count": 1
           }
          ]
         }
        },
        {
         "name": 23,
         "dtype": "float64",
         "stats": {
          "unique_count": 30,
          "nan_count": 0,
          "min": "143263.5",
          "max": "1106100.0",
          "histogram": [
           {
            "bin_start": 143263.5,
            "bin_end": 239547.15,
            "count": 18
           },
           {
            "bin_start": 239547.15,
            "bin_end": 335830.8,
            "count": 0
           },
           {
            "bin_start": 335830.8,
            "bin_end": 432114.44999999995,
            "count": 1
           },
           {
            "bin_start": 432114.44999999995,
            "bin_end": 528398.1,
            "count": 7
           },
           {
            "bin_start": 528398.1,
            "bin_end": 624681.75,
            "count": 2
           },
           {
            "bin_start": 624681.75,
            "bin_end": 720965.3999999999,
            "count": 1
           },
           {
            "bin_start": 720965.3999999999,
            "bin_end": 817249.0499999999,
            "count": 0
           },
           {
            "bin_start": 817249.0499999999,
            "bin_end": 913532.7,
            "count": 0
           },
           {
            "bin_start": 913532.7,
            "bin_end": 1009816.35,
            "count": 0
           },
           {
            "bin_start": 1009816.35,
            "bin_end": 1106100,
            "count": 1
           }
          ]
         }
        },
        {
         "name": 24,
         "dtype": "float64",
         "stats": {
          "unique_count": 30,
          "nan_count": 0,
          "min": "140542.0",
          "max": "1103350.0",
          "histogram": [
           {
            "bin_start": 140542,
            "bin_end": 236822.8,
            "count": 18
           },
           {
            "bin_start": 236822.8,
            "bin_end": 333103.6,
            "count": 0
           },
           {
            "bin_start": 333103.6,
            "bin_end": 429384.4,
            "count": 1
           },
           {
            "bin_start": 429384.4,
            "bin_end": 525665.2,
            "count": 7
           },
           {
            "bin_start": 525665.2,
            "bin_end": 621946,
            "count": 2
           },
           {
            "bin_start": 621946,
            "bin_end": 718226.8,
            "count": 1
           },
           {
            "bin_start": 718226.8,
            "bin_end": 814507.6,
            "count": 0
           },
           {
            "bin_start": 814507.6,
            "bin_end": 910788.4,
            "count": 0
           },
           {
            "bin_start": 910788.4,
            "bin_end": 1007069.2000000001,
            "count": 0
           },
           {
            "bin_start": 1007069.2000000001,
            "bin_end": 1103350,
            "count": 1
           }
          ]
         }
        },
        {
         "name": 25,
         "dtype": "float64",
         "stats": {
          "unique_count": 30,
          "nan_count": 0,
          "min": "145632.0",
          "max": "1141140.0",
          "histogram": [
           {
            "bin_start": 145632,
            "bin_end": 245182.8,
            "count": 18
           },
           {
            "bin_start": 245182.8,
            "bin_end": 344733.6,
            "count": 0
           },
           {
            "bin_start": 344733.6,
            "bin_end": 444284.4,
            "count": 4
           },
           {
            "bin_start": 444284.4,
            "bin_end": 543835.2,
            "count": 4
           },
           {
            "bin_start": 543835.2,
            "bin_end": 643386,
            "count": 2
           },
           {
            "bin_start": 643386,
            "bin_end": 742936.8,
            "count": 1
           },
           {
            "bin_start": 742936.8,
            "bin_end": 842487.6,
            "count": 0
           },
           {
            "bin_start": 842487.6,
            "bin_end": 942038.4,
            "count": 0
           },
           {
            "bin_start": 942038.4,
            "bin_end": 1041589.2000000001,
            "count": 0
           },
           {
            "bin_start": 1041589.2000000001,
            "bin_end": 1141140,
            "count": 1
           }
          ]
         }
        },
        {
         "name": 26,
         "dtype": "float64",
         "stats": {
          "unique_count": 30,
          "nan_count": 0,
          "min": "150192.0",
          "max": "1137580.0",
          "histogram": [
           {
            "bin_start": 150192,
            "bin_end": 248930.8,
            "count": 18
           },
           {
            "bin_start": 248930.8,
            "bin_end": 347669.6,
            "count": 0
           },
           {
            "bin_start": 347669.6,
            "bin_end": 446408.4,
            "count": 4
           },
           {
            "bin_start": 446408.4,
            "bin_end": 545147.2,
            "count": 4
           },
           {
            "bin_start": 545147.2,
            "bin_end": 643886,
            "count": 2
           },
           {
            "bin_start": 643886,
            "bin_end": 742624.8,
            "count": 1
           },
           {
            "bin_start": 742624.8,
            "bin_end": 841363.6,
            "count": 0
           },
           {
            "bin_start": 841363.6,
            "bin_end": 940102.4,
            "count": 0
           },
           {
            "bin_start": 940102.4,
            "bin_end": 1038841.2000000001,
            "count": 0
           },
           {
            "bin_start": 1038841.2000000001,
            "bin_end": 1137580,
            "count": 1
           }
          ]
         }
        },
        {
         "name": 27,
         "dtype": "float64",
         "stats": {
          "unique_count": 30,
          "nan_count": 0,
          "min": "137792.0",
          "max": "1120835.0",
          "histogram": [
           {
            "bin_start": 137792,
            "bin_end": 236096.3,
            "count": 18
           },
           {
            "bin_start": 236096.3,
            "bin_end": 334400.6,
            "count": 0
           },
           {
            "bin_start": 334400.6,
            "bin_end": 432704.9,
            "count": 4
           },
           {
            "bin_start": 432704.9,
            "bin_end": 531009.2,
            "count": 4
           },
           {
            "bin_start": 531009.2,
            "bin_end": 629313.5,
            "count": 2
           },
           {
            "bin_start": 629313.5,
            "bin_end": 727617.8,
            "count": 1
           },
           {
            "bin_start": 727617.8,
            "bin_end": 825922.1,
            "count": 0
           },
           {
            "bin_start": 825922.1,
            "bin_end": 924226.4,
            "count": 0
           },
           {
            "bin_start": 924226.4,
            "bin_end": 1022530.7000000001,
            "count": 0
           },
           {
            "bin_start": 1022530.7000000001,
            "bin_end": 1120835,
            "count": 1
           }
          ]
         }
        },
        {
         "name": 28,
         "dtype": "float64",
         "stats": {
          "unique_count": 30,
          "nan_count": 0,
          "min": "137132.0",
          "max": "1114145.0",
          "histogram": [
           {
            "bin_start": 137132,
            "bin_end": 234833.3,
            "count": 18
           },
           {
            "bin_start": 234833.3,
            "bin_end": 332534.6,
            "count": 0
           },
           {
            "bin_start": 332534.6,
            "bin_end": 430235.9,
            "count": 1
           },
           {
            "bin_start": 430235.9,
            "bin_end": 527937.2,
            "count": 7
           },
           {
            "bin_start": 527937.2,
            "bin_end": 625638.5,
            "count": 2
           },
           {
            "bin_start": 625638.5,
            "bin_end": 723339.8,
            "count": 1
           },
           {
            "bin_start": 723339.8,
            "bin_end": 821041.1,
            "count": 0
           },
           {
            "bin_start": 821041.1,
            "bin_end": 918742.4,
            "count": 0
           },
           {
            "bin_start": 918742.4,
            "bin_end": 1016443.7000000001,
            "count": 0
           },
           {
            "bin_start": 1016443.7000000001,
            "bin_end": 1114145,
            "count": 1
           }
          ]
         }
        },
        {
         "name": 29,
         "dtype": "float64",
         "stats": {
          "unique_count": 30,
          "nan_count": 0,
          "min": "133982.0",
          "max": "1099810.0",
          "histogram": [
           {
            "bin_start": 133982,
            "bin_end": 230564.8,
            "count": 18
           },
           {
            "bin_start": 230564.8,
            "bin_end": 327147.6,
            "count": 0
           },
           {
            "bin_start": 327147.6,
            "bin_end": 423730.4,
            "count": 1
           },
           {
            "bin_start": 423730.4,
            "bin_end": 520313.2,
            "count": 7
           },
           {
            "bin_start": 520313.2,
            "bin_end": 616896,
            "count": 2
           },
           {
            "bin_start": 616896,
            "bin_end": 713478.8,
            "count": 1
           },
           {
            "bin_start": 713478.8,
            "bin_end": 810061.6,
            "count": 0
           },
           {
            "bin_start": 810061.6,
            "bin_end": 906644.4,
            "count": 0
           },
           {
            "bin_start": 906644.4,
            "bin_end": 1003227.2000000001,
            "count": 0
           },
           {
            "bin_start": 1003227.2000000001,
            "bin_end": 1099810,
            "count": 1
           }
          ]
         }
        },
        {
         "name": 30,
         "dtype": "float64",
         "stats": {
          "unique_count": 30,
          "nan_count": 0,
          "min": "153022.0",
          "max": "1146885.0",
          "histogram": [
           {
            "bin_start": 153022,
            "bin_end": 252408.3,
            "count": 18
           },
           {
            "bin_start": 252408.3,
            "bin_end": 351794.6,
            "count": 0
           },
           {
            "bin_start": 351794.6,
            "bin_end": 451180.9,
            "count": 4
           },
           {
            "bin_start": 451180.9,
            "bin_end": 550567.2,
            "count": 4
           },
           {
            "bin_start": 550567.2,
            "bin_end": 649953.5,
            "count": 2
           },
           {
            "bin_start": 649953.5,
            "bin_end": 749339.8,
            "count": 1
           },
           {
            "bin_start": 749339.8,
            "bin_end": 848726.1,
            "count": 0
           },
           {
            "bin_start": 848726.1,
            "bin_end": 948112.4,
            "count": 0
           },
           {
            "bin_start": 948112.4,
            "bin_end": 1047498.7000000001,
            "count": 0
           },
           {
            "bin_start": 1047498.7000000001,
            "bin_end": 1146885,
            "count": 1
           }
          ]
         }
        },
        {
         "name": 31,
         "dtype": "float64",
         "stats": {
          "unique_count": 30,
          "nan_count": 0,
          "min": "157302.0",
          "max": "1156410.0",
          "histogram": [
           {
            "bin_start": 157302,
            "bin_end": 257212.8,
            "count": 18
           },
           {
            "bin_start": 257212.8,
            "bin_end": 357123.6,
            "count": 0
           },
           {
            "bin_start": 357123.6,
            "bin_end": 457034.4,
            "count": 4
           },
           {
            "bin_start": 457034.4,
            "bin_end": 556945.2,
            "count": 4
           },
           {
            "bin_start": 556945.2,
            "bin_end": 656856,
            "count": 2
           },
           {
            "bin_start": 656856,
            "bin_end": 756766.8,
            "count": 1
           },
           {
            "bin_start": 756766.8,
            "bin_end": 856677.6,
            "count": 0
           },
           {
            "bin_start": 856677.6,
            "bin_end": 956588.4,
            "count": 0
           },
           {
            "bin_start": 956588.4,
            "bin_end": 1056499.2000000002,
            "count": 0
           },
           {
            "bin_start": 1056499.2000000002,
            "bin_end": 1156410,
            "count": 1
           }
          ]
         }
        },
        {
         "name": 32,
         "dtype": "float64",
         "stats": {
          "unique_count": 30,
          "nan_count": 0,
          "min": "166012.0",
          "max": "1165810.0",
          "histogram": [
           {
            "bin_start": 166012,
            "bin_end": 265991.8,
            "count": 18
           },
           {
            "bin_start": 265991.8,
            "bin_end": 365971.6,
            "count": 0
           },
           {
            "bin_start": 365971.6,
            "bin_end": 465951.4,
            "count": 4
           },
           {
            "bin_start": 465951.4,
            "bin_end": 565931.2,
            "count": 5
           },
           {
            "bin_start": 565931.2,
            "bin_end": 665911,
            "count": 1
           },
           {
            "bin_start": 665911,
            "bin_end": 765890.8,
            "count": 1
           },
           {
            "bin_start": 765890.8,
            "bin_end": 865870.6,
            "count": 0
           },
           {
            "bin_start": 865870.6,
            "bin_end": 965850.4,
            "count": 0
           },
           {
            "bin_start": 965850.4,
            "bin_end": 1065830.2000000002,
            "count": 0
           },
           {
            "bin_start": 1065830.2000000002,
            "bin_end": 1165810,
            "count": 1
           }
          ]
         }
        },
        {
         "name": 33,
         "dtype": "float64",
         "stats": {
          "unique_count": 30,
          "nan_count": 0,
          "min": "169112.0",
          "max": "1174925.0",
          "histogram": [
           {
            "bin_start": 169112,
            "bin_end": 269693.3,
            "count": 18
           },
           {
            "bin_start": 269693.3,
            "bin_end": 370274.6,
            "count": 0
           },
           {
            "bin_start": 370274.6,
            "bin_end": 470855.9,
            "count": 4
           },
           {
            "bin_start": 470855.9,
            "bin_end": 571437.2,
            "count": 5
           },
           {
            "bin_start": 571437.2,
            "bin_end": 672018.5,
            "count": 1
           },
           {
            "bin_start": 672018.5,
            "bin_end": 772599.8,
            "count": 1
           },
           {
            "bin_start": 772599.8,
            "bin_end": 873181.1,
            "count": 0
           },
           {
            "bin_start": 873181.1,
            "bin_end": 973762.4,
            "count": 0
           },
           {
            "bin_start": 973762.4,
            "bin_end": 1074343.7000000002,
            "count": 0
           },
           {
            "bin_start": 1074343.7000000002,
            "bin_end": 1174925,
            "count": 1
           }
          ]
         }
        },
        {
         "name": 34,
         "dtype": "float64",
         "stats": {
          "unique_count": 30,
          "nan_count": 0,
          "min": "178862.0",
          "max": "1179635.0",
          "histogram": [
           {
            "bin_start": 178862,
            "bin_end": 278939.3,
            "count": 18
           },
           {
            "bin_start": 278939.3,
            "bin_end": 379016.6,
            "count": 0
           },
           {
            "bin_start": 379016.6,
            "bin_end": 479093.9,
            "count": 3
           },
           {
            "bin_start": 479093.9,
            "bin_end": 579171.2,
            "count": 6
           },
           {
            "bin_start": 579171.2,
            "bin_end": 679248.5,
            "count": 1
           },
           {
            "bin_start": 679248.5,
            "bin_end": 779325.8,
            "count": 1
           },
           {
            "bin_start": 779325.8,
            "bin_end": 879403.1,
            "count": 0
           },
           {
            "bin_start": 879403.1,
            "bin_end": 979480.4,
            "count": 0
           },
           {
            "bin_start": 979480.4,
            "bin_end": 1079557.7000000002,
            "count": 0
           },
           {
            "bin_start": 1079557.7000000002,
            "bin_end": 1179635,
            "count": 1
           }
          ]
         }
        },
        {
         "name": 35,
         "dtype": "float64",
         "stats": {
          "unique_count": 30,
          "nan_count": 0,
          "min": "187332.0",
          "max": "1204140.0",
          "histogram": [
           {
            "bin_start": 187332,
            "bin_end": 289012.8,
            "count": 18
           },
           {
            "bin_start": 289012.8,
            "bin_end": 390693.6,
            "count": 0
           },
           {
            "bin_start": 390693.6,
            "bin_end": 492374.4,
            "count": 3
           },
           {
            "bin_start": 492374.4,
            "bin_end": 594055.2,
            "count": 6
           },
           {
            "bin_start": 594055.2,
            "bin_end": 695736,
            "count": 1
           },
           {
            "bin_start": 695736,
            "bin_end": 797416.8,
            "count": 1
           },
           {
            "bin_start": 797416.8,
            "bin_end": 899097.6,
            "count": 0
           },
           {
            "bin_start": 899097.6,
            "bin_end": 1000778.4,
            "count": 0
           },
           {
            "bin_start": 1000778.4,
            "bin_end": 1102459.2000000002,
            "count": 0
           },
           {
            "bin_start": 1102459.2000000002,
            "bin_end": 1204140,
            "count": 1
           }
          ]
         }
        },
        {
         "name": 36,
         "dtype": "float64",
         "stats": {
          "unique_count": 30,
          "nan_count": 0,
          "min": "143111.5",
          "max": "1108760.0",
          "histogram": [
           {
            "bin_start": 143111.5,
            "bin_end": 239676.35,
            "count": 18
           },
           {
            "bin_start": 239676.35,
            "bin_end": 336241.2,
            "count": 0
           },
           {
            "bin_start": 336241.2,
            "bin_end": 432806.05000000005,
            "count": 1
           },
           {
            "bin_start": 432806.05000000005,
            "bin_end": 529370.9,
            "count": 7
           },
           {
            "bin_start": 529370.9,
            "bin_end": 625935.75,
            "count": 2
           },
           {
            "bin_start": 625935.75,
            "bin_end": 722500.6000000001,
            "count": 1
           },
           {
            "bin_start": 722500.6000000001,
            "bin_end": 819065.4500000001,
            "count": 0
           },
           {
            "bin_start": 819065.4500000001,
            "bin_end": 915630.3,
            "count": 0
           },
           {
            "bin_start": 915630.3,
            "bin_end": 1012195.15,
            "count": 0
           },
           {
            "bin_start": 1012195.15,
            "bin_end": 1108760,
            "count": 1
           }
          ]
         }
        },
        {
         "name": 37,
         "dtype": "float64",
         "stats": {
          "unique_count": 30,
          "nan_count": 0,
          "min": "138418.5",
          "max": "1095530.0",
          "histogram": [
           {
            "bin_start": 138418.5,
            "bin_end": 234129.65,
            "count": 18
           },
           {
            "bin_start": 234129.65,
            "bin_end": 329840.8,
            "count": 0
           },
           {
            "bin_start": 329840.8,
            "bin_end": 425551.94999999995,
            "count": 1
           },
           {
            "bin_start": 425551.94999999995,
            "bin_end": 521263.1,
            "count": 7
           },
           {
            "bin_start": 521263.1,
            "bin_end": 616974.25,
            "count": 2
           },
           {
            "bin_start": 616974.25,
            "bin_end": 712685.3999999999,
            "count": 1
           },
           {
            "bin_start": 712685.3999999999,
            "bin_end": 808396.5499999999,
            "count": 0
           },
           {
            "bin_start": 808396.5499999999,
            "bin_end": 904107.7,
            "count": 0
           },
           {
            "bin_start": 904107.7,
            "bin_end": 999818.85,
            "count": 0
           },
           {
            "bin_start": 999818.85,
            "bin_end": 1095530,
            "count": 1
           }
          ]
         }
        },
        {
         "name": 38,
         "dtype": "float64",
         "stats": {
          "unique_count": 30,
          "nan_count": 0,
          "min": "159712.0",
          "max": "1153945.0",
          "histogram": [
           {
            "bin_start": 159712,
            "bin_end": 259135.3,
            "count": 18
           },
           {
            "bin_start": 259135.3,
            "bin_end": 358558.6,
            "count": 0
           },
           {
            "bin_start": 358558.6,
            "bin_end": 457981.9,
            "count": 4
           },
           {
            "bin_start": 457981.9,
            "bin_end": 557405.2,
            "count": 4
           },
           {
            "bin_start": 557405.2,
            "bin_end": 656828.5,
            "count": 2
           },
           {
            "bin_start": 656828.5,
            "bin_end": 756251.8,
            "count": 0
           },
           {
            "bin_start": 756251.8,
            "bin_end": 855675.1,
            "count": 1
           },
           {
            "bin_start": 855675.1,
            "bin_end": 955098.4,
            "count": 0
           },
           {
            "bin_start": 955098.4,
            "bin_end": 1054521.7000000002,
            "count": 0
           },
           {
            "bin_start": 1054521.7000000002,
            "bin_end": 1153945,
            "count": 1
           }
          ]
         }
        },
        {
         "name": 39,
         "dtype": "float64",
         "stats": {
          "unique_count": 30,
          "nan_count": 0,
          "min": "162432.0",
          "max": "1157855.0",
          "histogram": [
           {
            "bin_start": 162432,
            "bin_end": 261974.3,
            "count": 18
           },
           {
            "bin_start": 261974.3,
            "bin_end": 361516.6,
            "count": 0
           },
           {
            "bin_start": 361516.6,
            "bin_end": 461058.9,
            "count": 4
           },
           {
            "bin_start": 461058.9,
            "bin_end": 560601.2,
            "count": 4
           },
           {
            "bin_start": 560601.2,
            "bin_end": 660143.5,
            "count": 2
           },
           {
            "bin_start": 660143.5,
            "bin_end": 759685.8,
            "count": 1
           },
           {
            "bin_start": 759685.8,
            "bin_end": 859228.1,
            "count": 0
           },
           {
            "bin_start": 859228.1,
            "bin_end": 958770.4,
            "count": 0
           },
           {
            "bin_start": 958770.4,
            "bin_end": 1058312.7000000002,
            "count": 0
           },
           {
            "bin_start": 1058312.7000000002,
            "bin_end": 1157855,
            "count": 1
           }
          ]
         }
        },
        {
         "name": 40,
         "dtype": "float64",
         "stats": {
          "unique_count": 30,
          "nan_count": 0,
          "min": "165112.0",
          "max": "1163900.0",
          "histogram": [
           {
            "bin_start": 165112,
            "bin_end": 264990.8,
            "count": 18
           },
           {
            "bin_start": 264990.8,
            "bin_end": 364869.6,
            "count": 0
           },
           {
            "bin_start": 364869.6,
            "bin_end": 464748.4,
            "count": 4
           },
           {
            "bin_start": 464748.4,
            "bin_end": 564627.2,
            "count": 4
           },
           {
            "bin_start": 564627.2,
            "bin_end": 664506,
            "count": 2
           },
           {
            "bin_start": 664506,
            "bin_end": 764384.8,
            "count": 1
           },
           {
            "bin_start": 764384.8,
            "bin_end": 864263.6,
            "count": 0
           },
           {
            "bin_start": 864263.6,
            "bin_end": 964142.4,
            "count": 0
           },
           {
            "bin_start": 964142.4,
            "bin_end": 1064021.2000000002,
            "count": 0
           },
           {
            "bin_start": 1064021.2000000002,
            "bin_end": 1163900,
            "count": 1
           }
          ]
         }
        },
        {
         "name": 41,
         "dtype": "float64",
         "stats": {
          "unique_count": 30,
          "nan_count": 0,
          "min": "169832.0",
          "max": "1172835.0",
          "histogram": [
           {
            "bin_start": 169832,
            "bin_end": 270132.3,
            "count": 18
           },
           {
            "bin_start": 270132.3,
            "bin_end": 370432.6,
            "count": 0
           },
           {
            "bin_start": 370432.6,
            "bin_end": 470732.9,
            "count": 4
           },
           {
            "bin_start": 470732.9,
            "bin_end": 571033.2,
            "count": 4
           },
           {
            "bin_start": 571033.2,
            "bin_end": 671333.5,
            "count": 2
           },
           {
            "bin_start": 671333.5,
            "bin_end": 771633.8,
            "count": 1
           },
           {
            "bin_start": 771633.8,
            "bin_end": 871934.1,
            "count": 0
           },
           {
            "bin_start": 871934.1,
            "bin_end": 972234.4,
            "count": 0
           },
           {
            "bin_start": 972234.4,
            "bin_end": 1072534.7000000002,
            "count": 0
           },
           {
            "bin_start": 1072534.7000000002,
            "bin_end": 1172835,
            "count": 1
           }
          ]
         }
        },
        {
         "name": 42,
         "dtype": "float64",
         "stats": {
          "unique_count": 30,
          "nan_count": 0,
          "min": "171922.0",
          "max": "1180660.0",
          "histogram": [
           {
            "bin_start": 171922,
            "bin_end": 272795.8,
            "count": 18
           },
           {
            "bin_start": 272795.8,
            "bin_end": 373669.6,
            "count": 0
           },
           {
            "bin_start": 373669.6,
            "bin_end": 474543.4,
            "count": 4
           },
           {
            "bin_start": 474543.4,
            "bin_end": 575417.2,
            "count": 5
           },
           {
            "bin_start": 575417.2,
            "bin_end": 676291,
            "count": 1
           },
           {
            "bin_start": 676291,
            "bin_end": 777164.8,
            "count": 1
           },
           {
            "bin_start": 777164.8,
            "bin_end": 878038.6,
            "count": 0
           },
           {
            "bin_start": 878038.6,
            "bin_end": 978912.4,
            "count": 0
           },
           {
            "bin_start": 978912.4,
            "bin_end": 1079786.2000000002,
            "count": 0
           },
           {
            "bin_start": 1079786.2000000002,
            "bin_end": 1180660,
            "count": 1
           }
          ]
         }
        },
        {
         "name": 43,
         "dtype": "float64",
         "stats": {
          "unique_count": 30,
          "nan_count": 0,
          "min": "183002.0",
          "max": "1199560.0",
          "histogram": [
           {
            "bin_start": 183002,
            "bin_end": 284657.8,
            "count": 18
           },
           {
            "bin_start": 284657.8,
            "bin_end": 386313.6,
            "count": 0
           },
           {
            "bin_start": 386313.6,
            "bin_end": 487969.4,
            "count": 4
           },
           {
            "bin_start": 487969.4,
            "bin_end": 589625.2,
            "count": 5
           },
           {
            "bin_start": 589625.2,
            "bin_end": 691281,
            "count": 1
           },
           {
            "bin_start": 691281,
            "bin_end": 792936.8,
            "count": 1
           },
           {
            "bin_start": 792936.8,
            "bin_end": 894592.6,
            "count": 0
           },
           {
            "bin_start": 894592.6,
            "bin_end": 996248.4,
            "count": 0
           },
           {
            "bin_start": 996248.4,
            "bin_end": 1097904.2000000002,
            "count": 0
           },
           {
            "bin_start": 1097904.2000000002,
            "bin_end": 1199560,
            "count": 1
           }
          ]
         }
        },
        {
         "name": 44,
         "dtype": "float64",
         "stats": {
          "unique_count": 30,
          "nan_count": 0,
          "min": "159926.5",
          "max": "1141720.0",
          "histogram": [
           {
            "bin_start": 159926.5,
            "bin_end": 258105.85,
            "count": 18
           },
           {
            "bin_start": 258105.85,
            "bin_end": 356285.2,
            "count": 0
           },
           {
            "bin_start": 356285.2,
            "bin_end": 454464.55000000005,
            "count": 1
           },
           {
            "bin_start": 454464.55000000005,
            "bin_end": 552643.9,
            "count": 7
           },
           {
            "bin_start": 552643.9,
            "bin_end": 650823.25,
            "count": 2
           },
           {
            "bin_start": 650823.25,
            "bin_end": 749002.6000000001,
            "count": 1
           },
           {
            "bin_start": 749002.6000000001,
            "bin_end": 847181.9500000001,
            "count": 0
           },
           {
            "bin_start": 847181.9500000001,
            "bin_end": 945361.3,
            "count": 0
           },
           {
            "bin_start": 945361.3,
            "bin_end": 1043540.65,
            "count": 0
           },
           {
            "bin_start": 1043540.65,
            "bin_end": 1141720,
            "count": 1
           }
          ]
         }
        },
        {
         "name": 45,
         "dtype": "float64",
         "stats": {
          "unique_count": 30,
          "nan_count": 0,
          "min": "143406.0",
          "max": "1111630.0",
          "histogram": [
           {
            "bin_start": 143406,
            "bin_end": 240228.4,
            "count": 18
           },
           {
            "bin_start": 240228.4,
            "bin_end": 337050.8,
            "count": 0
           },
           {
            "bin_start": 337050.8,
            "bin_end": 433873.19999999995,
            "count": 1
           },
           {
            "bin_start": 433873.19999999995,
            "bin_end": 530695.6,
            "count": 7
           },
           {
            "bin_start": 530695.6,
            "bin_end": 627518,
            "count": 2
           },
           {
            "bin_start": 627518,
            "bin_end": 724340.3999999999,
            "count": 1
           },
           {
            "bin_start": 724340.3999999999,
            "bin_end": 821162.7999999999,
            "count": 0
           },
           {
            "bin_start": 821162.7999999999,
            "bin_end": 917985.2,
            "count": 0
           },
           {
            "bin_start": 917985.2,
            "bin_end": 1014807.6,
            "count": 0
           },
           {
            "bin_start": 1014807.6,
            "bin_end": 1111630,
            "count": 1
           }
          ]
         }
        },
        {
         "name": 46,
         "dtype": "float64",
         "stats": {
          "unique_count": 30,
          "nan_count": 0,
          "min": "145135.0",
          "max": "1095855.0",
          "histogram": [
           {
            "bin_start": 145135,
            "bin_end": 240207,
            "count": 18
           },
           {
            "bin_start": 240207,
            "bin_end": 335279,
            "count": 0
           },
           {
            "bin_start": 335279,
            "bin_end": 430351,
            "count": 1
           },
           {
            "bin_start": 430351,
            "bin_end": 525423,
            "count": 7
           },
           {
            "bin_start": 525423,
            "bin_end": 620495,
            "count": 2
           },
           {
            "bin_start": 620495,
            "bin_end": 715567,
            "count": 1
           },
           {
            "bin_start": 715567,
            "bin_end": 810639,
            "count": 0
           },
           {
            "bin_start": 810639,
            "bin_end": 905711,
            "count": 0
           },
           {
            "bin_start": 905711,
            "bin_end": 1000783,
            "count": 0
           },
           {
            "bin_start": 1000783,
            "bin_end": 1095855,
            "count": 1
           }
          ]
         }
        },
        {
         "name": 47,
         "dtype": "float64",
         "stats": {
          "unique_count": 30,
          "nan_count": 0,
          "min": "142760.0",
          "max": "1118875.0",
          "histogram": [
           {
            "bin_start": 142760,
            "bin_end": 240371.5,
            "count": 18
           },
           {
            "bin_start": 240371.5,
            "bin_end": 337983,
            "count": 0
           },
           {
            "bin_start": 337983,
            "bin_end": 435594.5,
            "count": 1
           },
           {
            "bin_start": 435594.5,
            "bin_end": 533206,
            "count": 7
           },
           {
            "bin_start": 533206,
            "bin_end": 630817.5,
            "count": 2
           },
           {
            "bin_start": 630817.5,
            "bin_end": 728429,
            "count": 0
           },
           {
            "bin_start": 728429,
            "bin_end": 826040.5,
            "count": 1
           },
           {
            "bin_start": 826040.5,
            "bin_end": 923652,
            "count": 0
           },
           {
            "bin_start": 923652,
            "bin_end": 1021263.5,
            "count": 0
           },
           {
            "bin_start": 1021263.5,
            "bin_end": 1118875,
            "count": 1
           }
          ]
         }
        },
        {
         "name": 48,
         "dtype": "float64",
         "stats": {
          "unique_count": 30,
          "nan_count": 0,
          "min": "136972.0",
          "max": "1096870.0",
          "histogram": [
           {
            "bin_start": 136972,
            "bin_end": 232961.8,
            "count": 18
           },
           {
            "bin_start": 232961.8,
            "bin_end": 328951.6,
            "count": 0
           },
           {
            "bin_start": 328951.6,
            "bin_end": 424941.4,
            "count": 1
           },
           {
            "bin_start": 424941.4,
            "bin_end": 520931.2,
            "count": 6
           },
           {
            "bin_start": 520931.2,
            "bin_end": 616921,
            "count": 3
           },
           {
            "bin_start": 616921,
            "bin_end": 712910.8,
            "count": 0
           },
           {
            "bin_start": 712910.8,
            "bin_end": 808900.6,
            "count": 1
           },
           {
            "bin_start": 808900.6,
            "bin_end": 904890.4,
            "count": 0
           },
           {
            "bin_start": 904890.4,
            "bin_end": 1000880.2000000001,
            "count": 0
           },
           {
            "bin_start": 1000880.2000000001,
            "bin_end": 1096870,
            "count": 1
           }
          ]
         }
        },
        {
         "name": 49,
         "dtype": "float64",
         "stats": {
          "unique_count": 30,
          "nan_count": 0,
          "min": "144404.5",
          "max": "1108960.0",
          "histogram": [
           {
            "bin_start": 144404.5,
            "bin_end": 240860.05,
            "count": 18
           },
           {
            "bin_start": 240860.05,
            "bin_end": 337315.6,
            "count": 0
           },
           {
            "bin_start": 337315.6,
            "bin_end": 433771.15,
            "count": 2
           },
           {
            "bin_start": 433771.15,
            "bin_end": 530226.7,
            "count": 5
           },
           {
            "bin_start": 530226.7,
            "bin_end": 626682.25,
            "count": 3
           },
           {
            "bin_start": 626682.25,
            "bin_end": 723137.8,
            "count": 0
           },
           {
            "bin_start": 723137.8,
            "bin_end": 819593.35,
            "count": 1
           },
           {
            "bin_start": 819593.35,
            "bin_end": 916048.9,
            "count": 0
           },
           {
            "bin_start": 916048.9,
            "bin_end": 1012504.4500000001,
            "count": 0
           },
           {
            "bin_start": 1012504.4500000001,
            "bin_end": 1108960,
            "count": 1
           }
          ]
         }
        },
        {
         "name": 50,
         "dtype": "float64",
         "stats": {
          "unique_count": 30,
          "nan_count": 0,
          "min": "139092.5",
          "max": "1112700.0",
          "histogram": [
           {
            "bin_start": 139092.5,
            "bin_end": 236453.25,
            "count": 18
           },
           {
            "bin_start": 236453.25,
            "bin_end": 333814,
            "count": 0
           },
           {
            "bin_start": 333814,
            "bin_end": 431174.75,
            "count": 3
           },
           {
            "bin_start": 431174.75,
            "bin_end": 528535.5,
            "count": 5
           },
           {
            "bin_start": 528535.5,
            "bin_end": 625896.25,
            "count": 2
           },
           {
            "bin_start": 625896.25,
            "bin_end": 723257,
            "count": 0
           },
           {
            "bin_start": 723257,
            "bin_end": 820617.75,
            "count": 1
           },
           {
            "bin_start": 820617.75,
            "bin_end": 917978.5,
            "count": 0
           },
           {
            "bin_start": 917978.5,
            "bin_end": 1015339.25,
            "count": 0
           },
           {
            "bin_start": 1015339.25,
            "bin_end": 1112700,
            "count": 1
           }
          ]
         }
        },
        {
         "name": 51,
         "dtype": "float64",
         "stats": {
          "unique_count": 30,
          "nan_count": 0,
          "min": "141743.0",
          "max": "1119955.0",
          "histogram": [
           {
            "bin_start": 141743,
            "bin_end": 239564.2,
            "count": 18
           },
           {
            "bin_start": 239564.2,
            "bin_end": 337385.4,
            "count": 0
           },
           {
            "bin_start": 337385.4,
            "bin_end": 435206.6,
            "count": 3
           },
           {
            "bin_start": 435206.6,
            "bin_end": 533027.8,
            "count": 5
           },
           {
            "bin_start": 533027.8,
            "bin_end": 630849,
            "count": 2
           },
           {
            "bin_start": 630849,
            "bin_end": 728670.2,
            "count": 1
           },
           {
            "bin_start": 728670.2,
            "bin_end": 826491.4,
            "count": 0
           },
           {
            "bin_start": 826491.4,
            "bin_end": 924312.6,
            "count": 0
           },
           {
            "bin_start": 924312.6,
            "bin_end": 1022133.7999999999,
            "count": 0
           },
           {
            "bin_start": 1022133.7999999999,
            "bin_end": 1119955,
            "count": 1
           }
          ]
         }
        },
        {
         "name": 52,
         "dtype": "float64",
         "stats": {
          "unique_count": 30,
          "nan_count": 0,
          "min": "140812.0",
          "max": "1127780.0",
          "histogram": [
           {
            "bin_start": 140812,
            "bin_end": 239508.8,
            "count": 18
           },
           {
            "bin_start": 239508.8,
            "bin_end": 338205.6,
            "count": 0
           },
           {
            "bin_start": 338205.6,
            "bin_end": 436902.4,
            "count": 3
           },
           {
            "bin_start": 436902.4,
            "bin_end": 535599.2,
            "count": 5
           },
           {
            "bin_start": 535599.2,
            "bin_end": 634296,
            "count": 2
           },
           {
            "bin_start": 634296,
            "bin_end": 732992.8,
            "count": 1
           },
           {
            "bin_start": 732992.8,
            "bin_end": 831689.6,
            "count": 0
           },
           {
            "bin_start": 831689.6,
            "bin_end": 930386.4,
            "count": 0
           },
           {
            "bin_start": 930386.4,
            "bin_end": 1029083.2000000001,
            "count": 0
           },
           {
            "bin_start": 1029083.2000000001,
            "bin_end": 1127780,
            "count": 1
           }
          ]
         }
        },
        {
         "name": 53,
         "dtype": "float64",
         "stats": {
          "unique_count": 30,
          "nan_count": 0,
          "min": "146172.5",
          "max": "1135150.0",
          "histogram": [
           {
            "bin_start": 146172.5,
            "bin_end": 245070.25,
            "count": 18
           },
           {
            "bin_start": 245070.25,
            "bin_end": 343968,
            "count": 0
           },
           {
            "bin_start": 343968,
            "bin_end": 442865.75,
            "count": 3
           },
           {
            "bin_start": 442865.75,
            "bin_end": 541763.5,
            "count": 4
           },
           {
            "bin_start": 541763.5,
            "bin_end": 640661.25,
            "count": 3
           },
           {
            "bin_start": 640661.25,
            "bin_end": 739559,
            "count": 0
           },
           {
            "bin_start": 739559,
            "bin_end": 838456.75,
            "count": 1
           },
           {
            "bin_start": 838456.75,
            "bin_end": 937354.5,
            "count": 0
           },
           {
            "bin_start": 937354.5,
            "bin_end": 1036252.25,
            "count": 0
           },
           {
            "bin_start": 1036252.25,
            "bin_end": 1135150,
            "count": 1
           }
          ]
         }
        },
        {
         "name": 54,
         "dtype": "float64",
         "stats": {
          "unique_count": 30,
          "nan_count": 0,
          "min": "154078.0",
          "max": "1145015.0",
          "histogram": [
           {
            "bin_start": 154078,
            "bin_end": 253171.7,
            "count": 18
           },
           {
            "bin_start": 253171.7,
            "bin_end": 352265.4,
            "count": 0
           },
           {
            "bin_start": 352265.4,
            "bin_end": 451359.1,
            "count": 3
           },
           {
            "bin_start": 451359.1,
            "bin_end": 550452.8,
            "count": 5
           },
           {
            "bin_start": 550452.8,
            "bin_end": 649546.5,
            "count": 2
           },
           {
            "bin_start": 649546.5,
            "bin_end": 748640.2,
            "count": 1
           },
           {
            "bin_start": 748640.2,
            "bin_end": 847733.9,
            "count": 0
           },
           {
            "bin_start": 847733.9,
            "bin_end": 946827.6,
            "count": 0
           },
           {
            "bin_start": 946827.6,
            "bin_end": 1045921.2999999999,
            "count": 0
           },
           {
            "bin_start": 1045921.2999999999,
            "bin_end": 1145015,
            "count": 1
           }
          ]
         }
        },
        {
         "name": 55,
         "dtype": "float64",
         "stats": {
          "unique_count": 30,
          "nan_count": 0,
          "min": "155112.0",
          "max": "1145120.0",
          "histogram": [
           {
            "bin_start": 155112,
            "bin_end": 254112.8,
            "count": 18
           },
           {
            "bin_start": 254112.8,
            "bin_end": 353113.6,
            "count": 0
           },
           {
            "bin_start": 353113.6,
            "bin_end": 452114.4,
            "count": 4
           },
           {
            "bin_start": 452114.4,
            "bin_end": 551115.2,
            "count": 4
           },
           {
            "bin_start": 551115.2,
            "bin_end": 650116,
            "count": 2
           },
           {
            "bin_start": 650116,
            "bin_end": 749116.8,
            "count": 1
           },
           {
            "bin_start": 749116.8,
            "bin_end": 848117.6,
            "count": 0
           },
           {
            "bin_start": 848117.6,
            "bin_end": 947118.4,
            "count": 0
           },
           {
            "bin_start": 947118.4,
            "bin_end": 1046119.2000000001,
            "count": 0
           },
           {
            "bin_start": 1046119.2000000001,
            "bin_end": 1145120,
            "count": 1
           }
          ]
         }
        },
        {
         "name": 56,
         "dtype": "float64",
         "stats": {
          "unique_count": 30,
          "nan_count": 0,
          "min": "158432.0",
          "max": "1148265.0",
          "histogram": [
           {
            "bin_start": 158432,
            "bin_end": 257415.3,
            "count": 18
           },
           {
            "bin_start": 257415.3,
            "bin_end": 356398.6,
            "count": 0
           },
           {
            "bin_start": 356398.6,
            "bin_end": 455381.9,
            "count": 4
           },
           {
            "bin_start": 455381.9,
            "bin_end": 554365.2,
            "count": 4
           },
           {
            "bin_start": 554365.2,
            "bin_end": 653348.5,
            "count": 2
           },
           {
            "bin_start": 653348.5,
            "bin_end": 752331.8,
            "count": 1
           },
           {
            "bin_start": 752331.8,
            "bin_end": 851315.1,
            "count": 0
           },
           {
            "bin_start": 851315.1,
            "bin_end": 950298.4,
            "count": 0
           },
           {
            "bin_start": 950298.4,
            "bin_end": 1049281.7000000002,
            "count": 0
           },
           {
            "bin_start": 1049281.7000000002,
            "bin_end": 1148265,
            "count": 1
           }
          ]
         }
        },
        {
         "name": 57,
         "dtype": "float64",
         "stats": {
          "unique_count": 30,
          "nan_count": 0,
          "min": "159632.0",
          "max": "1156305.0",
          "histogram": [
           {
            "bin_start": 159632,
            "bin_end": 259299.3,
            "count": 18
           },
           {
            "bin_start": 259299.3,
            "bin_end": 358966.6,
            "count": 0
           },
           {
            "bin_start": 358966.6,
            "bin_end": 458633.9,
            "count": 4
           },
           {
            "bin_start": 458633.9,
            "bin_end": 558301.2,
            "count": 4
           },
           {
            "bin_start": 558301.2,
            "bin_end": 657968.5,
            "count": 2
           },
           {
            "bin_start": 657968.5,
            "bin_end": 757635.8,
            "count": 1
           },
           {
            "bin_start": 757635.8,
            "bin_end": 857303.1,
            "count": 0
           },
           {
            "bin_start": 857303.1,
            "bin_end": 956970.4,
            "count": 0
           },
           {
            "bin_start": 956970.4,
            "bin_end": 1056637.7000000002,
            "count": 0
           },
           {
            "bin_start": 1056637.7000000002,
            "bin_end": 1156305,
            "count": 1
           }
          ]
         }
        },
        {
         "name": 58,
         "dtype": "float64",
         "stats": {
          "unique_count": 30,
          "nan_count": 0,
          "min": "165152.0",
          "max": "1160925.0",
          "histogram": [
           {
            "bin_start": 165152,
            "bin_end": 264729.3,
            "count": 18
           },
           {
            "bin_start": 264729.3,
            "bin_end": 364306.6,
            "count": 0
           },
           {
            "bin_start": 364306.6,
            "bin_end": 463883.9,
            "count": 4
           },
           {
            "bin_start": 463883.9,
            "bin_end": 563461.2,
            "count": 4
           },
           {
            "bin_start": 563461.2,
            "bin_end": 663038.5,
            "count": 2
           },
           {
            "bin_start": 663038.5,
            "bin_end": 762615.8,
            "count": 1
           },
           {
            "bin_start": 762615.8,
            "bin_end": 862193.1,
            "count": 0
           },
           {
            "bin_start": 862193.1,
            "bin_end": 961770.4,
            "count": 0
           },
           {
            "bin_start": 961770.4,
            "bin_end": 1061347.7000000002,
            "count": 0
           },
           {
            "bin_start": 1061347.7000000002,
            "bin_end": 1160925,
            "count": 1
           }
          ]
         }
        },
        {
         "name": 59,
         "dtype": "float64",
         "stats": {
          "unique_count": 30,
          "nan_count": 0,
          "min": "178156.5",
          "max": "1173410.0",
          "histogram": [
           {
            "bin_start": 178156.5,
            "bin_end": 277681.85,
            "count": 18
           },
           {
            "bin_start": 277681.85,
            "bin_end": 377207.2,
            "count": 0
           },
           {
            "bin_start": 377207.2,
            "bin_end": 476732.55000000005,
            "count": 4
           },
           {
            "bin_start": 476732.55000000005,
            "bin_end": 576257.9,
            "count": 5
           },
           {
            "bin_start": 576257.9,
            "bin_end": 675783.25,
            "count": 1
           },
           {
            "bin_start": 675783.25,
            "bin_end": 775308.6000000001,
            "count": 1
           },
           {
            "bin_start": 775308.6000000001,
            "bin_end": 874833.9500000001,
            "count": 0
           },
           {
            "bin_start": 874833.9500000001,
            "bin_end": 974359.3,
            "count": 0
           },
           {
            "bin_start": 974359.3,
            "bin_end": 1073884.65,
            "count": 0
           },
           {
            "bin_start": 1073884.65,
            "bin_end": 1173410,
            "count": 1
           }
          ]
         }
        },
        {
         "name": 60,
         "dtype": "float64",
         "stats": {
          "unique_count": 30,
          "nan_count": 0,
          "min": "181582.0",
          "max": "1185300.0",
          "histogram": [
           {
            "bin_start": 181582,
            "bin_end": 281953.8,
            "count": 18
           },
           {
            "bin_start": 281953.8,
            "bin_end": 382325.6,
            "count": 0
           },
           {
            "bin_start": 382325.6,
            "bin_end": 482697.4,
            "count": 3
           },
           {
            "bin_start": 482697.4,
            "bin_end": 583069.2,
            "count": 6
           },
           {
            "bin_start": 583069.2,
            "bin_end": 683441,
            "count": 1
           },
           {
            "bin_start": 683441,
            "bin_end": 783812.8,
            "count": 1
           },
           {
            "bin_start": 783812.8,
            "bin_end": 884184.6,
            "count": 0
           },
           {
            "bin_start": 884184.6,
            "bin_end": 984556.4,
            "count": 0
           },
           {
            "bin_start": 984556.4,
            "bin_end": 1084928.2000000002,
            "count": 0
           },
           {
            "bin_start": 1084928.2000000002,
            "bin_end": 1185300,
            "count": 1
           }
          ]
         }
        },
        {
         "name": 61,
         "dtype": "float64",
         "stats": {
          "unique_count": 30,
          "nan_count": 0,
          "min": "185422.0",
          "max": "1208140.0",
          "histogram": [
           {
            "bin_start": 185422,
            "bin_end": 287693.8,
            "count": 18
           },
           {
            "bin_start": 287693.8,
            "bin_end": 389965.6,
            "count": 0
           },
           {
            "bin_start": 389965.6,
            "bin_end": 492237.4,
            "count": 4
           },
           {
            "bin_start": 492237.4,
            "bin_end": 594509.2,
            "count": 5
           },
           {
            "bin_start": 594509.2,
            "bin_end": 696781,
            "count": 1
           },
           {
            "bin_start": 696781,
            "bin_end": 799052.8,
            "count": 1
           },
           {
            "bin_start": 799052.8,
            "bin_end": 901324.6,
            "count": 0
           },
           {
            "bin_start": 901324.6,
            "bin_end": 1003596.4,
            "count": 0
           },
           {
            "bin_start": 1003596.4,
            "bin_end": 1105868.2000000002,
            "count": 0
           },
           {
            "bin_start": 1105868.2000000002,
            "bin_end": 1208140,
            "count": 1
           }
          ]
         }
        },
        {
         "name": 62,
         "dtype": "float64",
         "stats": {
          "unique_count": 30,
          "nan_count": 0,
          "min": "155889.0",
          "max": "1129430.0",
          "histogram": [
           {
            "bin_start": 155889,
            "bin_end": 253243.1,
            "count": 18
           },
           {
            "bin_start": 253243.1,
            "bin_end": 350597.2,
            "count": 0
           },
           {
            "bin_start": 350597.2,
            "bin_end": 447951.30000000005,
            "count": 1
           },
           {
            "bin_start": 447951.30000000005,
            "bin_end": 545305.4,
            "count": 6
           },
           {
            "bin_start": 545305.4,
            "bin_end": 642659.5,
            "count": 3
           },
           {
            "bin_start": 642659.5,
            "bin_end": 740013.6000000001,
            "count": 1
           },
           {
            "bin_start": 740013.6000000001,
            "bin_end": 837367.7000000001,
            "count": 0
           },
           {
            "bin_start": 837367.7000000001,
            "bin_end": 934721.8,
            "count": 0
           },
           {
            "bin_start": 934721.8,
            "bin_end": 1032075.9,
            "count": 0
           },
           {
            "bin_start": 1032075.9,
            "bin_end": 1129430,
            "count": 1
           }
          ]
         }
        },
        {
         "name": 63,
         "dtype": "float64",
         "stats": {
          "unique_count": 30,
          "nan_count": 0,
          "min": "144546.0",
          "max": "1099845.0",
          "histogram": [
           {
            "bin_start": 144546,
            "bin_end": 240075.9,
            "count": 18
           },
           {
            "bin_start": 240075.9,
            "bin_end": 335605.8,
            "count": 0
           },
           {
            "bin_start": 335605.8,
            "bin_end": 431135.69999999995,
            "count": 1
           },
           {
            "bin_start": 431135.69999999995,
            "bin_end": 526665.6,
            "count": 7
           },
           {
            "bin_start": 526665.6,
            "bin_end": 622195.5,
            "count": 2
           },
           {
            "bin_start": 622195.5,
            "bin_end": 717725.3999999999,
            "count": 1
           },
           {
            "bin_start": 717725.3999999999,
            "bin_end": 813255.2999999999,
            "count": 0
           },
           {
            "bin_start": 813255.2999999999,
            "bin_end": 908785.2,
            "count": 0
           },
           {
            "bin_start": 908785.2,
            "bin_end": 1004315.1,
            "count": 0
           },
           {
            "bin_start": 1004315.1,
            "bin_end": 1099845,
            "count": 1
           }
          ]
         }
        },
        {
         "name": 64,
         "dtype": "float64",
         "stats": {
          "unique_count": 30,
          "nan_count": 0,
          "min": "146503.0",
          "max": "1095115.0",
          "histogram": [
           {
            "bin_start": 146503,
            "bin_end": 241364.2,
            "count": 18
           },
           {
            "bin_start": 241364.2,
            "bin_end": 336225.4,
            "count": 0
           },
           {
            "bin_start": 336225.4,
            "bin_end": 431086.6,
            "count": 1
           },
           {
            "bin_start": 431086.6,
            "bin_end": 525947.8,
            "count": 7
           },
           {
            "bin_start": 525947.8,
            "bin_end": 620809,
            "count": 2
           },
           {
            "bin_start": 620809,
            "bin_end": 715670.2,
            "count": 1
           },
           {
            "bin_start": 715670.2,
            "bin_end": 810531.4,
            "count": 0
           },
           {
            "bin_start": 810531.4,
            "bin_end": 905392.6,
            "count": 0
           },
           {
            "bin_start": 905392.6,
            "bin_end": 1000253.7999999999,
            "count": 0
           },
           {
            "bin_start": 1000253.7999999999,
            "bin_end": 1095115,
            "count": 1
           }
          ]
         }
        },
        {
         "name": 65,
         "dtype": "float64",
         "stats": {
          "unique_count": 30,
          "nan_count": 0,
          "min": "148365.0",
          "max": "1098890.0",
          "histogram": [
           {
            "bin_start": 148365,
            "bin_end": 243417.5,
            "count": 18
           },
           {
            "bin_start": 243417.5,
            "bin_end": 338470,
            "count": 0
           },
           {
            "bin_start": 338470,
            "bin_end": 433522.5,
            "count": 1
           },
           {
            "bin_start": 433522.5,
            "bin_end": 528575,
            "count": 6
           },
           {
            "bin_start": 528575,
            "bin_end": 623627.5,
            "count": 3
           },
           {
            "bin_start": 623627.5,
            "bin_end": 718680,
            "count": 1
           },
           {
            "bin_start": 718680,
            "bin_end": 813732.5,
            "count": 0
           },
           {
            "bin_start": 813732.5,
            "bin_end": 908785,
            "count": 0
           },
           {
            "bin_start": 908785,
            "bin_end": 1003837.5,
            "count": 0
           },
           {
            "bin_start": 1003837.5,
            "bin_end": 1098890,
            "count": 1
           }
          ]
         }
        },
        {
         "name": 66,
         "dtype": "float64",
         "stats": {
          "unique_count": 30,
          "nan_count": 0,
          "min": "131912.0",
          "max": "1100565.0",
          "histogram": [
           {
            "bin_start": 131912,
            "bin_end": 228777.3,
            "count": 18
           },
           {
            "bin_start": 228777.3,
            "bin_end": 325642.6,
            "count": 0
           },
           {
            "bin_start": 325642.6,
            "bin_end": 422507.9,
            "count": 1
           },
           {
            "bin_start": 422507.9,
            "bin_end": 519373.2,
            "count": 7
           },
           {
            "bin_start": 519373.2,
            "bin_end": 616238.5,
            "count": 2
           },
           {
            "bin_start": 616238.5,
            "bin_end": 713103.8,
            "count": 1
           },
           {
            "bin_start": 713103.8,
            "bin_end": 809969.1,
            "count": 0
           },
           {
            "bin_start": 809969.1,
            "bin_end": 906834.4,
            "count": 0
           },
           {
            "bin_start": 906834.4,
            "bin_end": 1003699.7000000001,
            "count": 0
           },
           {
            "bin_start": 1003699.7000000001,
            "bin_end": 1100565,
            "count": 1
           }
          ]
         }
        },
        {
         "name": 67,
         "dtype": "float64",
         "stats": {
          "unique_count": 30,
          "nan_count": 0,
          "min": "127602.5",
          "max": "1111635.0",
          "histogram": [
           {
            "bin_start": 127602.5,
            "bin_end": 226005.75,
            "count": 18
           },
           {
            "bin_start": 226005.75,
            "bin_end": 324409,
            "count": 0
           },
           {
            "bin_start": 324409,
            "bin_end": 422812.25,
            "count": 2
           },
           {
            "bin_start": 422812.25,
            "bin_end": 521215.5,
            "count": 6
           },
           {
            "bin_start": 521215.5,
            "bin_end": 619618.75,
            "count": 2
           },
           {
            "bin_start": 619618.75,
            "bin_end": 718022,
            "count": 1
           },
           {
            "bin_start": 718022,
            "bin_end": 816425.25,
            "count": 0
           },
           {
            "bin_start": 816425.25,
            "bin_end": 914828.5,
            "count": 0
           },
           {
            "bin_start": 914828.5,
            "bin_end": 1013231.75,
            "count": 0
           },
           {
            "bin_start": 1013231.75,
            "bin_end": 1111635,
            "count": 1
           }
          ]
         }
        },
        {
         "name": 68,
         "dtype": "float64",
         "stats": {
          "unique_count": 30,
          "nan_count": 0,
          "min": "136582.0",
          "max": "1124190.0",
          "histogram": [
           {
            "bin_start": 136582,
            "bin_end": 235342.8,
            "count": 18
           },
           {
            "bin_start": 235342.8,
            "bin_end": 334103.6,
            "count": 0
           },
           {
            "bin_start": 334103.6,
            "bin_end": 432864.4,
            "count": 4
           },
           {
            "bin_start": 432864.4,
            "bin_end": 531625.2,
            "count": 4
           },
           {
            "bin_start": 531625.2,
            "bin_end": 630386,
            "count": 2
           },
           {
            "bin_start": 630386,
            "bin_end": 729146.8,
            "count": 1
           },
           {
            "bin_start": 729146.8,
            "bin_end": 827907.6,
            "count": 0
           },
           {
            "bin_start": 827907.6,
            "bin_end": 926668.4,
            "count": 0
           },
           {
            "bin_start": 926668.4,
            "bin_end": 1025429.2000000001,
            "count": 0
           },
           {
            "bin_start": 1025429.2000000001,
            "bin_end": 1124190,
            "count": 1
           }
          ]
         }
        },
        {
         "name": 69,
         "dtype": "float64",
         "stats": {
          "unique_count": 30,
          "nan_count": 0,
          "min": "137842.0",
          "max": "1131865.0",
          "histogram": [
           {
            "bin_start": 137842,
            "bin_end": 237244.3,
            "count": 18
           },
           {
            "bin_start": 237244.3,
            "bin_end": 336646.6,
            "count": 0
           },
           {
            "bin_start": 336646.6,
            "bin_end": 436048.9,
            "count": 4
           },
           {
            "bin_start": 436048.9,
            "bin_end": 535451.2,
            "count": 4
           },
           {
            "bin_start": 535451.2,
            "bin_end": 634853.5,
            "count": 2
           },
           {
            "bin_start": 634853.5,
            "bin_end": 734255.8,
            "count": 1
           },
           {
            "bin_start": 734255.8,
            "bin_end": 833658.1,
            "count": 0
           },
           {
            "bin_start": 833658.1,
            "bin_end": 933060.4,
            "count": 0
           },
           {
            "bin_start": 933060.4,
            "bin_end": 1032462.7000000001,
            "count": 0
           },
           {
            "bin_start": 1032462.7000000001,
            "bin_end": 1131865,
            "count": 1
           }
          ]
         }
        },
        {
         "name": 70,
         "dtype": "float64",
         "stats": {
          "unique_count": 30,
          "nan_count": 0,
          "min": "146062.0",
          "max": "1138825.0",
          "histogram": [
           {
            "bin_start": 146062,
            "bin_end": 245338.3,
            "count": 18
           },
           {
            "bin_start": 245338.3,
            "bin_end": 344614.6,
            "count": 0
           },
           {
            "bin_start": 344614.6,
            "bin_end": 443890.9,
            "count": 4
           },
           {
            "bin_start": 443890.9,
            "bin_end": 543167.2,
            "count": 4
           },
           {
            "bin_start": 543167.2,
            "bin_end": 642443.5,
            "count": 2
           },
           {
            "bin_start": 642443.5,
            "bin_end": 741719.8,
            "count": 1
           },
           {
            "bin_start": 741719.8,
            "bin_end": 840996.1,
            "count": 0
           },
           {
            "bin_start": 840996.1,
            "bin_end": 940272.4,
            "count": 0
           },
           {
            "bin_start": 940272.4,
            "bin_end": 1039548.7000000001,
            "count": 0
           },
           {
            "bin_start": 1039548.7000000001,
            "bin_end": 1138825,
            "count": 1
           }
          ]
         }
        },
        {
         "name": 71,
         "dtype": "float64",
         "stats": {
          "unique_count": 30,
          "nan_count": 0,
          "min": "148072.0",
          "max": "1144585.0",
          "histogram": [
           {
            "bin_start": 148072,
            "bin_end": 247723.3,
            "count": 18
           },
           {
            "bin_start": 247723.3,
            "bin_end": 347374.6,
            "count": 0
           },
           {
            "bin_start": 347374.6,
            "bin_end": 447025.9,
            "count": 4
           },
           {
            "bin_start": 447025.9,
            "bin_end": 546677.2,
            "count": 4
           },
           {
            "bin_start": 546677.2,
            "bin_end": 646328.5,
            "count": 2
           },
           {
            "bin_start": 646328.5,
            "bin_end": 745979.8,
            "count": 1
           },
           {
            "bin_start": 745979.8,
            "bin_end": 845631.1,
            "count": 0
           },
           {
            "bin_start": 845631.1,
            "bin_end": 945282.4,
            "count": 0
           },
           {
            "bin_start": 945282.4,
            "bin_end": 1044933.7000000001,
            "count": 0
           },
           {
            "bin_start": 1044933.7000000001,
            "bin_end": 1144585,
            "count": 1
           }
          ]
         }
        },
        {
         "name": 72,
         "dtype": "float64",
         "stats": {
          "unique_count": 30,
          "nan_count": 0,
          "min": "155442.0",
          "max": "1146845.0",
          "histogram": [
           {
            "bin_start": 155442,
            "bin_end": 254582.3,
            "count": 18
           },
           {
            "bin_start": 254582.3,
            "bin_end": 353722.6,
            "count": 0
           },
           {
            "bin_start": 353722.6,
            "bin_end": 452862.9,
            "count": 4
           },
           {
            "bin_start": 452862.9,
            "bin_end": 552003.2,
            "count": 4
           },
           {
            "bin_start": 552003.2,
            "bin_end": 651143.5,
            "count": 2
           },
           {
            "bin_start": 651143.5,
            "bin_end": 750283.8,
            "count": 1
           },
           {
            "bin_start": 750283.8,
            "bin_end": 849424.1,
            "count": 0
           },
           {
            "bin_start": 849424.1,
            "bin_end": 948564.4,
            "count": 0
           },
           {
            "bin_start": 948564.4,
            "bin_end": 1047704.7000000001,
            "count": 0
           },
           {
            "bin_start": 1047704.7000000001,
            "bin_end": 1146845,
            "count": 1
           }
          ]
         }
        },
        {
         "name": 73,
         "dtype": "float64",
         "stats": {
          "unique_count": 30,
          "nan_count": 0,
          "min": "157572.0",
          "max": "1149430.0",
          "histogram": [
           {
            "bin_start": 157572,
            "bin_end": 256757.8,
            "count": 18
           },
           {
            "bin_start": 256757.8,
            "bin_end": 355943.6,
            "count": 0
           },
           {
            "bin_start": 355943.6,
            "bin_end": 455129.4,
            "count": 4
           },
           {
            "bin_start": 455129.4,
            "bin_end": 554315.2,
            "count": 4
           },
           {
            "bin_start": 554315.2,
            "bin_end": 653501,
            "count": 2
           },
           {
            "bin_start": 653501,
            "bin_end": 752686.8,
            "count": 1
           },
           {
            "bin_start": 752686.8,
            "bin_end": 851872.6,
            "count": 0
           },
           {
            "bin_start": 851872.6,
            "bin_end": 951058.4,
            "count": 0
           },
           {
            "bin_start": 951058.4,
            "bin_end": 1050244.2000000002,
            "count": 0
           },
           {
            "bin_start": 1050244.2000000002,
            "bin_end": 1149430,
            "count": 1
           }
          ]
         }
        },
        {
         "name": 74,
         "dtype": "float64",
         "stats": {
          "unique_count": 30,
          "nan_count": 0,
          "min": "169436.0",
          "max": "1161200.0",
          "histogram": [
           {
            "bin_start": 169436,
            "bin_end": 268612.4,
            "count": 18
           },
           {
            "bin_start": 268612.4,
            "bin_end": 367788.8,
            "count": 0
           },
           {
            "bin_start": 367788.8,
            "bin_end": 466965.19999999995,
            "count": 3
           },
           {
            "bin_start": 466965.19999999995,
            "bin_end": 566141.6,
            "count": 5
           },
           {
            "bin_start": 566141.6,
            "bin_end": 665318,
            "count": 2
           },
           {
            "bin_start": 665318,
            "bin_end": 764494.3999999999,
            "count": 1
           },
           {
            "bin_start": 764494.3999999999,
            "bin_end": 863670.7999999999,
            "count": 0
           },
           {
            "bin_start": 863670.7999999999,
            "bin_end": 962847.2,
            "count": 0
           },
           {
            "bin_start": 962847.2,
            "bin_end": 1062023.6,
            "count": 0
           },
           {
            "bin_start": 1062023.6,
            "bin_end": 1161200,
            "count": 1
           }
          ]
         }
        },
        {
         "name": 75,
         "dtype": "float64",
         "stats": {
          "unique_count": 30,
          "nan_count": 0,
          "min": "171421.5",
          "max": "1161515.0",
          "histogram": [
           {
            "bin_start": 171421.5,
            "bin_end": 270430.85,
            "count": 18
           },
           {
            "bin_start": 270430.85,
            "bin_end": 369440.2,
            "count": 0
           },
           {
            "bin_start": 369440.2,
            "bin_end": 468449.55000000005,
            "count": 3
           },
           {
            "bin_start": 468449.55000000005,
            "bin_end": 567458.9,
            "count": 5
           },
           {
            "bin_start": 567458.9,
            "bin_end": 666468.25,
            "count": 2
           },
           {
            "bin_start": 666468.25,
            "bin_end": 765477.6000000001,
            "count": 0
           },
           {
            "bin_start": 765477.6000000001,
            "bin_end": 864486.9500000001,
            "count": 1
           },
           {
            "bin_start": 864486.9500000001,
            "bin_end": 963496.3,
            "count": 0
           },
           {
            "bin_start": 963496.3,
            "bin_end": 1062505.65,
            "count": 0
           },
           {
            "bin_start": 1062505.65,
            "bin_end": 1161515,
            "count": 1
           }
          ]
         }
        },
        {
         "name": 76,
         "dtype": "float64",
         "stats": {
          "unique_count": 30,
          "nan_count": 0,
          "min": "163002.0",
          "max": "1166330.0",
          "histogram": [
           {
            "bin_start": 163002,
            "bin_end": 263334.8,
            "count": 18
           },
           {
            "bin_start": 263334.8,
            "bin_end": 363667.6,
            "count": 0
           },
           {
            "bin_start": 363667.6,
            "bin_end": 464000.4,
            "count": 4
           },
           {
            "bin_start": 464000.4,
            "bin_end": 564333.2,
            "count": 4
           },
           {
            "bin_start": 564333.2,
            "bin_end": 664666,
            "count": 2
           },
           {
            "bin_start": 664666,
            "bin_end": 764998.8,
            "count": 1
           },
           {
            "bin_start": 764998.8,
            "bin_end": 865331.6,
            "count": 0
           },
           {
            "bin_start": 865331.6,
            "bin_end": 965664.4,
            "count": 0
           },
           {
            "bin_start": 965664.4,
            "bin_end": 1065997.2000000002,
            "count": 0
           },
           {
            "bin_start": 1065997.2000000002,
            "bin_end": 1166330,
            "count": 1
           }
          ]
         }
        },
        {
         "name": 77,
         "dtype": "float64",
         "stats": {
          "unique_count": 30,
          "nan_count": 0,
          "min": "170162.0",
          "max": "1175480.0",
          "histogram": [
           {
            "bin_start": 170162,
            "bin_end": 270693.8,
            "count": 18
           },
           {
            "bin_start": 270693.8,
            "bin_end": 371225.6,
            "count": 0
           },
           {
            "bin_start": 371225.6,
            "bin_end": 471757.4,
            "count": 4
           },
           {
            "bin_start": 471757.4,
            "bin_end": 572289.2,
            "count": 4
           },
           {
            "bin_start": 572289.2,
            "bin_end": 672821,
            "count": 2
           },
           {
            "bin_start": 672821,
            "bin_end": 773352.8,
            "count": 0
           },
           {
            "bin_start": 773352.8,
            "bin_end": 873884.6,
            "count": 1
           },
           {
            "bin_start": 873884.6,
            "bin_end": 974416.4,
            "count": 0
           },
           {
            "bin_start": 974416.4,
            "bin_end": 1074948.2000000002,
            "count": 0
           },
           {
            "bin_start": 1074948.2000000002,
            "bin_end": 1175480,
            "count": 1
           }
          ]
         }
        },
        {
         "name": 78,
         "dtype": "float64",
         "stats": {
          "unique_count": 30,
          "nan_count": 0,
          "min": "175912.0",
          "max": "1190760.0",
          "histogram": [
           {
            "bin_start": 175912,
            "bin_end": 277396.8,
            "count": 18
           },
           {
            "bin_start": 277396.8,
            "bin_end": 378881.6,
            "count": 0
           },
           {
            "bin_start": 378881.6,
            "bin_end": 480366.4,
            "count": 4
           },
           {
            "bin_start": 480366.4,
            "bin_end": 581851.2,
            "count": 5
           },
           {
            "bin_start": 581851.2,
            "bin_end": 683336,
            "count": 1
           },
           {
            "bin_start": 683336,
            "bin_end": 784820.8,
            "count": 1
           },
           {
            "bin_start": 784820.8,
            "bin_end": 886305.6,
            "count": 0
           },
           {
            "bin_start": 886305.6,
            "bin_end": 987790.4,
            "count": 0
           },
           {
            "bin_start": 987790.4,
            "bin_end": 1089275.2000000002,
            "count": 0
           },
           {
            "bin_start": 1089275.2000000002,
            "bin_end": 1190760,
            "count": 1
           }
          ]
         }
        },
        {
         "name": 79,
         "dtype": "float64",
         "stats": {
          "unique_count": 30,
          "nan_count": 0,
          "min": "184132.0",
          "max": "1216900.0",
          "histogram": [
           {
            "bin_start": 184132,
            "bin_end": 287408.8,
            "count": 18
           },
           {
            "bin_start": 287408.8,
            "bin_end": 390685.6,
            "count": 0
           },
           {
            "bin_start": 390685.6,
            "bin_end": 493962.4,
            "count": 3
           },
           {
            "bin_start": 493962.4,
            "bin_end": 597239.2,
            "count": 6
           },
           {
            "bin_start": 597239.2,
            "bin_end": 700516,
            "count": 1
           },
           {
            "bin_start": 700516,
            "bin_end": 803792.8,
            "count": 1
           },
           {
            "bin_start": 803792.8,
            "bin_end": 907069.6,
            "count": 0
           },
           {
            "bin_start": 907069.6,
            "bin_end": 1010346.4,
            "count": 0
           },
           {
            "bin_start": 1010346.4,
            "bin_end": 1113623.2000000002,
            "count": 0
           },
           {
            "bin_start": 1113623.2000000002,
            "bin_end": 1216900,
            "count": 1
           }
          ]
         }
        },
        {
         "name": 80,
         "dtype": "float64",
         "stats": {
          "unique_count": 30,
          "nan_count": 0,
          "min": "163660.0",
          "max": "1139160.0",
          "histogram": [
           {
            "bin_start": 163660,
            "bin_end": 261210,
            "count": 18
           },
           {
            "bin_start": 261210,
            "bin_end": 358760,
            "count": 0
           },
           {
            "bin_start": 358760,
            "bin_end": 456310,
            "count": 2
           },
           {
            "bin_start": 456310,
            "bin_end": 553860,
            "count": 5
           },
           {
            "bin_start": 553860,
            "bin_end": 651410,
            "count": 3
           },
           {
            "bin_start": 651410,
            "bin_end": 748960,
            "count": 1
           },
           {
            "bin_start": 748960,
            "bin_end": 846510,
            "count": 0
           },
           {
            "bin_start": 846510,
            "bin_end": 944060,
            "count": 0
           },
           {
            "bin_start": 944060,
            "bin_end": 1041610,
            "count": 0
           },
           {
            "bin_start": 1041610,
            "bin_end": 1139160,
            "count": 1
           }
          ]
         }
        },
        {
         "name": 81,
         "dtype": "float64",
         "stats": {
          "unique_count": 30,
          "nan_count": 0,
          "min": "155556.5",
          "max": "1157120.0",
          "histogram": [
           {
            "bin_start": 155556.5,
            "bin_end": 255712.85,
            "count": 17
           },
           {
            "bin_start": 255712.85,
            "bin_end": 355869.2,
            "count": 1
           },
           {
            "bin_start": 355869.2,
            "bin_end": 456025.55000000005,
            "count": 1
           },
           {
            "bin_start": 456025.55000000005,
            "bin_end": 556181.9,
            "count": 5
           },
           {
            "bin_start": 556181.9,
            "bin_end": 656338.25,
            "count": 3
           },
           {
            "bin_start": 656338.25,
            "bin_end": 756494.6000000001,
            "count": 2
           },
           {
            "bin_start": 756494.6000000001,
            "bin_end": 856650.9500000001,
            "count": 0
           },
           {
            "bin_start": 856650.9500000001,
            "bin_end": 956807.3,
            "count": 0
           },
           {
            "bin_start": 956807.3,
            "bin_end": 1056963.65,
            "count": 0
           },
           {
            "bin_start": 1056963.65,
            "bin_end": 1157120,
            "count": 1
           }
          ]
         }
        },
        {
         "name": 82,
         "dtype": "float64",
         "stats": {
          "unique_count": 30,
          "nan_count": 0,
          "min": "153152.0",
          "max": "1118735.0",
          "histogram": [
           {
            "bin_start": 153152,
            "bin_end": 249710.3,
            "count": 18
           },
           {
            "bin_start": 249710.3,
            "bin_end": 346268.6,
            "count": 0
           },
           {
            "bin_start": 346268.6,
            "bin_end": 442826.9,
            "count": 1
           },
           {
            "bin_start": 442826.9,
            "bin_end": 539385.2,
            "count": 6
           },
           {
            "bin_start": 539385.2,
            "bin_end": 635943.5,
            "count": 3
           },
           {
            "bin_start": 635943.5,
            "bin_end": 732501.8,
            "count": 1
           },
           {
            "bin_start": 732501.8,
            "bin_end": 829060.1,
            "count": 0
           },
           {
            "bin_start": 829060.1,
            "bin_end": 925618.4,
            "count": 0
           },
           {
            "bin_start": 925618.4,
            "bin_end": 1022176.7000000001,
            "count": 0
           },
           {
            "bin_start": 1022176.7000000001,
            "bin_end": 1118735,
            "count": 1
           }
          ]
         }
        },
        {
         "name": 83,
         "dtype": "float64",
         "stats": {
          "unique_count": 30,
          "nan_count": 0,
          "min": "150636.0",
          "max": "1116975.0",
          "histogram": [
           {
            "bin_start": 150636,
            "bin_end": 247269.9,
            "count": 18
           },
           {
            "bin_start": 247269.9,
            "bin_end": 343903.8,
            "count": 0
           },
           {
            "bin_start": 343903.8,
            "bin_end": 440537.69999999995,
            "count": 1
           },
           {
            "bin_start": 440537.69999999995,
            "bin_end": 537171.6,
            "count": 7
           },
           {
            "bin_start": 537171.6,
            "bin_end": 633805.5,
            "count": 2
           },
           {
            "bin_start": 633805.5,
            "bin_end": 730439.3999999999,
            "count": 1
           },
           {
            "bin_start": 730439.3999999999,
            "bin_end": 827073.2999999999,
            "count": 0
           },
           {
            "bin_start": 827073.2999999999,
            "bin_end": 923707.2,
            "count": 0
           },
           {
            "bin_start": 923707.2,
            "bin_end": 1020341.1,
            "count": 0
           },
           {
            "bin_start": 1020341.1,
            "bin_end": 1116975,
            "count": 1
           }
          ]
         }
        },
        {
         "name": 84,
         "dtype": "float64",
         "stats": {
          "unique_count": 30,
          "nan_count": 0,
          "min": "153054.5",
          "max": "1135530.0",
          "histogram": [
           {
            "bin_start": 153054.5,
            "bin_end": 251302.05,
            "count": 18
           },
           {
            "bin_start": 251302.05,
            "bin_end": 349549.6,
            "count": 0
           },
           {
            "bin_start": 349549.6,
            "bin_end": 447797.15,
            "count": 1
           },
           {
            "bin_start": 447797.15,
            "bin_end": 546044.7,
            "count": 6
           },
           {
            "bin_start": 546044.7,
            "bin_end": 644292.25,
            "count": 3
           },
           {
            "bin_start": 644292.25,
            "bin_end": 742539.8,
            "count": 0
           },
           {
            "bin_start": 742539.8,
            "bin_end": 840787.35,
            "count": 1
           },
           {
            "bin_start": 840787.35,
            "bin_end": 939034.9,
            "count": 0
           },
           {
            "bin_start": 939034.9,
            "bin_end": 1037282.4500000001,
            "count": 0
           },
           {
            "bin_start": 1037282.4500000001,
            "bin_end": 1135530,
            "count": 1
           }
          ]
         }
        },
        {
         "name": 85,
         "dtype": "float64",
         "stats": {
          "unique_count": 30,
          "nan_count": 0,
          "min": "143713.5",
          "max": "1131620.0",
          "histogram": [
           {
            "bin_start": 143713.5,
            "bin_end": 242504.15,
            "count": 18
           },
           {
            "bin_start": 242504.15,
            "bin_end": 341294.8,
            "count": 0
           },
           {
            "bin_start": 341294.8,
            "bin_end": 440085.44999999995,
            "count": 2
           },
           {
            "bin_start": 440085.44999999995,
            "bin_end": 538876.1,
            "count": 6
           },
           {
            "bin_start": 538876.1,
            "bin_end": 637666.75,
            "count": 2
           },
           {
            "bin_start": 637666.75,
            "bin_end": 736457.3999999999,
            "count": 1
           },
           {
            "bin_start": 736457.3999999999,
            "bin_end": 835248.0499999999,
            "count": 0
           },
           {
            "bin_start": 835248.0499999999,
            "bin_end": 934038.7,
            "count": 0
           },
           {
            "bin_start": 934038.7,
            "bin_end": 1032829.35,
            "count": 0
           },
           {
            "bin_start": 1032829.35,
            "bin_end": 1131620,
            "count": 1
           }
          ]
         }
        },
        {
         "name": 86,
         "dtype": "float64",
         "stats": {
          "unique_count": 30,
          "nan_count": 0,
          "min": "148837.5",
          "max": "1142090.0",
          "histogram": [
           {
            "bin_start": 148837.5,
            "bin_end": 248162.75,
            "count": 18
           },
           {
            "bin_start": 248162.75,
            "bin_end": 347488,
            "count": 0
           },
           {
            "bin_start": 347488,
            "bin_end": 446813.25,
            "count": 3
           },
           {
            "bin_start": 446813.25,
            "bin_end": 546138.5,
            "count": 5
           },
           {
            "bin_start": 546138.5,
            "bin_end": 645463.75,
            "count": 2
           },
           {
            "bin_start": 645463.75,
            "bin_end": 744789,
            "count": 1
           },
           {
            "bin_start": 744789,
            "bin_end": 844114.25,
            "count": 0
           },
           {
            "bin_start": 844114.25,
            "bin_end": 943439.5,
            "count": 0
           },
           {
            "bin_start": 943439.5,
            "bin_end": 1042764.75,
            "count": 0
           },
           {
            "bin_start": 1042764.75,
            "bin_end": 1142090,
            "count": 1
           }
          ]
         }
        },
        {
         "name": 87,
         "dtype": "float64",
         "stats": {
          "unique_count": 30,
          "nan_count": 0,
          "min": "154505.5",
          "max": "1148395.0",
          "histogram": [
           {
            "bin_start": 154505.5,
            "bin_end": 253894.45,
            "count": 18
           },
           {
            "bin_start": 253894.45,
            "bin_end": 353283.4,
            "count": 0
           },
           {
            "bin_start": 353283.4,
            "bin_end": 452672.35,
            "count": 4
           },
           {
            "bin_start": 452672.35,
            "bin_end": 552061.3,
            "count": 4
           },
           {
            "bin_start": 552061.3,
            "bin_end": 651450.25,
            "count": 2
           },
           {
            "bin_start": 651450.25,
            "bin_end": 750839.2,
            "count": 1
           },
           {
            "bin_start": 750839.2,
            "bin_end": 850228.15,
            "count": 0
           },
           {
            "bin_start": 850228.15,
            "bin_end": 949617.1,
            "count": 0
           },
           {
            "bin_start": 949617.1,
            "bin_end": 1049006.0499999998,
            "count": 0
           },
           {
            "bin_start": 1049006.0499999998,
            "bin_end": 1148395,
            "count": 1
           }
          ]
         }
        },
        {
         "name": 88,
         "dtype": "float64",
         "stats": {
          "unique_count": 30,
          "nan_count": 0,
          "min": "155882.0",
          "max": "1150950.0",
          "histogram": [
           {
            "bin_start": 155882,
            "bin_end": 255388.8,
            "count": 18
           },
           {
            "bin_start": 255388.8,
            "bin_end": 354895.6,
            "count": 0
           },
           {
            "bin_start": 354895.6,
            "bin_end": 454402.4,
            "count": 4
           },
           {
            "bin_start": 454402.4,
            "bin_end": 553909.2,
            "count": 4
           },
           {
            "bin_start": 553909.2,
            "bin_end": 653416,
            "count": 2
           },
           {
            "bin_start": 653416,
            "bin_end": 752922.8,
            "count": 1
           },
           {
            "bin_start": 752922.8,
            "bin_end": 852429.6,
            "count": 0
           },
           {
            "bin_start": 852429.6,
            "bin_end": 951936.4,
            "count": 0
           },
           {
            "bin_start": 951936.4,
            "bin_end": 1051443.2000000002,
            "count": 0
           },
           {
            "bin_start": 1051443.2000000002,
            "bin_end": 1150950,
            "count": 1
           }
          ]
         }
        },
        {
         "name": 89,
         "dtype": "float64",
         "stats": {
          "unique_count": 30,
          "nan_count": 0,
          "min": "154692.0",
          "max": "1155130.0",
          "histogram": [
           {
            "bin_start": 154692,
            "bin_end": 254735.8,
            "count": 18
           },
           {
            "bin_start": 254735.8,
            "bin_end": 354779.6,
            "count": 0
           },
           {
            "bin_start": 354779.6,
            "bin_end": 454823.4,
            "count": 4
           },
           {
            "bin_start": 454823.4,
            "bin_end": 554867.2,
            "count": 4
           },
           {
            "bin_start": 554867.2,
            "bin_end": 654911,
            "count": 2
           },
           {
            "bin_start": 654911,
            "bin_end": 754954.8,
            "count": 1
           },
           {
            "bin_start": 754954.8,
            "bin_end": 854998.6,
            "count": 0
           },
           {
            "bin_start": 854998.6,
            "bin_end": 955042.4,
            "count": 0
           },
           {
            "bin_start": 955042.4,
            "bin_end": 1055086.2000000002,
            "count": 0
           },
           {
            "bin_start": 1055086.2000000002,
            "bin_end": 1155130,
            "count": 1
           }
          ]
         }
        },
        {
         "name": 90,
         "dtype": "float64",
         "stats": {
          "unique_count": 30,
          "nan_count": 0,
          "min": "169741.5",
          "max": "1167830.0",
          "histogram": [
           {
            "bin_start": 169741.5,
            "bin_end": 269550.35,
            "count": 18
           },
           {
            "bin_start": 269550.35,
            "bin_end": 369359.2,
            "count": 0
           },
           {
            "bin_start": 369359.2,
            "bin_end": 469168.05000000005,
            "count": 3
           },
           {
            "bin_start": 469168.05000000005,
            "bin_end": 568976.9,
            "count": 5
           },
           {
            "bin_start": 568976.9,
            "bin_end": 668785.75,
            "count": 2
           },
           {
            "bin_start": 668785.75,
            "bin_end": 768594.6000000001,
            "count": 0
           },
           {
            "bin_start": 768594.6000000001,
            "bin_end": 868403.4500000001,
            "count": 1
           },
           {
            "bin_start": 868403.4500000001,
            "bin_end": 968212.3,
            "count": 0
           },
           {
            "bin_start": 968212.3,
            "bin_end": 1068021.15,
            "count": 0
           },
           {
            "bin_start": 1068021.15,
            "bin_end": 1167830,
            "count": 1
           }
          ]
         }
        },
        {
         "name": 91,
         "dtype": "float64",
         "stats": {
          "unique_count": 30,
          "nan_count": 0,
          "min": "159452.0",
          "max": "1159475.0",
          "histogram": [
           {
            "bin_start": 159452,
            "bin_end": 259454.3,
            "count": 18
           },
           {
            "bin_start": 259454.3,
            "bin_end": 359456.6,
            "count": 0
           },
           {
            "bin_start": 359456.6,
            "bin_end": 459458.9,
            "count": 4
           },
           {
            "bin_start": 459458.9,
            "bin_end": 559461.2,
            "count": 4
           },
           {
            "bin_start": 559461.2,
            "bin_end": 659463.5,
            "count": 2
           },
           {
            "bin_start": 659463.5,
            "bin_end": 759465.8,
            "count": 1
           },
           {
            "bin_start": 759465.8,
            "bin_end": 859468.1,
            "count": 0
           },
           {
            "bin_start": 859468.1,
            "bin_end": 959470.4,
            "count": 0
           },
           {
            "bin_start": 959470.4,
            "bin_end": 1059472.7000000002,
            "count": 0
           },
           {
            "bin_start": 1059472.7000000002,
            "bin_end": 1159475,
            "count": 1
           }
          ]
         }
        },
        {
         "name": 92,
         "dtype": "float64",
         "stats": {
          "unique_count": 30,
          "nan_count": 0,
          "min": "164602.0",
          "max": "1162595.0",
          "histogram": [
           {
            "bin_start": 164602,
            "bin_end": 264401.3,
            "count": 18
           },
           {
            "bin_start": 264401.3,
            "bin_end": 364200.6,
            "count": 0
           },
           {
            "bin_start": 364200.6,
            "bin_end": 463999.9,
            "count": 4
           },
           {
            "bin_start": 463999.9,
            "bin_end": 563799.2,
            "count": 4
           },
           {
            "bin_start": 563799.2,
            "bin_end": 663598.5,
            "count": 2
           },
           {
            "bin_start": 663598.5,
            "bin_end": 763397.8,
            "count": 1
           },
           {
            "bin_start": 763397.8,
            "bin_end": 863197.1,
            "count": 0
           },
           {
            "bin_start": 863197.1,
            "bin_end": 962996.4,
            "count": 0
           },
           {
            "bin_start": 962996.4,
            "bin_end": 1062795.7000000002,
            "count": 0
           },
           {
            "bin_start": 1062795.7000000002,
            "bin_end": 1162595,
            "count": 1
           }
          ]
         }
        },
        {
         "name": 93,
         "dtype": "float64",
         "stats": {
          "unique_count": 30,
          "nan_count": 0,
          "min": "163662.0",
          "max": "1167795.0",
          "histogram": [
           {
            "bin_start": 163662,
            "bin_end": 264075.3,
            "count": 18
           },
           {
            "bin_start": 264075.3,
            "bin_end": 364488.6,
            "count": 0
           },
           {
            "bin_start": 364488.6,
            "bin_end": 464901.9,
            "count": 4
           },
           {
            "bin_start": 464901.9,
            "bin_end": 565315.2,
            "count": 4
           },
           {
            "bin_start": 565315.2,
            "bin_end": 665728.5,
            "count": 2
           },
           {
            "bin_start": 665728.5,
            "bin_end": 766141.8,
            "count": 1
           },
           {
            "bin_start": 766141.8,
            "bin_end": 866555.1,
            "count": 0
           },
           {
            "bin_start": 866555.1,
            "bin_end": 966968.4,
            "count": 0
           },
           {
            "bin_start": 966968.4,
            "bin_end": 1067381.7000000002,
            "count": 0
           },
           {
            "bin_start": 1067381.7000000002,
            "bin_end": 1167795,
            "count": 1
           }
          ]
         }
        },
        {
         "name": 94,
         "dtype": "float64",
         "stats": {
          "unique_count": 30,
          "nan_count": 0,
          "min": "170902.0",
          "max": "1178835.0",
          "histogram": [
           {
            "bin_start": 170902,
            "bin_end": 271695.3,
            "count": 18
           },
           {
            "bin_start": 271695.3,
            "bin_end": 372488.6,
            "count": 0
           },
           {
            "bin_start": 372488.6,
            "bin_end": 473281.9,
            "count": 4
           },
           {
            "bin_start": 473281.9,
            "bin_end": 574075.2,
            "count": 5
           },
           {
            "bin_start": 574075.2,
            "bin_end": 674868.5,
            "count": 1
           },
           {
            "bin_start": 674868.5,
            "bin_end": 775661.8,
            "count": 1
           },
           {
            "bin_start": 775661.8,
            "bin_end": 876455.1,
            "count": 0
           },
           {
            "bin_start": 876455.1,
            "bin_end": 977248.4,
            "count": 0
           },
           {
            "bin_start": 977248.4,
            "bin_end": 1078041.7000000002,
            "count": 0
           },
           {
            "bin_start": 1078041.7000000002,
            "bin_end": 1178835,
            "count": 1
           }
          ]
         }
        },
        {
         "name": 95,
         "dtype": "float64",
         "stats": {
          "unique_count": 30,
          "nan_count": 0,
          "min": "173932.0",
          "max": "1190060.0",
          "histogram": [
           {
            "bin_start": 173932,
            "bin_end": 275544.8,
            "count": 18
           },
           {
            "bin_start": 275544.8,
            "bin_end": 377157.6,
            "count": 0
           },
           {
            "bin_start": 377157.6,
            "bin_end": 478770.4,
            "count": 4
           },
           {
            "bin_start": 478770.4,
            "bin_end": 580383.2,
            "count": 5
           },
           {
            "bin_start": 580383.2,
            "bin_end": 681996,
            "count": 1
           },
           {
            "bin_start": 681996,
            "bin_end": 783608.8,
            "count": 1
           },
           {
            "bin_start": 783608.8,
            "bin_end": 885221.6,
            "count": 0
           },
           {
            "bin_start": 885221.6,
            "bin_end": 986834.4,
            "count": 0
           },
           {
            "bin_start": 986834.4,
            "bin_end": 1088447.2000000002,
            "count": 0
           },
           {
            "bin_start": 1088447.2000000002,
            "bin_end": 1190060,
            "count": 1
           }
          ]
         }
        },
        {
         "name": 96,
         "dtype": "float64",
         "stats": {
          "unique_count": 30,
          "nan_count": 0,
          "min": "180972.0",
          "max": "1205605.0",
          "histogram": [
           {
            "bin_start": 180972,
            "bin_end": 283435.3,
            "count": 18
           },
           {
            "bin_start": 283435.3,
            "bin_end": 385898.6,
            "count": 0
           },
           {
            "bin_start": 385898.6,
            "bin_end": 488361.9,
            "count": 4
           },
           {
            "bin_start": 488361.9,
            "bin_end": 590825.2,
            "count": 5
           },
           {
            "bin_start": 590825.2,
            "bin_end": 693288.5,
            "count": 1
           },
           {
            "bin_start": 693288.5,
            "bin_end": 795751.8,
            "count": 1
           },
           {
            "bin_start": 795751.8,
            "bin_end": 898215.1,
            "count": 0
           },
           {
            "bin_start": 898215.1,
            "bin_end": 1000678.4,
            "count": 0
           },
           {
            "bin_start": 1000678.4,
            "bin_end": 1103141.7000000002,
            "count": 0
           },
           {
            "bin_start": 1103141.7000000002,
            "bin_end": 1205605,
            "count": 1
           }
          ]
         }
        },
        {
         "name": 97,
         "dtype": "float64",
         "stats": {
          "unique_count": 30,
          "nan_count": 0,
          "min": "186592.0",
          "max": "1230095.0",
          "histogram": [
           {
            "bin_start": 186592,
            "bin_end": 290942.3,
            "count": 18
           },
           {
            "bin_start": 290942.3,
            "bin_end": 395292.6,
            "count": 0
           },
           {
            "bin_start": 395292.6,
            "bin_end": 499642.9,
            "count": 3
           },
           {
            "bin_start": 499642.9,
            "bin_end": 603993.2,
            "count": 6
           },
           {
            "bin_start": 603993.2,
            "bin_end": 708343.5,
            "count": 1
           },
           {
            "bin_start": 708343.5,
            "bin_end": 812693.8,
            "count": 1
           },
           {
            "bin_start": 812693.8,
            "bin_end": 917044.1,
            "count": 0
           },
           {
            "bin_start": 917044.1,
            "bin_end": 1021394.4,
            "count": 0
           },
           {
            "bin_start": 1021394.4,
            "bin_end": 1125744.7000000002,
            "count": 0
           },
           {
            "bin_start": 1125744.7000000002,
            "bin_end": 1230095,
            "count": 1
           }
          ]
         }
        },
        {
         "name": 98,
         "dtype": "float64",
         "stats": {
          "unique_count": 30,
          "nan_count": 0,
          "min": "170820.0",
          "max": "1167595.0",
          "histogram": [
           {
            "bin_start": 170820,
            "bin_end": 270497.5,
            "count": 18
           },
           {
            "bin_start": 270497.5,
            "bin_end": 370175,
            "count": 0
           },
           {
            "bin_start": 370175,
            "bin_end": 469852.5,
            "count": 3
           },
           {
            "bin_start": 469852.5,
            "bin_end": 569530,
            "count": 4
           },
           {
            "bin_start": 569530,
            "bin_end": 669207.5,
            "count": 3
           },
           {
            "bin_start": 669207.5,
            "bin_end": 768885,
            "count": 1
           },
           {
            "bin_start": 768885,
            "bin_end": 868562.5,
            "count": 0
           },
           {
            "bin_start": 868562.5,
            "bin_end": 968240,
            "count": 0
           },
           {
            "bin_start": 968240,
            "bin_end": 1067917.5,
            "count": 0
           },
           {
            "bin_start": 1067917.5,
            "bin_end": 1167595,
            "count": 1
           }
          ]
         }
        },
        {
         "name": 99,
         "dtype": "float64",
         "stats": {
          "unique_count": 30,
          "nan_count": 0,
          "min": "154514.0",
          "max": "1152955.0",
          "histogram": [
           {
            "bin_start": 154514,
            "bin_end": 254358.1,
            "count": 18
           },
           {
            "bin_start": 254358.1,
            "bin_end": 354202.2,
            "count": 0
           },
           {
            "bin_start": 354202.2,
            "bin_end": 454046.30000000005,
            "count": 2
           },
           {
            "bin_start": 454046.30000000005,
            "bin_end": 553890.4,
            "count": 6
           },
           {
            "bin_start": 553890.4,
            "bin_end": 653734.5,
            "count": 2
           },
           {
            "bin_start": 653734.5,
            "bin_end": 753578.6000000001,
            "count": 1
           },
           {
            "bin_start": 753578.6000000001,
            "bin_end": 853422.7000000001,
            "count": 0
           },
           {
            "bin_start": 853422.7000000001,
            "bin_end": 953266.8,
            "count": 0
           },
           {
            "bin_start": 953266.8,
            "bin_end": 1053110.9,
            "count": 0
           },
           {
            "bin_start": 1053110.9,
            "bin_end": 1152955,
            "count": 1
           }
          ]
         }
        },
        {
         "name": 100,
         "dtype": "float64",
         "stats": {
          "unique_count": 30,
          "nan_count": 0,
          "min": "152839.0",
          "max": "1149935.0",
          "histogram": [
           {
            "bin_start": 152839,
            "bin_end": 252548.6,
            "count": 18
           },
           {
            "bin_start": 252548.6,
            "bin_end": 352258.2,
            "count": 0
           },
           {
            "bin_start": 352258.2,
            "bin_end": 451967.80000000005,
            "count": 2
           },
           {
            "bin_start": 451967.80000000005,
            "bin_end": 551677.4,
            "count": 6
           },
           {
            "bin_start": 551677.4,
            "bin_end": 651387,
            "count": 2
           },
           {
            "bin_start": 651387,
            "bin_end": 751096.6000000001,
            "count": 1
           },
           {
            "bin_start": 751096.6000000001,
            "bin_end": 850806.2000000001,
            "count": 0
           },
           {
            "bin_start": 850806.2000000001,
            "bin_end": 950515.8,
            "count": 0
           },
           {
            "bin_start": 950515.8,
            "bin_end": 1050225.4,
            "count": 0
           },
           {
            "bin_start": 1050225.4,
            "bin_end": 1149935,
            "count": 1
           }
          ]
         }
        },
        {
         "name": 101,
         "dtype": "float64",
         "stats": {
          "unique_count": 30,
          "nan_count": 0,
          "min": "155439.0",
          "max": "1146675.0",
          "histogram": [
           {
            "bin_start": 155439,
            "bin_end": 254562.6,
            "count": 18
           },
           {
            "bin_start": 254562.6,
            "bin_end": 353686.2,
            "count": 0
           },
           {
            "bin_start": 353686.2,
            "bin_end": 452809.80000000005,
            "count": 1
           },
           {
            "bin_start": 452809.80000000005,
            "bin_end": 551933.4,
            "count": 7
           },
           {
            "bin_start": 551933.4,
            "bin_end": 651057,
            "count": 2
           },
           {
            "bin_start": 651057,
            "bin_end": 750180.6000000001,
            "count": 1
           },
           {
            "bin_start": 750180.6000000001,
            "bin_end": 849304.2000000001,
            "count": 0
           },
           {
            "bin_start": 849304.2000000001,
            "bin_end": 948427.8,
            "count": 0
           },
           {
            "bin_start": 948427.8,
            "bin_end": 1047551.4,
            "count": 0
           },
           {
            "bin_start": 1047551.4,
            "bin_end": 1146675,
            "count": 1
           }
          ]
         }
        },
        {
         "name": 102,
         "dtype": "float64",
         "stats": {
          "unique_count": 30,
          "nan_count": 0,
          "min": "153444.0",
          "max": "1150175.0",
          "histogram": [
           {
            "bin_start": 153444,
            "bin_end": 253117.1,
            "count": 18
           },
           {
            "bin_start": 253117.1,
            "bin_end": 352790.2,
            "count": 0
           },
           {
            "bin_start": 352790.2,
            "bin_end": 452463.30000000005,
            "count": 3
           },
           {
            "bin_start": 452463.30000000005,
            "bin_end": 552136.4,
            "count": 5
           },
           {
            "bin_start": 552136.4,
            "bin_end": 651809.5,
            "count": 2
           },
           {
            "bin_start": 651809.5,
            "bin_end": 751482.6000000001,
            "count": 1
           },
           {
            "bin_start": 751482.6000000001,
            "bin_end": 851155.7000000001,
            "count": 0
           },
           {
            "bin_start": 851155.7000000001,
            "bin_end": 950828.8,
            "count": 0
           },
           {
            "bin_start": 950828.8,
            "bin_end": 1050501.9,
            "count": 0
           },
           {
            "bin_start": 1050501.9,
            "bin_end": 1150175,
            "count": 1
           }
          ]
         }
        },
        {
         "name": 103,
         "dtype": "float64",
         "stats": {
          "unique_count": 30,
          "nan_count": 0,
          "min": "154596.0",
          "max": "1154860.0",
          "histogram": [
           {
            "bin_start": 154596,
            "bin_end": 254622.4,
            "count": 18
           },
           {
            "bin_start": 254622.4,
            "bin_end": 354648.8,
            "count": 0
           },
           {
            "bin_start": 354648.8,
            "bin_end": 454675.19999999995,
            "count": 4
           },
           {
            "bin_start": 454675.19999999995,
            "bin_end": 554701.6,
            "count": 4
           },
           {
            "bin_start": 554701.6,
            "bin_end": 654728,
            "count": 2
           },
           {
            "bin_start": 654728,
            "bin_end": 754754.3999999999,
            "count": 1
           },
           {
            "bin_start": 754754.3999999999,
            "bin_end": 854780.7999999999,
            "count": 0
           },
           {
            "bin_start": 854780.7999999999,
            "bin_end": 954807.2,
            "count": 0
           },
           {
            "bin_start": 954807.2,
            "bin_end": 1054833.6,
            "count": 0
           },
           {
            "bin_start": 1054833.6,
            "bin_end": 1154860,
            "count": 1
           }
          ]
         }
        },
        {
         "name": 104,
         "dtype": "float64",
         "stats": {
          "unique_count": 30,
          "nan_count": 0,
          "min": "160772.5",
          "max": "1162680.0",
          "histogram": [
           {
            "bin_start": 160772.5,
            "bin_end": 260963.25,
            "count": 18
           },
           {
            "bin_start": 260963.25,
            "bin_end": 361154,
            "count": 0
           },
           {
            "bin_start": 361154,
            "bin_end": 461344.75,
            "count": 3
           },
           {
            "bin_start": 461344.75,
            "bin_end": 561535.5,
            "count": 5
           },
           {
            "bin_start": 561535.5,
            "bin_end": 661726.25,
            "count": 2
           },
           {
            "bin_start": 661726.25,
            "bin_end": 761917,
            "count": 1
           },
           {
            "bin_start": 761917,
            "bin_end": 862107.75,
            "count": 0
           },
           {
            "bin_start": 862107.75,
            "bin_end": 962298.5,
            "count": 0
           },
           {
            "bin_start": 962298.5,
            "bin_end": 1062489.25,
            "count": 0
           },
           {
            "bin_start": 1062489.25,
            "bin_end": 1162680,
            "count": 1
           }
          ]
         }
        },
        {
         "name": 105,
         "dtype": "float64",
         "stats": {
          "unique_count": 30,
          "nan_count": 0,
          "min": "161382.0",
          "max": "1164065.0",
          "histogram": [
           {
            "bin_start": 161382,
            "bin_end": 261650.3,
            "count": 18
           },
           {
            "bin_start": 261650.3,
            "bin_end": 361918.6,
            "count": 0
           },
           {
            "bin_start": 361918.6,
            "bin_end": 462186.9,
            "count": 3
           },
           {
            "bin_start": 462186.9,
            "bin_end": 562455.2,
            "count": 5
           },
           {
            "bin_start": 562455.2,
            "bin_end": 662723.5,
            "count": 2
           },
           {
            "bin_start": 662723.5,
            "bin_end": 762991.8,
            "count": 1
           },
           {
            "bin_start": 762991.8,
            "bin_end": 863260.1,
            "count": 0
           },
           {
            "bin_start": 863260.1,
            "bin_end": 963528.4,
            "count": 0
           },
           {
            "bin_start": 963528.4,
            "bin_end": 1063796.7000000002,
            "count": 0
           },
           {
            "bin_start": 1063796.7000000002,
            "bin_end": 1164065,
            "count": 1
           }
          ]
         }
        },
        {
         "name": 106,
         "dtype": "float64",
         "stats": {
          "unique_count": 30,
          "nan_count": 0,
          "min": "161562.0",
          "max": "1166925.0",
          "histogram": [
           {
            "bin_start": 161562,
            "bin_end": 262098.3,
            "count": 18
           },
           {
            "bin_start": 262098.3,
            "bin_end": 362634.6,
            "count": 0
           },
           {
            "bin_start": 362634.6,
            "bin_end": 463170.9,
            "count": 4
           },
           {
            "bin_start": 463170.9,
            "bin_end": 563707.2,
            "count": 4
           },
           {
            "bin_start": 563707.2,
            "bin_end": 664243.5,
            "count": 2
           },
           {
            "bin_start": 664243.5,
            "bin_end": 764779.8,
            "count": 1
           },
           {
            "bin_start": 764779.8,
            "bin_end": 865316.1,
            "count": 0
           },
           {
            "bin_start": 865316.1,
            "bin_end": 965852.4,
            "count": 0
           },
           {
            "bin_start": 965852.4,
            "bin_end": 1066388.7000000002,
            "count": 0
           },
           {
            "bin_start": 1066388.7000000002,
            "bin_end": 1166925,
            "count": 1
           }
          ]
         }
        },
        {
         "name": 107,
         "dtype": "float64",
         "stats": {
          "unique_count": 30,
          "nan_count": 0,
          "min": "162142.0",
          "max": "1169420.0",
          "histogram": [
           {
            "bin_start": 162142,
            "bin_end": 262869.8,
            "count": 18
           },
           {
            "bin_start": 262869.8,
            "bin_end": 363597.6,
            "count": 0
           },
           {
            "bin_start": 363597.6,
            "bin_end": 464325.4,
            "count": 4
           },
           {
            "bin_start": 464325.4,
            "bin_end": 565053.2,
            "count": 4
           },
           {
            "bin_start": 565053.2,
            "bin_end": 665781,
            "count": 2
           },
           {
            "bin_start": 665781,
            "bin_end": 766508.8,
            "count": 1
           },
           {
            "bin_start": 766508.8,
            "bin_end": 867236.6,
            "count": 0
           },
           {
            "bin_start": 867236.6,
            "bin_end": 967964.4,
            "count": 0
           },
           {
            "bin_start": 967964.4,
            "bin_end": 1068692.2000000002,
            "count": 0
           },
           {
            "bin_start": 1068692.2000000002,
            "bin_end": 1169420,
            "count": 1
           }
          ]
         }
        },
        {
         "name": 108,
         "dtype": "float64",
         "stats": {
          "unique_count": 30,
          "nan_count": 0,
          "min": "166802.0",
          "max": "1174030.0",
          "histogram": [
           {
            "bin_start": 166802,
            "bin_end": 267524.8,
            "count": 18
           },
           {
            "bin_start": 267524.8,
            "bin_end": 368247.6,
            "count": 0
           },
           {
            "bin_start": 368247.6,
            "bin_end": 468970.4,
            "count": 4
           },
           {
            "bin_start": 468970.4,
            "bin_end": 569693.2,
            "count": 4
           },
           {
            "bin_start": 569693.2,
            "bin_end": 670416,
            "count": 2
           },
           {
            "bin_start": 670416,
            "bin_end": 771138.8,
            "count": 1
           },
           {
            "bin_start": 771138.8,
            "bin_end": 871861.6,
            "count": 0
           },
           {
            "bin_start": 871861.6,
            "bin_end": 972584.4,
            "count": 0
           },
           {
            "bin_start": 972584.4,
            "bin_end": 1073307.2000000002,
            "count": 0
           },
           {
            "bin_start": 1073307.2000000002,
            "bin_end": 1174030,
            "count": 1
           }
          ]
         }
        },
        {
         "name": 109,
         "dtype": "float64",
         "stats": {
          "unique_count": 30,
          "nan_count": 0,
          "min": "171892.0",
          "max": "1179320.0",
          "histogram": [
           {
            "bin_start": 171892,
            "bin_end": 272634.8,
            "count": 18
           },
           {
            "bin_start": 272634.8,
            "bin_end": 373377.6,
            "count": 0
           },
           {
            "bin_start": 373377.6,
            "bin_end": 474120.4,
            "count": 4
           },
           {
            "bin_start": 474120.4,
            "bin_end": 574863.2,
            "count": 4
           },
           {
            "bin_start": 574863.2,
            "bin_end": 675606,
            "count": 2
           },
           {
            "bin_start": 675606,
            "bin_end": 776348.8,
            "count": 1
           },
           {
            "bin_start": 776348.8,
            "bin_end": 877091.6,
            "count": 0
           },
           {
            "bin_start": 877091.6,
            "bin_end": 977834.4,
            "count": 0
           },
           {
            "bin_start": 977834.4,
            "bin_end": 1078577.2000000002,
            "count": 0
           },
           {
            "bin_start": 1078577.2000000002,
            "bin_end": 1179320,
            "count": 1
           }
          ]
         }
        },
        {
         "name": 110,
         "dtype": "float64",
         "stats": {
          "unique_count": 30,
          "nan_count": 0,
          "min": "180285.0",
          "max": "1184730.0",
          "histogram": [
           {
            "bin_start": 180285,
            "bin_end": 280729.5,
            "count": 18
           },
           {
            "bin_start": 280729.5,
            "bin_end": 381174,
            "count": 0
           },
           {
            "bin_start": 381174,
            "bin_end": 481618.5,
            "count": 3
           },
           {
            "bin_start": 481618.5,
            "bin_end": 582063,
            "count": 5
           },
           {
            "bin_start": 582063,
            "bin_end": 682507.5,
            "count": 2
           },
           {
            "bin_start": 682507.5,
            "bin_end": 782952,
            "count": 1
           },
           {
            "bin_start": 782952,
            "bin_end": 883396.5,
            "count": 0
           },
           {
            "bin_start": 883396.5,
            "bin_end": 983841,
            "count": 0
           },
           {
            "bin_start": 983841,
            "bin_end": 1084285.5,
            "count": 0
           },
           {
            "bin_start": 1084285.5,
            "bin_end": 1184730,
            "count": 1
           }
          ]
         }
        },
        {
         "name": 111,
         "dtype": "float64",
         "stats": {
          "unique_count": 30,
          "nan_count": 0,
          "min": "181072.0",
          "max": "1187095.0",
          "histogram": [
           {
            "bin_start": 181072,
            "bin_end": 281674.3,
            "count": 18
           },
           {
            "bin_start": 281674.3,
            "bin_end": 382276.6,
            "count": 0
           },
           {
            "bin_start": 382276.6,
            "bin_end": 482878.9,
            "count": 3
           },
           {
            "bin_start": 482878.9,
            "bin_end": 583481.2,
            "count": 6
           },
           {
            "bin_start": 583481.2,
            "bin_end": 684083.5,
            "count": 1
           },
           {
            "bin_start": 684083.5,
            "bin_end": 784685.8,
            "count": 0
           },
           {
            "bin_start": 784685.8,
            "bin_end": 885288.1,
            "count": 1
           },
           {
            "bin_start": 885288.1,
            "bin_end": 985890.4,
            "count": 0
           },
           {
            "bin_start": 985890.4,
            "bin_end": 1086492.7000000002,
            "count": 0
           },
           {
            "bin_start": 1086492.7000000002,
            "bin_end": 1187095,
            "count": 1
           }
          ]
         }
        },
        {
         "name": 112,
         "dtype": "float64",
         "stats": {
          "unique_count": 30,
          "nan_count": 0,
          "min": "176992.0",
          "max": "1192880.0",
          "histogram": [
           {
            "bin_start": 176992,
            "bin_end": 278580.8,
            "count": 18
           },
           {
            "bin_start": 278580.8,
            "bin_end": 380169.6,
            "count": 0
           },
           {
            "bin_start": 380169.6,
            "bin_end": 481758.4,
            "count": 4
           },
           {
            "bin_start": 481758.4,
            "bin_end": 583347.2,
            "count": 5
           },
           {
            "bin_start": 583347.2,
            "bin_end": 684936,
            "count": 1
           },
           {
            "bin_start": 684936,
            "bin_end": 786524.8,
            "count": 1
           },
           {
            "bin_start": 786524.8,
            "bin_end": 888113.6,
            "count": 0
           },
           {
            "bin_start": 888113.6,
            "bin_end": 989702.4,
            "count": 0
           },
           {
            "bin_start": 989702.4,
            "bin_end": 1091291.2000000002,
            "count": 0
           },
           {
            "bin_start": 1091291.2000000002,
            "bin_end": 1192880,
            "count": 1
           }
          ]
         }
        },
        {
         "name": 113,
         "dtype": "float64",
         "stats": {
          "unique_count": 30,
          "nan_count": 0,
          "min": "183402.0",
          "max": "1205560.0",
          "histogram": [
           {
            "bin_start": 183402,
            "bin_end": 285617.8,
            "count": 18
           },
           {
            "bin_start": 285617.8,
            "bin_end": 387833.6,
            "count": 0
           },
           {
            "bin_start": 387833.6,
            "bin_end": 490049.4,
            "count": 3
           },
           {
            "bin_start": 490049.4,
            "bin_end": 592265.2,
            "count": 6
           },
           {
            "bin_start": 592265.2,
            "bin_end": 694481,
            "count": 1
           },
           {
            "bin_start": 694481,
            "bin_end": 796696.8,
            "count": 1
           },
           {
            "bin_start": 796696.8,
            "bin_end": 898912.6,
            "count": 0
           },
           {
            "bin_start": 898912.6,
            "bin_end": 1001128.4,
            "count": 0
           },
           {
            "bin_start": 1001128.4,
            "bin_end": 1103344.2000000002,
            "count": 0
           },
           {
            "bin_start": 1103344.2000000002,
            "bin_end": 1205560,
            "count": 1
           }
          ]
         }
        },
        {
         "name": 114,
         "dtype": "float64",
         "stats": {
          "unique_count": 30,
          "nan_count": 0,
          "min": "189792.0",
          "max": "1223400.0",
          "histogram": [
           {
            "bin_start": 189792,
            "bin_end": 293152.8,
            "count": 18
           },
           {
            "bin_start": 293152.8,
            "bin_end": 396513.6,
            "count": 0
           },
           {
            "bin_start": 396513.6,
            "bin_end": 499874.4,
            "count": 3
           },
           {
            "bin_start": 499874.4,
            "bin_end": 603235.2,
            "count": 6
           },
           {
            "bin_start": 603235.2,
            "bin_end": 706596,
            "count": 1
           },
           {
            "bin_start": 706596,
            "bin_end": 809956.8,
            "count": 1
           },
           {
            "bin_start": 809956.8,
            "bin_end": 913317.6,
            "count": 0
           },
           {
            "bin_start": 913317.6,
            "bin_end": 1016678.4,
            "count": 0
           },
           {
            "bin_start": 1016678.4,
            "bin_end": 1120039.2000000002,
            "count": 0
           },
           {
            "bin_start": 1120039.2000000002,
            "bin_end": 1223400,
            "count": 1
           }
          ]
         }
        },
        {
         "name": 115,
         "dtype": "float64",
         "stats": {
          "unique_count": 30,
          "nan_count": 0,
          "min": "201453.0",
          "max": "1248020.0",
          "histogram": [
           {
            "bin_start": 201453,
            "bin_end": 306109.7,
            "count": 18
           },
           {
            "bin_start": 306109.7,
            "bin_end": 410766.4,
            "count": 0
           },
           {
            "bin_start": 410766.4,
            "bin_end": 515423.1,
            "count": 3
           },
           {
            "bin_start": 515423.1,
            "bin_end": 620079.8,
            "count": 6
           },
           {
            "bin_start": 620079.8,
            "bin_end": 724736.5,
            "count": 1
           },
           {
            "bin_start": 724736.5,
            "bin_end": 829393.2,
            "count": 1
           },
           {
            "bin_start": 829393.2,
            "bin_end": 934049.9,
            "count": 0
           },
           {
            "bin_start": 934049.9,
            "bin_end": 1038706.6,
            "count": 0
           },
           {
            "bin_start": 1038706.6,
            "bin_end": 1143363.2999999998,
            "count": 0
           },
           {
            "bin_start": 1143363.2999999998,
            "bin_end": 1248020,
            "count": 1
           }
          ]
         }
        },
        {
         "name": 116,
         "dtype": "float64",
         "stats": {
          "unique_count": 30,
          "nan_count": 0,
          "min": "179033.0",
          "max": "1208825.0",
          "histogram": [
           {
            "bin_start": 179033,
            "bin_end": 282012.2,
            "count": 18
           },
           {
            "bin_start": 282012.2,
            "bin_end": 384991.4,
            "count": 0
           },
           {
            "bin_start": 384991.4,
            "bin_end": 487970.6,
            "count": 3
           },
           {
            "bin_start": 487970.6,
            "bin_end": 590949.8,
            "count": 5
           },
           {
            "bin_start": 590949.8,
            "bin_end": 693929,
            "count": 2
           },
           {
            "bin_start": 693929,
            "bin_end": 796908.2,
            "count": 1
           },
           {
            "bin_start": 796908.2,
            "bin_end": 899887.4,
            "count": 0
           },
           {
            "bin_start": 899887.4,
            "bin_end": 1002866.6,
            "count": 0
           },
           {
            "bin_start": 1002866.6,
            "bin_end": 1105845.7999999998,
            "count": 0
           },
           {
            "bin_start": 1105845.7999999998,
            "bin_end": 1208825,
            "count": 1
           }
          ]
         }
        },
        {
         "name": 117,
         "dtype": "float64",
         "stats": {
          "unique_count": 30,
          "nan_count": 0,
          "min": "186300.0",
          "max": "1251450.0",
          "histogram": [
           {
            "bin_start": 186300,
            "bin_end": 292815,
            "count": 17
           },
           {
            "bin_start": 292815,
            "bin_end": 399330,
            "count": 2
           },
           {
            "bin_start": 399330,
            "bin_end": 505845,
            "count": 1
           },
           {
            "bin_start": 505845,
            "bin_end": 612360,
            "count": 6
           },
           {
            "bin_start": 612360,
            "bin_end": 718875,
            "count": 2
           },
           {
            "bin_start": 718875,
            "bin_end": 825390,
            "count": 1
           },
           {
            "bin_start": 825390,
            "bin_end": 931905,
            "count": 0
           },
           {
            "bin_start": 931905,
            "bin_end": 1038420,
            "count": 0
           },
           {
            "bin_start": 1038420,
            "bin_end": 1144935,
            "count": 0
           },
           {
            "bin_start": 1144935,
            "bin_end": 1251450,
            "count": 1
           }
          ]
         }
        },
        {
         "name": 118,
         "dtype": "float64",
         "stats": {
          "unique_count": 30,
          "nan_count": 0,
          "min": "173225.5",
          "max": "1202195.0",
          "histogram": [
           {
            "bin_start": 173225.5,
            "bin_end": 276122.45,
            "count": 18
           },
           {
            "bin_start": 276122.45,
            "bin_end": 379019.4,
            "count": 0
           },
           {
            "bin_start": 379019.4,
            "bin_end": 481916.35,
            "count": 2
           },
           {
            "bin_start": 481916.35,
            "bin_end": 584813.3,
            "count": 5
           },
           {
            "bin_start": 584813.3,
            "bin_end": 687710.25,
            "count": 3
           },
           {
            "bin_start": 687710.25,
            "bin_end": 790607.2,
            "count": 1
           },
           {
            "bin_start": 790607.2,
            "bin_end": 893504.15,
            "count": 0
           },
           {
            "bin_start": 893504.15,
            "bin_end": 996401.1,
            "count": 0
           },
           {
            "bin_start": 996401.1,
            "bin_end": 1099298.0499999998,
            "count": 0
           },
           {
            "bin_start": 1099298.0499999998,
            "bin_end": 1202195,
            "count": 1
           }
          ]
         }
        },
        {
         "name": 119,
         "dtype": "float64",
         "stats": {
          "unique_count": 30,
          "nan_count": 0,
          "min": "177410.5",
          "max": "1195165.0",
          "histogram": [
           {
            "bin_start": 177410.5,
            "bin_end": 279185.95,
            "count": 18
           },
           {
            "bin_start": 279185.95,
            "bin_end": 380961.4,
            "count": 1
           },
           {
            "bin_start": 380961.4,
            "bin_end": 482736.85,
            "count": 1
           },
           {
            "bin_start": 482736.85,
            "bin_end": 584512.3,
            "count": 5
           },
           {
            "bin_start": 584512.3,
            "bin_end": 686287.75,
            "count": 3
           },
           {
            "bin_start": 686287.75,
            "bin_end": 788063.2,
            "count": 1
           },
           {
            "bin_start": 788063.2,
            "bin_end": 889838.65,
            "count": 0
           },
           {
            "bin_start": 889838.65,
            "bin_end": 991614.1,
            "count": 0
           },
           {
            "bin_start": 991614.1,
            "bin_end": 1093389.5499999998,
            "count": 0
           },
           {
            "bin_start": 1093389.5499999998,
            "bin_end": 1195165,
            "count": 1
           }
          ]
         }
        },
        {
         "name": 120,
         "dtype": "float64",
         "stats": {
          "unique_count": 30,
          "nan_count": 0,
          "min": "181186.0",
          "max": "1200165.0",
          "histogram": [
           {
            "bin_start": 181186,
            "bin_end": 283083.9,
            "count": 18
           },
           {
            "bin_start": 283083.9,
            "bin_end": 384981.8,
            "count": 0
           },
           {
            "bin_start": 384981.8,
            "bin_end": 486879.69999999995,
            "count": 2
           },
           {
            "bin_start": 486879.69999999995,
            "bin_end": 588777.6,
            "count": 7
           },
           {
            "bin_start": 588777.6,
            "bin_end": 690675.5,
            "count": 1
           },
           {
            "bin_start": 690675.5,
            "bin_end": 792573.3999999999,
            "count": 1
           },
           {
            "bin_start": 792573.3999999999,
            "bin_end": 894471.2999999999,
            "count": 0
           },
           {
            "bin_start": 894471.2999999999,
            "bin_end": 996369.2,
            "count": 0
           },
           {
            "bin_start": 996369.2,
            "bin_end": 1098267.1,
            "count": 0
           },
           {
            "bin_start": 1098267.1,
            "bin_end": 1200165,
            "count": 1
           }
          ]
         }
        },
        {
         "name": 121,
         "dtype": "float64",
         "stats": {
          "unique_count": 30,
          "nan_count": 0,
          "min": "176901.0",
          "max": "1189760.0",
          "histogram": [
           {
            "bin_start": 176901,
            "bin_end": 278186.9,
            "count": 18
           },
           {
            "bin_start": 278186.9,
            "bin_end": 379472.8,
            "count": 0
           },
           {
            "bin_start": 379472.8,
            "bin_end": 480758.69999999995,
            "count": 3
           },
           {
            "bin_start": 480758.69999999995,
            "bin_end": 582044.6,
            "count": 7
           },
           {
            "bin_start": 582044.6,
            "bin_end": 683330.5,
            "count": 0
           },
           {
            "bin_start": 683330.5,
            "bin_end": 784616.3999999999,
            "count": 1
           },
           {
            "bin_start": 784616.3999999999,
            "bin_end": 885902.2999999999,
            "count": 0
           },
           {
            "bin_start": 885902.2999999999,
            "bin_end": 987188.2,
            "count": 0
           },
           {
            "bin_start": 987188.2,
            "bin_end": 1088474.1,
            "count": 0
           },
           {
            "bin_start": 1088474.1,
            "bin_end": 1189760,
            "count": 1
           }
          ]
         }
        },
        {
         "name": 122,
         "dtype": "float64",
         "stats": {
          "unique_count": 30,
          "nan_count": 0,
          "min": "180835.0",
          "max": "1193475.0",
          "histogram": [
           {
            "bin_start": 180835,
            "bin_end": 282099,
            "count": 18
           },
           {
            "bin_start": 282099,
            "bin_end": 383363,
            "count": 0
           },
           {
            "bin_start": 383363,
            "bin_end": 484627,
            "count": 2
           },
           {
            "bin_start": 484627,
            "bin_end": 585891,
            "count": 8
           },
           {
            "bin_start": 585891,
            "bin_end": 687155,
            "count": 0
           },
           {
            "bin_start": 687155,
            "bin_end": 788419,
            "count": 1
           },
           {
            "bin_start": 788419,
            "bin_end": 889683,
            "count": 0
           },
           {
            "bin_start": 889683,
            "bin_end": 990947,
            "count": 0
           },
           {
            "bin_start": 990947,
            "bin_end": 1092211,
            "count": 0
           },
           {
            "bin_start": 1092211,
            "bin_end": 1193475,
            "count": 1
           }
          ]
         }
        },
        {
         "name": 123,
         "dtype": "float64",
         "stats": {
          "unique_count": 30,
          "nan_count": 0,
          "min": "184485.5",
          "max": "1192835.0",
          "histogram": [
           {
            "bin_start": 184485.5,
            "bin_end": 285320.45,
            "count": 18
           },
           {
            "bin_start": 285320.45,
            "bin_end": 386155.4,
            "count": 0
           },
           {
            "bin_start": 386155.4,
            "bin_end": 486990.35,
            "count": 3
           },
           {
            "bin_start": 486990.35,
            "bin_end": 587825.3,
            "count": 7
           },
           {
            "bin_start": 587825.3,
            "bin_end": 688660.25,
            "count": 0
           },
           {
            "bin_start": 688660.25,
            "bin_end": 789495.2,
            "count": 1
           },
           {
            "bin_start": 789495.2,
            "bin_end": 890330.15,
            "count": 0
           },
           {
            "bin_start": 890330.15,
            "bin_end": 991165.1,
            "count": 0
           },
           {
            "bin_start": 991165.1,
            "bin_end": 1092000.0499999998,
            "count": 0
           },
           {
            "bin_start": 1092000.0499999998,
            "bin_end": 1192835,
            "count": 1
           }
          ]
         }
        },
        {
         "name": 124,
         "dtype": "float64",
         "stats": {
          "unique_count": 30,
          "nan_count": 0,
          "min": "178552.0",
          "max": "1199235.0",
          "histogram": [
           {
            "bin_start": 178552,
            "bin_end": 280620.3,
            "count": 18
           },
           {
            "bin_start": 280620.3,
            "bin_end": 382688.6,
            "count": 0
           },
           {
            "bin_start": 382688.6,
            "bin_end": 484756.9,
            "count": 4
           },
           {
            "bin_start": 484756.9,
            "bin_end": 586825.2,
            "count": 5
           },
           {
            "bin_start": 586825.2,
            "bin_end": 688893.5,
            "count": 1
           },
           {
            "bin_start": 688893.5,
            "bin_end": 790961.8,
            "count": 1
           },
           {
            "bin_start": 790961.8,
            "bin_end": 893030.1,
            "count": 0
           },
           {
            "bin_start": 893030.1,
            "bin_end": 995098.4,
            "count": 0
           },
           {
            "bin_start": 995098.4,
            "bin_end": 1097166.7000000002,
            "count": 0
           },
           {
            "bin_start": 1097166.7000000002,
            "bin_end": 1199235,
            "count": 1
           }
          ]
         }
        },
        {
         "name": 125,
         "dtype": "float64",
         "stats": {
          "unique_count": 30,
          "nan_count": 0,
          "min": "185442.0",
          "max": "1201405.0",
          "histogram": [
           {
            "bin_start": 185442,
            "bin_end": 287038.3,
            "count": 18
           },
           {
            "bin_start": 287038.3,
            "bin_end": 388634.6,
            "count": 0
           },
           {
            "bin_start": 388634.6,
            "bin_end": 490230.9,
            "count": 4
           },
           {
            "bin_start": 490230.9,
            "bin_end": 591827.2,
            "count": 5
           },
           {
            "bin_start": 591827.2,
            "bin_end": 693423.5,
            "count": 1
           },
           {
            "bin_start": 693423.5,
            "bin_end": 795019.8,
            "count": 1
           },
           {
            "bin_start": 795019.8,
            "bin_end": 896616.1,
            "count": 0
           },
           {
            "bin_start": 896616.1,
            "bin_end": 998212.4,
            "count": 0
           },
           {
            "bin_start": 998212.4,
            "bin_end": 1099808.7000000002,
            "count": 0
           },
           {
            "bin_start": 1099808.7000000002,
            "bin_end": 1201405,
            "count": 1
           }
          ]
         }
        },
        {
         "name": 126,
         "dtype": "float64",
         "stats": {
          "unique_count": 30,
          "nan_count": 0,
          "min": "188135.0",
          "max": "1215470.0",
          "histogram": [
           {
            "bin_start": 188135,
            "bin_end": 290868.5,
            "count": 18
           },
           {
            "bin_start": 290868.5,
            "bin_end": 393602,
            "count": 0
           },
           {
            "bin_start": 393602,
            "bin_end": 496335.5,
            "count": 4
           },
           {
            "bin_start": 496335.5,
            "bin_end": 599069,
            "count": 5
           },
           {
            "bin_start": 599069,
            "bin_end": 701802.5,
            "count": 1
           },
           {
            "bin_start": 701802.5,
            "bin_end": 804536,
            "count": 1
           },
           {
            "bin_start": 804536,
            "bin_end": 907269.5,
            "count": 0
           },
           {
            "bin_start": 907269.5,
            "bin_end": 1010003,
            "count": 0
           },
           {
            "bin_start": 1010003,
            "bin_end": 1112736.5,
            "count": 0
           },
           {
            "bin_start": 1112736.5,
            "bin_end": 1215470,
            "count": 1
           }
          ]
         }
        },
        {
         "name": 127,
         "dtype": "float64",
         "stats": {
          "unique_count": 30,
          "nan_count": 0,
          "min": "185912.0",
          "max": "1209295.0",
          "histogram": [
           {
            "bin_start": 185912,
            "bin_end": 288250.3,
            "count": 18
           },
           {
            "bin_start": 288250.3,
            "bin_end": 390588.6,
            "count": 0
           },
           {
            "bin_start": 390588.6,
            "bin_end": 492926.9,
            "count": 4
           },
           {
            "bin_start": 492926.9,
            "bin_end": 595265.2,
            "count": 5
           },
           {
            "bin_start": 595265.2,
            "bin_end": 697603.5,
            "count": 1
           },
           {
            "bin_start": 697603.5,
            "bin_end": 799941.8,
            "count": 1
           },
           {
            "bin_start": 799941.8,
            "bin_end": 902280.1,
            "count": 0
           },
           {
            "bin_start": 902280.1,
            "bin_end": 1004618.4,
            "count": 0
           },
           {
            "bin_start": 1004618.4,
            "bin_end": 1106956.7000000002,
            "count": 0
           },
           {
            "bin_start": 1106956.7000000002,
            "bin_end": 1209295,
            "count": 1
           }
          ]
         }
        },
        {
         "name": 128,
         "dtype": "float64",
         "stats": {
          "unique_count": 30,
          "nan_count": 0,
          "min": "187082.0",
          "max": "1218680.0",
          "histogram": [
           {
            "bin_start": 187082,
            "bin_end": 290241.8,
            "count": 18
           },
           {
            "bin_start": 290241.8,
            "bin_end": 393401.6,
            "count": 0
           },
           {
            "bin_start": 393401.6,
            "bin_end": 496561.4,
            "count": 4
           },
           {
            "bin_start": 496561.4,
            "bin_end": 599721.2,
            "count": 5
           },
           {
            "bin_start": 599721.2,
            "bin_end": 702881,
            "count": 1
           },
           {
            "bin_start": 702881,
            "bin_end": 806040.8,
            "count": 1
           },
           {
            "bin_start": 806040.8,
            "bin_end": 909200.6,
            "count": 0
           },
           {
            "bin_start": 909200.6,
            "bin_end": 1012360.4,
            "count": 0
           },
           {
            "bin_start": 1012360.4,
            "bin_end": 1115520.2000000002,
            "count": 0
           },
           {
            "bin_start": 1115520.2000000002,
            "bin_end": 1218680,
            "count": 1
           }
          ]
         }
        },
        {
         "name": 129,
         "dtype": "float64",
         "stats": {
          "unique_count": 30,
          "nan_count": 0,
          "min": "200434.5",
          "max": "1231015.0",
          "histogram": [
           {
            "bin_start": 200434.5,
            "bin_end": 303492.55,
            "count": 18
           },
           {
            "bin_start": 303492.55,
            "bin_end": 406550.6,
            "count": 0
           },
           {
            "bin_start": 406550.6,
            "bin_end": 509608.65,
            "count": 3
           },
           {
            "bin_start": 509608.65,
            "bin_end": 612666.7,
            "count": 6
           },
           {
            "bin_start": 612666.7,
            "bin_end": 715724.75,
            "count": 1
           },
           {
            "bin_start": 715724.75,
            "bin_end": 818782.8,
            "count": 1
           },
           {
            "bin_start": 818782.8,
            "bin_end": 921840.85,
            "count": 0
           },
           {
            "bin_start": 921840.85,
            "bin_end": 1024898.9,
            "count": 0
           },
           {
            "bin_start": 1024898.9,
            "bin_end": 1127956.9500000002,
            "count": 0
           },
           {
            "bin_start": 1127956.9500000002,
            "bin_end": 1231015,
            "count": 1
           }
          ]
         }
        },
        {
         "name": 130,
         "dtype": "float64",
         "stats": {
          "unique_count": 30,
          "nan_count": 0,
          "min": "203493.0",
          "max": "1306175.0",
          "histogram": [
           {
            "bin_start": 203493,
            "bin_end": 313761.2,
            "count": 17
           },
           {
            "bin_start": 313761.2,
            "bin_end": 424029.4,
            "count": 1
           },
           {
            "bin_start": 424029.4,
            "bin_end": 534297.6,
            "count": 3
           },
           {
            "bin_start": 534297.6,
            "bin_end": 644565.8,
            "count": 7
           },
           {
            "bin_start": 644565.8,
            "bin_end": 754834,
            "count": 0
           },
           {
            "bin_start": 754834,
            "bin_end": 865102.2,
            "count": 1
           },
           {
            "bin_start": 865102.2,
            "bin_end": 975370.4,
            "count": 0
           },
           {
            "bin_start": 975370.4,
            "bin_end": 1085638.6,
            "count": 0
           },
           {
            "bin_start": 1085638.6,
            "bin_end": 1195906.7999999998,
            "count": 0
           },
           {
            "bin_start": 1195906.7999999998,
            "bin_end": 1306175,
            "count": 1
           }
          ]
         }
        },
        {
         "name": 131,
         "dtype": "float64",
         "stats": {
          "unique_count": 30,
          "nan_count": 0,
          "min": "193352.0",
          "max": "1231940.0",
          "histogram": [
           {
            "bin_start": 193352,
            "bin_end": 297210.8,
            "count": 18
           },
           {
            "bin_start": 297210.8,
            "bin_end": 401069.6,
            "count": 0
           },
           {
            "bin_start": 401069.6,
            "bin_end": 504928.4,
            "count": 3
           },
           {
            "bin_start": 504928.4,
            "bin_end": 608787.2,
            "count": 6
           },
           {
            "bin_start": 608787.2,
            "bin_end": 712646,
            "count": 1
           },
           {
            "bin_start": 712646,
            "bin_end": 816504.8,
            "count": 1
           },
           {
            "bin_start": 816504.8,
            "bin_end": 920363.6,
            "count": 0
           },
           {
            "bin_start": 920363.6,
            "bin_end": 1024222.4,
            "count": 0
           },
           {
            "bin_start": 1024222.4,
            "bin_end": 1128081.2000000002,
            "count": 0
           },
           {
            "bin_start": 1128081.2000000002,
            "bin_end": 1231940,
            "count": 1
           }
          ]
         }
        },
        {
         "name": 132,
         "dtype": "float64",
         "stats": {
          "unique_count": 30,
          "nan_count": 0,
          "min": "210755.0",
          "max": "1253345.0",
          "histogram": [
           {
            "bin_start": 210755,
            "bin_end": 315014,
            "count": 18
           },
           {
            "bin_start": 315014,
            "bin_end": 419273,
            "count": 1
           },
           {
            "bin_start": 419273,
            "bin_end": 523532,
            "count": 2
           },
           {
            "bin_start": 523532,
            "bin_end": 627791,
            "count": 7
           },
           {
            "bin_start": 627791,
            "bin_end": 732050,
            "count": 0
           },
           {
            "bin_start": 732050,
            "bin_end": 836309,
            "count": 1
           },
           {
            "bin_start": 836309,
            "bin_end": 940568,
            "count": 0
           },
           {
            "bin_start": 940568,
            "bin_end": 1044827,
            "count": 0
           },
           {
            "bin_start": 1044827,
            "bin_end": 1149086,
            "count": 0
           },
           {
            "bin_start": 1149086,
            "bin_end": 1253345,
            "count": 1
           }
          ]
         }
        },
        {
         "name": 133,
         "dtype": "float64",
         "stats": {
          "unique_count": 30,
          "nan_count": 0,
          "min": "204841.5",
          "max": "1260155.0",
          "histogram": [
           {
            "bin_start": 204841.5,
            "bin_end": 310372.85,
            "count": 18
           },
           {
            "bin_start": 310372.85,
            "bin_end": 415904.2,
            "count": 0
           },
           {
            "bin_start": 415904.2,
            "bin_end": 521435.55000000005,
            "count": 3
           },
           {
            "bin_start": 521435.55000000005,
            "bin_end": 626966.9,
            "count": 7
           },
           {
            "bin_start": 626966.9,
            "bin_end": 732498.25,
            "count": 0
           },
           {
            "bin_start": 732498.25,
            "bin_end": 838029.6000000001,
            "count": 1
           },
           {
            "bin_start": 838029.6000000001,
            "bin_end": 943560.9500000001,
            "count": 0
           },
           {
            "bin_start": 943560.9500000001,
            "bin_end": 1049092.3,
            "count": 0
           },
           {
            "bin_start": 1049092.3,
            "bin_end": 1154623.65,
            "count": 0
           },
           {
            "bin_start": 1154623.65,
            "bin_end": 1260155,
            "count": 1
           }
          ]
         }
        },
        {
         "name": "_deepnote_index_column",
         "dtype": "int64"
        }
       ],
       "rows": [
        {
         "0": 245137.5,
         "1": 197786.5,
         "2": 183180,
         "3": 181943,
         "4": 182466.5,
         "5": 177781.5,
         "6": 263686,
         "7": 239399,
         "8": 234423,
         "9": 198179,
         "10": 206355,
         "11": 182413.5,
         "12": 188562,
         "13": 191221,
         "14": 199511,
         "15": 206378.5,
         "16": 216441.5,
         "17": 222041,
         "18": 187165,
         "19": 187939,
         "20": 176992,
         "21": 176389,
         "22": 188879,
         "23": 164997,
         "24": 163288,
         "25": 177806,
         "26": 178576.5,
         "27": 169543,
         "28": 169297,
         "29": 163987.5,
         "30": 183891,
         "31": 187799,
         "32": 193955,
         "33": 199388,
         "34": 209402.5,
         "35": 216251,
         "36": 167570.5,
         "37": 159338,
         "38": 186909,
         "39": 187355,
         "40": 193257.5,
         "41": 191471,
         "42": 199000,
         "43": 206924.5,
         "44": 185150.5,
         "45": 170420,
         "46": 161846,
         "47": 165001,
         "48": 161382.5,
         "49": 165948,
         "50": 169841,
         "51": 165439,
         "52": 170838.5,
         "53": 174745,
         "54": 180708,
         "55": 180652,
         "56": 183760.5,
         "57": 184784.5,
         "58": 191960,
         "59": 201060,
         "60": 209852,
         "61": 208908.5,
         "62": 177435.5,
         "63": 162587,
         "64": 161255,
         "65": 162228,
         "66": 160916.5,
         "67": 162490.5,
         "68": 169203.5,
         "69": 171742.5,
         "70": 177969.5,
         "71": 175906,
         "72": 181449,
         "73": 182593,
         "74": 192962,
         "75": 190729,
         "76": 189617.5,
         "77": 193905.5,
         "78": 200186,
         "79": 210637,
         "80": 171849,
         "81": 202618.5,
         "82": 169253.5,
         "83": 173644,
         "84": 186371,
         "85": 175719.5,
         "86": 179761,
         "87": 180880,
         "88": 179950.5,
         "89": 181503,
         "90": 190008.5,
         "91": 185606.5,
         "92": 186300,
         "93": 191181.5,
         "94": 195416.5,
         "95": 199293,
         "96": 209366,
         "97": 215607.5,
         "98": 181963.5,
         "99": 174418.5,
         "100": 175611.5,
         "101": 178678,
         "102": 181714,
         "103": 182419.5,
         "104": 187883.5,
         "105": 185843,
         "106": 185694,
         "107": 187427,
         "108": 188437,
         "109": 192276.5,
         "110": 200027,
         "111": 196423.5,
         "112": 198963.5,
         "113": 201149.5,
         "114": 205976,
         "115": 229533,
         "116": 202038,
         "117": 249535,
         "118": 197784,
         "119": 204504.5,
         "120": 207409.5,
         "121": 197077,
         "122": 199447.5,
         "123": 196499,
         "124": 199806,
         "125": 201433.5,
         "126": 207541,
         "127": 203371,
         "128": 206317,
         "129": 215250.5,
         "130": 246748.5,
         "131": 217893.5,
         "132": 232336.5,
         "133": 231992.5,
         "ID": "74",
         "Panel": 2,
         "Batch": "150222-CSV",
         "_deepnote_index_column": 0
        },
        {
         "0": 176295,
         "1": 172086.5,
         "2": 167327,
         "3": 160230.5,
         "4": 159983.5,
         "5": 157171.5,
         "6": 237221,
         "7": 209818,
         "8": 206439.5,
         "9": 176941,
         "10": 185488,
         "11": 174566,
         "12": 177919.5,
         "13": 182137.5,
         "14": 186830.5,
         "15": 188607,
         "16": 197100,
         "17": 202876,
         "18": 171174.5,
         "19": 157817.5,
         "20": 156269,
         "21": 146123,
         "22": 147158.5,
         "23": 143263.5,
         "24": 146693,
         "25": 167754.5,
         "26": 165607.5,
         "27": 160202,
         "28": 154597,
         "29": 147975.5,
         "30": 169331.5,
         "31": 170661.5,
         "32": 174461.5,
         "33": 179629.5,
         "34": 186118,
         "35": 192454.5,
         "36": 143111.5,
         "37": 138418.5,
         "38": 169721,
         "39": 171820.5,
         "40": 172675.5,
         "41": 177425.5,
         "42": 181586.5,
         "43": 189557,
         "44": 159926.5,
         "45": 143406,
         "46": 145135,
         "47": 142760,
         "48": 143719.5,
         "49": 145895,
         "50": 154806,
         "51": 156069.5,
         "52": 156696.5,
         "53": 160316,
         "54": 161646,
         "55": 163280,
         "56": 165759.5,
         "57": 166994.5,
         "58": 169426.5,
         "59": 178860,
         "60": 183211,
         "61": 196634.5,
         "62": 155889,
         "63": 144546,
         "64": 146503,
         "65": 148365,
         "66": 155993.5,
         "67": 156848.5,
         "68": 160192.5,
         "69": 162292,
         "70": 163508,
         "71": 164809.5,
         "72": 164477,
         "73": 169740,
         "74": 169436,
         "75": 171421.5,
         "76": 176542,
         "77": 180313.5,
         "78": 191219.5,
         "79": 203731,
         "80": 163660,
         "81": 155556.5,
         "82": 159993,
         "83": 158577.5,
         "84": 165683.5,
         "85": 166348.5,
         "86": 169445.5,
         "87": 169493,
         "88": 169901.5,
         "89": 167631,
         "90": 170234,
         "91": 169740,
         "92": 173340.5,
         "93": 176124,
         "94": 184199,
         "95": 191039,
         "96": 199921.5,
         "97": 213308.5,
         "98": 173749,
         "99": 167070.5,
         "100": 171051,
         "101": 172533,
         "102": 175478,
         "103": 173910.5,
         "104": 176931.5,
         "105": 177169,
         "106": 178157,
         "107": 174518.5,
         "108": 178793.5,
         "109": 180703,
         "110": 180285,
         "111": 185044.5,
         "112": 189595,
         "113": 194801,
         "114": 206720.5,
         "115": 217734,
         "116": 201444.5,
         "117": 189671,
         "118": 195528.5,
         "119": 187856.5,
         "120": 193034,
         "121": 191314.5,
         "122": 192264.5,
         "123": 192217,
         "124": 194098,
         "125": 196349.5,
         "126": 194478,
         "127": 197290,
         "128": 199247,
         "129": 200434.5,
         "130": 203493,
         "131": 210738,
         "132": 216945,
         "133": 228041.5,
         "ID": "B",
         "Panel": 2,
         "Batch": "150222-CSV",
         "_deepnote_index_column": 1
        },
        {
         "0": 549201,
         "1": 530645,
         "2": 531764,
         "3": 527475.5,
         "4": 525357,
         "5": 523609.5,
         "6": 625937.5,
         "7": 599621,
         "8": 585984.5,
         "9": 555908,
         "10": 548693,
         "11": 526469.5,
         "12": 523799.5,
         "13": 520095,
         "14": 521508,
         "15": 527652,
         "16": 537414.5,
         "17": 544814.5,
         "18": 532790,
         "19": 528111.5,
         "20": 608235.5,
         "21": 609992.5,
         "22": 531347,
         "23": 517868.5,
         "24": 520567.5,
         "25": 510863,
         "26": 513799.5,
         "27": 512310,
         "28": 522256.5,
         "29": 516444,
         "30": 511603.5,
         "31": 514002,
         "32": 519303,
         "33": 525958,
         "34": 535532,
         "35": 551268.5,
         "36": 515988,
         "37": 512427,
         "38": 520153,
         "39": 522250,
         "40": 527519,
         "41": 534560.5,
         "42": 537551,
         "43": 544176,
         "44": 531994,
         "45": 523316.5,
         "46": 519471.5,
         "47": 532044.5,
         "48": 527034.5,
         "49": 530891.5,
         "50": 520167.5,
         "51": 516450,
         "52": 500462.5,
         "53": 504671,
         "54": 512132.5,
         "55": 506532.5,
         "56": 511898,
         "57": 517038,
         "58": 522557.5,
         "59": 528127,
         "60": 533684.5,
         "61": 540245.5,
         "62": 526492.5,
         "63": 520197,
         "64": 517136,
         "65": 514210.5,
         "66": 504367.5,
         "67": 501135.5,
         "68": 498239,
         "69": 497108.5,
         "70": 499727,
         "71": 503561,
         "72": 508788,
         "73": 511265,
         "74": 520351.5,
         "75": 523140,
         "76": 522538,
         "77": 528608.5,
         "78": 533577.5,
         "79": 539774.5,
         "80": 532393,
         "81": 536024.5,
         "82": 516600.5,
         "83": 507289.5,
         "84": 518888,
         "85": 504981.5,
         "86": 506250,
         "87": 504135.5,
         "88": 510670,
         "89": 514186,
         "90": 537475,
         "91": 520276.5,
         "92": 522929,
         "93": 523541,
         "94": 529112,
         "95": 533591,
         "96": 537699.5,
         "97": 545847,
         "98": 531972.5,
         "99": 519904.5,
         "100": 512463,
         "101": 502516,
         "102": 500608.5,
         "103": 504973.5,
         "104": 507281.5,
         "105": 512312,
         "106": 516165.5,
         "107": 521612.5,
         "108": 524951.5,
         "109": 528722,
         "110": 531369,
         "111": 532267,
         "112": 533528.5,
         "113": 537100,
         "114": 543574,
         "115": 554010.5,
         "116": 538200,
         "117": 544045.5,
         "118": 527371,
         "119": 526845,
         "120": 538342.5,
         "121": 527692.5,
         "122": 531088.5,
         "123": 531408,
         "124": 536183,
         "125": 543685,
         "126": 555127,
         "127": 542944.5,
         "128": 544272,
         "129": 566051.5,
         "130": 578027.5,
         "131": 557047.5,
         "132": 568871,
         "133": 560612,
         "ID": "158",
         "Panel": 2,
         "Batch": "150222-CSV",
         "_deepnote_index_column": 2
        },
        {
         "0": 575688,
         "1": 512179,
         "2": 496709,
         "3": 493973,
         "4": 494356.5,
         "5": 494340,
         "6": 591651.5,
         "7": 550465.5,
         "8": 541292.5,
         "9": 494363,
         "10": 505105,
         "11": 486712,
         "12": 488275,
         "13": 490094,
         "14": 493616.5,
         "15": 501669,
         "16": 531007,
         "17": 522097,
         "18": 516929.5,
         "19": 514650.5,
         "20": 504576.5,
         "21": 526173.5,
         "22": 541670.5,
         "23": 488434,
         "24": 488299,
         "25": 479116,
         "26": 479377,
         "27": 477222,
         "28": 486847,
         "29": 482201.5,
         "30": 483229.5,
         "31": 485303,
         "32": 492404,
         "33": 497484.5,
         "34": 506547.5,
         "35": 514439,
         "36": 487658,
         "37": 481116.5,
         "38": 494296.5,
         "39": 495623,
         "40": 494006.5,
         "41": 500434,
         "42": 503082.5,
         "43": 510104,
         "44": 500764.5,
         "45": 493441.5,
         "46": 486906,
         "47": 489445,
         "48": 485324,
         "49": 478649.5,
         "50": 478278,
         "51": 488813.5,
         "52": 471889.5,
         "53": 474585,
         "54": 486305.5,
         "55": 483678.5,
         "56": 488218.5,
         "57": 489473.5,
         "58": 499767.5,
         "59": 508640.5,
         "60": 509629.5,
         "61": 514743.5,
         "62": 509785,
         "63": 490717.5,
         "64": 485353,
         "65": 486696,
         "66": 464988,
         "67": 464172.5,
         "68": 470336,
         "69": 468067,
         "70": 474513.5,
         "71": 478564.5,
         "72": 486236.5,
         "73": 488122.5,
         "74": 519672,
         "75": 534242.5,
         "76": 497114,
         "77": 520739.5,
         "78": 504029,
         "79": 512294,
         "80": 506118,
         "81": 529041.5,
         "82": 492448,
         "83": 479081,
         "84": 505102,
         "85": 469745,
         "86": 476735,
         "87": 477713,
         "88": 482371,
         "89": 487636,
         "90": 506337.5,
         "91": 495246.5,
         "92": 497359,
         "93": 496329.5,
         "94": 500391,
         "95": 505062,
         "96": 507242,
         "97": 517711.5,
         "98": 505717.5,
         "99": 492217.5,
         "100": 491365,
         "101": 486648,
         "102": 479877,
         "103": 481576.5,
         "104": 485907.5,
         "105": 487659.5,
         "106": 489941,
         "107": 491851,
         "108": 497140.5,
         "109": 505671.5,
         "110": 524230.5,
         "111": 551660,
         "112": 503726,
         "113": 515990,
         "114": 515282.5,
         "115": 534220.5,
         "116": 521183,
         "117": 550131.5,
         "118": 517522.5,
         "119": 513665,
         "120": 522611,
         "121": 497942,
         "122": 507255.5,
         "123": 506487,
         "124": 502632,
         "125": 513047.5,
         "126": 521347.5,
         "127": 509330.5,
         "128": 513986.5,
         "129": 524146,
         "130": 549498,
         "131": 520841.5,
         "132": 534906.5,
         "133": 527526,
         "ID": "234",
         "Panel": 2,
         "Batch": "150222-CSV",
         "_deepnote_index_column": 3
        },
        {
         "0": 1177495,
         "1": 1170845,
         "2": 1155535,
         "3": 1147420,
         "4": 1143915,
         "5": 1134840,
         "6": 1334620,
         "7": 1228670,
         "8": 1225195,
         "9": 1158130,
         "10": 1166880,
         "11": 1148480,
         "12": 1157110,
         "13": 1168365,
         "14": 1178440,
         "15": 1191445,
         "16": 1205910,
         "17": 1222100,
         "18": 1152145,
         "19": 1139945,
         "20": 1135255,
         "21": 1123870,
         "22": 1128600,
         "23": 1106100,
         "24": 1103350,
         "25": 1141140,
         "26": 1137580,
         "27": 1120835,
         "28": 1114145,
         "29": 1099810,
         "30": 1146885,
         "31": 1156410,
         "32": 1165810,
         "33": 1174925,
         "34": 1179635,
         "35": 1204140,
         "36": 1108760,
         "37": 1095530,
         "38": 1153945,
         "39": 1157855,
         "40": 1163900,
         "41": 1172835,
         "42": 1180660,
         "43": 1199560,
         "44": 1141720,
         "45": 1111630,
         "46": 1095855,
         "47": 1118875,
         "48": 1096870,
         "49": 1108960,
         "50": 1112700,
         "51": 1119955,
         "52": 1127780,
         "53": 1135150,
         "54": 1145015,
         "55": 1145120,
         "56": 1148265,
         "57": 1156305,
         "58": 1160925,
         "59": 1173410,
         "60": 1185300,
         "61": 1208140,
         "62": 1129430,
         "63": 1099845,
         "64": 1095115,
         "65": 1098890,
         "66": 1100565,
         "67": 1111635,
         "68": 1124190,
         "69": 1131865,
         "70": 1138825,
         "71": 1144585,
         "72": 1146845,
         "73": 1149430,
         "74": 1161200,
         "75": 1161515,
         "76": 1166330,
         "77": 1175480,
         "78": 1190760,
         "79": 1216900,
         "80": 1139160,
         "81": 1157120,
         "82": 1118735,
         "83": 1116975,
         "84": 1135530,
         "85": 1131620,
         "86": 1142090,
         "87": 1148395,
         "88": 1150950,
         "89": 1155130,
         "90": 1167830,
         "91": 1159475,
         "92": 1162595,
         "93": 1167795,
         "94": 1178835,
         "95": 1190060,
         "96": 1205605,
         "97": 1230095,
         "98": 1167595,
         "99": 1152955,
         "100": 1149935,
         "101": 1146675,
         "102": 1150175,
         "103": 1154860,
         "104": 1162680,
         "105": 1164065,
         "106": 1166925,
         "107": 1169420,
         "108": 1174030,
         "109": 1179320,
         "110": 1184730,
         "111": 1187095,
         "112": 1192880,
         "113": 1205560,
         "114": 1223400,
         "115": 1248020,
         "116": 1208825,
         "117": 1251450,
         "118": 1202195,
         "119": 1195165,
         "120": 1200165,
         "121": 1189760,
         "122": 1193475,
         "123": 1192835,
         "124": 1199235,
         "125": 1201405,
         "126": 1215470,
         "127": 1209295,
         "128": 1218680,
         "129": 1231015,
         "130": 1306175,
         "131": 1231940,
         "132": 1253345,
         "133": 1260155,
         "ID": "4",
         "Panel": 2,
         "Batch": "150222-CSV",
         "_deepnote_index_column": 4
        },
        {
         "0": 205711,
         "1": 204848,
         "2": 198060.5,
         "3": 193825,
         "4": 191453.5,
         "5": 189629,
         "6": 270877.5,
         "7": 246916,
         "8": 244712,
         "9": 218488.5,
         "10": 222280.5,
         "11": 212941,
         "12": 216979,
         "13": 216384.5,
         "14": 222864,
         "15": 225932,
         "16": 231681.5,
         "17": 239324,
         "18": 203022.5,
         "19": 191975,
         "20": 183761.5,
         "21": 180613.5,
         "22": 178599,
         "23": 180259.5,
         "24": 180592,
         "25": 202135,
         "26": 203215,
         "27": 198575,
         "28": 200855.5,
         "29": 189413.5,
         "30": 206698.5,
         "31": 206718,
         "32": 210605,
         "33": 214692,
         "34": 222480.5,
         "35": 242896,
         "36": 178883,
         "37": 177210.5,
         "38": 203754.5,
         "39": 207142.5,
         "40": 208150.5,
         "41": 217221,
         "42": 223733,
         "43": 233015.5,
         "44": 201217.5,
         "45": 189827,
         "46": 185906,
         "47": 182542,
         "48": 183439,
         "49": 188689,
         "50": 191339,
         "51": 193659,
         "52": 193105,
         "53": 194336,
         "54": 197908,
         "55": 195698.5,
         "56": 198148,
         "57": 200436,
         "58": 205367,
         "59": 209657.5,
         "60": 219085.5,
         "61": 230935,
         "62": 188184,
         "63": 181803,
         "64": 180787,
         "65": 184329.5,
         "66": 187290,
         "67": 189308,
         "68": 193339,
         "69": 194210,
         "70": 195894.5,
         "71": 196491.5,
         "72": 197523,
         "73": 198548,
         "74": 203239,
         "75": 203798.5,
         "76": 207913,
         "77": 214246,
         "78": 223029.5,
         "79": 235941,
         "80": 191962,
         "81": 187792,
         "82": 189129.5,
         "83": 192724.5,
         "84": 198334,
         "85": 194973,
         "86": 197566,
         "87": 197102,
         "88": 199490.5,
         "89": 198151,
         "90": 202023.5,
         "91": 200548.5,
         "92": 205032.5,
         "93": 207087.5,
         "94": 213790,
         "95": 222038.5,
         "96": 229798.5,
         "97": 243145,
         "98": 204151,
         "99": 200651,
         "100": 201958.5,
         "101": 199962.5,
         "102": 205971,
         "103": 201993.5,
         "104": 205919,
         "105": 206655.5,
         "106": 206320,
         "107": 206344,
         "108": 209319.5,
         "109": 208137.5,
         "110": 209543.5,
         "111": 214959,
         "112": 218806,
         "113": 224802,
         "114": 233630,
         "115": 248279.5,
         "116": 222299,
         "117": 224986,
         "118": 217632.5,
         "119": 216083.5,
         "120": 216826,
         "121": 217258,
         "122": 218467.5,
         "123": 218219,
         "124": 219672,
         "125": 219351,
         "126": 224167,
         "127": 228741,
         "128": 234824,
         "129": 243391,
         "130": 264374,
         "131": 239662,
         "132": 256755.5,
         "133": 254138,
         "ID": "10",
         "Panel": 2,
         "Batch": "150222-CSV",
         "_deepnote_index_column": 5
        },
        {
         "0": 547005.5,
         "1": 522197,
         "2": 526937.5,
         "3": 526158,
         "4": 525011,
         "5": 521823.5,
         "6": 600406,
         "7": 593386.5,
         "8": 555684,
         "9": 538777.5,
         "10": 537042.5,
         "11": 531548,
         "12": 533297,
         "13": 536945.5,
         "14": 542129.5,
         "15": 550966.5,
         "16": 559531,
         "17": 570047.5,
         "18": 533010.5,
         "19": 555563.5,
         "20": 530071.5,
         "21": 529895.5,
         "22": 540199,
         "23": 517523.5,
         "24": 512163.5,
         "25": 525881,
         "26": 526290,
         "27": 519091.5,
         "28": 516852,
         "29": 512376,
         "30": 530053,
         "31": 533658,
         "32": 541002.5,
         "33": 545777,
         "34": 552917,
         "35": 559302,
         "36": 514451,
         "37": 508771.5,
         "38": 541786,
         "39": 549086,
         "40": 538188.5,
         "41": 544602.5,
         "42": 545269,
         "43": 553362.5,
         "44": 529890,
         "45": 520252,
         "46": 511968,
         "47": 519718.5,
         "48": 514591.5,
         "49": 520352.5,
         "50": 521941.5,
         "51": 521633.5,
         "52": 518617.5,
         "53": 544195.5,
         "54": 538367,
         "55": 529580,
         "56": 531277,
         "57": 531690,
         "58": 535443.5,
         "59": 542626.5,
         "60": 545501,
         "61": 550268.5,
         "62": 526970.5,
         "63": 511772.5,
         "64": 509807,
         "65": 532793.5,
         "66": 508020.5,
         "67": 510053,
         "68": 515633.5,
         "69": 518467,
         "70": 521390,
         "71": 523022,
         "72": 527230,
         "73": 526350,
         "74": 559255,
         "75": 556896.5,
         "76": 534086.5,
         "77": 550740.5,
         "78": 544626.5,
         "79": 557221.5,
         "80": 520088,
         "81": 587617,
         "82": 540654,
         "83": 521830.5,
         "84": 577082.5,
         "85": 521711.5,
         "86": 527334.5,
         "87": 526095,
         "88": 532785,
         "89": 530125,
         "90": 547226.5,
         "91": 528941.5,
         "92": 533066,
         "93": 533805.5,
         "94": 538474.5,
         "95": 543595,
         "96": 554000.5,
         "97": 558886.5,
         "98": 532693.5,
         "99": 520036,
         "100": 522902,
         "101": 535272.5,
         "102": 524200.5,
         "103": 528831.5,
         "104": 530532.5,
         "105": 531102.5,
         "106": 532008.5,
         "107": 531764,
         "108": 533180.5,
         "109": 542178.5,
         "110": 561860.5,
         "111": 569559,
         "112": 543096.5,
         "113": 555593.5,
         "114": 557724.5,
         "115": 583441,
         "116": 550195.5,
         "117": 597482,
         "118": 568068,
         "119": 547881.5,
         "120": 578282,
         "121": 538288,
         "122": 545457.5,
         "123": 549775.5,
         "124": 543039.5,
         "125": 556574,
         "126": 561528.5,
         "127": 549659.5,
         "128": 552591.5,
         "129": 570972.5,
         "130": 596442,
         "131": 559320.5,
         "132": 571094.5,
         "133": 570186,
         "ID": "219",
         "Panel": 2,
         "Batch": "150222-CSV",
         "_deepnote_index_column": 6
        },
        {
         "0": 330394.5,
         "1": 243980,
         "2": 236609,
         "3": 234619,
         "4": 234264,
         "5": 229225.5,
         "6": 323902,
         "7": 284827,
         "8": 286341.5,
         "9": 245463,
         "10": 252918,
         "11": 238400,
         "12": 246204.5,
         "13": 247063,
         "14": 253575.5,
         "15": 259383.5,
         "16": 266066,
         "17": 275878.5,
         "18": 240541,
         "19": 237770.5,
         "20": 287517.5,
         "21": 256996.5,
         "22": 264930.5,
         "23": 216289.5,
         "24": 217420,
         "25": 232899.5,
         "26": 232823,
         "27": 226973,
         "28": 225338.5,
         "29": 216961.5,
         "30": 239812,
         "31": 238409,
         "32": 246399,
         "33": 249340,
         "34": 255636.5,
         "35": 261131,
         "36": 215608.5,
         "37": 211177.5,
         "38": 242618,
         "39": 242546.5,
         "40": 243431,
         "41": 247124,
         "42": 250509.5,
         "43": 256795.5,
         "44": 231108,
         "45": 220038,
         "46": 213470,
         "47": 214843,
         "48": 216869,
         "49": 217758,
         "50": 219811,
         "51": 221625.5,
         "52": 223311,
         "53": 228421.5,
         "54": 233714,
         "55": 228262.5,
         "56": 235200.5,
         "57": 235587.5,
         "58": 241444,
         "59": 242652,
         "60": 251552,
         "61": 258544,
         "62": 221606.5,
         "63": 212680.5,
         "64": 212503.5,
         "65": 215787,
         "66": 217185,
         "67": 219899.5,
         "68": 222179.5,
         "69": 227817,
         "70": 230454,
         "71": 232845,
         "72": 233551,
         "73": 233331.5,
         "74": 237667,
         "75": 242129,
         "76": 241559.5,
         "77": 248354.5,
         "78": 254943.5,
         "79": 265422.5,
         "80": 227170,
         "81": 233128.5,
         "82": 222349,
         "83": 222143,
         "84": 241318,
         "85": 231925.5,
         "86": 234146.5,
         "87": 234808.5,
         "88": 234341.5,
         "89": 235227.5,
         "90": 241680,
         "91": 236499,
         "92": 237395,
         "93": 239889.5,
         "94": 246600,
         "95": 254245,
         "96": 259137.5,
         "97": 269298.5,
         "98": 236707,
         "99": 229660.5,
         "100": 229632,
         "101": 232035.5,
         "102": 233472,
         "103": 234206,
         "104": 240991,
         "105": 237830.5,
         "106": 237888,
         "107": 238339.5,
         "108": 242689,
         "109": 245067.5,
         "110": 245810,
         "111": 250078.5,
         "112": 250946,
         "113": 255785,
         "114": 265532,
         "115": 275463.5,
         "116": 253546.5,
         "117": 259099,
         "118": 249517.5,
         "119": 245162,
         "120": 255973,
         "121": 245527.5,
         "122": 249488.5,
         "123": 249409,
         "124": 250304.5,
         "125": 254870.5,
         "126": 261612.5,
         "127": 258666.5,
         "128": 261678,
         "129": 274104,
         "130": 313843.5,
         "131": 267636.5,
         "132": 275676.5,
         "133": 279815.5,
         "ID": "217",
         "Panel": 2,
         "Batch": "150222-CSV",
         "_deepnote_index_column": 7
        },
        {
         "0": 630828.5,
         "1": 577124.5,
         "2": 528093,
         "3": 507641,
         "4": 508318,
         "5": 494884.5,
         "6": 762126.5,
         "7": 759992.5,
         "8": 668095.5,
         "9": 526788.5,
         "10": 538986.5,
         "11": 474261,
         "12": 467949.5,
         "13": 465064,
         "14": 475296.5,
         "15": 493321.5,
         "16": 527873,
         "17": 613574,
         "18": 549733.5,
         "19": 520266,
         "20": 502163,
         "21": 480655,
         "22": 488187.5,
         "23": 447555.5,
         "24": 444981.5,
         "25": 413927,
         "26": 434765.5,
         "27": 426180.5,
         "28": 446986.5,
         "29": 434717,
         "30": 424753.5,
         "31": 427742.5,
         "32": 451482.5,
         "33": 462277.5,
         "34": 493801.5,
         "35": 512941.5,
         "36": 465678,
         "37": 450215.5,
         "38": 426490.5,
         "39": 436493.5,
         "40": 432970,
         "41": 431697.5,
         "42": 446692.5,
         "43": 478951.5,
         "44": 540752.5,
         "45": 513833.5,
         "46": 480118,
         "47": 484251,
         "48": 449250,
         "49": 435042,
         "50": 423756,
         "51": 407648.5,
         "52": 399472.5,
         "53": 399679,
         "54": 409541.5,
         "55": 402065.5,
         "56": 402999,
         "57": 399783,
         "58": 397256.5,
         "59": 407752,
         "60": 442093.5,
         "61": 477168,
         "62": 552118.5,
         "63": 508348,
         "64": 470299,
         "65": 475288.5,
         "66": 433211.5,
         "67": 406393,
         "68": 405861,
         "69": 398774.5,
         "70": 406710.5,
         "71": 407666,
         "72": 403522.5,
         "73": 391610.5,
         "74": 398941.5,
         "75": 393793.5,
         "76": 387502.5,
         "77": 408156,
         "78": 437112,
         "79": 507824.5,
         "80": 562385,
         "81": 598860.5,
         "82": 511486.5,
         "83": 496869,
         "84": 480858.5,
         "85": 448096,
         "86": 439978,
         "87": 432230,
         "88": 421063.5,
         "89": 404629,
         "90": 406616.5,
         "91": 378098.5,
         "92": 368773.5,
         "93": 375304.5,
         "94": 406196.5,
         "95": 433262.5,
         "96": 467746,
         "97": 518167.5,
         "98": 599915.5,
         "99": 524937.5,
         "100": 503848.5,
         "101": 532418.5,
         "102": 484574,
         "103": 426426.5,
         "104": 481888,
         "105": 463871.5,
         "106": 426054,
         "107": 398439.5,
         "108": 386664,
         "109": 445901,
         "110": 400741,
         "111": 423092.5,
         "112": 442716.5,
         "113": 509652.5,
         "114": 526643,
         "115": 705096,
         "116": 673008.5,
         "117": 649251.5,
         "118": 609248,
         "119": 609652,
         "120": 567076.5,
         "121": 538973,
         "122": 519764,
         "123": 505477,
         "124": 478463,
         "125": 460652.5,
         "126": 457798,
         "127": 457663,
         "128": 476070,
         "129": 532911,
         "130": 583731,
         "131": 544256,
         "132": 576694.5,
         "133": 601491.5,
         "ID": "122",
         "Panel": 2,
         "Batch": "150222-CSV",
         "_deepnote_index_column": 8
        },
        {
         "0": 465266.5,
         "1": 452600,
         "2": 446668,
         "3": 446341,
         "4": 446948.5,
         "5": 443633,
         "6": 536409.5,
         "7": 503160.5,
         "8": 486086,
         "9": 444398,
         "10": 457138.5,
         "11": 443907.5,
         "12": 444282,
         "13": 446294,
         "14": 453622,
         "15": 471799,
         "16": 472081.5,
         "17": 511242.5,
         "18": 479217.5,
         "19": 452461,
         "20": 518871.5,
         "21": 517136,
         "22": 511461,
         "23": 447394,
         "24": 434355,
         "25": 437184.5,
         "26": 438040.5,
         "27": 430025,
         "28": 434820,
         "29": 426076,
         "30": 439482.5,
         "31": 443726.5,
         "32": 449560.5,
         "33": 453297,
         "34": 461341,
         "35": 464320.5,
         "36": 438698.5,
         "37": 431373,
         "38": 456753.5,
         "39": 455193.5,
         "40": 455884.5,
         "41": 456842,
         "42": 461198,
         "43": 464388,
         "44": 455621.5,
         "45": 443913,
         "46": 433482.5,
         "47": 443342.5,
         "48": 445243.5,
         "49": 441925,
         "50": 438802.5,
         "51": 435387.5,
         "52": 439042,
         "53": 447595,
         "54": 454130.5,
         "55": 444960.5,
         "56": 444762,
         "57": 445444.5,
         "58": 461694,
         "59": 474970,
         "60": 484975.5,
         "61": 475468,
         "62": 452710.5,
         "63": 435523.5,
         "64": 433310,
         "65": 463968,
         "66": 423751,
         "67": 432203.5,
         "68": 432469,
         "69": 433287.5,
         "70": 439115,
         "71": 440768,
         "72": 451008,
         "73": 447156.5,
         "74": 496938,
         "75": 473718.5,
         "76": 450204.5,
         "77": 461813.5,
         "78": 457134.5,
         "79": 466505,
         "80": 450642.5,
         "81": 529410.5,
         "82": 475198,
         "83": 462787,
         "84": 509238.5,
         "85": 442946,
         "86": 466741,
         "87": 445765,
         "88": 449664,
         "89": 447979.5,
         "90": 485301.5,
         "91": 451134,
         "92": 453717,
         "93": 451450.5,
         "94": 457902,
         "95": 464566,
         "96": 475734,
         "97": 472049.5,
         "98": 453712,
         "99": 446225,
         "100": 451755.5,
         "101": 458591,
         "102": 442393,
         "103": 446859,
         "104": 449325,
         "105": 447835,
         "106": 450737.5,
         "107": 451267,
         "108": 453075.5,
         "109": 463654.5,
         "110": 502706,
         "111": 485497.5,
         "112": 458523.5,
         "113": 465055,
         "114": 468010.5,
         "115": 483176.5,
         "116": 473294.5,
         "117": 556224.5,
         "118": 496904,
         "119": 502051,
         "120": 534719.5,
         "121": 462220.5,
         "122": 501777.5,
         "123": 469730.5,
         "124": 462359,
         "125": 474599,
         "126": 492166,
         "127": 467807,
         "128": 469900,
         "129": 479365.5,
         "130": 507007,
         "131": 472498.5,
         "132": 493663.5,
         "133": 482848,
         "ID": "235",
         "Panel": 2,
         "Batch": "150222-CSV",
         "_deepnote_index_column": 9
        }
       ]
      },
      "text/plain": "     ID  Panel       Batch          0          1          2          3  \\\n0    74      2  150222-CSV   245137.5   197786.5   183180.0   181943.0   \n1     B      2  150222-CSV   176295.0   172086.5   167327.0   160230.5   \n2   158      2  150222-CSV   549201.0   530645.0   531764.0   527475.5   \n3   234      2  150222-CSV   575688.0   512179.0   496709.0   493973.0   \n4     4      2  150222-CSV  1177495.0  1170845.0  1155535.0  1147420.0   \n5    10      2  150222-CSV   205711.0   204848.0   198060.5   193825.0   \n6   219      2  150222-CSV   547005.5   522197.0   526937.5   526158.0   \n7   217      2  150222-CSV   330394.5   243980.0   236609.0   234619.0   \n8   122      2  150222-CSV   630828.5   577124.5   528093.0   507641.0   \n9   235      2  150222-CSV   465266.5   452600.0   446668.0   446341.0   \n10  162      2  150222-CSV   246563.0   194478.5   187536.5   182461.0   \n11  216      2  150222-CSV   729016.0   712525.5   699910.5   696002.5   \n12    2      2  150222-CSV   683724.5   581543.0   562107.0   560940.0   \n13    5      2  150222-CSV   203246.5   196621.0   188330.5   185977.0   \n14  146      2  150222-CSV   193630.0   180370.5   175658.0   169363.0   \n15    8      2  150222-CSV   265375.0   181582.0   161402.0   160512.0   \n16   15      2  150222-CSV   196931.0   186470.0   175021.5   171274.0   \n17    1      2  150222-CSV   459754.5   453572.0   449102.5   448067.5   \n18   27      2  150222-CSV   244213.5   229347.0   214449.5   212830.5   \n19  142      2  150222-CSV   397533.5   392465.0   384844.5   381109.5   \n20  220      2  150222-CSV   306018.5   222964.0   207326.0   202646.0   \n21  168      2  150222-CSV   228441.0   213554.5   203841.0   199092.5   \n22  131      2  150222-CSV   612319.0   600791.0   600055.5   597980.5   \n23   14      2  150222-CSV   214391.0   211538.5   201915.0   197315.0   \n24   61      2  150222-CSV   222045.0   221152.5   215865.0   213495.5   \n25  169      2  150222-CSV   527544.0   500024.5   489440.0   485358.0   \n26  129      2  150222-CSV   223020.5   216283.0   211070.0   204004.5   \n27   30      2  150222-CSV   200084.0   190469.0   184294.5   180271.5   \n28  120      2  150222-CSV   191653.5   186289.0   181712.0   178729.0   \n29  127      2  150222-CSV   261634.0   249366.5   245864.0   243624.5   \n\n            4          5          6  ...        124        125        126  \\\n0    182466.5   177781.5   263686.0  ...   199806.0   201433.5   207541.0   \n1    159983.5   157171.5   237221.0  ...   194098.0   196349.5   194478.0   \n2    525357.0   523609.5   625937.5  ...   536183.0   543685.0   555127.0   \n3    494356.5   494340.0   591651.5  ...   502632.0   513047.5   521347.5   \n4   1143915.0  1134840.0  1334620.0  ...  1199235.0  1201405.0  1215470.0   \n5    191453.5   189629.0   270877.5  ...   219672.0   219351.0   224167.0   \n6    525011.0   521823.5   600406.0  ...   543039.5   556574.0   561528.5   \n7    234264.0   229225.5   323902.0  ...   250304.5   254870.5   261612.5   \n8    508318.0   494884.5   762126.5  ...   478463.0   460652.5   457798.0   \n9    446948.5   443633.0   536409.5  ...   462359.0   474599.0   492166.0   \n10   181808.0   181672.0   277973.5  ...   193912.5   210889.5   202825.0   \n11   691467.5   688788.5   793433.5  ...   732864.0   746701.0   791479.5   \n12   560634.5   558776.5   638567.5  ...   581575.0   582317.0   594742.0   \n13   186857.0   187798.0   291104.0  ...   198844.0   202803.0   208597.5   \n14   169833.5   167396.0   285636.0  ...   189091.5   186505.0   188135.0   \n15   159232.0   157442.0   246683.5  ...   178552.0   185442.0   192402.0   \n16   170657.5   167700.0   258417.5  ...   193981.0   192841.5   197935.0   \n17   449589.0   448771.5   543647.5  ...   464755.0   467888.0   475645.5   \n18   214157.5   211771.5   280388.0  ...   234666.5   231881.0   238280.5   \n19   382070.0   379402.5   473387.5  ...   393270.0   393856.0   396831.0   \n20   203204.0   203465.0   290001.5  ...   221420.0   224543.0   227396.5   \n21   198676.0   198469.0   304151.5  ...   216492.5   222951.0   234605.5   \n22   598769.5   596689.0   691342.0  ...   588095.5   594253.5   601712.5   \n23   195200.0   193489.5   269319.0  ...   224245.5   226453.0   232536.0   \n24   211475.0   212252.0   293755.5  ...   232209.5   235503.0   238097.5   \n25   486148.0   481811.5   588547.5  ...   507517.0   512274.5   517532.5   \n26   204719.0   201351.5   283230.5  ...   216348.5   219392.0   221630.5   \n27   180570.0   176989.0   266601.5  ...   206498.5   211600.5   211297.5   \n28   182078.0   180358.5   257370.0  ...   194904.5   196671.5   196628.0   \n29   244178.5   237475.5   331296.0  ...   229829.0   232752.5   239581.5   \n\n          127        128        129        130        131        132  \\\n0    203371.0   206317.0   215250.5   246748.5   217893.5   232336.5   \n1    197290.0   199247.0   200434.5   203493.0   210738.0   216945.0   \n2    542944.5   544272.0   566051.5   578027.5   557047.5   568871.0   \n3    509330.5   513986.5   524146.0   549498.0   520841.5   534906.5   \n4   1209295.0  1218680.0  1231015.0  1306175.0  1231940.0  1253345.0   \n5    228741.0   234824.0   243391.0   264374.0   239662.0   256755.5   \n6    549659.5   552591.5   570972.5   596442.0   559320.5   571094.5   \n7    258666.5   261678.0   274104.0   313843.5   267636.5   275676.5   \n8    457663.0   476070.0   532911.0   583731.0   544256.0   576694.5   \n9    467807.0   469900.0   479365.5   507007.0   472498.5   493663.5   \n10   202548.0   200626.0   222956.0   229500.0   214160.0   223247.0   \n11   750503.5   745284.0   745545.5   818937.0   740133.5   768172.5   \n12   582770.5   587520.5   590494.0   616615.5   591886.0   608880.5   \n13   207499.5   212816.5   224702.5   259231.5   219057.0   226242.0   \n14   190889.5   190950.5   210665.5   221942.5   206438.5   210755.0   \n15   185912.0   187082.0   200740.5   229956.0   193352.0   215726.5   \n16   196463.0   201130.0   210894.0   238963.5   208660.5   215069.0   \n17   469798.0   472007.5   483110.0   514047.0   478736.5   490194.5   \n18   237864.0   241161.0   249532.5   272049.0   245351.5   254255.0   \n19   397041.5   400611.0   412658.5   434419.5   407980.0   415545.0   \n20   227774.5   230429.0   237305.0   258401.5   237078.5   242567.0   \n21   218836.0   223751.0   244109.0   289806.0   229379.0   258847.5   \n22   601975.0   606978.5   621035.5   641390.5   612284.0   619810.0   \n23   229153.5   234173.5   239792.0   260571.5   239912.0   248212.0   \n24   242215.0   244706.5   255535.5   262800.0   252458.0   257891.5   \n25   513710.0   514861.5   531334.5   552452.0   523632.0   534804.0   \n26   223910.0   224620.0   234370.0   241821.5   231318.5   239312.0   \n27   214844.0   216625.5   227444.0   240978.0   222220.5   232252.5   \n28   198664.5   202509.0   215178.5   235099.5   215791.5   226184.5   \n29   244727.0   248797.5   260008.0   273654.0   259701.0   265951.5   \n\n          133  \n0    231992.5  \n1    228041.5  \n2    560612.0  \n3    527526.0  \n4   1260155.0  \n5    254138.0  \n6    570186.0  \n7    279815.5  \n8    601491.5  \n9    482848.0  \n10   220430.5  \n11   746981.5  \n12   601957.5  \n13   228663.0  \n14   219475.5  \n15   204841.5  \n16   216928.5  \n17   487365.5  \n18   256707.5  \n19   423859.5  \n20   249927.5  \n21   246770.5  \n22   623261.0  \n23   251618.5  \n24   262733.5  \n25   536179.5  \n26   244960.0  \n27   232351.0  \n28   232524.5  \n29   278497.0  \n\n[30 rows x 137 columns]",
      "text/html": "<div>\n<style scoped>\n    .dataframe tbody tr th:only-of-type {\n        vertical-align: middle;\n    }\n\n    .dataframe tbody tr th {\n        vertical-align: top;\n    }\n\n    .dataframe thead th {\n        text-align: right;\n    }\n</style>\n<table border=\"1\" class=\"dataframe\">\n  <thead>\n    <tr style=\"text-align: right;\">\n      <th></th>\n      <th>ID</th>\n      <th>Panel</th>\n      <th>Batch</th>\n      <th>0</th>\n      <th>1</th>\n      <th>2</th>\n      <th>3</th>\n      <th>4</th>\n      <th>5</th>\n      <th>6</th>\n      <th>...</th>\n      <th>124</th>\n      <th>125</th>\n      <th>126</th>\n      <th>127</th>\n      <th>128</th>\n      <th>129</th>\n      <th>130</th>\n      <th>131</th>\n      <th>132</th>\n      <th>133</th>\n    </tr>\n  </thead>\n  <tbody>\n    <tr>\n      <th>0</th>\n      <td>74</td>\n      <td>2</td>\n      <td>150222-CSV</td>\n      <td>245137.5</td>\n      <td>197786.5</td>\n      <td>183180.0</td>\n      <td>181943.0</td>\n      <td>182466.5</td>\n      <td>177781.5</td>\n      <td>263686.0</td>\n      <td>...</td>\n      <td>199806.0</td>\n      <td>201433.5</td>\n      <td>207541.0</td>\n      <td>203371.0</td>\n      <td>206317.0</td>\n      <td>215250.5</td>\n      <td>246748.5</td>\n      <td>217893.5</td>\n      <td>232336.5</td>\n      <td>231992.5</td>\n    </tr>\n    <tr>\n      <th>1</th>\n      <td>B</td>\n      <td>2</td>\n      <td>150222-CSV</td>\n      <td>176295.0</td>\n      <td>172086.5</td>\n      <td>167327.0</td>\n      <td>160230.5</td>\n      <td>159983.5</td>\n      <td>157171.5</td>\n      <td>237221.0</td>\n      <td>...</td>\n      <td>194098.0</td>\n      <td>196349.5</td>\n      <td>194478.0</td>\n      <td>197290.0</td>\n      <td>199247.0</td>\n      <td>200434.5</td>\n      <td>203493.0</td>\n      <td>210738.0</td>\n      <td>216945.0</td>\n      <td>228041.5</td>\n    </tr>\n    <tr>\n      <th>2</th>\n      <td>158</td>\n      <td>2</td>\n      <td>150222-CSV</td>\n      <td>549201.0</td>\n      <td>530645.0</td>\n      <td>531764.0</td>\n      <td>527475.5</td>\n      <td>525357.0</td>\n      <td>523609.5</td>\n      <td>625937.5</td>\n      <td>...</td>\n      <td>536183.0</td>\n      <td>543685.0</td>\n      <td>555127.0</td>\n      <td>542944.5</td>\n      <td>544272.0</td>\n      <td>566051.5</td>\n      <td>578027.5</td>\n      <td>557047.5</td>\n      <td>568871.0</td>\n      <td>560612.0</td>\n    </tr>\n    <tr>\n      <th>3</th>\n      <td>234</td>\n      <td>2</td>\n      <td>150222-CSV</td>\n      <td>575688.0</td>\n      <td>512179.0</td>\n      <td>496709.0</td>\n      <td>493973.0</td>\n      <td>494356.5</td>\n      <td>494340.0</td>\n      <td>591651.5</td>\n      <td>...</td>\n      <td>502632.0</td>\n      <td>513047.5</td>\n      <td>521347.5</td>\n      <td>509330.5</td>\n      <td>513986.5</td>\n      <td>524146.0</td>\n      <td>549498.0</td>\n      <td>520841.5</td>\n      <td>534906.5</td>\n      <td>527526.0</td>\n    </tr>\n    <tr>\n      <th>4</th>\n      <td>4</td>\n      <td>2</td>\n      <td>150222-CSV</td>\n      <td>1177495.0</td>\n      <td>1170845.0</td>\n      <td>1155535.0</td>\n      <td>1147420.0</td>\n      <td>1143915.0</td>\n      <td>1134840.0</td>\n      <td>1334620.0</td>\n      <td>...</td>\n      <td>1199235.0</td>\n      <td>1201405.0</td>\n      <td>1215470.0</td>\n      <td>1209295.0</td>\n      <td>1218680.0</td>\n      <td>1231015.0</td>\n      <td>1306175.0</td>\n      <td>1231940.0</td>\n      <td>1253345.0</td>\n      <td>1260155.0</td>\n    </tr>\n    <tr>\n      <th>5</th>\n      <td>10</td>\n      <td>2</td>\n      <td>150222-CSV</td>\n      <td>205711.0</td>\n      <td>204848.0</td>\n      <td>198060.5</td>\n      <td>193825.0</td>\n      <td>191453.5</td>\n      <td>189629.0</td>\n      <td>270877.5</td>\n      <td>...</td>\n      <td>219672.0</td>\n      <td>219351.0</td>\n      <td>224167.0</td>\n      <td>228741.0</td>\n      <td>234824.0</td>\n      <td>243391.0</td>\n      <td>264374.0</td>\n      <td>239662.0</td>\n      <td>256755.5</td>\n      <td>254138.0</td>\n    </tr>\n    <tr>\n      <th>6</th>\n      <td>219</td>\n      <td>2</td>\n      <td>150222-CSV</td>\n      <td>547005.5</td>\n      <td>522197.0</td>\n      <td>526937.5</td>\n      <td>526158.0</td>\n      <td>525011.0</td>\n      <td>521823.5</td>\n      <td>600406.0</td>\n      <td>...</td>\n      <td>543039.5</td>\n      <td>556574.0</td>\n      <td>561528.5</td>\n      <td>549659.5</td>\n      <td>552591.5</td>\n      <td>570972.5</td>\n      <td>596442.0</td>\n      <td>559320.5</td>\n      <td>571094.5</td>\n      <td>570186.0</td>\n    </tr>\n    <tr>\n      <th>7</th>\n      <td>217</td>\n      <td>2</td>\n      <td>150222-CSV</td>\n      <td>330394.5</td>\n      <td>243980.0</td>\n      <td>236609.0</td>\n      <td>234619.0</td>\n      <td>234264.0</td>\n      <td>229225.5</td>\n      <td>323902.0</td>\n      <td>...</td>\n      <td>250304.5</td>\n      <td>254870.5</td>\n      <td>261612.5</td>\n      <td>258666.5</td>\n      <td>261678.0</td>\n      <td>274104.0</td>\n      <td>313843.5</td>\n      <td>267636.5</td>\n      <td>275676.5</td>\n      <td>279815.5</td>\n    </tr>\n    <tr>\n      <th>8</th>\n      <td>122</td>\n      <td>2</td>\n      <td>150222-CSV</td>\n      <td>630828.5</td>\n      <td>577124.5</td>\n      <td>528093.0</td>\n      <td>507641.0</td>\n      <td>508318.0</td>\n      <td>494884.5</td>\n      <td>762126.5</td>\n      <td>...</td>\n      <td>478463.0</td>\n      <td>460652.5</td>\n      <td>457798.0</td>\n      <td>457663.0</td>\n      <td>476070.0</td>\n      <td>532911.0</td>\n      <td>583731.0</td>\n      <td>544256.0</td>\n      <td>576694.5</td>\n      <td>601491.5</td>\n    </tr>\n    <tr>\n      <th>9</th>\n      <td>235</td>\n      <td>2</td>\n      <td>150222-CSV</td>\n      <td>465266.5</td>\n      <td>452600.0</td>\n      <td>446668.0</td>\n      <td>446341.0</td>\n      <td>446948.5</td>\n      <td>443633.0</td>\n      <td>536409.5</td>\n      <td>...</td>\n      <td>462359.0</td>\n      <td>474599.0</td>\n      <td>492166.0</td>\n      <td>467807.0</td>\n      <td>469900.0</td>\n      <td>479365.5</td>\n      <td>507007.0</td>\n      <td>472498.5</td>\n      <td>493663.5</td>\n      <td>482848.0</td>\n    </tr>\n    <tr>\n      <th>10</th>\n      <td>162</td>\n      <td>2</td>\n      <td>150222-CSV</td>\n      <td>246563.0</td>\n      <td>194478.5</td>\n      <td>187536.5</td>\n      <td>182461.0</td>\n      <td>181808.0</td>\n      <td>181672.0</td>\n      <td>277973.5</td>\n      <td>...</td>\n      <td>193912.5</td>\n      <td>210889.5</td>\n      <td>202825.0</td>\n      <td>202548.0</td>\n      <td>200626.0</td>\n      <td>222956.0</td>\n      <td>229500.0</td>\n      <td>214160.0</td>\n      <td>223247.0</td>\n      <td>220430.5</td>\n    </tr>\n    <tr>\n      <th>11</th>\n      <td>216</td>\n      <td>2</td>\n      <td>150222-CSV</td>\n      <td>729016.0</td>\n      <td>712525.5</td>\n      <td>699910.5</td>\n      <td>696002.5</td>\n      <td>691467.5</td>\n      <td>688788.5</td>\n      <td>793433.5</td>\n      <td>...</td>\n      <td>732864.0</td>\n      <td>746701.0</td>\n      <td>791479.5</td>\n      <td>750503.5</td>\n      <td>745284.0</td>\n      <td>745545.5</td>\n      <td>818937.0</td>\n      <td>740133.5</td>\n      <td>768172.5</td>\n      <td>746981.5</td>\n    </tr>\n    <tr>\n      <th>12</th>\n      <td>2</td>\n      <td>2</td>\n      <td>150222-CSV</td>\n      <td>683724.5</td>\n      <td>581543.0</td>\n      <td>562107.0</td>\n      <td>560940.0</td>\n      <td>560634.5</td>\n      <td>558776.5</td>\n      <td>638567.5</td>\n      <td>...</td>\n      <td>581575.0</td>\n      <td>582317.0</td>\n      <td>594742.0</td>\n      <td>582770.5</td>\n      <td>587520.5</td>\n      <td>590494.0</td>\n      <td>616615.5</td>\n      <td>591886.0</td>\n      <td>608880.5</td>\n      <td>601957.5</td>\n    </tr>\n    <tr>\n      <th>13</th>\n      <td>5</td>\n      <td>2</td>\n      <td>150222-CSV</td>\n      <td>203246.5</td>\n      <td>196621.0</td>\n      <td>188330.5</td>\n      <td>185977.0</td>\n      <td>186857.0</td>\n      <td>187798.0</td>\n      <td>291104.0</td>\n      <td>...</td>\n      <td>198844.0</td>\n      <td>202803.0</td>\n      <td>208597.5</td>\n      <td>207499.5</td>\n      <td>212816.5</td>\n      <td>224702.5</td>\n      <td>259231.5</td>\n      <td>219057.0</td>\n      <td>226242.0</td>\n      <td>228663.0</td>\n    </tr>\n    <tr>\n      <th>14</th>\n      <td>146</td>\n      <td>2</td>\n      <td>150222-CSV</td>\n      <td>193630.0</td>\n      <td>180370.5</td>\n      <td>175658.0</td>\n      <td>169363.0</td>\n      <td>169833.5</td>\n      <td>167396.0</td>\n      <td>285636.0</td>\n      <td>...</td>\n      <td>189091.5</td>\n      <td>186505.0</td>\n      <td>188135.0</td>\n      <td>190889.5</td>\n      <td>190950.5</td>\n      <td>210665.5</td>\n      <td>221942.5</td>\n      <td>206438.5</td>\n      <td>210755.0</td>\n      <td>219475.5</td>\n    </tr>\n    <tr>\n      <th>15</th>\n      <td>8</td>\n      <td>2</td>\n      <td>150222-CSV</td>\n      <td>265375.0</td>\n      <td>181582.0</td>\n      <td>161402.0</td>\n      <td>160512.0</td>\n      <td>159232.0</td>\n      <td>157442.0</td>\n      <td>246683.5</td>\n      <td>...</td>\n      <td>178552.0</td>\n      <td>185442.0</td>\n      <td>192402.0</td>\n      <td>185912.0</td>\n      <td>187082.0</td>\n      <td>200740.5</td>\n      <td>229956.0</td>\n      <td>193352.0</td>\n      <td>215726.5</td>\n      <td>204841.5</td>\n    </tr>\n    <tr>\n      <th>16</th>\n      <td>15</td>\n      <td>2</td>\n      <td>150222-CSV</td>\n      <td>196931.0</td>\n      <td>186470.0</td>\n      <td>175021.5</td>\n      <td>171274.0</td>\n      <td>170657.5</td>\n      <td>167700.0</td>\n      <td>258417.5</td>\n      <td>...</td>\n      <td>193981.0</td>\n      <td>192841.5</td>\n      <td>197935.0</td>\n      <td>196463.0</td>\n      <td>201130.0</td>\n      <td>210894.0</td>\n      <td>238963.5</td>\n      <td>208660.5</td>\n      <td>215069.0</td>\n      <td>216928.5</td>\n    </tr>\n    <tr>\n      <th>17</th>\n      <td>1</td>\n      <td>2</td>\n      <td>150222-CSV</td>\n      <td>459754.5</td>\n      <td>453572.0</td>\n      <td>449102.5</td>\n      <td>448067.5</td>\n      <td>449589.0</td>\n      <td>448771.5</td>\n      <td>543647.5</td>\n      <td>...</td>\n      <td>464755.0</td>\n      <td>467888.0</td>\n      <td>475645.5</td>\n      <td>469798.0</td>\n      <td>472007.5</td>\n      <td>483110.0</td>\n      <td>514047.0</td>\n      <td>478736.5</td>\n      <td>490194.5</td>\n      <td>487365.5</td>\n    </tr>\n    <tr>\n      <th>18</th>\n      <td>27</td>\n      <td>2</td>\n      <td>150222-CSV</td>\n      <td>244213.5</td>\n      <td>229347.0</td>\n      <td>214449.5</td>\n      <td>212830.5</td>\n      <td>214157.5</td>\n      <td>211771.5</td>\n      <td>280388.0</td>\n      <td>...</td>\n      <td>234666.5</td>\n      <td>231881.0</td>\n      <td>238280.5</td>\n      <td>237864.0</td>\n      <td>241161.0</td>\n      <td>249532.5</td>\n      <td>272049.0</td>\n      <td>245351.5</td>\n      <td>254255.0</td>\n      <td>256707.5</td>\n    </tr>\n    <tr>\n      <th>19</th>\n      <td>142</td>\n      <td>2</td>\n      <td>150222-CSV</td>\n      <td>397533.5</td>\n      <td>392465.0</td>\n      <td>384844.5</td>\n      <td>381109.5</td>\n      <td>382070.0</td>\n      <td>379402.5</td>\n      <td>473387.5</td>\n      <td>...</td>\n      <td>393270.0</td>\n      <td>393856.0</td>\n      <td>396831.0</td>\n      <td>397041.5</td>\n      <td>400611.0</td>\n      <td>412658.5</td>\n      <td>434419.5</td>\n      <td>407980.0</td>\n      <td>415545.0</td>\n      <td>423859.5</td>\n    </tr>\n    <tr>\n      <th>20</th>\n      <td>220</td>\n      <td>2</td>\n      <td>150222-CSV</td>\n      <td>306018.5</td>\n      <td>222964.0</td>\n      <td>207326.0</td>\n      <td>202646.0</td>\n      <td>203204.0</td>\n      <td>203465.0</td>\n      <td>290001.5</td>\n      <td>...</td>\n      <td>221420.0</td>\n      <td>224543.0</td>\n      <td>227396.5</td>\n      <td>227774.5</td>\n      <td>230429.0</td>\n      <td>237305.0</td>\n      <td>258401.5</td>\n      <td>237078.5</td>\n      <td>242567.0</td>\n      <td>249927.5</td>\n    </tr>\n    <tr>\n      <th>21</th>\n      <td>168</td>\n      <td>2</td>\n      <td>150222-CSV</td>\n      <td>228441.0</td>\n      <td>213554.5</td>\n      <td>203841.0</td>\n      <td>199092.5</td>\n      <td>198676.0</td>\n      <td>198469.0</td>\n      <td>304151.5</td>\n      <td>...</td>\n      <td>216492.5</td>\n      <td>222951.0</td>\n      <td>234605.5</td>\n      <td>218836.0</td>\n      <td>223751.0</td>\n      <td>244109.0</td>\n      <td>289806.0</td>\n      <td>229379.0</td>\n      <td>258847.5</td>\n      <td>246770.5</td>\n    </tr>\n    <tr>\n      <th>22</th>\n      <td>131</td>\n      <td>2</td>\n      <td>150222-CSV</td>\n      <td>612319.0</td>\n      <td>600791.0</td>\n      <td>600055.5</td>\n      <td>597980.5</td>\n      <td>598769.5</td>\n      <td>596689.0</td>\n      <td>691342.0</td>\n      <td>...</td>\n      <td>588095.5</td>\n      <td>594253.5</td>\n      <td>601712.5</td>\n      <td>601975.0</td>\n      <td>606978.5</td>\n      <td>621035.5</td>\n      <td>641390.5</td>\n      <td>612284.0</td>\n      <td>619810.0</td>\n      <td>623261.0</td>\n    </tr>\n    <tr>\n      <th>23</th>\n      <td>14</td>\n      <td>2</td>\n      <td>150222-CSV</td>\n      <td>214391.0</td>\n      <td>211538.5</td>\n      <td>201915.0</td>\n      <td>197315.0</td>\n      <td>195200.0</td>\n      <td>193489.5</td>\n      <td>269319.0</td>\n      <td>...</td>\n      <td>224245.5</td>\n      <td>226453.0</td>\n      <td>232536.0</td>\n      <td>229153.5</td>\n      <td>234173.5</td>\n      <td>239792.0</td>\n      <td>260571.5</td>\n      <td>239912.0</td>\n      <td>248212.0</td>\n      <td>251618.5</td>\n    </tr>\n    <tr>\n      <th>24</th>\n      <td>61</td>\n      <td>2</td>\n      <td>150222-CSV</td>\n      <td>222045.0</td>\n      <td>221152.5</td>\n      <td>215865.0</td>\n      <td>213495.5</td>\n      <td>211475.0</td>\n      <td>212252.0</td>\n      <td>293755.5</td>\n      <td>...</td>\n      <td>232209.5</td>\n      <td>235503.0</td>\n      <td>238097.5</td>\n      <td>242215.0</td>\n      <td>244706.5</td>\n      <td>255535.5</td>\n      <td>262800.0</td>\n      <td>252458.0</td>\n      <td>257891.5</td>\n      <td>262733.5</td>\n    </tr>\n    <tr>\n      <th>25</th>\n      <td>169</td>\n      <td>2</td>\n      <td>150222-CSV</td>\n      <td>527544.0</td>\n      <td>500024.5</td>\n      <td>489440.0</td>\n      <td>485358.0</td>\n      <td>486148.0</td>\n      <td>481811.5</td>\n      <td>588547.5</td>\n      <td>...</td>\n      <td>507517.0</td>\n      <td>512274.5</td>\n      <td>517532.5</td>\n      <td>513710.0</td>\n      <td>514861.5</td>\n      <td>531334.5</td>\n      <td>552452.0</td>\n      <td>523632.0</td>\n      <td>534804.0</td>\n      <td>536179.5</td>\n    </tr>\n    <tr>\n      <th>26</th>\n      <td>129</td>\n      <td>2</td>\n      <td>150222-CSV</td>\n      <td>223020.5</td>\n      <td>216283.0</td>\n      <td>211070.0</td>\n      <td>204004.5</td>\n      <td>204719.0</td>\n      <td>201351.5</td>\n      <td>283230.5</td>\n      <td>...</td>\n      <td>216348.5</td>\n      <td>219392.0</td>\n      <td>221630.5</td>\n      <td>223910.0</td>\n      <td>224620.0</td>\n      <td>234370.0</td>\n      <td>241821.5</td>\n      <td>231318.5</td>\n      <td>239312.0</td>\n      <td>244960.0</td>\n    </tr>\n    <tr>\n      <th>27</th>\n      <td>30</td>\n      <td>2</td>\n      <td>150222-CSV</td>\n      <td>200084.0</td>\n      <td>190469.0</td>\n      <td>184294.5</td>\n      <td>180271.5</td>\n      <td>180570.0</td>\n      <td>176989.0</td>\n      <td>266601.5</td>\n      <td>...</td>\n      <td>206498.5</td>\n      <td>211600.5</td>\n      <td>211297.5</td>\n      <td>214844.0</td>\n      <td>216625.5</td>\n      <td>227444.0</td>\n      <td>240978.0</td>\n      <td>222220.5</td>\n      <td>232252.5</td>\n      <td>232351.0</td>\n    </tr>\n    <tr>\n      <th>28</th>\n      <td>120</td>\n      <td>2</td>\n      <td>150222-CSV</td>\n      <td>191653.5</td>\n      <td>186289.0</td>\n      <td>181712.0</td>\n      <td>178729.0</td>\n      <td>182078.0</td>\n      <td>180358.5</td>\n      <td>257370.0</td>\n      <td>...</td>\n      <td>194904.5</td>\n      <td>196671.5</td>\n      <td>196628.0</td>\n      <td>198664.5</td>\n      <td>202509.0</td>\n      <td>215178.5</td>\n      <td>235099.5</td>\n      <td>215791.5</td>\n      <td>226184.5</td>\n      <td>232524.5</td>\n    </tr>\n    <tr>\n      <th>29</th>\n      <td>127</td>\n      <td>2</td>\n      <td>150222-CSV</td>\n      <td>261634.0</td>\n      <td>249366.5</td>\n      <td>245864.0</td>\n      <td>243624.5</td>\n      <td>244178.5</td>\n      <td>237475.5</td>\n      <td>331296.0</td>\n      <td>...</td>\n      <td>229829.0</td>\n      <td>232752.5</td>\n      <td>239581.5</td>\n      <td>244727.0</td>\n      <td>248797.5</td>\n      <td>260008.0</td>\n      <td>273654.0</td>\n      <td>259701.0</td>\n      <td>265951.5</td>\n      <td>278497.0</td>\n    </tr>\n  </tbody>\n</table>\n<p>30 rows × 137 columns</p>\n</div>"
     },
     "metadata": {}
    }
   ],
   "execution_count": null
  },
  {
   "cell_type": "markdown",
   "source": "## Save the combined file to First Stage Combine folder",
   "metadata": {
    "cell_id": "bbf94195-0e6f-4c14-b2fd-ef32b29c1e2d",
    "tags": [],
    "deepnote_cell_type": "markdown"
   }
  },
  {
   "cell_type": "code",
   "metadata": {
    "cell_id": "abc033f5-8c0b-4ff2-bd11-a6b32ca2c03b",
    "tags": [],
    "deepnote_to_be_reexecuted": false,
    "source_hash": "d15d1fb9",
    "execution_start": 1645691106708,
    "execution_millis": 3,
    "deepnote_cell_type": "code"
   },
   "source": "# Make new directory if it doesnt exist\nfrom pathlib import Path\nPath(\"First Stage Combine/\" + batch_directory).mkdir(parents=True, exist_ok=True)\n\n# Save panels\npanel1.to_csv(\"First Stage Combine/\" + batch_directory + \"/1-combine.csv\", index=False)\npanel2.to_csv(\"First Stage Combine/\" + batch_directory + \"/2-combine.csv\", index=False)",
   "outputs": [],
   "execution_count": null
  },
  {
   "cell_type": "markdown",
   "source": "Now we do the normalisation in R",
   "metadata": {
    "cell_id": "5e110d50-8ced-4ae5-8a9b-3b4a448c838a",
    "tags": [],
    "deepnote_cell_type": "markdown"
   }
  },
  {
   "cell_type": "markdown",
   "source": "<a style='text-decoration:none;line-height:16px;display:flex;color:#5B5B62;padding:10px;justify-content:end;' href='https://deepnote.com?utm_source=created-in-deepnote-cell&projectId=72487218-bfd4-4a63-a450-c076490888ed' target=\"_blank\">\n<img alt='Created in deepnote.com' style='display:inline;max-height:16px;margin:0px;margin-right:7.5px;' src='data:image/svg+xml;base64,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' > </img>\nCreated in <span style='font-weight:600;margin-left:4px;'>Deepnote</span></a>",
   "metadata": {
    "tags": [],
    "created_in_deepnote_cell": true,
    "deepnote_cell_type": "markdown"
   }
  }
 ],
 "nbformat": 4,
 "nbformat_minor": 2,
 "metadata": {
  "orig_nbformat": 2,
  "deepnote": {
   "is_reactive": false
  },
  "deepnote_notebook_id": "f28f30c7-c694-42e3-afd3-adb2610d8ceb",
  "deepnote_execution_queue": []
 }
}