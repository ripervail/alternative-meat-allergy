{
 "cells": [
  {
   "cell_type": "markdown",
   "metadata": {
    "cell_id": "7531fa37-82f0-46f7-8094-71604af46f2f",
    "deepnote_cell_height": 74.796875,
    "deepnote_cell_type": "markdown",
    "tags": []
   },
   "source": [
    "## Code to check which Sunway cockroach serum they have screened, and that I can screen. We will look for common elements between both lists"
   ]
  },
  {
   "cell_type": "code",
   "execution_count": 1,
   "metadata": {
    "cell_id": "a95a2864-b0ad-4ba8-af3a-6df80bccdae3",
    "deepnote_cell_height": 117,
    "deepnote_cell_type": "code",
    "deepnote_to_be_reexecuted": false,
    "execution_millis": 44,
    "execution_start": 1645427652596,
    "source_hash": "2a4103df",
    "tags": []
   },
   "outputs": [
    {
     "data": {
      "text/plain": [
       "'C:\\\\FYP\\\\Analysis'"
      ]
     },
     "execution_count": 1,
     "metadata": {},
     "output_type": "execute_result"
    }
   ],
   "source": [
    "# imports\n",
    "import pandas as pd\n",
    "import numpy as np\n",
    "import os\n",
    "os.getcwd()"
   ]
  },
  {
   "cell_type": "code",
   "execution_count": 2,
   "metadata": {
    "cell_id": "a489b8d7-5a7c-47af-9325-0282f9fa2fd8",
    "deepnote_cell_height": 290,
    "deepnote_cell_type": "code",
    "deepnote_to_be_reexecuted": false,
    "execution_millis": 5501,
    "execution_start": 1645427652640,
    "source_hash": "3c5bccbd",
    "tags": []
   },
   "outputs": [
    {
     "name": "stdout",
     "output_type": "stream",
     "text": [
      "Requirement already satisfied: openpyxl in c:\\users\\user\\anaconda3\\lib\\site-packages (3.0.9)\n",
      "Requirement already satisfied: et-xmlfile in c:\\users\\user\\anaconda3\\lib\\site-packages (from openpyxl) (1.1.0)\n"
     ]
    }
   ],
   "source": [
    "# Install openpyxl dependency for pd.ExcelFile\n",
    "!pip install openpyxl"
   ]
  },
  {
   "cell_type": "code",
   "execution_count": 3,
   "metadata": {
    "cell_id": "cf2d5f32-2729-4933-9c2e-1a8050d16f01",
    "deepnote_cell_height": 81,
    "deepnote_cell_type": "code",
    "deepnote_to_be_reexecuted": false,
    "execution_millis": 365,
    "execution_start": 1645427658147,
    "source_hash": "b559b8d1",
    "tags": []
   },
   "outputs": [],
   "source": [
    "xls = pd.ExcelFile(\"Sunway_Cockroach.xlsx\")"
   ]
  },
  {
   "cell_type": "code",
   "execution_count": 4,
   "metadata": {
    "cell_id": "8aabeaae-ba05-4a45-9b01-45ee3a651a74",
    "deepnote_cell_height": 632.796875,
    "deepnote_cell_type": "code",
    "deepnote_table_loading": false,
    "deepnote_table_state": {
     "filters": [],
     "pageIndex": 1,
     "pageSize": 10,
     "sortBy": []
    },
    "deepnote_to_be_reexecuted": false,
    "execution_millis": 1069,
    "execution_start": 1645427658532,
    "source_hash": "d3015034",
    "tags": []
   },
   "outputs": [
    {
     "data": {
      "text/html": [
       "<div>\n",
       "<style scoped>\n",
       "    .dataframe tbody tr th:only-of-type {\n",
       "        vertical-align: middle;\n",
       "    }\n",
       "\n",
       "    .dataframe tbody tr th {\n",
       "        vertical-align: top;\n",
       "    }\n",
       "\n",
       "    .dataframe thead th {\n",
       "        text-align: right;\n",
       "    }\n",
       "</style>\n",
       "<table border=\"1\" class=\"dataframe\">\n",
       "  <thead>\n",
       "    <tr style=\"text-align: right;\">\n",
       "      <th></th>\n",
       "      <th>Average intensity</th>\n",
       "      <th>Unnamed: 1</th>\n",
       "      <th>1x PBS</th>\n",
       "      <th>Unnamed: 3</th>\n",
       "      <th>Unnamed: 4</th>\n",
       "      <th>Unnamed: 5</th>\n",
       "      <th>Unnamed: 6</th>\n",
       "      <th>Unnamed: 7</th>\n",
       "      <th>Unnamed: 8</th>\n",
       "      <th>Unnamed: 9</th>\n",
       "      <th>...</th>\n",
       "      <th>Unnamed: 193</th>\n",
       "      <th>Unnamed: 194</th>\n",
       "      <th>Unnamed: 195</th>\n",
       "      <th>Unnamed: 196</th>\n",
       "      <th>Unnamed: 197</th>\n",
       "      <th>Unnamed: 198</th>\n",
       "      <th>Unnamed: 199</th>\n",
       "      <th>Unnamed: 200</th>\n",
       "      <th>Unnamed: 201</th>\n",
       "      <th>Unnamed: 202</th>\n",
       "    </tr>\n",
       "  </thead>\n",
       "  <tbody>\n",
       "    <tr>\n",
       "      <th>0</th>\n",
       "      <td>NaN</td>\n",
       "      <td>B1</td>\n",
       "      <td>B2</td>\n",
       "      <td>B3</td>\n",
       "      <td>B4</td>\n",
       "      <td>B5</td>\n",
       "      <td>B6</td>\n",
       "      <td>B7</td>\n",
       "      <td>B8</td>\n",
       "      <td>B9</td>\n",
       "      <td>...</td>\n",
       "      <td>NaN</td>\n",
       "      <td>NaN</td>\n",
       "      <td>NaN</td>\n",
       "      <td>NaN</td>\n",
       "      <td>NaN</td>\n",
       "      <td>NaN</td>\n",
       "      <td>NaN</td>\n",
       "      <td>NaN</td>\n",
       "      <td>NaN</td>\n",
       "      <td>NaN</td>\n",
       "    </tr>\n",
       "    <tr>\n",
       "      <th>1</th>\n",
       "      <td>1000</td>\n",
       "      <td>11070250</td>\n",
       "      <td>9548330</td>\n",
       "      <td>13692850</td>\n",
       "      <td>19885350</td>\n",
       "      <td>15728900</td>\n",
       "      <td>18015250</td>\n",
       "      <td>17120500</td>\n",
       "      <td>17482250</td>\n",
       "      <td>18349050</td>\n",
       "      <td>...</td>\n",
       "      <td>NaN</td>\n",
       "      <td>NaN</td>\n",
       "      <td>NaN</td>\n",
       "      <td>NaN</td>\n",
       "      <td>NaN</td>\n",
       "      <td>NaN</td>\n",
       "      <td>NaN</td>\n",
       "      <td>NaN</td>\n",
       "      <td>NaN</td>\n",
       "      <td>NaN</td>\n",
       "    </tr>\n",
       "    <tr>\n",
       "      <th>2</th>\n",
       "      <td>500</td>\n",
       "      <td>9749385</td>\n",
       "      <td>9012655</td>\n",
       "      <td>13244850</td>\n",
       "      <td>20327300</td>\n",
       "      <td>13953900</td>\n",
       "      <td>16377750</td>\n",
       "      <td>14808450</td>\n",
       "      <td>17841700</td>\n",
       "      <td>17833700</td>\n",
       "      <td>...</td>\n",
       "      <td>NaN</td>\n",
       "      <td>NaN</td>\n",
       "      <td>NaN</td>\n",
       "      <td>NaN</td>\n",
       "      <td>NaN</td>\n",
       "      <td>NaN</td>\n",
       "      <td>NaN</td>\n",
       "      <td>NaN</td>\n",
       "      <td>NaN</td>\n",
       "      <td>NaN</td>\n",
       "    </tr>\n",
       "    <tr>\n",
       "      <th>3</th>\n",
       "      <td>250</td>\n",
       "      <td>8010275</td>\n",
       "      <td>11050575</td>\n",
       "      <td>11050575</td>\n",
       "      <td>20487700</td>\n",
       "      <td>11527750</td>\n",
       "      <td>13208550</td>\n",
       "      <td>12141050</td>\n",
       "      <td>15137500</td>\n",
       "      <td>14976900</td>\n",
       "      <td>...</td>\n",
       "      <td>NaN</td>\n",
       "      <td>NaN</td>\n",
       "      <td>NaN</td>\n",
       "      <td>NaN</td>\n",
       "      <td>NaN</td>\n",
       "      <td>NaN</td>\n",
       "      <td>NaN</td>\n",
       "      <td>NaN</td>\n",
       "      <td>NaN</td>\n",
       "      <td>NaN</td>\n",
       "    </tr>\n",
       "    <tr>\n",
       "      <th>4</th>\n",
       "      <td>125</td>\n",
       "      <td>7576430</td>\n",
       "      <td>7711945</td>\n",
       "      <td>12355000</td>\n",
       "      <td>18249050</td>\n",
       "      <td>10731750</td>\n",
       "      <td>12480950</td>\n",
       "      <td>10774450</td>\n",
       "      <td>15046700</td>\n",
       "      <td>15211550</td>\n",
       "      <td>...</td>\n",
       "      <td>NaN</td>\n",
       "      <td>NaN</td>\n",
       "      <td>NaN</td>\n",
       "      <td>NaN</td>\n",
       "      <td>NaN</td>\n",
       "      <td>NaN</td>\n",
       "      <td>NaN</td>\n",
       "      <td>NaN</td>\n",
       "      <td>NaN</td>\n",
       "      <td>NaN</td>\n",
       "    </tr>\n",
       "    <tr>\n",
       "      <th>...</th>\n",
       "      <td>...</td>\n",
       "      <td>...</td>\n",
       "      <td>...</td>\n",
       "      <td>...</td>\n",
       "      <td>...</td>\n",
       "      <td>...</td>\n",
       "      <td>...</td>\n",
       "      <td>...</td>\n",
       "      <td>...</td>\n",
       "      <td>...</td>\n",
       "      <td>...</td>\n",
       "      <td>...</td>\n",
       "      <td>...</td>\n",
       "      <td>...</td>\n",
       "      <td>...</td>\n",
       "      <td>...</td>\n",
       "      <td>...</td>\n",
       "      <td>...</td>\n",
       "      <td>...</td>\n",
       "      <td>...</td>\n",
       "      <td>...</td>\n",
       "    </tr>\n",
       "    <tr>\n",
       "      <th>87</th>\n",
       "      <td>Bla g 10</td>\n",
       "      <td>1158608.333333</td>\n",
       "      <td>1424333.333333</td>\n",
       "      <td>1689318.333333</td>\n",
       "      <td>2015643.333333</td>\n",
       "      <td>0</td>\n",
       "      <td>1878952.5</td>\n",
       "      <td>0</td>\n",
       "      <td>0</td>\n",
       "      <td>0</td>\n",
       "      <td>...</td>\n",
       "      <td>0</td>\n",
       "      <td>0</td>\n",
       "      <td>0</td>\n",
       "      <td>1264779.166667</td>\n",
       "      <td>0</td>\n",
       "      <td>849084.166667</td>\n",
       "      <td>727219.166667</td>\n",
       "      <td>0</td>\n",
       "      <td>0</td>\n",
       "      <td>0</td>\n",
       "    </tr>\n",
       "    <tr>\n",
       "      <th>88</th>\n",
       "      <td>Bla g 11</td>\n",
       "      <td>1021478.333333</td>\n",
       "      <td>418523.333333</td>\n",
       "      <td>1810868.333333</td>\n",
       "      <td>1903113.333333</td>\n",
       "      <td>0</td>\n",
       "      <td>396462.5</td>\n",
       "      <td>0</td>\n",
       "      <td>0</td>\n",
       "      <td>883317.5</td>\n",
       "      <td>...</td>\n",
       "      <td>0</td>\n",
       "      <td>0</td>\n",
       "      <td>0</td>\n",
       "      <td>594854.166667</td>\n",
       "      <td>0</td>\n",
       "      <td>613364.166667</td>\n",
       "      <td>550199.166667</td>\n",
       "      <td>0</td>\n",
       "      <td>0</td>\n",
       "      <td>0</td>\n",
       "    </tr>\n",
       "    <tr>\n",
       "      <th>89</th>\n",
       "      <td>Bla g 12</td>\n",
       "      <td>564673.333333</td>\n",
       "      <td>453313.333333</td>\n",
       "      <td>819283.333333</td>\n",
       "      <td>1361433.333333</td>\n",
       "      <td>0</td>\n",
       "      <td>658152.5</td>\n",
       "      <td>0</td>\n",
       "      <td>0</td>\n",
       "      <td>0</td>\n",
       "      <td>...</td>\n",
       "      <td>0</td>\n",
       "      <td>0</td>\n",
       "      <td>0</td>\n",
       "      <td>279449.166667</td>\n",
       "      <td>0</td>\n",
       "      <td>480949.166667</td>\n",
       "      <td>265954.166667</td>\n",
       "      <td>0</td>\n",
       "      <td>0</td>\n",
       "      <td>0</td>\n",
       "    </tr>\n",
       "    <tr>\n",
       "      <th>90</th>\n",
       "      <td>Bla g 13</td>\n",
       "      <td>827523.333333</td>\n",
       "      <td>1344788.333333</td>\n",
       "      <td>962713.333333</td>\n",
       "      <td>1819703.333333</td>\n",
       "      <td>2084567.5</td>\n",
       "      <td>1090072.5</td>\n",
       "      <td>0</td>\n",
       "      <td>1589087.5</td>\n",
       "      <td>1588862.5</td>\n",
       "      <td>...</td>\n",
       "      <td>393249.166667</td>\n",
       "      <td>165654.166667</td>\n",
       "      <td>407519.166667</td>\n",
       "      <td>1269709.166667</td>\n",
       "      <td>447039.166667</td>\n",
       "      <td>1810369.166667</td>\n",
       "      <td>2328604.166667</td>\n",
       "      <td>514734.166667</td>\n",
       "      <td>1702049.166667</td>\n",
       "      <td>115149.166667</td>\n",
       "    </tr>\n",
       "    <tr>\n",
       "      <th>91</th>\n",
       "      <td>Bla g 16</td>\n",
       "      <td>245908.333333</td>\n",
       "      <td>491373.333333</td>\n",
       "      <td>129783.333333</td>\n",
       "      <td>947553.333333</td>\n",
       "      <td>0</td>\n",
       "      <td>0</td>\n",
       "      <td>0</td>\n",
       "      <td>0</td>\n",
       "      <td>0</td>\n",
       "      <td>...</td>\n",
       "      <td>0</td>\n",
       "      <td>0</td>\n",
       "      <td>0</td>\n",
       "      <td>0</td>\n",
       "      <td>0</td>\n",
       "      <td>0</td>\n",
       "      <td>0</td>\n",
       "      <td>0</td>\n",
       "      <td>0</td>\n",
       "      <td>0</td>\n",
       "    </tr>\n",
       "  </tbody>\n",
       "</table>\n",
       "<p>92 rows × 203 columns</p>\n",
       "</div>"
      ],
      "text/plain": [
       "   Average intensity      Unnamed: 1          1x PBS      Unnamed: 3  \\\n",
       "0                NaN              B1              B2              B3   \n",
       "1               1000        11070250         9548330        13692850   \n",
       "2                500         9749385         9012655        13244850   \n",
       "3                250         8010275        11050575        11050575   \n",
       "4                125         7576430         7711945        12355000   \n",
       "..               ...             ...             ...             ...   \n",
       "87          Bla g 10  1158608.333333  1424333.333333  1689318.333333   \n",
       "88          Bla g 11  1021478.333333   418523.333333  1810868.333333   \n",
       "89          Bla g 12   564673.333333   453313.333333   819283.333333   \n",
       "90          Bla g 13   827523.333333  1344788.333333   962713.333333   \n",
       "91          Bla g 16   245908.333333   491373.333333   129783.333333   \n",
       "\n",
       "        Unnamed: 4 Unnamed: 5 Unnamed: 6 Unnamed: 7 Unnamed: 8 Unnamed: 9  \\\n",
       "0               B4         B5         B6         B7         B8         B9   \n",
       "1         19885350   15728900   18015250   17120500   17482250   18349050   \n",
       "2         20327300   13953900   16377750   14808450   17841700   17833700   \n",
       "3         20487700   11527750   13208550   12141050   15137500   14976900   \n",
       "4         18249050   10731750   12480950   10774450   15046700   15211550   \n",
       "..             ...        ...        ...        ...        ...        ...   \n",
       "87  2015643.333333          0  1878952.5          0          0          0   \n",
       "88  1903113.333333          0   396462.5          0          0   883317.5   \n",
       "89  1361433.333333          0   658152.5          0          0          0   \n",
       "90  1819703.333333  2084567.5  1090072.5          0  1589087.5  1588862.5   \n",
       "91   947553.333333          0          0          0          0          0   \n",
       "\n",
       "    ...   Unnamed: 193   Unnamed: 194   Unnamed: 195    Unnamed: 196  \\\n",
       "0   ...            NaN            NaN            NaN             NaN   \n",
       "1   ...            NaN            NaN            NaN             NaN   \n",
       "2   ...            NaN            NaN            NaN             NaN   \n",
       "3   ...            NaN            NaN            NaN             NaN   \n",
       "4   ...            NaN            NaN            NaN             NaN   \n",
       "..  ...            ...            ...            ...             ...   \n",
       "87  ...              0              0              0  1264779.166667   \n",
       "88  ...              0              0              0   594854.166667   \n",
       "89  ...              0              0              0   279449.166667   \n",
       "90  ...  393249.166667  165654.166667  407519.166667  1269709.166667   \n",
       "91  ...              0              0              0               0   \n",
       "\n",
       "     Unnamed: 197    Unnamed: 198    Unnamed: 199   Unnamed: 200  \\\n",
       "0             NaN             NaN             NaN            NaN   \n",
       "1             NaN             NaN             NaN            NaN   \n",
       "2             NaN             NaN             NaN            NaN   \n",
       "3             NaN             NaN             NaN            NaN   \n",
       "4             NaN             NaN             NaN            NaN   \n",
       "..            ...             ...             ...            ...   \n",
       "87              0   849084.166667   727219.166667              0   \n",
       "88              0   613364.166667   550199.166667              0   \n",
       "89              0   480949.166667   265954.166667              0   \n",
       "90  447039.166667  1810369.166667  2328604.166667  514734.166667   \n",
       "91              0               0               0              0   \n",
       "\n",
       "      Unnamed: 201   Unnamed: 202  \n",
       "0              NaN            NaN  \n",
       "1              NaN            NaN  \n",
       "2              NaN            NaN  \n",
       "3              NaN            NaN  \n",
       "4              NaN            NaN  \n",
       "..             ...            ...  \n",
       "87               0              0  \n",
       "88               0              0  \n",
       "89               0              0  \n",
       "90  1702049.166667  115149.166667  \n",
       "91               0              0  \n",
       "\n",
       "[92 rows x 203 columns]"
      ]
     },
     "execution_count": 4,
     "metadata": {},
     "output_type": "execute_result"
    }
   ],
   "source": [
    "sunway_c = pd.read_excel(xls, 'Compile')\n",
    "sunway_c"
   ]
  },
  {
   "cell_type": "code",
   "execution_count": 5,
   "metadata": {
    "cell_id": "85c24876-46ec-4ddb-b9c3-4b626048bae2",
    "deepnote_cell_height": 762,
    "deepnote_cell_type": "code",
    "deepnote_output_heights": [
     611
    ],
    "deepnote_to_be_reexecuted": false,
    "execution_millis": 6,
    "execution_start": 1645427659599,
    "source_hash": "9ae0d1ae",
    "tags": []
   },
   "outputs": [],
   "source": [
    "# We see that the serum ids are in row 15. Let's get that\n",
    "sunway_c_id = sunway_c.iloc[15].dropna()\n",
    "sunway_c_id = list(sunway_c_id)\n",
    "# sunway_c_id"
   ]
  },
  {
   "cell_type": "code",
   "execution_count": 6,
   "metadata": {
    "cell_id": "2a744a1b-3e4a-4c7b-9be2-b86fe0d17ff4",
    "deepnote_cell_height": 99,
    "deepnote_cell_type": "code",
    "deepnote_to_be_reexecuted": false,
    "execution_millis": 24,
    "execution_start": 1645427659610,
    "source_hash": "978a0491",
    "tags": []
   },
   "outputs": [],
   "source": [
    "# Load in what we have\n",
    "our_xl = pd.read_excel(\"Sunway_Cockroach_Ours.xlsx\")"
   ]
  },
  {
   "cell_type": "code",
   "execution_count": 7,
   "metadata": {
    "cell_id": "2239759e-87e6-4dac-b412-2fb547107483",
    "deepnote_cell_height": 598,
    "deepnote_cell_type": "code",
    "deepnote_to_be_reexecuted": false,
    "execution_millis": 7,
    "execution_start": 1645427659666,
    "source_hash": "3b1dd807",
    "tags": []
   },
   "outputs": [
    {
     "data": {
      "text/html": [
       "<div>\n",
       "<style scoped>\n",
       "    .dataframe tbody tr th:only-of-type {\n",
       "        vertical-align: middle;\n",
       "    }\n",
       "\n",
       "    .dataframe tbody tr th {\n",
       "        vertical-align: top;\n",
       "    }\n",
       "\n",
       "    .dataframe thead th {\n",
       "        text-align: right;\n",
       "    }\n",
       "</style>\n",
       "<table border=\"1\" class=\"dataframe\">\n",
       "  <thead>\n",
       "    <tr style=\"text-align: right;\">\n",
       "      <th></th>\n",
       "      <th>Batch</th>\n",
       "      <th>ID</th>\n",
       "    </tr>\n",
       "  </thead>\n",
       "  <tbody>\n",
       "    <tr>\n",
       "      <th>0</th>\n",
       "      <td>MI</td>\n",
       "      <td>1</td>\n",
       "    </tr>\n",
       "    <tr>\n",
       "      <th>1</th>\n",
       "      <td>MI</td>\n",
       "      <td>2</td>\n",
       "    </tr>\n",
       "    <tr>\n",
       "      <th>2</th>\n",
       "      <td>MI</td>\n",
       "      <td>4</td>\n",
       "    </tr>\n",
       "    <tr>\n",
       "      <th>3</th>\n",
       "      <td>MI</td>\n",
       "      <td>5</td>\n",
       "    </tr>\n",
       "    <tr>\n",
       "      <th>4</th>\n",
       "      <td>MI</td>\n",
       "      <td>8</td>\n",
       "    </tr>\n",
       "    <tr>\n",
       "      <th>...</th>\n",
       "      <td>...</td>\n",
       "      <td>...</td>\n",
       "    </tr>\n",
       "    <tr>\n",
       "      <th>126</th>\n",
       "      <td>MI</td>\n",
       "      <td>728</td>\n",
       "    </tr>\n",
       "    <tr>\n",
       "      <th>127</th>\n",
       "      <td>MI</td>\n",
       "      <td>732</td>\n",
       "    </tr>\n",
       "    <tr>\n",
       "      <th>128</th>\n",
       "      <td>MI</td>\n",
       "      <td>733</td>\n",
       "    </tr>\n",
       "    <tr>\n",
       "      <th>129</th>\n",
       "      <td>MI</td>\n",
       "      <td>737</td>\n",
       "    </tr>\n",
       "    <tr>\n",
       "      <th>130</th>\n",
       "      <td>MI</td>\n",
       "      <td>738</td>\n",
       "    </tr>\n",
       "  </tbody>\n",
       "</table>\n",
       "<p>131 rows × 2 columns</p>\n",
       "</div>"
      ],
      "text/plain": [
       "    Batch   ID\n",
       "0      MI    1\n",
       "1      MI    2\n",
       "2      MI    4\n",
       "3      MI    5\n",
       "4      MI    8\n",
       "..    ...  ...\n",
       "126    MI  728\n",
       "127    MI  732\n",
       "128    MI  733\n",
       "129    MI  737\n",
       "130    MI  738\n",
       "\n",
       "[131 rows x 2 columns]"
      ]
     },
     "execution_count": 7,
     "metadata": {},
     "output_type": "execute_result"
    }
   ],
   "source": [
    "our_xl"
   ]
  },
  {
   "cell_type": "code",
   "execution_count": 8,
   "metadata": {
    "cell_id": "6405b231-2dc7-404a-9ac5-c22ff4c81554",
    "deepnote_cell_height": 224.796875,
    "deepnote_cell_type": "code",
    "deepnote_to_be_reexecuted": false,
    "execution_millis": 22,
    "execution_start": 1645427659680,
    "source_hash": "d85d39ba",
    "tags": []
   },
   "outputs": [
    {
     "name": "stdout",
     "output_type": "stream",
     "text": [
      "['MI 1', 'MI 2', 'MI 4', 'MI 5', 'MI 8', 'MI 10', 'MI 14', 'MI 15', 'MI 27', 'MI 30', 'MI 61', 'MI 74', 'MI 120', 'MI 122', 'MI 127', 'MI 129', 'MI 131', 'MI 142', 'MI 146', 'MI 158', 'MI 162', 'MI 168', 'MI 169', 'MI 216', 'MI 217', 'MI 219', 'MI 220', 'MI 234', 'MI 235', 'MI 257', 'MI 266', 'MI 270', 'MI 287', 'MI 299', 'MI 301', 'MI 332', 'MI 339', 'MI 340', 'MI 344', 'MI 351', 'MI 377', 'MI 386', 'MI 389', 'MI 393', 'MI 394', 'MI 398', 'MI 405', 'MI 409', 'MI 427', 'MI 428', 'MI 430', 'MI 439', 'MI 441', 'MI 442', 'MI 445', 'MI 446', 'MI 452', 'MI 453', 'MI 461', 'MI 467', 'MI 471', 'MI 472', 'MI 474', 'MI 479', 'MI 489', 'MI 492', 'MI 499', 'MI 504', 'MI 505', 'MI 506', 'MI 515', 'MI 519', 'MI 520', 'MI 523', 'MI 528', 'MI 539', 'MI 545', 'MI 547', 'MI 548', 'MI 552', 'MI 555', 'MI 561', 'MI 573', 'MI 578', 'MI 580', 'MI 581', 'MI 587', 'MI 589', 'MI 611', 'MI 615', 'MI 616', 'MI 618', 'MI 619', 'MI 620', 'MI 621', 'MI 626', 'MI 635', 'MI 638', 'MI 641', 'MI 642', 'MI 651', 'MI 655', 'MI 656', 'MI 658', 'MI 659', 'MI 662', 'MI 668', 'MI 675', 'MI 676', 'MI 682', 'MI 683', 'MI 688', 'MI 690', 'MI 694', 'MI 701', 'MI 703', 'MI 704', 'MI 705', 'MI 706', 'MI 708', 'MI 710', 'MI 711', 'MI 712', 'MI 713', 'MI 721', 'MI 725', 'MI 728', 'MI 732', 'MI 733', 'MI 737', 'MI 738']\n"
     ]
    }
   ],
   "source": [
    "# Create a list of \"Batch ID\" for comparison\n",
    "ours = []\n",
    "for index, row in our_xl.iterrows():\n",
    "    id = row[\"Batch\"] + \" \" + str(row[\"ID\"])\n",
    "    ours.append(id)\n",
    "\n",
    "print(ours)"
   ]
  },
  {
   "cell_type": "markdown",
   "metadata": {
    "cell_id": "b28d0370-c350-427c-8656-d7e71506f2cc",
    "deepnote_cell_height": 52.390625,
    "deepnote_cell_type": "markdown",
    "tags": []
   },
   "source": [
    "Now we can compare between the 2 lists, sunway_c_id and ours"
   ]
  },
  {
   "cell_type": "code",
   "execution_count": 9,
   "metadata": {
    "cell_id": "89a89f67-1c58-4b1f-9ddb-bf160522f31f",
    "deepnote_cell_height": 242,
    "deepnote_cell_type": "code",
    "deepnote_to_be_reexecuted": false,
    "execution_millis": 7,
    "execution_start": 1645427659706,
    "source_hash": "21663f9d",
    "tags": []
   },
   "outputs": [
    {
     "name": "stdout",
     "output_type": "stream",
     "text": [
      "Number screened by Malaysia: 202\n",
      "Number we have: 131\n",
      "Number in common: 53\n"
     ]
    }
   ],
   "source": [
    "print(f\"Number screened by Malaysia: {len(sunway_c_id)}\")\n",
    "print(f\"Number we have: {len(ours)}\")\n",
    "\n",
    "intersection = list(set(sunway_c_id) & set(ours))\n",
    "\n",
    "print(f\"Number in common: {len(intersection)}\")"
   ]
  },
  {
   "cell_type": "markdown",
   "metadata": {
    "cell_id": "b58c74a9-a5a6-4eaf-bec6-65e0cd0d213b",
    "deepnote_cell_height": 52.390625,
    "deepnote_cell_type": "markdown",
    "tags": []
   },
   "source": [
    "It is either we only have 52 to screen, or we have to find the Batch I serum from our fridges"
   ]
  },
  {
   "cell_type": "code",
   "execution_count": 10,
   "metadata": {
    "cell_id": "ffac1985-cc19-471b-9491-e6908efd8628",
    "deepnote_cell_height": 190.796875,
    "deepnote_cell_type": "code",
    "deepnote_output_heights": [
     611
    ],
    "deepnote_to_be_reexecuted": false,
    "execution_millis": 6,
    "execution_start": 1645427659720,
    "source_hash": "97ce6af6",
    "tags": []
   },
   "outputs": [
    {
     "name": "stdout",
     "output_type": "stream",
     "text": [
      "['MI 1', 'MI 10', 'MI 15', 'MI 2', 'MI 217', 'MI 220', 'MI 299', 'MI 340', 'MI 386', 'MI 393', 'MI 4', 'MI 409', 'MI 427', 'MI 428', 'MI 430', 'MI 439', 'MI 445', 'MI 452', 'MI 453', 'MI 474', 'MI 479', 'MI 489', 'MI 5', 'MI 505', 'MI 519', 'MI 539', 'MI 545', 'MI 547', 'MI 548', 'MI 573', 'MI 580', 'MI 581', 'MI 589', 'MI 615', 'MI 616', 'MI 635', 'MI 641', 'MI 651', 'MI 655', 'MI 662', 'MI 675', 'MI 682', 'MI 683', 'MI 704', 'MI 705', 'MI 706', 'MI 711', 'MI 713', 'MI 721', 'MI 725', 'MI 732', 'MI 737', 'MI 8']\n"
     ]
    }
   ],
   "source": [
    "intersection.sort()\n",
    "print(intersection)"
   ]
  },
  {
   "cell_type": "markdown",
   "metadata": {
    "cell_id": "27fc9412-4d79-4b9f-955a-1edd74d16d87",
    "deepnote_cell_type": "markdown",
    "tags": []
   },
   "source": [
    "### Check what I have screened, but they have not screened yet (I screened everything sent to us alr)"
   ]
  },
  {
   "cell_type": "code",
   "execution_count": 11,
   "metadata": {
    "cell_id": "0b44581e-1d35-4c94-941b-1778cbad8be6",
    "deepnote_cell_type": "code",
    "deepnote_to_be_reexecuted": false,
    "execution_millis": 2,
    "execution_start": 1645428159270,
    "source_hash": "55a78f3",
    "tags": []
   },
   "outputs": [
    {
     "name": "stdout",
     "output_type": "stream",
     "text": [
      "Screened by both count: 9 - ['MI 1', 'MI 2', 'MI 4', 'MI 5', 'MI 8', 'MI 10', 'MI 15', 'MI 217', 'MI 220']\n",
      "Not screened by them count: 20 - ['MI 14', 'MI 27', 'MI 30', 'MI 61', 'MI 74', 'MI 120', 'MI 122', 'MI 127', 'MI 129', 'MI 131', 'MI 142', 'MI 146', 'MI 158', 'MI 162', 'MI 168', 'MI 169', 'MI 216', 'MI 219', 'MI 234', 'MI 235']\n"
     ]
    }
   ],
   "source": [
    "# Load in what I have screened\n",
    "screened_by_me = [\"MI 1\", \"MI 2\", \"MI 4\", \"MI 5\", \"MI 8\", \"MI 10\", \"MI 14\", \"MI 15\", \"MI 27\", \"MI 30\",\n",
    "                  \"MI 61\", \"MI 74\", \"MI 120\", \"MI 122\", \"MI 127\", \"MI 129\", \"MI 131\", \"MI 142\", \"MI 146\", \"MI 158\",\n",
    "                  \"MI 162\", \"MI 168\", \"MI 169\", \"MI 216\", \"MI 217\", \"MI 219\", \"MI 220\", \"MI 234\", \"MI 235\"]\n",
    "\n",
    "screened_by_both = []\n",
    "not_screened_by_them = []\n",
    "for m in screened_by_me:\n",
    "    if m in sunway_c_id:\n",
    "        screened_by_both.append(m)\n",
    "    else:\n",
    "        not_screened_by_them.append(m)\n",
    "\n",
    "# print(len(screened_by_both) + len(not_screened_by_them))\n",
    "print(f\"Screened by both count: {len(screened_by_both)} - {screened_by_both}\")\n",
    "print(f\"Not screened by them count: {len(not_screened_by_them)} - {not_screened_by_them}\")"
   ]
  },
  {
   "cell_type": "markdown",
   "metadata": {},
   "source": [
    "## Look at Case Control\n",
    "\n",
    "First, a sanity check\n",
    "\n",
    "Case - 1, Control - 0, Other - 9"
   ]
  },
  {
   "cell_type": "code",
   "execution_count": 12,
   "metadata": {},
   "outputs": [
    {
     "name": "stdout",
     "output_type": "stream",
     "text": [
      "Malaysia all here? False\n",
      "Missing: ['MI 633 ']\n",
      "\n",
      "Sent us all here? False\n",
      "Missing: ['MI 257', 'MI 270', 'MI 394', 'MI 555', 'MI 587', 'MI 668']\n"
     ]
    }
   ],
   "source": [
    "# Import\n",
    "relv = pd.read_excel(\"MI_batch.xlsx\")\n",
    "\n",
    "# Check that everything Malaysia sent us, and that they screened, is in here\n",
    "malaysia_all_here = True\n",
    "sent_us_all_here = True\n",
    "\n",
    "# Function to add a space into the ID for ease\n",
    "def add_space(s):\n",
    "    new_s = s[0:2] + \" \" + s[2:]\n",
    "    return new_s\n",
    "\n",
    "# Convert SPT(=3+) into integer values\n",
    "def sptsplit(x):\n",
    "    if x == \"Yes\": return 1\n",
    "    elif x == \"No\": return 0\n",
    "    else: return 9\n",
    "\n",
    "relv[\"SPT_int\"] = relv[\"SPT(=3+)\"].apply(sptsplit)\n",
    "relv[\"SPT_0\"] = relv[\"SPT(=0)\"].apply(sptsplit)\n",
    "relv[\"ID\"] = relv[\"ID\"].apply(add_space)\n",
    "relv_mi = relv.loc[relv[\"ID\"].str.contains(\"MI\")]\n",
    "all_id = list(relv_mi[\"ID\"])\n",
    "\n",
    "# Check if ID is in\n",
    "missing_ours = []\n",
    "missing_malaysia = []\n",
    "for idx in ours:\n",
    "    if idx not in all_id:\n",
    "        missing_ours.append(idx)\n",
    "        sent_us_all_here = False\n",
    "        \n",
    "for idx in sunway_c_id:\n",
    "    if idx not in all_id:\n",
    "        missing_malaysia.append(idx)\n",
    "        malaysia_all_here = False\n",
    "        \n",
    "print(f\"Malaysia all here? {malaysia_all_here}\")\n",
    "print(f\"Missing: {missing_malaysia}\\n\")\n",
    "print(f\"Sent us all here? {sent_us_all_here}\")\n",
    "print(f\"Missing: {missing_ours}\")"
   ]
  },
  {
   "cell_type": "code",
   "execution_count": 13,
   "metadata": {},
   "outputs": [
    {
     "data": {
      "text/plain": [
       "Index(['ID', 'Sex', 'Age at collection time', 'SPT(=3+)', 'AR_class',\n",
       "       'AD_class', 'asthma_class', 'SPT(=0)', 'Der p', 'Blo t', 'Per a',\n",
       "       'Bla g', 'SPT_int', 'SPT_0'],\n",
       "      dtype='object')"
      ]
     },
     "execution_count": 13,
     "metadata": {},
     "output_type": "execute_result"
    }
   ],
   "source": [
    "relv.columns"
   ]
  },
  {
   "cell_type": "markdown",
   "metadata": {},
   "source": [
    "Interestingly, we have (and Malaysia has) some sera that are not recorded in the epi data?\n",
    "\n",
    "Next we filter out those we have"
   ]
  },
  {
   "cell_type": "markdown",
   "metadata": {},
   "source": [
    "Plot the percentages of case/control/others for each phenotype"
   ]
  },
  {
   "cell_type": "code",
   "execution_count": 14,
   "metadata": {},
   "outputs": [
    {
     "data": {
      "text/plain": [
       "Text(0.5, 0, 'Skin Prick Test')"
      ]
     },
     "execution_count": 14,
     "metadata": {},
     "output_type": "execute_result"
    },
    {
     "data": {
      "image/png": "[encoded data removed]",
      "text/plain": [
       "<Figure size 576x360 with 1 Axes>"
      ]
     },
     "metadata": {},
     "output_type": "display_data"
    }
   ],
   "source": [
    "import matplotlib.pyplot as plt\n",
    "import seaborn as sns\n",
    "plt.rcParams[\"figure.figsize\"] = (8,5)\n",
    "sns.set()\n",
    "sns.set_style(\"white\")\n",
    "\n",
    "ours_cc = relv.loc[relv[\"ID\"].isin(ours)]\n",
    "num_id = ours_cc.shape[0]\n",
    "\n",
    "df = ours_cc\n",
    "# ar_class = df[\"AR_class\"].value_counts().sort_index()\n",
    "# ad_class = df[\"AD_class\"].value_counts().sort_index()\n",
    "# asthma_class = df[\"asthma_class\"].value_counts().sort_index()\n",
    "# spt_class = df[\"SPT_int\"].value_counts().sort_index()\n",
    "spt_0 = df[\"SPT_0\"].value_counts().sort_index()\n",
    "\n",
    "cc_df = pd.DataFrame([spt_0], \n",
    "                     index=[\"SPT(=0)\"])\n",
    "\n",
    "ax = cc_df.plot(kind=\"bar\", stacked=\"True\")\n",
    "sns.despine(ax=ax)\n",
    "plt.legend(labels=[\"0\", \">3\", \"Others\"])\n",
    "plt.xticks([])\n",
    "# plt.title(\"Case/Control for Batch MI\")\n",
    "plt.ylabel(\"Number of people\")\n",
    "plt.xlabel(\"Skin Prick Test\")\n",
    "\n",
    "# f.savefig(\"Figures/sptdistribution.png\", format=\"png\", dpi=1200)\n",
    "# plt.savefig('Figures/sptdistribution.png', dpi=1200)"
   ]
  },
  {
   "cell_type": "code",
   "execution_count": 15,
   "metadata": {},
   "outputs": [
    {
     "data": {
      "text/html": [
       "<div>\n",
       "<style scoped>\n",
       "    .dataframe tbody tr th:only-of-type {\n",
       "        vertical-align: middle;\n",
       "    }\n",
       "\n",
       "    .dataframe tbody tr th {\n",
       "        vertical-align: top;\n",
       "    }\n",
       "\n",
       "    .dataframe thead th {\n",
       "        text-align: right;\n",
       "    }\n",
       "</style>\n",
       "<table border=\"1\" class=\"dataframe\">\n",
       "  <thead>\n",
       "    <tr style=\"text-align: right;\">\n",
       "      <th></th>\n",
       "      <th>ID</th>\n",
       "      <th>Sex</th>\n",
       "      <th>Age at collection time</th>\n",
       "      <th>SPT(=3+)</th>\n",
       "      <th>AR_class</th>\n",
       "      <th>AD_class</th>\n",
       "      <th>asthma_class</th>\n",
       "      <th>SPT(=0)</th>\n",
       "      <th>Der p</th>\n",
       "      <th>Blo t</th>\n",
       "      <th>Per a</th>\n",
       "      <th>Bla g</th>\n",
       "      <th>SPT_int</th>\n",
       "      <th>SPT_0</th>\n",
       "    </tr>\n",
       "  </thead>\n",
       "  <tbody>\n",
       "    <tr>\n",
       "      <th>0</th>\n",
       "      <td>MI 1</td>\n",
       "      <td>1</td>\n",
       "      <td>23</td>\n",
       "      <td>No</td>\n",
       "      <td>0</td>\n",
       "      <td>0</td>\n",
       "      <td>0</td>\n",
       "      <td>No</td>\n",
       "      <td>0</td>\n",
       "      <td>0</td>\n",
       "      <td>0</td>\n",
       "      <td>0</td>\n",
       "      <td>0</td>\n",
       "      <td>0</td>\n",
       "    </tr>\n",
       "    <tr>\n",
       "      <th>1</th>\n",
       "      <td>MI 2</td>\n",
       "      <td>1</td>\n",
       "      <td>23</td>\n",
       "      <td>No</td>\n",
       "      <td>9</td>\n",
       "      <td>9</td>\n",
       "      <td>0</td>\n",
       "      <td>No</td>\n",
       "      <td>0</td>\n",
       "      <td>0</td>\n",
       "      <td>0</td>\n",
       "      <td>0</td>\n",
       "      <td>0</td>\n",
       "      <td>0</td>\n",
       "    </tr>\n",
       "    <tr>\n",
       "      <th>3</th>\n",
       "      <td>MI 4</td>\n",
       "      <td>2</td>\n",
       "      <td>19</td>\n",
       "      <td>No</td>\n",
       "      <td>0</td>\n",
       "      <td>0</td>\n",
       "      <td>9</td>\n",
       "      <td>No</td>\n",
       "      <td>0</td>\n",
       "      <td>0</td>\n",
       "      <td>0</td>\n",
       "      <td>0</td>\n",
       "      <td>0</td>\n",
       "      <td>0</td>\n",
       "    </tr>\n",
       "    <tr>\n",
       "      <th>4</th>\n",
       "      <td>MI 5</td>\n",
       "      <td>2</td>\n",
       "      <td>59</td>\n",
       "      <td>Intermediate</td>\n",
       "      <td>0</td>\n",
       "      <td>9</td>\n",
       "      <td>0</td>\n",
       "      <td>Intermediate</td>\n",
       "      <td>0</td>\n",
       "      <td>1+</td>\n",
       "      <td>0</td>\n",
       "      <td>0</td>\n",
       "      <td>9</td>\n",
       "      <td>9</td>\n",
       "    </tr>\n",
       "    <tr>\n",
       "      <th>7</th>\n",
       "      <td>MI 8</td>\n",
       "      <td>1</td>\n",
       "      <td>20</td>\n",
       "      <td>Saline Reaction</td>\n",
       "      <td>9</td>\n",
       "      <td>9</td>\n",
       "      <td>9</td>\n",
       "      <td>Saline Reaction</td>\n",
       "      <td>3+</td>\n",
       "      <td>3+</td>\n",
       "      <td>3+</td>\n",
       "      <td>3+</td>\n",
       "      <td>9</td>\n",
       "      <td>9</td>\n",
       "    </tr>\n",
       "  </tbody>\n",
       "</table>\n",
       "</div>"
      ],
      "text/plain": [
       "     ID  Sex  Age at collection time         SPT(=3+)  AR_class  AD_class  \\\n",
       "0  MI 1    1                      23               No         0         0   \n",
       "1  MI 2    1                      23               No         9         9   \n",
       "3  MI 4    2                      19               No         0         0   \n",
       "4  MI 5    2                      59     Intermediate         0         9   \n",
       "7  MI 8    1                      20  Saline Reaction         9         9   \n",
       "\n",
       "   asthma_class          SPT(=0) Der p Blo t Per a Bla g  SPT_int  SPT_0  \n",
       "0             0               No     0     0     0     0        0      0  \n",
       "1             0               No     0     0     0     0        0      0  \n",
       "3             9               No     0     0     0     0        0      0  \n",
       "4             0     Intermediate     0    1+     0     0        9      9  \n",
       "7             9  Saline Reaction    3+    3+    3+    3+        9      9  "
      ]
     },
     "execution_count": 15,
     "metadata": {},
     "output_type": "execute_result"
    }
   ],
   "source": [
    "ours_cc.head()"
   ]
  },
  {
   "cell_type": "code",
   "execution_count": 16,
   "metadata": {},
   "outputs": [
    {
     "name": "stdout",
     "output_type": "stream",
     "text": [
      "1    69\n",
      "9    33\n",
      "0    23\n",
      "Name: SPT_0, dtype: int64\n",
      "[1, 2, 4, 10, 14, 15, 27, 61, 74, 131, 142, 146, 162, 169, 219, 220, 266, 351, 427, 489, 520, 728, 738]\n"
     ]
    }
   ],
   "source": [
    "# Number of controls\n",
    "print(df[\"SPT_0\"].value_counts())\n",
    "# Number of controls = 23\n",
    "\n",
    "# Get the IDs of the SPT negative patients\n",
    "spt_neg = df[df[\"SPT_0\"] == 0]\n",
    "controls = []\n",
    "for i in spt_neg[\"ID\"]:\n",
    "    controls.append(int(i[3:]))\n",
    "    \n",
    "print(controls)"
   ]
  },
  {
   "cell_type": "code",
   "execution_count": 17,
   "metadata": {},
   "outputs": [
    {
     "data": {
      "text/plain": [
       "Text(0, 0.5, 'Number of people')"
      ]
     },
     "execution_count": 17,
     "metadata": {},
     "output_type": "execute_result"
    },
    {
     "data": {
      "image/png": "[encoded data removed]",
      "text/plain": [
       "<Figure size 576x360 with 1 Axes>"
      ]
     },
     "metadata": {},
     "output_type": "display_data"
    }
   ],
   "source": [
    "# Show distribution of age and gender in the population\n",
    "# 1 - Male, 2 - Female\n",
    "from matplotlib.ticker import MaxNLocator\n",
    "\n",
    "sns.set()\n",
    "sns.set_style(\"whitegrid\")\n",
    "\n",
    "ax = pd.crosstab(ours_cc[\"Age at collection time\"], ours_cc[\"Sex\"]).plot.bar()\n",
    "ax.grid(False)\n",
    "sns.despine(ax=ax)\n",
    "plt.legend(labels=[\"Male\", \"Female\"], title=\"Sex\")\n",
    "plt.yticks(range(0,23,2))\n",
    "plt.ylabel(\"Number of people\")\n",
    "\n",
    "# plt.savefig('Figures/pop_distribution.png', dpi=1200)"
   ]
  },
  {
   "cell_type": "markdown",
   "metadata": {},
   "source": [
    "Get some numerical data for table in thesis\n"
   ]
  },
  {
   "cell_type": "code",
   "execution_count": 24,
   "metadata": {},
   "outputs": [
    {
     "data": {
      "text/plain": [
       "Index(['ID', 'Sex', 'Age at collection time', 'SPT(=3+)', 'AR_class',\n",
       "       'AD_class', 'asthma_class', 'SPT(=0)', 'Der p', 'Blo t', 'Per a',\n",
       "       'Bla g', 'SPT_int', 'SPT_0'],\n",
       "      dtype='object')"
      ]
     },
     "execution_count": 24,
     "metadata": {},
     "output_type": "execute_result"
    }
   ],
   "source": [
    "ours_cc.columns"
   ]
  },
  {
   "cell_type": "code",
   "execution_count": 72,
   "metadata": {},
   "outputs": [
    {
     "data": {
      "text/plain": [
       "(33, 14)"
      ]
     },
     "execution_count": 72,
     "metadata": {},
     "output_type": "execute_result"
    }
   ],
   "source": [
    "totest_df = ours_cc[\"SPT_int\"] == 9\n",
    "totest_df = ours_cc[totest_df]\n",
    "totest_df.shape"
   ]
  },
  {
   "cell_type": "code",
   "execution_count": 75,
   "metadata": {},
   "outputs": [
    {
     "name": "stdout",
     "output_type": "stream",
     "text": [
      "0\n",
      "0.0\n"
     ]
    }
   ],
   "source": [
    "metric_df = totest_df['asthma_class'] == 1\n",
    "metric_df = totest_df[metric_df]\n",
    "print(metric_df.shape[0])\n",
    "print(metric_df.shape[0] / totest_df.shape[0])"
   ]
  },
  {
   "cell_type": "code",
   "execution_count": 77,
   "metadata": {},
   "outputs": [
    {
     "name": "stdout",
     "output_type": "stream",
     "text": [
      "7\n",
      "0.21212121212121213\n"
     ]
    }
   ],
   "source": [
    "# Age\n",
    "metric_df = totest_df['Age at collection time'] > 22\n",
    "metric_df = totest_df[metric_df]\n",
    "print(metric_df.shape[0])\n",
    "print(metric_df.shape[0] / totest_df.shape[0])"
   ]
  },
  {
   "cell_type": "code",
   "execution_count": 79,
   "metadata": {},
   "outputs": [
    {
     "name": "stdout",
     "output_type": "stream",
     "text": [
      "22\n",
      "0.6666666666666666\n"
     ]
    }
   ],
   "source": [
    "# Gender\n",
    "metric_df = totest_df['Sex'] == 2\n",
    "metric_df = totest_df[metric_df]\n",
    "print(metric_df.shape[0])\n",
    "print(metric_df.shape[0] / totest_df.shape[0])"
   ]
  },
  {
   "cell_type": "code",
   "execution_count": 85,
   "metadata": {},
   "outputs": [
    {
     "data": {
      "text/plain": [
       "0     73\n",
       "3+    39\n",
       "1+    13\n",
       "Name: Bla g, dtype: int64"
      ]
     },
     "execution_count": 85,
     "metadata": {},
     "output_type": "execute_result"
    }
   ],
   "source": [
    "ours_cc[\"Bla g\"].value_counts()"
   ]
  },
  {
   "cell_type": "code",
   "execution_count": 32,
   "metadata": {},
   "outputs": [
    {
     "data": {
      "text/plain": [
       "0.8"
      ]
     },
     "execution_count": 32,
     "metadata": {},
     "output_type": "execute_result"
    }
   ],
   "source": [
    "7 / 125"
   ]
  },
  {
   "cell_type": "markdown",
   "metadata": {},
   "source": [
    "Look at the distribution for those screened by both me and Malaysia"
   ]
  },
  {
   "cell_type": "code",
   "execution_count": 20,
   "metadata": {},
   "outputs": [
    {
     "data": {
      "text/plain": [
       "1    144\n",
       "9     30\n",
       "0     27\n",
       "Name: SPT_int, dtype: int64"
      ]
     },
     "execution_count": 20,
     "metadata": {},
     "output_type": "execute_result"
    }
   ],
   "source": [
    "to_screen = relv.loc[relv[\"ID\"].isin(sunway_c_id)]\n",
    "to_screen[\"SPT_int\"].value_counts()"
   ]
  },
  {
   "cell_type": "code",
   "execution_count": 21,
   "metadata": {},
   "outputs": [],
   "source": [
    "# Export the file for identification of controls in analysis\n",
    "# ours_cc.to_csv(\"ours_case_control2.csv\", index=False)"
   ]
  }
 ],
 "metadata": {
  "deepnote": {
   "is_reactive": false
  },
  "deepnote_execution_queue": [],
  "deepnote_notebook_id": "c36425a9-2b02-4bf6-a355-1d67fd46793e",
  "kernelspec": {
   "display_name": "Python 3 (ipykernel)",
   "language": "python",
   "name": "python3"
  },
  "language_info": {
   "codemirror_mode": {
    "name": "ipython",
    "version": 3
   },
   "file_extension": ".py",
   "mimetype": "text/x-python",
   "name": "python",
   "nbconvert_exporter": "python",
   "pygments_lexer": "ipython3",
   "version": "3.8.0"
  }
 },
 "nbformat": 4,
 "nbformat_minor": 4
}
