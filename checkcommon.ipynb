{
 "cells": [
  {
   "cell_type": "markdown",
   "source": "## Code to check which Sunway cockroach serum they have screened, and that I can screen. We will look for common elements between both lists",
   "metadata": {
    "cell_id": "7531fa37-82f0-46f7-8094-71604af46f2f",
    "tags": [],
    "deepnote_cell_height": 74.796875,
    "deepnote_cell_type": "markdown"
   }
  },
  {
   "cell_type": "code",
   "metadata": {
    "tags": [],
    "cell_id": "a95a2864-b0ad-4ba8-af3a-6df80bccdae3",
    "deepnote_cell_height": 117,
    "deepnote_to_be_reexecuted": false,
    "source_hash": "2a4103df",
    "execution_start": 1645427652596,
    "execution_millis": 44,
    "deepnote_cell_type": "code"
   },
   "source": "# imports\nimport pandas as pd\nimport numpy as np",
   "execution_count": null,
   "outputs": []
  },
  {
   "cell_type": "code",
   "metadata": {
    "cell_id": "a489b8d7-5a7c-47af-9325-0282f9fa2fd8",
    "tags": [],
    "deepnote_cell_height": 290,
    "deepnote_to_be_reexecuted": false,
    "source_hash": "3c5bccbd",
    "execution_start": 1645427652640,
    "execution_millis": 5501,
    "deepnote_cell_type": "code"
   },
   "source": "# Install openpyxl dependency for pd.ExcelFile\n!pip install openpyxl",
   "execution_count": null,
   "outputs": [
    {
     "name": "stdout",
     "text": "Collecting openpyxl\n  Downloading openpyxl-3.0.9-py2.py3-none-any.whl (242 kB)\n\u001b[K     |████████████████████████████████| 242 kB 21.0 MB/s \n\u001b[?25hCollecting et-xmlfile\n  Downloading et_xmlfile-1.1.0-py3-none-any.whl (4.7 kB)\nInstalling collected packages: et-xmlfile, openpyxl\nSuccessfully installed et-xmlfile-1.1.0 openpyxl-3.0.9\n\u001b[33mWARNING: You are using pip version 20.1.1; however, version 22.0.3 is available.\nYou should consider upgrading via the '/root/venv/bin/python -m pip install --upgrade pip' command.\u001b[0m\n",
     "output_type": "stream"
    }
   ]
  },
  {
   "cell_type": "code",
   "metadata": {
    "cell_id": "cf2d5f32-2729-4933-9c2e-1a8050d16f01",
    "tags": [],
    "deepnote_cell_height": 81,
    "deepnote_to_be_reexecuted": false,
    "source_hash": "b559b8d1",
    "execution_start": 1645427658147,
    "execution_millis": 365,
    "deepnote_cell_type": "code"
   },
   "source": "xls = pd.ExcelFile(\"Sunway_Cockroach.xlsx\")",
   "execution_count": null,
   "outputs": []
  },
  {
   "cell_type": "code",
   "metadata": {
    "cell_id": "8aabeaae-ba05-4a45-9b01-45ee3a651a74",
    "tags": [],
    "deepnote_cell_height": 632.796875,
    "deepnote_to_be_reexecuted": false,
    "source_hash": "d3015034",
    "execution_start": 1645427658532,
    "execution_millis": 1069,
    "deepnote_table_state": {
     "pageSize": 10,
     "pageIndex": 1,
     "filters": [],
     "sortBy": []
    },
    "deepnote_table_loading": false,
    "deepnote_cell_type": "code"
   },
   "source": "sunway_c = pd.read_excel(xls, 'Compile')\nsunway_c",
   "execution_count": null,
   "outputs": [
    {
     "output_type": "execute_result",
     "execution_count": 4,
     "data": {
      "application/vnd.deepnote.dataframe.v3+json": {
       "column_count": 206,
       "row_count": 92,
       "columns": [
        {
         "name": "Average intensity",
         "dtype": "object",
         "stats": {
          "unique_count": 83,
          "nan_count": 7,
          "categories": [
           {
            "name": "1x PBS",
            "count": 3
           },
           {
            "name": "82 others",
            "count": 82
           },
           {
            "name": "Missing",
            "count": 7
           }
          ]
         }
        },
        {
         "name": "Unnamed: 1",
         "dtype": "object",
         "stats": {
          "unique_count": 81,
          "nan_count": 2,
          "categories": [
           {
            "name": "0",
            "count": 8
           },
           {
            "name": "80 others",
            "count": 82
           },
           {
            "name": "Missing",
            "count": 2
           }
          ]
         }
        },
        {
         "name": "1x PBS",
         "dtype": "object",
         "stats": {
          "unique_count": 87,
          "nan_count": 4,
          "categories": [
           {
            "name": "MI 408",
            "count": 2
           },
           {
            "name": "86 others",
            "count": 86
           },
           {
            "name": "Missing",
            "count": 4
           }
          ]
         }
        },
        {
         "name": "Unnamed: 3",
         "dtype": "object",
         "stats": {
          "unique_count": 84,
          "nan_count": 4,
          "categories": [
           {
            "name": "0",
            "count": 4
           },
           {
            "name": "83 others",
            "count": 84
           },
           {
            "name": "Missing",
            "count": 4
           }
          ]
         }
        },
        {
         "name": "Unnamed: 4",
         "dtype": "object",
         "stats": {
          "unique_count": 87,
          "nan_count": 4,
          "categories": [
           {
            "name": "MI 566",
            "count": 2
           },
           {
            "name": "86 others",
            "count": 86
           },
           {
            "name": "Missing",
            "count": 4
           }
          ]
         }
        },
        {
         "name": "Unnamed: 5",
         "dtype": "object",
         "stats": {
          "unique_count": 57,
          "nan_count": 2,
          "categories": [
           {
            "name": "0",
            "count": 32
           },
           {
            "name": "56 others",
            "count": 58
           },
           {
            "name": "Missing",
            "count": 2
           }
          ]
         }
        },
        {
         "name": "Unnamed: 6",
         "dtype": "object",
         "stats": {
          "unique_count": 74,
          "nan_count": 4,
          "categories": [
           {
            "name": "0",
            "count": 14
           },
           {
            "name": "73 others",
            "count": 74
           },
           {
            "name": "Missing",
            "count": 4
           }
          ]
         }
        },
        {
         "name": "Unnamed: 7",
         "dtype": "object",
         "stats": {
          "unique_count": 53,
          "nan_count": 4,
          "categories": [
           {
            "name": "0",
            "count": 35
           },
           {
            "name": "52 others",
            "count": 53
           },
           {
            "name": "Missing",
            "count": 4
           }
          ]
         }
        },
        {
         "name": "Unnamed: 8",
         "dtype": "object",
         "stats": {
          "unique_count": 51,
          "nan_count": 4,
          "categories": [
           {
            "name": "0",
            "count": 37
           },
           {
            "name": "50 others",
            "count": 51
           },
           {
            "name": "Missing",
            "count": 4
           }
          ]
         }
        },
        {
         "name": "Unnamed: 9",
         "dtype": "object",
         "stats": {
          "unique_count": 69,
          "nan_count": 4,
          "categories": [
           {
            "name": "0",
            "count": 19
           },
           {
            "name": "68 others",
            "count": 69
           },
           {
            "name": "Missing",
            "count": 4
           }
          ]
         }
        },
        {
         "name": "Unnamed: 10",
         "dtype": "object",
         "stats": {
          "unique_count": 38,
          "nan_count": 4,
          "categories": [
           {
            "name": "0",
            "count": 50
           },
           {
            "name": "37 others",
            "count": 38
           },
           {
            "name": "Missing",
            "count": 4
           }
          ]
         }
        },
        {
         "name": "Unnamed: 11",
         "dtype": "object",
         "stats": {
          "unique_count": 45,
          "nan_count": 4,
          "categories": [
           {
            "name": "0",
            "count": 43
           },
           {
            "name": "44 others",
            "count": 45
           },
           {
            "name": "Missing",
            "count": 4
           }
          ]
         }
        },
        {
         "name": "Unnamed: 12",
         "dtype": "object",
         "stats": {
          "unique_count": 43,
          "nan_count": 4,
          "categories": [
           {
            "name": "0",
            "count": 45
           },
           {
            "name": "42 others",
            "count": 43
           },
           {
            "name": "Missing",
            "count": 4
           }
          ]
         }
        },
        {
         "name": "Unnamed: 13",
         "dtype": "object",
         "stats": {
          "unique_count": 56,
          "nan_count": 4,
          "categories": [
           {
            "name": "0",
            "count": 32
           },
           {
            "name": "55 others",
            "count": 56
           },
           {
            "name": "Missing",
            "count": 4
           }
          ]
         }
        },
        {
         "name": "Unnamed: 14",
         "dtype": "object",
         "stats": {
          "unique_count": 68,
          "nan_count": 4,
          "categories": [
           {
            "name": "0",
            "count": 20
           },
           {
            "name": "67 others",
            "count": 68
           },
           {
            "name": "Missing",
            "count": 4
           }
          ]
         }
        },
        {
         "name": "Unnamed: 15",
         "dtype": "object",
         "stats": {
          "unique_count": 63,
          "nan_count": 4,
          "categories": [
           {
            "name": "0",
            "count": 25
           },
           {
            "name": "62 others",
            "count": 63
           },
           {
            "name": "Missing",
            "count": 4
           }
          ]
         }
        },
        {
         "name": "Unnamed: 16",
         "dtype": "object",
         "stats": {
          "unique_count": 65,
          "nan_count": 4,
          "categories": [
           {
            "name": "0",
            "count": 23
           },
           {
            "name": "64 others",
            "count": 65
           },
           {
            "name": "Missing",
            "count": 4
           }
          ]
         }
        },
        {
         "name": "Unnamed: 17",
         "dtype": "object",
         "stats": {
          "unique_count": 78,
          "nan_count": 4,
          "categories": [
           {
            "name": "0",
            "count": 10
           },
           {
            "name": "77 others",
            "count": 78
           },
           {
            "name": "Missing",
            "count": 4
           }
          ]
         }
        },
        {
         "name": "Unnamed: 18",
         "dtype": "object",
         "stats": {
          "unique_count": 56,
          "nan_count": 17,
          "categories": [
           {
            "name": "0",
            "count": 19
           },
           {
            "name": "55 others",
            "count": 56
           },
           {
            "name": "Missing",
            "count": 17
           }
          ]
         }
        },
        {
         "name": "Unnamed: 19",
         "dtype": "object",
         "stats": {
          "unique_count": 74,
          "nan_count": 17,
          "categories": [
           {
            "name": "MI 217",
            "count": 2
           },
           {
            "name": "73 others",
            "count": 73
           },
           {
            "name": "Missing",
            "count": 17
           }
          ]
         }
        },
        {
         "name": "Unnamed: 20",
         "dtype": "object",
         "stats": {
          "unique_count": 63,
          "nan_count": 17,
          "categories": [
           {
            "name": "0",
            "count": 12
           },
           {
            "name": "62 others",
            "count": 63
           },
           {
            "name": "Missing",
            "count": 17
           }
          ]
         }
        },
        {
         "name": "Unnamed: 21",
         "dtype": "object",
         "stats": {
          "unique_count": 50,
          "nan_count": 17,
          "categories": [
           {
            "name": "0",
            "count": 25
           },
           {
            "name": "49 others",
            "count": 50
           },
           {
            "name": "Missing",
            "count": 17
           }
          ]
         }
        },
        {
         "name": "Unnamed: 22",
         "dtype": "object",
         "stats": {
          "unique_count": 57,
          "nan_count": 17,
          "categories": [
           {
            "name": "0",
            "count": 18
           },
           {
            "name": "56 others",
            "count": 57
           },
           {
            "name": "Missing",
            "count": 17
           }
          ]
         }
        },
        {
         "name": "Unnamed: 23",
         "dtype": "object",
         "stats": {
          "unique_count": 78,
          "nan_count": 4,
          "categories": [
           {
            "name": "0",
            "count": 10
           },
           {
            "name": "77 others",
            "count": 78
           },
           {
            "name": "Missing",
            "count": 4
           }
          ]
         }
        },
        {
         "name": "Unnamed: 24",
         "dtype": "object",
         "stats": {
          "unique_count": 64,
          "nan_count": 6,
          "categories": [
           {
            "name": "0",
            "count": 22
           },
           {
            "name": "63 others",
            "count": 64
           },
           {
            "name": "Missing",
            "count": 6
           }
          ]
         }
        },
        {
         "name": "Unnamed: 25",
         "dtype": "object",
         "stats": {
          "unique_count": 60,
          "nan_count": 15,
          "categories": [
           {
            "name": "0",
            "count": 16
           },
           {
            "name": "59 others",
            "count": 61
           },
           {
            "name": "Missing",
            "count": 15
           }
          ]
         }
        },
        {
         "name": "Unnamed: 26",
         "dtype": "object",
         "stats": {
          "unique_count": 39,
          "nan_count": 17,
          "categories": [
           {
            "name": "0",
            "count": 36
           },
           {
            "name": "38 others",
            "count": 39
           },
           {
            "name": "Missing",
            "count": 17
           }
          ]
         }
        },
        {
         "name": "Unnamed: 27",
         "dtype": "object",
         "stats": {
          "unique_count": 52,
          "nan_count": 17,
          "categories": [
           {
            "name": "0",
            "count": 23
           },
           {
            "name": "51 others",
            "count": 52
           },
           {
            "name": "Missing",
            "count": 17
           }
          ]
         }
        },
        {
         "name": "Unnamed: 28",
         "dtype": "object",
         "stats": {
          "unique_count": 70,
          "nan_count": 17,
          "categories": [
           {
            "name": "0",
            "count": 5
           },
           {
            "name": "69 others",
            "count": 70
           },
           {
            "name": "Missing",
            "count": 17
           }
          ]
         }
        },
        {
         "name": "Unnamed: 29",
         "dtype": "object",
         "stats": {
          "unique_count": 74,
          "nan_count": 17,
          "categories": [
           {
            "name": "MI 387",
            "count": 2
           },
           {
            "name": "73 others",
            "count": 73
           },
           {
            "name": "Missing",
            "count": 17
           }
          ]
         }
        },
        {
         "name": "Unnamed: 30",
         "dtype": "object",
         "stats": {
          "unique_count": 39,
          "nan_count": 17,
          "categories": [
           {
            "name": "0",
            "count": 36
           },
           {
            "name": "38 others",
            "count": 39
           },
           {
            "name": "Missing",
            "count": 17
           }
          ]
         }
        },
        {
         "name": "Unnamed: 31",
         "dtype": "object",
         "stats": {
          "unique_count": 59,
          "nan_count": 17,
          "categories": [
           {
            "name": "0",
            "count": 16
           },
           {
            "name": "58 others",
            "count": 59
           },
           {
            "name": "Missing",
            "count": 17
           }
          ]
         }
        },
        {
         "name": "Unnamed: 32",
         "dtype": "object",
         "stats": {
          "unique_count": 37,
          "nan_count": 17,
          "categories": [
           {
            "name": "0",
            "count": 38
           },
           {
            "name": "36 others",
            "count": 37
           },
           {
            "name": "Missing",
            "count": 17
           }
          ]
         }
        },
        {
         "name": "Unnamed: 33",
         "dtype": "object",
         "stats": {
          "unique_count": 43,
          "nan_count": 17,
          "categories": [
           {
            "name": "0",
            "count": 32
           },
           {
            "name": "42 others",
            "count": 43
           },
           {
            "name": "Missing",
            "count": 17
           }
          ]
         }
        },
        {
         "name": "Unnamed: 34",
         "dtype": "object",
         "stats": {
          "unique_count": 42,
          "nan_count": 17,
          "categories": [
           {
            "name": "0",
            "count": 33
           },
           {
            "name": "41 others",
            "count": 42
           },
           {
            "name": "Missing",
            "count": 17
           }
          ]
         }
        },
        {
         "name": "Unnamed: 35",
         "dtype": "object",
         "stats": {
          "unique_count": 51,
          "nan_count": 17,
          "categories": [
           {
            "name": "0",
            "count": 24
           },
           {
            "name": "50 others",
            "count": 51
           },
           {
            "name": "Missing",
            "count": 17
           }
          ]
         }
        },
        {
         "name": "Unnamed: 36",
         "dtype": "object",
         "stats": {
          "unique_count": 43,
          "nan_count": 17,
          "categories": [
           {
            "name": "0",
            "count": 32
           },
           {
            "name": "42 others",
            "count": 43
           },
           {
            "name": "Missing",
            "count": 17
           }
          ]
         }
        },
        {
         "name": "Unnamed: 37",
         "dtype": "object",
         "stats": {
          "unique_count": 43,
          "nan_count": 17,
          "categories": [
           {
            "name": "0",
            "count": 32
           },
           {
            "name": "42 others",
            "count": 43
           },
           {
            "name": "Missing",
            "count": 17
           }
          ]
         }
        },
        {
         "name": "Unnamed: 38",
         "dtype": "object",
         "stats": {
          "unique_count": 48,
          "nan_count": 17,
          "categories": [
           {
            "name": "0",
            "count": 27
           },
           {
            "name": "47 others",
            "count": 48
           },
           {
            "name": "Missing",
            "count": 17
           }
          ]
         }
        },
        {
         "name": "Unnamed: 39",
         "dtype": "object",
         "stats": {
          "unique_count": 47,
          "nan_count": 15,
          "categories": [
           {
            "name": "0",
            "count": 29
           },
           {
            "name": "46 others",
            "count": 48
           },
           {
            "name": "Missing",
            "count": 15
           }
          ]
         }
        },
        {
         "name": "Unnamed: 40",
         "dtype": "object",
         "stats": {
          "unique_count": 40,
          "nan_count": 17,
          "categories": [
           {
            "name": "0",
            "count": 35
           },
           {
            "name": "39 others",
            "count": 40
           },
           {
            "name": "Missing",
            "count": 17
           }
          ]
         }
        },
        {
         "name": "Unnamed: 41",
         "dtype": "object",
         "stats": {
          "unique_count": 54,
          "nan_count": 17,
          "categories": [
           {
            "name": "0",
            "count": 21
           },
           {
            "name": "53 others",
            "count": 54
           },
           {
            "name": "Missing",
            "count": 17
           }
          ]
         }
        },
        {
         "name": "Unnamed: 42",
         "dtype": "object",
         "stats": {
          "unique_count": 46,
          "nan_count": 17,
          "categories": [
           {
            "name": "0",
            "count": 29
           },
           {
            "name": "45 others",
            "count": 46
           },
           {
            "name": "Missing",
            "count": 17
           }
          ]
         }
        },
        {
         "name": "Unnamed: 43",
         "dtype": "object",
         "stats": {
          "unique_count": 46,
          "nan_count": 17,
          "categories": [
           {
            "name": "0",
            "count": 29
           },
           {
            "name": "45 others",
            "count": 46
           },
           {
            "name": "Missing",
            "count": 17
           }
          ]
         }
        },
        {
         "name": "Unnamed: 44",
         "dtype": "object",
         "stats": {
          "unique_count": 38,
          "nan_count": 17,
          "categories": [
           {
            "name": "0",
            "count": 37
           },
           {
            "name": "37 others",
            "count": 38
           },
           {
            "name": "Missing",
            "count": 17
           }
          ]
         }
        },
        {
         "name": "Unnamed: 45",
         "dtype": "object",
         "stats": {
          "unique_count": 53,
          "nan_count": 17,
          "categories": [
           {
            "name": "0",
            "count": 22
           },
           {
            "name": "52 others",
            "count": 53
           },
           {
            "name": "Missing",
            "count": 17
           }
          ]
         }
        },
        {
         "name": "Unnamed: 46",
         "dtype": "object",
         "stats": {
          "unique_count": 42,
          "nan_count": 17,
          "categories": [
           {
            "name": "0",
            "count": 33
           },
           {
            "name": "41 others",
            "count": 42
           },
           {
            "name": "Missing",
            "count": 17
           }
          ]
         }
        },
        {
         "name": "Unnamed: 47",
         "dtype": "object",
         "stats": {
          "unique_count": 42,
          "nan_count": 17,
          "categories": [
           {
            "name": "0",
            "count": 33
           },
           {
            "name": "41 others",
            "count": 42
           },
           {
            "name": "Missing",
            "count": 17
           }
          ]
         }
        },
        {
         "name": "Unnamed: 48",
         "dtype": "object",
         "stats": {
          "unique_count": 42,
          "nan_count": 17,
          "categories": [
           {
            "name": "0",
            "count": 33
           },
           {
            "name": "41 others",
            "count": 42
           },
           {
            "name": "Missing",
            "count": 17
           }
          ]
         }
        },
        {
         "name": "Unnamed: 49",
         "dtype": "object",
         "stats": {
          "unique_count": 31,
          "nan_count": 17,
          "categories": [
           {
            "name": "0",
            "count": 44
           },
           {
            "name": "30 others",
            "count": 31
           },
           {
            "name": "Missing",
            "count": 17
           }
          ]
         }
        },
        {
         "name": "Unnamed: 50",
         "dtype": "object",
         "stats": {
          "unique_count": 52,
          "nan_count": 17,
          "categories": [
           {
            "name": "0",
            "count": 23
           },
           {
            "name": "51 others",
            "count": 52
           },
           {
            "name": "Missing",
            "count": 17
           }
          ]
         }
        },
        {
         "name": "Unnamed: 51",
         "dtype": "object",
         "stats": {
          "unique_count": 44,
          "nan_count": 17,
          "categories": [
           {
            "name": "0",
            "count": 31
           },
           {
            "name": "43 others",
            "count": 44
           },
           {
            "name": "Missing",
            "count": 17
           }
          ]
         }
        },
        {
         "name": "Unnamed: 52",
         "dtype": "object",
         "stats": {
          "unique_count": 42,
          "nan_count": 17,
          "categories": [
           {
            "name": "0",
            "count": 33
           },
           {
            "name": "41 others",
            "count": 42
           },
           {
            "name": "Missing",
            "count": 17
           }
          ]
         }
        },
        {
         "name": "Unnamed: 53",
         "dtype": "object",
         "stats": {
          "unique_count": 32,
          "nan_count": 17,
          "categories": [
           {
            "name": "0",
            "count": 43
           },
           {
            "name": "31 others",
            "count": 32
           },
           {
            "name": "Missing",
            "count": 17
           }
          ]
         }
        },
        {
         "name": "Unnamed: 54",
         "dtype": "object",
         "stats": {
          "unique_count": 58,
          "nan_count": 17,
          "categories": [
           {
            "name": "0",
            "count": 17
           },
           {
            "name": "57 others",
            "count": 58
           },
           {
            "name": "Missing",
            "count": 17
           }
          ]
         }
        },
        {
         "name": "Unnamed: 55",
         "dtype": "object",
         "stats": {
          "unique_count": 51,
          "nan_count": 17,
          "categories": [
           {
            "name": "0",
            "count": 24
           },
           {
            "name": "50 others",
            "count": 51
           },
           {
            "name": "Missing",
            "count": 17
           }
          ]
         }
        },
        {
         "name": "Unnamed: 56",
         "dtype": "object",
         "stats": {
          "unique_count": 45,
          "nan_count": 17,
          "categories": [
           {
            "name": "0",
            "count": 30
           },
           {
            "name": "44 others",
            "count": 45
           },
           {
            "name": "Missing",
            "count": 17
           }
          ]
         }
        },
        {
         "name": "Unnamed: 57",
         "dtype": "object",
         "stats": {
          "unique_count": 43,
          "nan_count": 17,
          "categories": [
           {
            "name": "0",
            "count": 32
           },
           {
            "name": "42 others",
            "count": 43
           },
           {
            "name": "Missing",
            "count": 17
           }
          ]
         }
        },
        {
         "name": "Unnamed: 58",
         "dtype": "object",
         "stats": {
          "unique_count": 55,
          "nan_count": 17,
          "categories": [
           {
            "name": "0",
            "count": 20
           },
           {
            "name": "54 others",
            "count": 55
           },
           {
            "name": "Missing",
            "count": 17
           }
          ]
         }
        },
        {
         "name": "Unnamed: 59",
         "dtype": "object",
         "stats": {
          "unique_count": 51,
          "nan_count": 15,
          "categories": [
           {
            "name": "0",
            "count": 25
           },
           {
            "name": "50 others",
            "count": 52
           },
           {
            "name": "Missing",
            "count": 15
           }
          ]
         }
        },
        {
         "name": "Unnamed: 60",
         "dtype": "object",
         "stats": {
          "unique_count": 51,
          "nan_count": 17,
          "categories": [
           {
            "name": "0",
            "count": 24
           },
           {
            "name": "50 others",
            "count": 51
           },
           {
            "name": "Missing",
            "count": 17
           }
          ]
         }
        },
        {
         "name": "Unnamed: 61",
         "dtype": "object",
         "stats": {
          "unique_count": 48,
          "nan_count": 17,
          "categories": [
           {
            "name": "0",
            "count": 27
           },
           {
            "name": "47 others",
            "count": 48
           },
           {
            "name": "Missing",
            "count": 17
           }
          ]
         }
        },
        {
         "name": "Unnamed: 62",
         "dtype": "object",
         "stats": {
          "unique_count": 47,
          "nan_count": 17,
          "categories": [
           {
            "name": "0",
            "count": 28
           },
           {
            "name": "46 others",
            "count": 47
           },
           {
            "name": "Missing",
            "count": 17
           }
          ]
         }
        },
        {
         "name": "Unnamed: 63",
         "dtype": "object",
         "stats": {
          "unique_count": 42,
          "nan_count": 17,
          "categories": [
           {
            "name": "0",
            "count": 33
           },
           {
            "name": "41 others",
            "count": 42
           },
           {
            "name": "Missing",
            "count": 17
           }
          ]
         }
        },
        {
         "name": "Unnamed: 64",
         "dtype": "object",
         "stats": {
          "unique_count": 49,
          "nan_count": 17,
          "categories": [
           {
            "name": "0",
            "count": 26
           },
           {
            "name": "48 others",
            "count": 49
           },
           {
            "name": "Missing",
            "count": 17
           }
          ]
         }
        },
        {
         "name": "Unnamed: 65",
         "dtype": "object",
         "stats": {
          "unique_count": 42,
          "nan_count": 17,
          "categories": [
           {
            "name": "0",
            "count": 33
           },
           {
            "name": "41 others",
            "count": 42
           },
           {
            "name": "Missing",
            "count": 17
           }
          ]
         }
        },
        {
         "name": "Unnamed: 66",
         "dtype": "object",
         "stats": {
          "unique_count": 35,
          "nan_count": 17,
          "categories": [
           {
            "name": "0",
            "count": 40
           },
           {
            "name": "34 others",
            "count": 35
           },
           {
            "name": "Missing",
            "count": 17
           }
          ]
         }
        },
        {
         "name": "Unnamed: 67",
         "dtype": "object",
         "stats": {
          "unique_count": 40,
          "nan_count": 17,
          "categories": [
           {
            "name": "0",
            "count": 35
           },
           {
            "name": "39 others",
            "count": 40
           },
           {
            "name": "Missing",
            "count": 17
           }
          ]
         }
        },
        {
         "name": "Unnamed: 68",
         "dtype": "object",
         "stats": {
          "unique_count": 49,
          "nan_count": 17,
          "categories": [
           {
            "name": "0",
            "count": 26
           },
           {
            "name": "48 others",
            "count": 49
           },
           {
            "name": "Missing",
            "count": 17
           }
          ]
         }
        },
        {
         "name": "Unnamed: 69",
         "dtype": "object",
         "stats": {
          "unique_count": 45,
          "nan_count": 17,
          "categories": [
           {
            "name": "0",
            "count": 30
           },
           {
            "name": "44 others",
            "count": 45
           },
           {
            "name": "Missing",
            "count": 17
           }
          ]
         }
        },
        {
         "name": "Unnamed: 70",
         "dtype": "object",
         "stats": {
          "unique_count": 47,
          "nan_count": 17,
          "categories": [
           {
            "name": "0",
            "count": 28
           },
           {
            "name": "46 others",
            "count": 47
           },
           {
            "name": "Missing",
            "count": 17
           }
          ]
         }
        },
        {
         "name": "Unnamed: 71",
         "dtype": "object",
         "stats": {
          "unique_count": 45,
          "nan_count": 17,
          "categories": [
           {
            "name": "0",
            "count": 30
           },
           {
            "name": "44 others",
            "count": 45
           },
           {
            "name": "Missing",
            "count": 17
           }
          ]
         }
        },
        {
         "name": "Unnamed: 72",
         "dtype": "object",
         "stats": {
          "unique_count": 42,
          "nan_count": 17,
          "categories": [
           {
            "name": "0",
            "count": 33
           },
           {
            "name": "41 others",
            "count": 42
           },
           {
            "name": "Missing",
            "count": 17
           }
          ]
         }
        },
        {
         "name": "Unnamed: 73",
         "dtype": "object",
         "stats": {
          "unique_count": 50,
          "nan_count": 17,
          "categories": [
           {
            "name": "0",
            "count": 25
           },
           {
            "name": "49 others",
            "count": 50
           },
           {
            "name": "Missing",
            "count": 17
           }
          ]
         }
        },
        {
         "name": "Unnamed: 74",
         "dtype": "object",
         "stats": {
          "unique_count": 50,
          "nan_count": 17,
          "categories": [
           {
            "name": "0",
            "count": 25
           },
           {
            "name": "49 others",
            "count": 50
           },
           {
            "name": "Missing",
            "count": 17
           }
          ]
         }
        },
        {
         "name": "Unnamed: 75",
         "dtype": "object",
         "stats": {
          "unique_count": 43,
          "nan_count": 17,
          "categories": [
           {
            "name": "0",
            "count": 32
           },
           {
            "name": "42 others",
            "count": 43
           },
           {
            "name": "Missing",
            "count": 17
           }
          ]
         }
        },
        {
         "name": "Unnamed: 76",
         "dtype": "object",
         "stats": {
          "unique_count": 47,
          "nan_count": 17,
          "categories": [
           {
            "name": "0",
            "count": 28
           },
           {
            "name": "46 others",
            "count": 47
           },
           {
            "name": "Missing",
            "count": 17
           }
          ]
         }
        },
        {
         "name": "Unnamed: 77",
         "dtype": "object",
         "stats": {
          "unique_count": 50,
          "nan_count": 17,
          "categories": [
           {
            "name": "0",
            "count": 25
           },
           {
            "name": "49 others",
            "count": 50
           },
           {
            "name": "Missing",
            "count": 17
           }
          ]
         }
        },
        {
         "name": "Unnamed: 78",
         "dtype": "object",
         "stats": {
          "unique_count": 43,
          "nan_count": 17,
          "categories": [
           {
            "name": "0",
            "count": 32
           },
           {
            "name": "42 others",
            "count": 43
           },
           {
            "name": "Missing",
            "count": 17
           }
          ]
         }
        },
        {
         "name": "Unnamed: 79",
         "dtype": "object",
         "stats": {
          "unique_count": 63,
          "nan_count": 15,
          "categories": [
           {
            "name": "0",
            "count": 13
           },
           {
            "name": "62 others",
            "count": 64
           },
           {
            "name": "Missing",
            "count": 15
           }
          ]
         }
        },
        {
         "name": "Unnamed: 80",
         "dtype": "object",
         "stats": {
          "unique_count": 70,
          "nan_count": 17,
          "categories": [
           {
            "name": "0",
            "count": 5
           },
           {
            "name": "69 others",
            "count": 70
           },
           {
            "name": "Missing",
            "count": 17
           }
          ]
         }
        },
        {
         "name": "Unnamed: 81",
         "dtype": "object",
         "stats": {
          "unique_count": 68,
          "nan_count": 17,
          "categories": [
           {
            "name": "0",
            "count": 7
           },
           {
            "name": "67 others",
            "count": 68
           },
           {
            "name": "Missing",
            "count": 17
           }
          ]
         }
        },
        {
         "name": "Unnamed: 82",
         "dtype": "object",
         "stats": {
          "unique_count": 74,
          "nan_count": 17,
          "categories": [
           {
            "name": "MI 319",
            "count": 2
           },
           {
            "name": "73 others",
            "count": 73
           },
           {
            "name": "Missing",
            "count": 17
           }
          ]
         }
        },
        {
         "name": "Unnamed: 83",
         "dtype": "object",
         "stats": {
          "unique_count": 73,
          "nan_count": 17,
          "categories": [
           {
            "name": "MI 327",
            "count": 2
           },
           {
            "name": "72 others",
            "count": 73
           },
           {
            "name": "Missing",
            "count": 17
           }
          ]
         }
        },
        {
         "name": "Unnamed: 84",
         "dtype": "object",
         "stats": {
          "unique_count": 74,
          "nan_count": 17,
          "categories": [
           {
            "name": "MI 345",
            "count": 2
           },
           {
            "name": "73 others",
            "count": 73
           },
           {
            "name": "Missing",
            "count": 17
           }
          ]
         }
        },
        {
         "name": "Unnamed: 85",
         "dtype": "object",
         "stats": {
          "unique_count": 56,
          "nan_count": 17,
          "categories": [
           {
            "name": "0",
            "count": 19
           },
           {
            "name": "55 others",
            "count": 56
           },
           {
            "name": "Missing",
            "count": 17
           }
          ]
         }
        },
        {
         "name": "Unnamed: 86",
         "dtype": "object",
         "stats": {
          "unique_count": 72,
          "nan_count": 17,
          "categories": [
           {
            "name": "0",
            "count": 3
           },
           {
            "name": "71 others",
            "count": 72
           },
           {
            "name": "Missing",
            "count": 17
           }
          ]
         }
        },
        {
         "name": "Unnamed: 87",
         "dtype": "object",
         "stats": {
          "unique_count": 62,
          "nan_count": 17,
          "categories": [
           {
            "name": "0",
            "count": 13
           },
           {
            "name": "61 others",
            "count": 62
           },
           {
            "name": "Missing",
            "count": 17
           }
          ]
         }
        },
        {
         "name": "Unnamed: 88",
         "dtype": "object",
         "stats": {
          "unique_count": 60,
          "nan_count": 17,
          "categories": [
           {
            "name": "0",
            "count": 15
           },
           {
            "name": "59 others",
            "count": 60
           },
           {
            "name": "Missing",
            "count": 17
           }
          ]
         }
        },
        {
         "name": "Unnamed: 89",
         "dtype": "object",
         "stats": {
          "unique_count": 57,
          "nan_count": 17,
          "categories": [
           {
            "name": "0",
            "count": 18
           },
           {
            "name": "56 others",
            "count": 57
           },
           {
            "name": "Missing",
            "count": 17
           }
          ]
         }
        },
        {
         "name": "Unnamed: 90",
         "dtype": "object",
         "stats": {
          "unique_count": 47,
          "nan_count": 17,
          "categories": [
           {
            "name": "0",
            "count": 28
           },
           {
            "name": "46 others",
            "count": 47
           },
           {
            "name": "Missing",
            "count": 17
           }
          ]
         }
        },
        {
         "name": "Unnamed: 91",
         "dtype": "object",
         "stats": {
          "unique_count": 49,
          "nan_count": 17,
          "categories": [
           {
            "name": "0",
            "count": 26
           },
           {
            "name": "48 others",
            "count": 49
           },
           {
            "name": "Missing",
            "count": 17
           }
          ]
         }
        },
        {
         "name": "Unnamed: 92",
         "dtype": "object",
         "stats": {
          "unique_count": 45,
          "nan_count": 17,
          "categories": [
           {
            "name": "0",
            "count": 30
           },
           {
            "name": "44 others",
            "count": 45
           },
           {
            "name": "Missing",
            "count": 17
           }
          ]
         }
        },
        {
         "name": "Unnamed: 93",
         "dtype": "object",
         "stats": {
          "unique_count": 49,
          "nan_count": 17,
          "categories": [
           {
            "name": "0",
            "count": 26
           },
           {
            "name": "48 others",
            "count": 49
           },
           {
            "name": "Missing",
            "count": 17
           }
          ]
         }
        },
        {
         "name": "Unnamed: 94",
         "dtype": "object",
         "stats": {
          "unique_count": 53,
          "nan_count": 17,
          "categories": [
           {
            "name": "0",
            "count": 22
           },
           {
            "name": "52 others",
            "count": 53
           },
           {
            "name": "Missing",
            "count": 17
           }
          ]
         }
        },
        {
         "name": "Unnamed: 95",
         "dtype": "object",
         "stats": {
          "unique_count": 56,
          "nan_count": 17,
          "categories": [
           {
            "name": "0",
            "count": 19
           },
           {
            "name": "55 others",
            "count": 56
           },
           {
            "name": "Missing",
            "count": 17
           }
          ]
         }
        },
        {
         "name": "Unnamed: 96",
         "dtype": "object",
         "stats": {
          "unique_count": 65,
          "nan_count": 17,
          "categories": [
           {
            "name": "0",
            "count": 10
           },
           {
            "name": "64 others",
            "count": 65
           },
           {
            "name": "Missing",
            "count": 17
           }
          ]
         }
        },
        {
         "name": "Unnamed: 97",
         "dtype": "object",
         "stats": {
          "unique_count": 68,
          "nan_count": 17,
          "categories": [
           {
            "name": "0",
            "count": 7
           },
           {
            "name": "67 others",
            "count": 68
           },
           {
            "name": "Missing",
            "count": 17
           }
          ]
         }
        },
        {
         "name": "Unnamed: 98",
         "dtype": "object",
         "stats": {
          "unique_count": 74,
          "nan_count": 17,
          "categories": [
           {
            "name": "MI 739",
            "count": 2
           },
           {
            "name": "73 others",
            "count": 73
           },
           {
            "name": "Missing",
            "count": 17
           }
          ]
         }
        },
        {
         "name": "Unnamed: 99",
         "dtype": "object",
         "stats": {
          "unique_count": 57,
          "nan_count": 15,
          "categories": [
           {
            "name": "0",
            "count": 19
           },
           {
            "name": "56 others",
            "count": 58
           },
           {
            "name": "Missing",
            "count": 15
           }
          ]
         }
        },
        {
         "name": "Unnamed: 100",
         "dtype": "object",
         "stats": {
          "unique_count": 71,
          "nan_count": 17,
          "categories": [
           {
            "name": "0",
            "count": 4
           },
           {
            "name": "70 others",
            "count": 71
           },
           {
            "name": "Missing",
            "count": 17
           }
          ]
         }
        },
        {
         "name": "Unnamed: 101",
         "dtype": "object",
         "stats": {
          "unique_count": 50,
          "nan_count": 17,
          "categories": [
           {
            "name": "0",
            "count": 25
           },
           {
            "name": "49 others",
            "count": 50
           },
           {
            "name": "Missing",
            "count": 17
           }
          ]
         }
        },
        {
         "name": "Unnamed: 102",
         "dtype": "object",
         "stats": {
          "unique_count": 65,
          "nan_count": 17,
          "categories": [
           {
            "name": "0",
            "count": 10
           },
           {
            "name": "64 others",
            "count": 65
           },
           {
            "name": "Missing",
            "count": 17
           }
          ]
         }
        },
        {
         "name": "Unnamed: 103",
         "dtype": "object",
         "stats": {
          "unique_count": 53,
          "nan_count": 17,
          "categories": [
           {
            "name": "0",
            "count": 22
           },
           {
            "name": "52 others",
            "count": 53
           },
           {
            "name": "Missing",
            "count": 17
           }
          ]
         }
        },
        {
         "name": "Unnamed: 104",
         "dtype": "object",
         "stats": {
          "unique_count": 68,
          "nan_count": 17,
          "categories": [
           {
            "name": "0",
            "count": 7
           },
           {
            "name": "67 others",
            "count": 68
           },
           {
            "name": "Missing",
            "count": 17
           }
          ]
         }
        },
        {
         "name": "Unnamed: 105",
         "dtype": "object",
         "stats": {
          "unique_count": 49,
          "nan_count": 17,
          "categories": [
           {
            "name": "0",
            "count": 26
           },
           {
            "name": "48 others",
            "count": 49
           },
           {
            "name": "Missing",
            "count": 17
           }
          ]
         }
        },
        {
         "name": "Unnamed: 106",
         "dtype": "object",
         "stats": {
          "unique_count": 60,
          "nan_count": 17,
          "categories": [
           {
            "name": "0",
            "count": 15
           },
           {
            "name": "59 others",
            "count": 60
           },
           {
            "name": "Missing",
            "count": 17
           }
          ]
         }
        },
        {
         "name": "Unnamed: 107",
         "dtype": "object",
         "stats": {
          "unique_count": 68,
          "nan_count": 17,
          "categories": [
           {
            "name": "0",
            "count": 7
           },
           {
            "name": "67 others",
            "count": 68
           },
           {
            "name": "Missing",
            "count": 17
           }
          ]
         }
        },
        {
         "name": "Unnamed: 108",
         "dtype": "object",
         "stats": {
          "unique_count": 51,
          "nan_count": 17,
          "categories": [
           {
            "name": "0",
            "count": 24
           },
           {
            "name": "50 others",
            "count": 51
           },
           {
            "name": "Missing",
            "count": 17
           }
          ]
         }
        },
        {
         "name": "Unnamed: 109",
         "dtype": "object",
         "stats": {
          "unique_count": 57,
          "nan_count": 17,
          "categories": [
           {
            "name": "0",
            "count": 18
           },
           {
            "name": "56 others",
            "count": 57
           },
           {
            "name": "Missing",
            "count": 17
           }
          ]
         }
        },
        {
         "name": "Unnamed: 110",
         "dtype": "object",
         "stats": {
          "unique_count": 53,
          "nan_count": 17,
          "categories": [
           {
            "name": "0",
            "count": 22
           },
           {
            "name": "52 others",
            "count": 53
           },
           {
            "name": "Missing",
            "count": 17
           }
          ]
         }
        },
        {
         "name": "Unnamed: 111",
         "dtype": "object",
         "stats": {
          "unique_count": 51,
          "nan_count": 17,
          "categories": [
           {
            "name": "0",
            "count": 24
           },
           {
            "name": "50 others",
            "count": 51
           },
           {
            "name": "Missing",
            "count": 17
           }
          ]
         }
        },
        {
         "name": "Unnamed: 112",
         "dtype": "object",
         "stats": {
          "unique_count": 51,
          "nan_count": 17,
          "categories": [
           {
            "name": "0",
            "count": 24
           },
           {
            "name": "50 others",
            "count": 51
           },
           {
            "name": "Missing",
            "count": 17
           }
          ]
         }
        },
        {
         "name": "Unnamed: 113",
         "dtype": "object",
         "stats": {
          "unique_count": 62,
          "nan_count": 17,
          "categories": [
           {
            "name": "0",
            "count": 13
           },
           {
            "name": "61 others",
            "count": 62
           },
           {
            "name": "Missing",
            "count": 17
           }
          ]
         }
        },
        {
         "name": "Unnamed: 114",
         "dtype": "object",
         "stats": {
          "unique_count": 55,
          "nan_count": 17,
          "categories": [
           {
            "name": "0",
            "count": 19
           },
           {
            "name": "54 others",
            "count": 56
           },
           {
            "name": "Missing",
            "count": 17
           }
          ]
         }
        },
        {
         "name": "Unnamed: 115",
         "dtype": "object",
         "stats": {
          "unique_count": 52,
          "nan_count": 17,
          "categories": [
           {
            "name": "0",
            "count": 23
           },
           {
            "name": "51 others",
            "count": 52
           },
           {
            "name": "Missing",
            "count": 17
           }
          ]
         }
        },
        {
         "name": "Unnamed: 116",
         "dtype": "object",
         "stats": {
          "unique_count": 57,
          "nan_count": 17,
          "categories": [
           {
            "name": "0",
            "count": 18
           },
           {
            "name": "56 others",
            "count": 57
           },
           {
            "name": "Missing",
            "count": 17
           }
          ]
         }
        },
        {
         "name": "Unnamed: 117",
         "dtype": "object",
         "stats": {
          "unique_count": 55,
          "nan_count": 17,
          "categories": [
           {
            "name": "0",
            "count": 20
           },
           {
            "name": "54 others",
            "count": 55
           },
           {
            "name": "Missing",
            "count": 17
           }
          ]
         }
        },
        {
         "name": "Unnamed: 118",
         "dtype": "object",
         "stats": {
          "unique_count": 53,
          "nan_count": 17,
          "categories": [
           {
            "name": "0",
            "count": 22
           },
           {
            "name": "52 others",
            "count": 53
           },
           {
            "name": "Missing",
            "count": 17
           }
          ]
         }
        },
        {
         "name": "Unnamed: 119",
         "dtype": "object",
         "stats": {
          "unique_count": 45,
          "nan_count": 15,
          "categories": [
           {
            "name": "0",
            "count": 31
           },
           {
            "name": "44 others",
            "count": 46
           },
           {
            "name": "Missing",
            "count": 15
           }
          ]
         }
        },
        {
         "name": "Unnamed: 120",
         "dtype": "object",
         "stats": {
          "unique_count": 46,
          "nan_count": 17,
          "categories": [
           {
            "name": "0",
            "count": 29
           },
           {
            "name": "45 others",
            "count": 46
           },
           {
            "name": "Missing",
            "count": 17
           }
          ]
         }
        },
        {
         "name": "Unnamed: 121",
         "dtype": "object",
         "stats": {
          "unique_count": 43,
          "nan_count": 17,
          "categories": [
           {
            "name": "0",
            "count": 32
           },
           {
            "name": "42 others",
            "count": 43
           },
           {
            "name": "Missing",
            "count": 17
           }
          ]
         }
        },
        {
         "name": "Unnamed: 122",
         "dtype": "object",
         "stats": {
          "unique_count": 57,
          "nan_count": 17,
          "categories": [
           {
            "name": "0",
            "count": 18
           },
           {
            "name": "56 others",
            "count": 57
           },
           {
            "name": "Missing",
            "count": 17
           }
          ]
         }
        },
        {
         "name": "Unnamed: 123",
         "dtype": "object",
         "stats": {
          "unique_count": 65,
          "nan_count": 17,
          "categories": [
           {
            "name": "0",
            "count": 10
           },
           {
            "name": "64 others",
            "count": 65
           },
           {
            "name": "Missing",
            "count": 17
           }
          ]
         }
        },
        {
         "name": "Unnamed: 124",
         "dtype": "object",
         "stats": {
          "unique_count": 64,
          "nan_count": 17,
          "categories": [
           {
            "name": "0",
            "count": 11
           },
           {
            "name": "63 others",
            "count": 64
           },
           {
            "name": "Missing",
            "count": 17
           }
          ]
         }
        },
        {
         "name": "Unnamed: 125",
         "dtype": "object",
         "stats": {
          "unique_count": 54,
          "nan_count": 17,
          "categories": [
           {
            "name": "0",
            "count": 21
           },
           {
            "name": "53 others",
            "count": 54
           },
           {
            "name": "Missing",
            "count": 17
           }
          ]
         }
        },
        {
         "name": "Unnamed: 126",
         "dtype": "object",
         "stats": {
          "unique_count": 60,
          "nan_count": 17,
          "categories": [
           {
            "name": "0",
            "count": 15
           },
           {
            "name": "59 others",
            "count": 60
           },
           {
            "name": "Missing",
            "count": 17
           }
          ]
         }
        },
        {
         "name": "Unnamed: 127",
         "dtype": "object",
         "stats": {
          "unique_count": 46,
          "nan_count": 17,
          "categories": [
           {
            "name": "0",
            "count": 29
           },
           {
            "name": "45 others",
            "count": 46
           },
           {
            "name": "Missing",
            "count": 17
           }
          ]
         }
        },
        {
         "name": "Unnamed: 128",
         "dtype": "object",
         "stats": {
          "unique_count": 42,
          "nan_count": 17,
          "categories": [
           {
            "name": "0",
            "count": 33
           },
           {
            "name": "41 others",
            "count": 42
           },
           {
            "name": "Missing",
            "count": 17
           }
          ]
         }
        },
        {
         "name": "Unnamed: 129",
         "dtype": "object",
         "stats": {
          "unique_count": 39,
          "nan_count": 17,
          "categories": [
           {
            "name": "0",
            "count": 36
           },
           {
            "name": "38 others",
            "count": 39
           },
           {
            "name": "Missing",
            "count": 17
           }
          ]
         }
        },
        {
         "name": "Unnamed: 130",
         "dtype": "object",
         "stats": {
          "unique_count": 48,
          "nan_count": 17,
          "categories": [
           {
            "name": "0",
            "count": 27
           },
           {
            "name": "47 others",
            "count": 48
           },
           {
            "name": "Missing",
            "count": 17
           }
          ]
         }
        },
        {
         "name": "Unnamed: 131",
         "dtype": "object",
         "stats": {
          "unique_count": 43,
          "nan_count": 17,
          "categories": [
           {
            "name": "0",
            "count": 32
           },
           {
            "name": "42 others",
            "count": 43
           },
           {
            "name": "Missing",
            "count": 17
           }
          ]
         }
        },
        {
         "name": "Unnamed: 132",
         "dtype": "object",
         "stats": {
          "unique_count": 44,
          "nan_count": 17,
          "categories": [
           {
            "name": "0",
            "count": 31
           },
           {
            "name": "43 others",
            "count": 44
           },
           {
            "name": "Missing",
            "count": 17
           }
          ]
         }
        },
        {
         "name": "Unnamed: 133",
         "dtype": "object",
         "stats": {
          "unique_count": 40,
          "nan_count": 17,
          "categories": [
           {
            "name": "0",
            "count": 35
           },
           {
            "name": "39 others",
            "count": 40
           },
           {
            "name": "Missing",
            "count": 17
           }
          ]
         }
        },
        {
         "name": "Unnamed: 134",
         "dtype": "object",
         "stats": {
          "unique_count": 44,
          "nan_count": 17,
          "categories": [
           {
            "name": "0",
            "count": 31
           },
           {
            "name": "43 others",
            "count": 44
           },
           {
            "name": "Missing",
            "count": 17
           }
          ]
         }
        },
        {
         "name": "Unnamed: 135",
         "dtype": "object",
         "stats": {
          "unique_count": 40,
          "nan_count": 17,
          "categories": [
           {
            "name": "0",
            "count": 35
           },
           {
            "name": "39 others",
            "count": 40
           },
           {
            "name": "Missing",
            "count": 17
           }
          ]
         }
        },
        {
         "name": "Unnamed: 136",
         "dtype": "object",
         "stats": {
          "unique_count": 55,
          "nan_count": 17,
          "categories": [
           {
            "name": "0",
            "count": 20
           },
           {
            "name": "54 others",
            "count": 55
           },
           {
            "name": "Missing",
            "count": 17
           }
          ]
         }
        },
        {
         "name": "Unnamed: 137",
         "dtype": "object",
         "stats": {
          "unique_count": 54,
          "nan_count": 17,
          "categories": [
           {
            "name": "0",
            "count": 21
           },
           {
            "name": "53 others",
            "count": 54
           },
           {
            "name": "Missing",
            "count": 17
           }
          ]
         }
        },
        {
         "name": "Unnamed: 138",
         "dtype": "object",
         "stats": {
          "unique_count": 36,
          "nan_count": 17,
          "categories": [
           {
            "name": "0",
            "count": 39
           },
           {
            "name": "35 others",
            "count": 36
           },
           {
            "name": "Missing",
            "count": 17
           }
          ]
         }
        },
        {
         "name": "Unnamed: 139",
         "dtype": "object",
         "stats": {
          "unique_count": 44,
          "nan_count": 17,
          "categories": [
           {
            "name": "0",
            "count": 31
           },
           {
            "name": "43 others",
            "count": 44
           },
           {
            "name": "Missing",
            "count": 17
           }
          ]
         }
        },
        {
         "name": "Unnamed: 140",
         "dtype": "object",
         "stats": {
          "unique_count": 42,
          "nan_count": 17,
          "categories": [
           {
            "name": "0",
            "count": 33
           },
           {
            "name": "41 others",
            "count": 42
           },
           {
            "name": "Missing",
            "count": 17
           }
          ]
         }
        },
        {
         "name": "Unnamed: 141",
         "dtype": "object",
         "stats": {
          "unique_count": 54,
          "nan_count": 17,
          "categories": [
           {
            "name": "0",
            "count": 21
           },
           {
            "name": "53 others",
            "count": 54
           },
           {
            "name": "Missing",
            "count": 17
           }
          ]
         }
        },
        {
         "name": "Unnamed: 142",
         "dtype": "object",
         "stats": {
          "unique_count": 41,
          "nan_count": 17,
          "categories": [
           {
            "name": "0",
            "count": 34
           },
           {
            "name": "40 others",
            "count": 41
           },
           {
            "name": "Missing",
            "count": 17
           }
          ]
         }
        },
        {
         "name": "Unnamed: 143",
         "dtype": "object",
         "stats": {
          "unique_count": 65,
          "nan_count": 15,
          "categories": [
           {
            "name": "0",
            "count": 11
           },
           {
            "name": "64 others",
            "count": 66
           },
           {
            "name": "Missing",
            "count": 15
           }
          ]
         }
        },
        {
         "name": "Unnamed: 144",
         "dtype": "object",
         "stats": {
          "unique_count": 65,
          "nan_count": 17,
          "categories": [
           {
            "name": "0",
            "count": 10
           },
           {
            "name": "64 others",
            "count": 65
           },
           {
            "name": "Missing",
            "count": 17
           }
          ]
         }
        },
        {
         "name": "Unnamed: 145",
         "dtype": "object",
         "stats": {
          "unique_count": 51,
          "nan_count": 17,
          "categories": [
           {
            "name": "0",
            "count": 24
           },
           {
            "name": "50 others",
            "count": 51
           },
           {
            "name": "Missing",
            "count": 17
           }
          ]
         }
        },
        {
         "name": "Unnamed: 146",
         "dtype": "object",
         "stats": {
          "unique_count": 48,
          "nan_count": 17,
          "categories": [
           {
            "name": "0",
            "count": 27
           },
           {
            "name": "47 others",
            "count": 48
           },
           {
            "name": "Missing",
            "count": 17
           }
          ]
         }
        },
        {
         "name": "Unnamed: 147",
         "dtype": "object",
         "stats": {
          "unique_count": 54,
          "nan_count": 17,
          "categories": [
           {
            "name": "0",
            "count": 21
           },
           {
            "name": "53 others",
            "count": 54
           },
           {
            "name": "Missing",
            "count": 17
           }
          ]
         }
        },
        {
         "name": "Unnamed: 148",
         "dtype": "object",
         "stats": {
          "unique_count": 52,
          "nan_count": 17,
          "categories": [
           {
            "name": "0",
            "count": 23
           },
           {
            "name": "51 others",
            "count": 52
           },
           {
            "name": "Missing",
            "count": 17
           }
          ]
         }
        },
        {
         "name": "Unnamed: 149",
         "dtype": "object",
         "stats": {
          "unique_count": 49,
          "nan_count": 17,
          "categories": [
           {
            "name": "0",
            "count": 26
           },
           {
            "name": "48 others",
            "count": 49
           },
           {
            "name": "Missing",
            "count": 17
           }
          ]
         }
        },
        {
         "name": "Unnamed: 150",
         "dtype": "object",
         "stats": {
          "unique_count": 62,
          "nan_count": 17,
          "categories": [
           {
            "name": "0",
            "count": 13
           },
           {
            "name": "61 others",
            "count": 62
           },
           {
            "name": "Missing",
            "count": 17
           }
          ]
         }
        },
        {
         "name": "Unnamed: 151",
         "dtype": "object",
         "stats": {
          "unique_count": 55,
          "nan_count": 17,
          "categories": [
           {
            "name": "0",
            "count": 20
           },
           {
            "name": "54 others",
            "count": 55
           },
           {
            "name": "Missing",
            "count": 17
           }
          ]
         }
        },
        {
         "name": "Unnamed: 152",
         "dtype": "object",
         "stats": {
          "unique_count": 52,
          "nan_count": 17,
          "categories": [
           {
            "name": "0",
            "count": 23
           },
           {
            "name": "51 others",
            "count": 52
           },
           {
            "name": "Missing",
            "count": 17
           }
          ]
         }
        },
        {
         "name": "Unnamed: 153",
         "dtype": "object",
         "stats": {
          "unique_count": 62,
          "nan_count": 17,
          "categories": [
           {
            "name": "0",
            "count": 13
           },
           {
            "name": "61 others",
            "count": 62
           },
           {
            "name": "Missing",
            "count": 17
           }
          ]
         }
        },
        {
         "name": "Unnamed: 154",
         "dtype": "object",
         "stats": {
          "unique_count": 73,
          "nan_count": 17,
          "categories": [
           {
            "name": "MI 391",
            "count": 2
           },
           {
            "name": "72 others",
            "count": 73
           },
           {
            "name": "Missing",
            "count": 17
           }
          ]
         }
        },
        {
         "name": "Unnamed: 155",
         "dtype": "object",
         "stats": {
          "unique_count": 74,
          "nan_count": 17,
          "categories": [
           {
            "name": "MI 400",
            "count": 2
           },
           {
            "name": "73 others",
            "count": 73
           },
           {
            "name": "Missing",
            "count": 17
           }
          ]
         }
        },
        {
         "name": "Unnamed: 156",
         "dtype": "object",
         "stats": {
          "unique_count": 74,
          "nan_count": 17,
          "categories": [
           {
            "name": "MI 414",
            "count": 2
           },
           {
            "name": "73 others",
            "count": 73
           },
           {
            "name": "Missing",
            "count": 17
           }
          ]
         }
        },
        {
         "name": "Unnamed: 157",
         "dtype": "object",
         "stats": {
          "unique_count": 70,
          "nan_count": 17,
          "categories": [
           {
            "name": "0",
            "count": 5
           },
           {
            "name": "69 others",
            "count": 70
           },
           {
            "name": "Missing",
            "count": 17
           }
          ]
         }
        },
        {
         "name": "Unnamed: 158",
         "dtype": "object",
         "stats": {
          "unique_count": 43,
          "nan_count": 17,
          "categories": [
           {
            "name": "0",
            "count": 32
           },
           {
            "name": "42 others",
            "count": 43
           },
           {
            "name": "Missing",
            "count": 17
           }
          ]
         }
        },
        {
         "name": "Unnamed: 159",
         "dtype": "object",
         "stats": {
          "unique_count": 51,
          "nan_count": 17,
          "categories": [
           {
            "name": "0",
            "count": 24
           },
           {
            "name": "50 others",
            "count": 51
           },
           {
            "name": "Missing",
            "count": 17
           }
          ]
         }
        },
        {
         "name": "Unnamed: 160",
         "dtype": "object",
         "stats": {
          "unique_count": 45,
          "nan_count": 17,
          "categories": [
           {
            "name": "0",
            "count": 30
           },
           {
            "name": "44 others",
            "count": 45
           },
           {
            "name": "Missing",
            "count": 17
           }
          ]
         }
        },
        {
         "name": "Unnamed: 161",
         "dtype": "object",
         "stats": {
          "unique_count": 46,
          "nan_count": 17,
          "categories": [
           {
            "name": "0",
            "count": 29
           },
           {
            "name": "45 others",
            "count": 46
           },
           {
            "name": "Missing",
            "count": 17
           }
          ]
         }
        },
        {
         "name": "Unnamed: 162",
         "dtype": "object",
         "stats": {
          "unique_count": 47,
          "nan_count": 17,
          "categories": [
           {
            "name": "0",
            "count": 28
           },
           {
            "name": "46 others",
            "count": 47
           },
           {
            "name": "Missing",
            "count": 17
           }
          ]
         }
        },
        {
         "name": "Unnamed: 163",
         "dtype": "object",
         "stats": {
          "unique_count": 44,
          "nan_count": 17,
          "categories": [
           {
            "name": "0",
            "count": 31
           },
           {
            "name": "43 others",
            "count": 44
           },
           {
            "name": "Missing",
            "count": 17
           }
          ]
         }
        },
        {
         "name": "Unnamed: 164",
         "dtype": "object",
         "stats": {
          "unique_count": 61,
          "nan_count": 17,
          "categories": [
           {
            "name": "0",
            "count": 14
           },
           {
            "name": "60 others",
            "count": 61
           },
           {
            "name": "Missing",
            "count": 17
           }
          ]
         }
        },
        {
         "name": "Unnamed: 165",
         "dtype": "object",
         "stats": {
          "unique_count": 58,
          "nan_count": 17,
          "categories": [
           {
            "name": "0",
            "count": 17
           },
           {
            "name": "57 others",
            "count": 58
           },
           {
            "name": "Missing",
            "count": 17
           }
          ]
         }
        },
        {
         "name": "Unnamed: 166",
         "dtype": "object",
         "stats": {
          "unique_count": 53,
          "nan_count": 17,
          "categories": [
           {
            "name": "0",
            "count": 22
           },
           {
            "name": "52 others",
            "count": 53
           },
           {
            "name": "Missing",
            "count": 17
           }
          ]
         }
        },
        {
         "name": "Unnamed: 167",
         "dtype": "object",
         "stats": {
          "unique_count": 46,
          "nan_count": 17,
          "categories": [
           {
            "name": "0",
            "count": 29
           },
           {
            "name": "45 others",
            "count": 46
           },
           {
            "name": "Missing",
            "count": 17
           }
          ]
         }
        },
        {
         "name": "Unnamed: 168",
         "dtype": "object",
         "stats": {
          "unique_count": 46,
          "nan_count": 17,
          "categories": [
           {
            "name": "0",
            "count": 29
           },
           {
            "name": "45 others",
            "count": 46
           },
           {
            "name": "Missing",
            "count": 17
           }
          ]
         }
        },
        {
         "name": "Unnamed: 169",
         "dtype": "object",
         "stats": {
          "unique_count": 57,
          "nan_count": 17,
          "categories": [
           {
            "name": "0",
            "count": 18
           },
           {
            "name": "56 others",
            "count": 57
           },
           {
            "name": "Missing",
            "count": 17
           }
          ]
         }
        },
        {
         "name": "Unnamed: 170",
         "dtype": "object",
         "stats": {
          "unique_count": 46,
          "nan_count": 17,
          "categories": [
           {
            "name": "0",
            "count": 29
           },
           {
            "name": "45 others",
            "count": 46
           },
           {
            "name": "Missing",
            "count": 17
           }
          ]
         }
        },
        {
         "name": "Unnamed: 171",
         "dtype": "object",
         "stats": {
          "unique_count": 48,
          "nan_count": 17,
          "categories": [
           {
            "name": "0",
            "count": 27
           },
           {
            "name": "47 others",
            "count": 48
           },
           {
            "name": "Missing",
            "count": 17
           }
          ]
         }
        },
        {
         "name": "Unnamed: 172",
         "dtype": "object",
         "stats": {
          "unique_count": 51,
          "nan_count": 17,
          "categories": [
           {
            "name": "0",
            "count": 24
           },
           {
            "name": "50 others",
            "count": 51
           },
           {
            "name": "Missing",
            "count": 17
           }
          ]
         }
        },
        {
         "name": "Unnamed: 173",
         "dtype": "object",
         "stats": {
          "unique_count": 70,
          "nan_count": 15,
          "categories": [
           {
            "name": "0",
            "count": 6
           },
           {
            "name": "69 others",
            "count": 71
           },
           {
            "name": "Missing",
            "count": 15
           }
          ]
         }
        },
        {
         "name": "Unnamed: 174",
         "dtype": "object",
         "stats": {
          "unique_count": 74,
          "nan_count": 17,
          "categories": [
           {
            "name": "MI 37",
            "count": 2
           },
           {
            "name": "73 others",
            "count": 73
           },
           {
            "name": "Missing",
            "count": 17
           }
          ]
         }
        },
        {
         "name": "Unnamed: 175",
         "dtype": "object",
         "stats": {
          "unique_count": 74,
          "nan_count": 17,
          "categories": [
           {
            "name": "MI 39",
            "count": 2
           },
           {
            "name": "73 others",
            "count": 73
           },
           {
            "name": "Missing",
            "count": 17
           }
          ]
         }
        },
        {
         "name": "Unnamed: 176",
         "dtype": "object",
         "stats": {
          "unique_count": 49,
          "nan_count": 17,
          "categories": [
           {
            "name": "0",
            "count": 26
           },
           {
            "name": "48 others",
            "count": 49
           },
           {
            "name": "Missing",
            "count": 17
           }
          ]
         }
        },
        {
         "name": "Unnamed: 177",
         "dtype": "object",
         "stats": {
          "unique_count": 43,
          "nan_count": 17,
          "categories": [
           {
            "name": "0",
            "count": 32
           },
           {
            "name": "42 others",
            "count": 43
           },
           {
            "name": "Missing",
            "count": 17
           }
          ]
         }
        },
        {
         "name": "Unnamed: 178",
         "dtype": "object",
         "stats": {
          "unique_count": 44,
          "nan_count": 17,
          "categories": [
           {
            "name": "0",
            "count": 31
           },
           {
            "name": "43 others",
            "count": 44
           },
           {
            "name": "Missing",
            "count": 17
           }
          ]
         }
        },
        {
         "name": "Unnamed: 179",
         "dtype": "object",
         "stats": {
          "unique_count": 56,
          "nan_count": 17,
          "categories": [
           {
            "name": "0",
            "count": 19
           },
           {
            "name": "55 others",
            "count": 56
           },
           {
            "name": "Missing",
            "count": 17
           }
          ]
         }
        },
        {
         "name": "Unnamed: 180",
         "dtype": "object",
         "stats": {
          "unique_count": 59,
          "nan_count": 17,
          "categories": [
           {
            "name": "0",
            "count": 16
           },
           {
            "name": "58 others",
            "count": 59
           },
           {
            "name": "Missing",
            "count": 17
           }
          ]
         }
        },
        {
         "name": "Unnamed: 181",
         "dtype": "object",
         "stats": {
          "unique_count": 72,
          "nan_count": 17,
          "categories": [
           {
            "name": "0",
            "count": 3
           },
           {
            "name": "71 others",
            "count": 72
           },
           {
            "name": "Missing",
            "count": 17
           }
          ]
         }
        },
        {
         "name": "Unnamed: 182",
         "dtype": "object",
         "stats": {
          "unique_count": 45,
          "nan_count": 17,
          "categories": [
           {
            "name": "0",
            "count": 30
           },
           {
            "name": "44 others",
            "count": 45
           },
           {
            "name": "Missing",
            "count": 17
           }
          ]
         }
        },
        {
         "name": "Unnamed: 183",
         "dtype": "object",
         "stats": {
          "unique_count": 45,
          "nan_count": 17,
          "categories": [
           {
            "name": "0",
            "count": 30
           },
           {
            "name": "44 others",
            "count": 45
           },
           {
            "name": "Missing",
            "count": 17
           }
          ]
         }
        },
        {
         "name": "Unnamed: 184",
         "dtype": "object",
         "stats": {
          "unique_count": 48,
          "nan_count": 17,
          "categories": [
           {
            "name": "0",
            "count": 27
           },
           {
            "name": "47 others",
            "count": 48
           },
           {
            "name": "Missing",
            "count": 17
           }
          ]
         }
        },
        {
         "name": "Unnamed: 185",
         "dtype": "object",
         "stats": {
          "unique_count": 46,
          "nan_count": 17,
          "categories": [
           {
            "name": "0",
            "count": 29
           },
           {
            "name": "45 others",
            "count": 46
           },
           {
            "name": "Missing",
            "count": 17
           }
          ]
         }
        },
        {
         "name": "Unnamed: 186",
         "dtype": "object",
         "stats": {
          "unique_count": 53,
          "nan_count": 17,
          "categories": [
           {
            "name": "0",
            "count": 22
           },
           {
            "name": "52 others",
            "count": 53
           },
           {
            "name": "Missing",
            "count": 17
           }
          ]
         }
        },
        {
         "name": "Unnamed: 187",
         "dtype": "object",
         "stats": {
          "unique_count": 50,
          "nan_count": 17,
          "categories": [
           {
            "name": "0",
            "count": 25
           },
           {
            "name": "49 others",
            "count": 50
           },
           {
            "name": "Missing",
            "count": 17
           }
          ]
         }
        },
        {
         "name": "Unnamed: 188",
         "dtype": "object",
         "stats": {
          "unique_count": 45,
          "nan_count": 17,
          "categories": [
           {
            "name": "0",
            "count": 30
           },
           {
            "name": "44 others",
            "count": 45
           },
           {
            "name": "Missing",
            "count": 17
           }
          ]
         }
        },
        {
         "name": "Unnamed: 189",
         "dtype": "object",
         "stats": {
          "unique_count": 50,
          "nan_count": 17,
          "categories": [
           {
            "name": "0",
            "count": 25
           },
           {
            "name": "49 others",
            "count": 50
           },
           {
            "name": "Missing",
            "count": 17
           }
          ]
         }
        },
        {
         "name": "Unnamed: 190",
         "dtype": "object",
         "stats": {
          "unique_count": 58,
          "nan_count": 17,
          "categories": [
           {
            "name": "0",
            "count": 17
           },
           {
            "name": "57 others",
            "count": 58
           },
           {
            "name": "Missing",
            "count": 17
           }
          ]
         }
        },
        {
         "name": "Unnamed: 191",
         "dtype": "object",
         "stats": {
          "unique_count": 55,
          "nan_count": 17,
          "categories": [
           {
            "name": "0",
            "count": 20
           },
           {
            "name": "54 others",
            "count": 55
           },
           {
            "name": "Missing",
            "count": 17
           }
          ]
         }
        },
        {
         "name": "Unnamed: 192",
         "dtype": "object",
         "stats": {
          "unique_count": 61,
          "nan_count": 17,
          "categories": [
           {
            "name": "0",
            "count": 14
           },
           {
            "name": "60 others",
            "count": 61
           },
           {
            "name": "Missing",
            "count": 17
           }
          ]
         }
        },
        {
         "name": "Unnamed: 193",
         "dtype": "object",
         "stats": {
          "unique_count": 51,
          "nan_count": 17,
          "categories": [
           {
            "name": "0",
            "count": 24
           },
           {
            "name": "50 others",
            "count": 51
           },
           {
            "name": "Missing",
            "count": 17
           }
          ]
         }
        },
        {
         "name": "Unnamed: 194",
         "dtype": "object",
         "stats": {
          "unique_count": 59,
          "nan_count": 17,
          "categories": [
           {
            "name": "0",
            "count": 16
           },
           {
            "name": "58 others",
            "count": 59
           },
           {
            "name": "Missing",
            "count": 17
           }
          ]
         }
        },
        {
         "name": "Unnamed: 195",
         "dtype": "object",
         "stats": {
          "unique_count": 50,
          "nan_count": 17,
          "categories": [
           {
            "name": "0",
            "count": 25
           },
           {
            "name": "49 others",
            "count": 50
           },
           {
            "name": "Missing",
            "count": 17
           }
          ]
         }
        },
        {
         "name": "Unnamed: 196",
         "dtype": "object",
         "stats": {
          "unique_count": 69,
          "nan_count": 17,
          "categories": [
           {
            "name": "0",
            "count": 6
           },
           {
            "name": "68 others",
            "count": 69
           },
           {
            "name": "Missing",
            "count": 17
           }
          ]
         }
        },
        {
         "name": "Unnamed: 197",
         "dtype": "object",
         "stats": {
          "unique_count": 46,
          "nan_count": 17,
          "categories": [
           {
            "name": "0",
            "count": 29
           },
           {
            "name": "45 others",
            "count": 46
           },
           {
            "name": "Missing",
            "count": 17
           }
          ]
         }
        },
        {
         "name": "Unnamed: 198",
         "dtype": "object",
         "stats": {
          "unique_count": 62,
          "nan_count": 17,
          "categories": [
           {
            "name": "0",
            "count": 13
           },
           {
            "name": "61 others",
            "count": 62
           },
           {
            "name": "Missing",
            "count": 17
           }
          ]
         }
        },
        {
         "name": "Unnamed: 199",
         "dtype": "object",
         "stats": {
          "unique_count": 64,
          "nan_count": 17,
          "categories": [
           {
            "name": "0",
            "count": 11
           },
           {
            "name": "63 others",
            "count": 64
           },
           {
            "name": "Missing",
            "count": 17
           }
          ]
         }
        },
        {
         "name": "Unnamed: 200",
         "dtype": "object",
         "stats": {
          "unique_count": 53,
          "nan_count": 17,
          "categories": [
           {
            "name": "0",
            "count": 22
           },
           {
            "name": "52 others",
            "count": 53
           },
           {
            "name": "Missing",
            "count": 17
           }
          ]
         }
        },
        {
         "name": "Unnamed: 201",
         "dtype": "object",
         "stats": {
          "unique_count": 61,
          "nan_count": 17,
          "categories": [
           {
            "name": "0",
            "count": 14
           },
           {
            "name": "60 others",
            "count": 61
           },
           {
            "name": "Missing",
            "count": 17
           }
          ]
         }
        },
        {
         "name": "Unnamed: 202",
         "dtype": "object",
         "stats": {
          "unique_count": 54,
          "nan_count": 17,
          "categories": [
           {
            "name": "0",
            "count": 21
           },
           {
            "name": "53 others",
            "count": 54
           },
           {
            "name": "Missing",
            "count": 17
           }
          ]
         }
        },
        {
         "name": "Unnamed: 203",
         "dtype": "float64",
         "stats": {
          "unique_count": 0,
          "nan_count": 92,
          "min": null,
          "max": null,
          "histogram": [
           {
            "bin_start": 0,
            "bin_end": 0.1,
            "count": 0
           },
           {
            "bin_start": 0.1,
            "bin_end": 0.2,
            "count": 0
           },
           {
            "bin_start": 0.2,
            "bin_end": 0.30000000000000004,
            "count": 0
           },
           {
            "bin_start": 0.30000000000000004,
            "bin_end": 0.4,
            "count": 0
           },
           {
            "bin_start": 0.4,
            "bin_end": 0.5,
            "count": 0
           },
           {
            "bin_start": 0.5,
            "bin_end": 0.6000000000000001,
            "count": 0
           },
           {
            "bin_start": 0.6000000000000001,
            "bin_end": 0.7000000000000001,
            "count": 0
           },
           {
            "bin_start": 0.7000000000000001,
            "bin_end": 0.8,
            "count": 0
           },
           {
            "bin_start": 0.8,
            "bin_end": 0.9,
            "count": 0
           },
           {
            "bin_start": 0.9,
            "bin_end": 1,
            "count": 0
           }
          ]
         }
        },
        {
         "name": "Unnamed: 204",
         "dtype": "float64",
         "stats": {
          "unique_count": 0,
          "nan_count": 92,
          "min": null,
          "max": null,
          "histogram": [
           {
            "bin_start": 0,
            "bin_end": 0.1,
            "count": 0
           },
           {
            "bin_start": 0.1,
            "bin_end": 0.2,
            "count": 0
           },
           {
            "bin_start": 0.2,
            "bin_end": 0.30000000000000004,
            "count": 0
           },
           {
            "bin_start": 0.30000000000000004,
            "bin_end": 0.4,
            "count": 0
           },
           {
            "bin_start": 0.4,
            "bin_end": 0.5,
            "count": 0
           },
           {
            "bin_start": 0.5,
            "bin_end": 0.6000000000000001,
            "count": 0
           },
           {
            "bin_start": 0.6000000000000001,
            "bin_end": 0.7000000000000001,
            "count": 0
           },
           {
            "bin_start": 0.7000000000000001,
            "bin_end": 0.8,
            "count": 0
           },
           {
            "bin_start": 0.8,
            "bin_end": 0.9,
            "count": 0
           },
           {
            "bin_start": 0.9,
            "bin_end": 1,
            "count": 0
           }
          ]
         }
        },
        {
         "name": "Unnamed: 205",
         "dtype": "float64",
         "stats": {
          "unique_count": 0,
          "nan_count": 92,
          "min": null,
          "max": null,
          "histogram": [
           {
            "bin_start": 0,
            "bin_end": 0.1,
            "count": 0
           },
           {
            "bin_start": 0.1,
            "bin_end": 0.2,
            "count": 0
           },
           {
            "bin_start": 0.2,
            "bin_end": 0.30000000000000004,
            "count": 0
           },
           {
            "bin_start": 0.30000000000000004,
            "bin_end": 0.4,
            "count": 0
           },
           {
            "bin_start": 0.4,
            "bin_end": 0.5,
            "count": 0
           },
           {
            "bin_start": 0.5,
            "bin_end": 0.6000000000000001,
            "count": 0
           },
           {
            "bin_start": 0.6000000000000001,
            "bin_end": 0.7000000000000001,
            "count": 0
           },
           {
            "bin_start": 0.7000000000000001,
            "bin_end": 0.8,
            "count": 0
           },
           {
            "bin_start": 0.8,
            "bin_end": 0.9,
            "count": 0
           },
           {
            "bin_start": 0.9,
            "bin_end": 1,
            "count": 0
           }
          ]
         }
        },
        {
         "name": "_deepnote_index_column",
         "dtype": "int64"
        }
       ],
       "rows": [
        {
         "Average intensity": "1x PBS",
         "Unnamed: 1": "2327205",
         "1x PBS": "4131570",
         "Unnamed: 3": "5233130",
         "Unnamed: 4": "9061335",
         "Unnamed: 5": "5605655",
         "Unnamed: 6": "7747790",
         "Unnamed: 7": "5552100",
         "Unnamed: 8": "7418760",
         "Unnamed: 9": "8696390",
         "Unnamed: 10": "5262145",
         "Unnamed: 11": "4227210",
         "Unnamed: 12": "6521610",
         "Unnamed: 13": "4705035",
         "Unnamed: 14": "6521610",
         "Unnamed: 15": "4705035",
         "Unnamed: 16": "6778865",
         "Unnamed: 17": "4951340",
         "Unnamed: 18": "nan",
         "Unnamed: 19": "nan",
         "Unnamed: 20": "nan",
         "Unnamed: 21": "nan",
         "Unnamed: 22": "nan",
         "Unnamed: 23": "5849810.882352941",
         "Unnamed: 24": "5775109.411764705",
         "Unnamed: 25": "nan",
         "Unnamed: 26": "nan",
         "Unnamed: 27": "nan",
         "Unnamed: 28": "nan",
         "Unnamed: 29": "nan",
         "Unnamed: 30": "nan",
         "Unnamed: 31": "nan",
         "Unnamed: 32": "nan",
         "Unnamed: 33": "nan",
         "Unnamed: 34": "nan",
         "Unnamed: 35": "nan",
         "Unnamed: 36": "nan",
         "Unnamed: 37": "nan",
         "Unnamed: 38": "nan",
         "Unnamed: 39": "nan",
         "Unnamed: 40": "nan",
         "Unnamed: 41": "nan",
         "Unnamed: 42": "nan",
         "Unnamed: 43": "nan",
         "Unnamed: 44": "nan",
         "Unnamed: 45": "nan",
         "Unnamed: 46": "nan",
         "Unnamed: 47": "nan",
         "Unnamed: 48": "nan",
         "Unnamed: 49": "nan",
         "Unnamed: 50": "nan",
         "Unnamed: 51": "nan",
         "Unnamed: 52": "nan",
         "Unnamed: 53": "nan",
         "Unnamed: 54": "nan",
         "Unnamed: 55": "nan",
         "Unnamed: 56": "nan",
         "Unnamed: 57": "nan",
         "Unnamed: 58": "nan",
         "Unnamed: 59": "nan",
         "Unnamed: 60": "nan",
         "Unnamed: 61": "nan",
         "Unnamed: 62": "nan",
         "Unnamed: 63": "nan",
         "Unnamed: 64": "nan",
         "Unnamed: 65": "nan",
         "Unnamed: 66": "nan",
         "Unnamed: 67": "nan",
         "Unnamed: 68": "nan",
         "Unnamed: 69": "nan",
         "Unnamed: 70": "nan",
         "Unnamed: 71": "nan",
         "Unnamed: 72": "nan",
         "Unnamed: 73": "nan",
         "Unnamed: 74": "nan",
         "Unnamed: 75": "nan",
         "Unnamed: 76": "nan",
         "Unnamed: 77": "nan",
         "Unnamed: 78": "nan",
         "Unnamed: 79": "nan",
         "Unnamed: 80": "nan",
         "Unnamed: 81": "nan",
         "Unnamed: 82": "nan",
         "Unnamed: 83": "nan",
         "Unnamed: 84": "nan",
         "Unnamed: 85": "nan",
         "Unnamed: 86": "nan",
         "Unnamed: 87": "nan",
         "Unnamed: 88": "nan",
         "Unnamed: 89": "nan",
         "Unnamed: 90": "nan",
         "Unnamed: 91": "nan",
         "Unnamed: 92": "nan",
         "Unnamed: 93": "nan",
         "Unnamed: 94": "nan",
         "Unnamed: 95": "nan",
         "Unnamed: 96": "nan",
         "Unnamed: 97": "nan",
         "Unnamed: 98": "nan",
         "Unnamed: 99": "nan",
         "Unnamed: 100": "nan",
         "Unnamed: 101": "nan",
         "Unnamed: 102": "nan",
         "Unnamed: 103": "nan",
         "Unnamed: 104": "nan",
         "Unnamed: 105": "nan",
         "Unnamed: 106": "nan",
         "Unnamed: 107": "nan",
         "Unnamed: 108": "nan",
         "Unnamed: 109": "nan",
         "Unnamed: 110": "nan",
         "Unnamed: 111": "nan",
         "Unnamed: 112": "nan",
         "Unnamed: 113": "nan",
         "Unnamed: 114": "nan",
         "Unnamed: 115": "nan",
         "Unnamed: 116": "nan",
         "Unnamed: 117": "nan",
         "Unnamed: 118": "nan",
         "Unnamed: 119": "nan",
         "Unnamed: 120": "nan",
         "Unnamed: 121": "nan",
         "Unnamed: 122": "nan",
         "Unnamed: 123": "nan",
         "Unnamed: 124": "nan",
         "Unnamed: 125": "nan",
         "Unnamed: 126": "nan",
         "Unnamed: 127": "nan",
         "Unnamed: 128": "nan",
         "Unnamed: 129": "nan",
         "Unnamed: 130": "nan",
         "Unnamed: 131": "nan",
         "Unnamed: 132": "nan",
         "Unnamed: 133": "nan",
         "Unnamed: 134": "nan",
         "Unnamed: 135": "nan",
         "Unnamed: 136": "nan",
         "Unnamed: 137": "nan",
         "Unnamed: 138": "nan",
         "Unnamed: 139": "nan",
         "Unnamed: 140": "nan",
         "Unnamed: 141": "nan",
         "Unnamed: 142": "nan",
         "Unnamed: 143": "nan",
         "Unnamed: 144": "nan",
         "Unnamed: 145": "nan",
         "Unnamed: 146": "nan",
         "Unnamed: 147": "nan",
         "Unnamed: 148": "nan",
         "Unnamed: 149": "nan",
         "Unnamed: 150": "nan",
         "Unnamed: 151": "nan",
         "Unnamed: 152": "nan",
         "Unnamed: 153": "nan",
         "Unnamed: 154": "nan",
         "Unnamed: 155": "nan",
         "Unnamed: 156": "nan",
         "Unnamed: 157": "nan",
         "Unnamed: 158": "nan",
         "Unnamed: 159": "nan",
         "Unnamed: 160": "nan",
         "Unnamed: 161": "nan",
         "Unnamed: 162": "nan",
         "Unnamed: 163": "nan",
         "Unnamed: 164": "nan",
         "Unnamed: 165": "nan",
         "Unnamed: 166": "nan",
         "Unnamed: 167": "nan",
         "Unnamed: 168": "nan",
         "Unnamed: 169": "nan",
         "Unnamed: 170": "nan",
         "Unnamed: 171": "nan",
         "Unnamed: 172": "nan",
         "Unnamed: 173": "nan",
         "Unnamed: 174": "nan",
         "Unnamed: 175": "nan",
         "Unnamed: 176": "nan",
         "Unnamed: 177": "nan",
         "Unnamed: 178": "nan",
         "Unnamed: 179": "nan",
         "Unnamed: 180": "nan",
         "Unnamed: 181": "nan",
         "Unnamed: 182": "nan",
         "Unnamed: 183": "nan",
         "Unnamed: 184": "nan",
         "Unnamed: 185": "nan",
         "Unnamed: 186": "nan",
         "Unnamed: 187": "nan",
         "Unnamed: 188": "nan",
         "Unnamed: 189": "nan",
         "Unnamed: 190": "nan",
         "Unnamed: 191": "nan",
         "Unnamed: 192": "nan",
         "Unnamed: 193": "nan",
         "Unnamed: 194": "nan",
         "Unnamed: 195": "nan",
         "Unnamed: 196": "nan",
         "Unnamed: 197": "nan",
         "Unnamed: 198": "nan",
         "Unnamed: 199": "nan",
         "Unnamed: 200": "nan",
         "Unnamed: 201": "nan",
         "Unnamed: 202": "nan",
         "Unnamed: 203": "nan",
         "Unnamed: 204": "nan",
         "Unnamed: 205": "nan",
         "_deepnote_index_column": 10
        },
        {
         "Average intensity": "1x PBS",
         "Unnamed: 1": "2131095",
         "1x PBS": "3787220",
         "Unnamed: 3": "4938335",
         "Unnamed: 4": "8493165",
         "Unnamed: 5": "5428820",
         "Unnamed: 6": "8131440",
         "Unnamed: 7": "5668985",
         "Unnamed: 8": "7765090",
         "Unnamed: 9": "8624735",
         "Unnamed: 10": "4885195",
         "Unnamed: 11": "3805785",
         "Unnamed: 12": "6219825",
         "Unnamed: 13": "4234240",
         "Unnamed: 14": "6219825",
         "Unnamed: 15": "4234240",
         "Unnamed: 16": "6456850",
         "Unnamed: 17": "4850865",
         "Unnamed: 18": "nan",
         "Unnamed: 19": "nan",
         "Unnamed: 20": "nan",
         "Unnamed: 21": "nan",
         "Unnamed: 22": "nan",
         "Unnamed: 23": "5639747.647058823",
         "Unnamed: 24": "nan",
         "Unnamed: 25": "nan",
         "Unnamed: 26": "nan",
         "Unnamed: 27": "nan",
         "Unnamed: 28": "nan",
         "Unnamed: 29": "nan",
         "Unnamed: 30": "nan",
         "Unnamed: 31": "nan",
         "Unnamed: 32": "nan",
         "Unnamed: 33": "nan",
         "Unnamed: 34": "nan",
         "Unnamed: 35": "nan",
         "Unnamed: 36": "nan",
         "Unnamed: 37": "nan",
         "Unnamed: 38": "nan",
         "Unnamed: 39": "nan",
         "Unnamed: 40": "nan",
         "Unnamed: 41": "nan",
         "Unnamed: 42": "nan",
         "Unnamed: 43": "nan",
         "Unnamed: 44": "nan",
         "Unnamed: 45": "nan",
         "Unnamed: 46": "nan",
         "Unnamed: 47": "nan",
         "Unnamed: 48": "nan",
         "Unnamed: 49": "nan",
         "Unnamed: 50": "nan",
         "Unnamed: 51": "nan",
         "Unnamed: 52": "nan",
         "Unnamed: 53": "nan",
         "Unnamed: 54": "nan",
         "Unnamed: 55": "nan",
         "Unnamed: 56": "nan",
         "Unnamed: 57": "nan",
         "Unnamed: 58": "nan",
         "Unnamed: 59": "nan",
         "Unnamed: 60": "nan",
         "Unnamed: 61": "nan",
         "Unnamed: 62": "nan",
         "Unnamed: 63": "nan",
         "Unnamed: 64": "nan",
         "Unnamed: 65": "nan",
         "Unnamed: 66": "nan",
         "Unnamed: 67": "nan",
         "Unnamed: 68": "nan",
         "Unnamed: 69": "nan",
         "Unnamed: 70": "nan",
         "Unnamed: 71": "nan",
         "Unnamed: 72": "nan",
         "Unnamed: 73": "nan",
         "Unnamed: 74": "nan",
         "Unnamed: 75": "nan",
         "Unnamed: 76": "nan",
         "Unnamed: 77": "nan",
         "Unnamed: 78": "nan",
         "Unnamed: 79": "nan",
         "Unnamed: 80": "nan",
         "Unnamed: 81": "nan",
         "Unnamed: 82": "nan",
         "Unnamed: 83": "nan",
         "Unnamed: 84": "nan",
         "Unnamed: 85": "nan",
         "Unnamed: 86": "nan",
         "Unnamed: 87": "nan",
         "Unnamed: 88": "nan",
         "Unnamed: 89": "nan",
         "Unnamed: 90": "nan",
         "Unnamed: 91": "nan",
         "Unnamed: 92": "nan",
         "Unnamed: 93": "nan",
         "Unnamed: 94": "nan",
         "Unnamed: 95": "nan",
         "Unnamed: 96": "nan",
         "Unnamed: 97": "nan",
         "Unnamed: 98": "nan",
         "Unnamed: 99": "nan",
         "Unnamed: 100": "nan",
         "Unnamed: 101": "nan",
         "Unnamed: 102": "nan",
         "Unnamed: 103": "nan",
         "Unnamed: 104": "nan",
         "Unnamed: 105": "nan",
         "Unnamed: 106": "nan",
         "Unnamed: 107": "nan",
         "Unnamed: 108": "nan",
         "Unnamed: 109": "nan",
         "Unnamed: 110": "nan",
         "Unnamed: 111": "nan",
         "Unnamed: 112": "nan",
         "Unnamed: 113": "nan",
         "Unnamed: 114": "nan",
         "Unnamed: 115": "nan",
         "Unnamed: 116": "nan",
         "Unnamed: 117": "nan",
         "Unnamed: 118": "nan",
         "Unnamed: 119": "nan",
         "Unnamed: 120": "nan",
         "Unnamed: 121": "nan",
         "Unnamed: 122": "nan",
         "Unnamed: 123": "nan",
         "Unnamed: 124": "nan",
         "Unnamed: 125": "nan",
         "Unnamed: 126": "nan",
         "Unnamed: 127": "nan",
         "Unnamed: 128": "nan",
         "Unnamed: 129": "nan",
         "Unnamed: 130": "nan",
         "Unnamed: 131": "nan",
         "Unnamed: 132": "nan",
         "Unnamed: 133": "nan",
         "Unnamed: 134": "nan",
         "Unnamed: 135": "nan",
         "Unnamed: 136": "nan",
         "Unnamed: 137": "nan",
         "Unnamed: 138": "nan",
         "Unnamed: 139": "nan",
         "Unnamed: 140": "nan",
         "Unnamed: 141": "nan",
         "Unnamed: 142": "nan",
         "Unnamed: 143": "nan",
         "Unnamed: 144": "nan",
         "Unnamed: 145": "nan",
         "Unnamed: 146": "nan",
         "Unnamed: 147": "nan",
         "Unnamed: 148": "nan",
         "Unnamed: 149": "nan",
         "Unnamed: 150": "nan",
         "Unnamed: 151": "nan",
         "Unnamed: 152": "nan",
         "Unnamed: 153": "nan",
         "Unnamed: 154": "nan",
         "Unnamed: 155": "nan",
         "Unnamed: 156": "nan",
         "Unnamed: 157": "nan",
         "Unnamed: 158": "nan",
         "Unnamed: 159": "nan",
         "Unnamed: 160": "nan",
         "Unnamed: 161": "nan",
         "Unnamed: 162": "nan",
         "Unnamed: 163": "nan",
         "Unnamed: 164": "nan",
         "Unnamed: 165": "nan",
         "Unnamed: 166": "nan",
         "Unnamed: 167": "nan",
         "Unnamed: 168": "nan",
         "Unnamed: 169": "nan",
         "Unnamed: 170": "nan",
         "Unnamed: 171": "nan",
         "Unnamed: 172": "nan",
         "Unnamed: 173": "nan",
         "Unnamed: 174": "nan",
         "Unnamed: 175": "nan",
         "Unnamed: 176": "nan",
         "Unnamed: 177": "nan",
         "Unnamed: 178": "nan",
         "Unnamed: 179": "nan",
         "Unnamed: 180": "nan",
         "Unnamed: 181": "nan",
         "Unnamed: 182": "nan",
         "Unnamed: 183": "nan",
         "Unnamed: 184": "nan",
         "Unnamed: 185": "nan",
         "Unnamed: 186": "nan",
         "Unnamed: 187": "nan",
         "Unnamed: 188": "nan",
         "Unnamed: 189": "nan",
         "Unnamed: 190": "nan",
         "Unnamed: 191": "nan",
         "Unnamed: 192": "nan",
         "Unnamed: 193": "nan",
         "Unnamed: 194": "nan",
         "Unnamed: 195": "nan",
         "Unnamed: 196": "nan",
         "Unnamed: 197": "nan",
         "Unnamed: 198": "nan",
         "Unnamed: 199": "nan",
         "Unnamed: 200": "nan",
         "Unnamed: 201": "nan",
         "Unnamed: 202": "nan",
         "Unnamed: 203": "nan",
         "Unnamed: 204": "nan",
         "Unnamed: 205": "nan",
         "_deepnote_index_column": 11
        },
        {
         "Average intensity": "1x PBS",
         "Unnamed: 1": "2082360",
         "1x PBS": "3835540",
         "Unnamed: 3": "4929060",
         "Unnamed: 4": "8587440",
         "Unnamed: 5": "5697425",
         "Unnamed: 6": "8877315",
         "Unnamed: 7": "5843100",
         "Unnamed: 8": "7928115",
         "Unnamed: 9": "9093465",
         "Unnamed: 10": "5142840",
         "Unnamed: 11": "3944095",
         "Unnamed: 12": "6283320",
         "Unnamed: 13": "4631390",
         "Unnamed: 14": "6283320",
         "Unnamed: 15": "4631390",
         "Unnamed: 16": "6430795",
         "Unnamed: 17": "4987115",
         "Unnamed: 18": "nan",
         "Unnamed: 19": "nan",
         "Unnamed: 20": "nan",
         "Unnamed: 21": "nan",
         "Unnamed: 22": "nan",
         "Unnamed: 23": "5835769.705882353",
         "Unnamed: 24": "nan",
         "Unnamed: 25": "nan",
         "Unnamed: 26": "nan",
         "Unnamed: 27": "nan",
         "Unnamed: 28": "nan",
         "Unnamed: 29": "nan",
         "Unnamed: 30": "nan",
         "Unnamed: 31": "nan",
         "Unnamed: 32": "nan",
         "Unnamed: 33": "nan",
         "Unnamed: 34": "nan",
         "Unnamed: 35": "nan",
         "Unnamed: 36": "nan",
         "Unnamed: 37": "nan",
         "Unnamed: 38": "nan",
         "Unnamed: 39": "nan",
         "Unnamed: 40": "nan",
         "Unnamed: 41": "nan",
         "Unnamed: 42": "nan",
         "Unnamed: 43": "nan",
         "Unnamed: 44": "nan",
         "Unnamed: 45": "nan",
         "Unnamed: 46": "nan",
         "Unnamed: 47": "nan",
         "Unnamed: 48": "nan",
         "Unnamed: 49": "nan",
         "Unnamed: 50": "nan",
         "Unnamed: 51": "nan",
         "Unnamed: 52": "nan",
         "Unnamed: 53": "nan",
         "Unnamed: 54": "nan",
         "Unnamed: 55": "nan",
         "Unnamed: 56": "nan",
         "Unnamed: 57": "nan",
         "Unnamed: 58": "nan",
         "Unnamed: 59": "nan",
         "Unnamed: 60": "nan",
         "Unnamed: 61": "nan",
         "Unnamed: 62": "nan",
         "Unnamed: 63": "nan",
         "Unnamed: 64": "nan",
         "Unnamed: 65": "nan",
         "Unnamed: 66": "nan",
         "Unnamed: 67": "nan",
         "Unnamed: 68": "nan",
         "Unnamed: 69": "nan",
         "Unnamed: 70": "nan",
         "Unnamed: 71": "nan",
         "Unnamed: 72": "nan",
         "Unnamed: 73": "nan",
         "Unnamed: 74": "nan",
         "Unnamed: 75": "nan",
         "Unnamed: 76": "nan",
         "Unnamed: 77": "nan",
         "Unnamed: 78": "nan",
         "Unnamed: 79": "nan",
         "Unnamed: 80": "nan",
         "Unnamed: 81": "nan",
         "Unnamed: 82": "nan",
         "Unnamed: 83": "nan",
         "Unnamed: 84": "nan",
         "Unnamed: 85": "nan",
         "Unnamed: 86": "nan",
         "Unnamed: 87": "nan",
         "Unnamed: 88": "nan",
         "Unnamed: 89": "nan",
         "Unnamed: 90": "nan",
         "Unnamed: 91": "nan",
         "Unnamed: 92": "nan",
         "Unnamed: 93": "nan",
         "Unnamed: 94": "nan",
         "Unnamed: 95": "nan",
         "Unnamed: 96": "nan",
         "Unnamed: 97": "nan",
         "Unnamed: 98": "nan",
         "Unnamed: 99": "nan",
         "Unnamed: 100": "nan",
         "Unnamed: 101": "nan",
         "Unnamed: 102": "nan",
         "Unnamed: 103": "nan",
         "Unnamed: 104": "nan",
         "Unnamed: 105": "nan",
         "Unnamed: 106": "nan",
         "Unnamed: 107": "nan",
         "Unnamed: 108": "nan",
         "Unnamed: 109": "nan",
         "Unnamed: 110": "nan",
         "Unnamed: 111": "nan",
         "Unnamed: 112": "nan",
         "Unnamed: 113": "nan",
         "Unnamed: 114": "nan",
         "Unnamed: 115": "nan",
         "Unnamed: 116": "nan",
         "Unnamed: 117": "nan",
         "Unnamed: 118": "nan",
         "Unnamed: 119": "nan",
         "Unnamed: 120": "nan",
         "Unnamed: 121": "nan",
         "Unnamed: 122": "nan",
         "Unnamed: 123": "nan",
         "Unnamed: 124": "nan",
         "Unnamed: 125": "nan",
         "Unnamed: 126": "nan",
         "Unnamed: 127": "nan",
         "Unnamed: 128": "nan",
         "Unnamed: 129": "nan",
         "Unnamed: 130": "nan",
         "Unnamed: 131": "nan",
         "Unnamed: 132": "nan",
         "Unnamed: 133": "nan",
         "Unnamed: 134": "nan",
         "Unnamed: 135": "nan",
         "Unnamed: 136": "nan",
         "Unnamed: 137": "nan",
         "Unnamed: 138": "nan",
         "Unnamed: 139": "nan",
         "Unnamed: 140": "nan",
         "Unnamed: 141": "nan",
         "Unnamed: 142": "nan",
         "Unnamed: 143": "nan",
         "Unnamed: 144": "nan",
         "Unnamed: 145": "nan",
         "Unnamed: 146": "nan",
         "Unnamed: 147": "nan",
         "Unnamed: 148": "nan",
         "Unnamed: 149": "nan",
         "Unnamed: 150": "nan",
         "Unnamed: 151": "nan",
         "Unnamed: 152": "nan",
         "Unnamed: 153": "nan",
         "Unnamed: 154": "nan",
         "Unnamed: 155": "nan",
         "Unnamed: 156": "nan",
         "Unnamed: 157": "nan",
         "Unnamed: 158": "nan",
         "Unnamed: 159": "nan",
         "Unnamed: 160": "nan",
         "Unnamed: 161": "nan",
         "Unnamed: 162": "nan",
         "Unnamed: 163": "nan",
         "Unnamed: 164": "nan",
         "Unnamed: 165": "nan",
         "Unnamed: 166": "nan",
         "Unnamed: 167": "nan",
         "Unnamed: 168": "nan",
         "Unnamed: 169": "nan",
         "Unnamed: 170": "nan",
         "Unnamed: 171": "nan",
         "Unnamed: 172": "nan",
         "Unnamed: 173": "nan",
         "Unnamed: 174": "nan",
         "Unnamed: 175": "nan",
         "Unnamed: 176": "nan",
         "Unnamed: 177": "nan",
         "Unnamed: 178": "nan",
         "Unnamed: 179": "nan",
         "Unnamed: 180": "nan",
         "Unnamed: 181": "nan",
         "Unnamed: 182": "nan",
         "Unnamed: 183": "nan",
         "Unnamed: 184": "nan",
         "Unnamed: 185": "nan",
         "Unnamed: 186": "nan",
         "Unnamed: 187": "nan",
         "Unnamed: 188": "nan",
         "Unnamed: 189": "nan",
         "Unnamed: 190": "nan",
         "Unnamed: 191": "nan",
         "Unnamed: 192": "nan",
         "Unnamed: 193": "nan",
         "Unnamed: 194": "nan",
         "Unnamed: 195": "nan",
         "Unnamed: 196": "nan",
         "Unnamed: 197": "nan",
         "Unnamed: 198": "nan",
         "Unnamed: 199": "nan",
         "Unnamed: 200": "nan",
         "Unnamed: 201": "nan",
         "Unnamed: 202": "nan",
         "Unnamed: 203": "nan",
         "Unnamed: 204": "nan",
         "Unnamed: 205": "nan",
         "_deepnote_index_column": 12
        },
        {
         "Average intensity": "nan",
         "Unnamed: 1": "nan",
         "1x PBS": "nan",
         "Unnamed: 3": "nan",
         "Unnamed: 4": "nan",
         "Unnamed: 5": "nan",
         "Unnamed: 6": "nan",
         "Unnamed: 7": "nan",
         "Unnamed: 8": "nan",
         "Unnamed: 9": "nan",
         "Unnamed: 10": "nan",
         "Unnamed: 11": "nan",
         "Unnamed: 12": "nan",
         "Unnamed: 13": "nan",
         "Unnamed: 14": "nan",
         "Unnamed: 15": "nan",
         "Unnamed: 16": "nan",
         "Unnamed: 17": "nan",
         "Unnamed: 18": "nan",
         "Unnamed: 19": "nan",
         "Unnamed: 20": "nan",
         "Unnamed: 21": "nan",
         "Unnamed: 22": "nan",
         "Unnamed: 23": "nan",
         "Unnamed: 24": "nan",
         "Unnamed: 25": "nan",
         "Unnamed: 26": "nan",
         "Unnamed: 27": "nan",
         "Unnamed: 28": "nan",
         "Unnamed: 29": "nan",
         "Unnamed: 30": "nan",
         "Unnamed: 31": "nan",
         "Unnamed: 32": "nan",
         "Unnamed: 33": "nan",
         "Unnamed: 34": "nan",
         "Unnamed: 35": "nan",
         "Unnamed: 36": "nan",
         "Unnamed: 37": "nan",
         "Unnamed: 38": "nan",
         "Unnamed: 39": "nan",
         "Unnamed: 40": "nan",
         "Unnamed: 41": "nan",
         "Unnamed: 42": "nan",
         "Unnamed: 43": "nan",
         "Unnamed: 44": "nan",
         "Unnamed: 45": "nan",
         "Unnamed: 46": "nan",
         "Unnamed: 47": "nan",
         "Unnamed: 48": "nan",
         "Unnamed: 49": "nan",
         "Unnamed: 50": "nan",
         "Unnamed: 51": "nan",
         "Unnamed: 52": "nan",
         "Unnamed: 53": "nan",
         "Unnamed: 54": "nan",
         "Unnamed: 55": "nan",
         "Unnamed: 56": "nan",
         "Unnamed: 57": "nan",
         "Unnamed: 58": "nan",
         "Unnamed: 59": "nan",
         "Unnamed: 60": "nan",
         "Unnamed: 61": "nan",
         "Unnamed: 62": "nan",
         "Unnamed: 63": "nan",
         "Unnamed: 64": "nan",
         "Unnamed: 65": "nan",
         "Unnamed: 66": "nan",
         "Unnamed: 67": "nan",
         "Unnamed: 68": "nan",
         "Unnamed: 69": "nan",
         "Unnamed: 70": "nan",
         "Unnamed: 71": "nan",
         "Unnamed: 72": "nan",
         "Unnamed: 73": "nan",
         "Unnamed: 74": "nan",
         "Unnamed: 75": "nan",
         "Unnamed: 76": "nan",
         "Unnamed: 77": "nan",
         "Unnamed: 78": "nan",
         "Unnamed: 79": "nan",
         "Unnamed: 80": "nan",
         "Unnamed: 81": "nan",
         "Unnamed: 82": "nan",
         "Unnamed: 83": "nan",
         "Unnamed: 84": "nan",
         "Unnamed: 85": "nan",
         "Unnamed: 86": "nan",
         "Unnamed: 87": "nan",
         "Unnamed: 88": "nan",
         "Unnamed: 89": "nan",
         "Unnamed: 90": "nan",
         "Unnamed: 91": "nan",
         "Unnamed: 92": "nan",
         "Unnamed: 93": "nan",
         "Unnamed: 94": "nan",
         "Unnamed: 95": "nan",
         "Unnamed: 96": "nan",
         "Unnamed: 97": "nan",
         "Unnamed: 98": "nan",
         "Unnamed: 99": "nan",
         "Unnamed: 100": "nan",
         "Unnamed: 101": "nan",
         "Unnamed: 102": "nan",
         "Unnamed: 103": "nan",
         "Unnamed: 104": "nan",
         "Unnamed: 105": "nan",
         "Unnamed: 106": "nan",
         "Unnamed: 107": "nan",
         "Unnamed: 108": "nan",
         "Unnamed: 109": "nan",
         "Unnamed: 110": "nan",
         "Unnamed: 111": "nan",
         "Unnamed: 112": "nan",
         "Unnamed: 113": "nan",
         "Unnamed: 114": "nan",
         "Unnamed: 115": "nan",
         "Unnamed: 116": "nan",
         "Unnamed: 117": "nan",
         "Unnamed: 118": "nan",
         "Unnamed: 119": "nan",
         "Unnamed: 120": "nan",
         "Unnamed: 121": "nan",
         "Unnamed: 122": "nan",
         "Unnamed: 123": "nan",
         "Unnamed: 124": "nan",
         "Unnamed: 125": "nan",
         "Unnamed: 126": "nan",
         "Unnamed: 127": "nan",
         "Unnamed: 128": "nan",
         "Unnamed: 129": "nan",
         "Unnamed: 130": "nan",
         "Unnamed: 131": "nan",
         "Unnamed: 132": "nan",
         "Unnamed: 133": "nan",
         "Unnamed: 134": "nan",
         "Unnamed: 135": "nan",
         "Unnamed: 136": "nan",
         "Unnamed: 137": "nan",
         "Unnamed: 138": "nan",
         "Unnamed: 139": "nan",
         "Unnamed: 140": "nan",
         "Unnamed: 141": "nan",
         "Unnamed: 142": "nan",
         "Unnamed: 143": "nan",
         "Unnamed: 144": "nan",
         "Unnamed: 145": "nan",
         "Unnamed: 146": "nan",
         "Unnamed: 147": "nan",
         "Unnamed: 148": "nan",
         "Unnamed: 149": "nan",
         "Unnamed: 150": "nan",
         "Unnamed: 151": "nan",
         "Unnamed: 152": "nan",
         "Unnamed: 153": "nan",
         "Unnamed: 154": "nan",
         "Unnamed: 155": "nan",
         "Unnamed: 156": "nan",
         "Unnamed: 157": "nan",
         "Unnamed: 158": "nan",
         "Unnamed: 159": "nan",
         "Unnamed: 160": "nan",
         "Unnamed: 161": "nan",
         "Unnamed: 162": "nan",
         "Unnamed: 163": "nan",
         "Unnamed: 164": "nan",
         "Unnamed: 165": "nan",
         "Unnamed: 166": "nan",
         "Unnamed: 167": "nan",
         "Unnamed: 168": "nan",
         "Unnamed: 169": "nan",
         "Unnamed: 170": "nan",
         "Unnamed: 171": "nan",
         "Unnamed: 172": "nan",
         "Unnamed: 173": "nan",
         "Unnamed: 174": "nan",
         "Unnamed: 175": "nan",
         "Unnamed: 176": "nan",
         "Unnamed: 177": "nan",
         "Unnamed: 178": "nan",
         "Unnamed: 179": "nan",
         "Unnamed: 180": "nan",
         "Unnamed: 181": "nan",
         "Unnamed: 182": "nan",
         "Unnamed: 183": "nan",
         "Unnamed: 184": "nan",
         "Unnamed: 185": "nan",
         "Unnamed: 186": "nan",
         "Unnamed: 187": "nan",
         "Unnamed: 188": "nan",
         "Unnamed: 189": "nan",
         "Unnamed: 190": "nan",
         "Unnamed: 191": "nan",
         "Unnamed: 192": "nan",
         "Unnamed: 193": "nan",
         "Unnamed: 194": "nan",
         "Unnamed: 195": "nan",
         "Unnamed: 196": "nan",
         "Unnamed: 197": "nan",
         "Unnamed: 198": "nan",
         "Unnamed: 199": "nan",
         "Unnamed: 200": "nan",
         "Unnamed: 201": "nan",
         "Unnamed: 202": "nan",
         "Unnamed: 203": "nan",
         "Unnamed: 204": "nan",
         "Unnamed: 205": "nan",
         "_deepnote_index_column": 13
        },
        {
         "Average intensity": "nan",
         "Unnamed: 1": "141021 screened",
         "1x PBS": "nan",
         "Unnamed: 3": "nan",
         "Unnamed: 4": "nan",
         "Unnamed: 5": "251021 screened",
         "Unnamed: 6": "nan",
         "Unnamed: 7": "nan",
         "Unnamed: 8": "nan",
         "Unnamed: 9": "nan",
         "Unnamed: 10": "nan",
         "Unnamed: 11": "nan",
         "Unnamed: 12": "nan",
         "Unnamed: 13": "nan",
         "Unnamed: 14": "nan",
         "Unnamed: 15": "nan",
         "Unnamed: 16": "nan",
         "Unnamed: 17": "nan",
         "Unnamed: 18": "nan",
         "Unnamed: 19": "nan",
         "Unnamed: 20": "nan",
         "Unnamed: 21": "nan",
         "Unnamed: 22": "nan",
         "Unnamed: 23": "nan",
         "Unnamed: 24": "nan",
         "Unnamed: 25": "281021 screened",
         "Unnamed: 26": "nan",
         "Unnamed: 27": "nan",
         "Unnamed: 28": "nan",
         "Unnamed: 29": "nan",
         "Unnamed: 30": "nan",
         "Unnamed: 31": "nan",
         "Unnamed: 32": "nan",
         "Unnamed: 33": "nan",
         "Unnamed: 34": "nan",
         "Unnamed: 35": "nan",
         "Unnamed: 36": "nan",
         "Unnamed: 37": "nan",
         "Unnamed: 38": "nan",
         "Unnamed: 39": "011121 SCREENED",
         "Unnamed: 40": "nan",
         "Unnamed: 41": "nan",
         "Unnamed: 42": "nan",
         "Unnamed: 43": "nan",
         "Unnamed: 44": "nan",
         "Unnamed: 45": "nan",
         "Unnamed: 46": "nan",
         "Unnamed: 47": "nan",
         "Unnamed: 48": "nan",
         "Unnamed: 49": "nan",
         "Unnamed: 50": "nan",
         "Unnamed: 51": "nan",
         "Unnamed: 52": "nan",
         "Unnamed: 53": "nan",
         "Unnamed: 54": "nan",
         "Unnamed: 55": "nan",
         "Unnamed: 56": "nan",
         "Unnamed: 57": "nan",
         "Unnamed: 58": "nan",
         "Unnamed: 59": "021121 SCREENED",
         "Unnamed: 60": "nan",
         "Unnamed: 61": "nan",
         "Unnamed: 62": "nan",
         "Unnamed: 63": "nan",
         "Unnamed: 64": "nan",
         "Unnamed: 65": "nan",
         "Unnamed: 66": "nan",
         "Unnamed: 67": "nan",
         "Unnamed: 68": "nan",
         "Unnamed: 69": "nan",
         "Unnamed: 70": "nan",
         "Unnamed: 71": "nan",
         "Unnamed: 72": "nan",
         "Unnamed: 73": "nan",
         "Unnamed: 74": "nan",
         "Unnamed: 75": "nan",
         "Unnamed: 76": "nan",
         "Unnamed: 77": "nan",
         "Unnamed: 78": "nan",
         "Unnamed: 79": "101121 - screened",
         "Unnamed: 80": "nan",
         "Unnamed: 81": "nan",
         "Unnamed: 82": "nan",
         "Unnamed: 83": "nan",
         "Unnamed: 84": "nan",
         "Unnamed: 85": "nan",
         "Unnamed: 86": "nan",
         "Unnamed: 87": "nan",
         "Unnamed: 88": "nan",
         "Unnamed: 89": "nan",
         "Unnamed: 90": "nan",
         "Unnamed: 91": "nan",
         "Unnamed: 92": "nan",
         "Unnamed: 93": "nan",
         "Unnamed: 94": "nan",
         "Unnamed: 95": "nan",
         "Unnamed: 96": "nan",
         "Unnamed: 97": "nan",
         "Unnamed: 98": "nan",
         "Unnamed: 99": "111121 screened",
         "Unnamed: 100": "nan",
         "Unnamed: 101": "nan",
         "Unnamed: 102": "nan",
         "Unnamed: 103": "nan",
         "Unnamed: 104": "nan",
         "Unnamed: 105": "nan",
         "Unnamed: 106": "nan",
         "Unnamed: 107": "nan",
         "Unnamed: 108": "nan",
         "Unnamed: 109": "nan",
         "Unnamed: 110": "nan",
         "Unnamed: 111": "nan",
         "Unnamed: 112": "nan",
         "Unnamed: 113": "nan",
         "Unnamed: 114": "nan",
         "Unnamed: 115": "nan",
         "Unnamed: 116": "nan",
         "Unnamed: 117": "nan",
         "Unnamed: 118": "nan",
         "Unnamed: 119": "15112021-screened",
         "Unnamed: 120": "nan",
         "Unnamed: 121": "nan",
         "Unnamed: 122": "nan",
         "Unnamed: 123": "nan",
         "Unnamed: 124": "nan",
         "Unnamed: 125": "nan",
         "Unnamed: 126": "nan",
         "Unnamed: 127": "nan",
         "Unnamed: 128": "nan",
         "Unnamed: 129": "nan",
         "Unnamed: 130": "nan",
         "Unnamed: 131": "nan",
         "Unnamed: 132": "nan",
         "Unnamed: 133": "nan",
         "Unnamed: 134": "nan",
         "Unnamed: 135": "nan",
         "Unnamed: 136": "nan",
         "Unnamed: 137": "nan",
         "Unnamed: 138": "nan",
         "Unnamed: 139": "nan",
         "Unnamed: 140": "nan",
         "Unnamed: 141": "nan",
         "Unnamed: 142": "nan",
         "Unnamed: 143": "161121 screened",
         "Unnamed: 144": "nan",
         "Unnamed: 145": "nan",
         "Unnamed: 146": "nan",
         "Unnamed: 147": "nan",
         "Unnamed: 148": "nan",
         "Unnamed: 149": "nan",
         "Unnamed: 150": "nan",
         "Unnamed: 151": "nan",
         "Unnamed: 152": "nan",
         "Unnamed: 153": "nan",
         "Unnamed: 154": "nan",
         "Unnamed: 155": "nan",
         "Unnamed: 156": "nan",
         "Unnamed: 157": "nan",
         "Unnamed: 158": "nan",
         "Unnamed: 159": "nan",
         "Unnamed: 160": "nan",
         "Unnamed: 161": "nan",
         "Unnamed: 162": "nan",
         "Unnamed: 163": "nan",
         "Unnamed: 164": "nan",
         "Unnamed: 165": "nan",
         "Unnamed: 166": "nan",
         "Unnamed: 167": "nan",
         "Unnamed: 168": "nan",
         "Unnamed: 169": "nan",
         "Unnamed: 170": "nan",
         "Unnamed: 171": "nan",
         "Unnamed: 172": "nan",
         "Unnamed: 173": "181121 screened",
         "Unnamed: 174": "nan",
         "Unnamed: 175": "nan",
         "Unnamed: 176": "nan",
         "Unnamed: 177": "nan",
         "Unnamed: 178": "nan",
         "Unnamed: 179": "nan",
         "Unnamed: 180": "nan",
         "Unnamed: 181": "nan",
         "Unnamed: 182": "nan",
         "Unnamed: 183": "nan",
         "Unnamed: 184": "nan",
         "Unnamed: 185": "nan",
         "Unnamed: 186": "nan",
         "Unnamed: 187": "nan",
         "Unnamed: 188": "nan",
         "Unnamed: 189": "nan",
         "Unnamed: 190": "nan",
         "Unnamed: 191": "nan",
         "Unnamed: 192": "nan",
         "Unnamed: 193": "nan",
         "Unnamed: 194": "nan",
         "Unnamed: 195": "nan",
         "Unnamed: 196": "nan",
         "Unnamed: 197": "nan",
         "Unnamed: 198": "nan",
         "Unnamed: 199": "nan",
         "Unnamed: 200": "nan",
         "Unnamed: 201": "nan",
         "Unnamed: 202": "nan",
         "Unnamed: 203": "nan",
         "Unnamed: 204": "nan",
         "Unnamed: 205": "nan",
         "_deepnote_index_column": 14
        },
        {
         "Average intensity": "nan",
         "Unnamed: 1": "MI 23",
         "1x PBS": "MI 408",
         "Unnamed: 3": "MI 564",
         "Unnamed: 4": "MI 566",
         "Unnamed: 5": "MI 1",
         "Unnamed: 6": "MI 2",
         "Unnamed: 7": "MI 4",
         "Unnamed: 8": "MI 5",
         "Unnamed: 9": "MI 8",
         "Unnamed: 10": "MI 10",
         "Unnamed: 11": "MI 15",
         "Unnamed: 12": "MI 56",
         "Unnamed: 13": "MI 70",
         "Unnamed: 14": "MI 71",
         "Unnamed: 15": "MI 78",
         "Unnamed: 16": "MI 209",
         "Unnamed: 17": "MI 210",
         "Unnamed: 18": "MI 212",
         "Unnamed: 19": "MI 217",
         "Unnamed: 20": "MI 238",
         "Unnamed: 21": "MI 241",
         "Unnamed: 22": "MI 252",
         "Unnamed: 23": "MI 254",
         "Unnamed: 24": "MI 264",
         "Unnamed: 25": "MI 148",
         "Unnamed: 26": "MI 211",
         "Unnamed: 27": "MI 299",
         "Unnamed: 28": "MI 340",
         "Unnamed: 29": "MI 387",
         "Unnamed: 30": "MI 393",
         "Unnamed: 31": "MI 409",
         "Unnamed: 32": "MI 416",
         "Unnamed: 33": "MI 432",
         "Unnamed: 34": "MI 452",
         "Unnamed: 35": "MI 474",
         "Unnamed: 36": "MI 545",
         "Unnamed: 37": "MI 580",
         "Unnamed: 38": "MI 602",
         "Unnamed: 39": "MI 104",
         "Unnamed: 40": "MI 136",
         "Unnamed: 41": "MI 171",
         "Unnamed: 42": "MI 220",
         "Unnamed: 43": "MI 221",
         "Unnamed: 44": "MI 240",
         "Unnamed: 45": "MI 261",
         "Unnamed: 46": "MI 265",
         "Unnamed: 47": "MI 322",
         "Unnamed: 48": "MI 357",
         "Unnamed: 49": "MI 392",
         "Unnamed: 50": "MI 402",
         "Unnamed: 51": "MI 418",
         "Unnamed: 52": "MI 433",
         "Unnamed: 53": "MI 489",
         "Unnamed: 54": "MI 573",
         "Unnamed: 55": "MI 615",
         "Unnamed: 56": "MI 705",
         "Unnamed: 57": "MI 711",
         "Unnamed: 58": "MI 721",
         "Unnamed: 59": "MI 11",
         "Unnamed: 60": "MI 25",
         "Unnamed: 61": "MI 86",
         "Unnamed: 62": "MI 159",
         "Unnamed: 63": "MI 172",
         "Unnamed: 64": "MI 183",
         "Unnamed: 65": "MI 218",
         "Unnamed: 66": "MI 255",
         "Unnamed: 67": "MI 263",
         "Unnamed: 68": "MI 427",
         "Unnamed: 69": "MI 435",
         "Unnamed: 70": "MI 473",
         "Unnamed: 71": "MI 498",
         "Unnamed: 72": "MI 599",
         "Unnamed: 73": "MI 633 ",
         "Unnamed: 74": "MI 651",
         "Unnamed: 75": "MI 666",
         "Unnamed: 76": "MI 670",
         "Unnamed: 77": "MI 682",
         "Unnamed: 78": "MI 704",
         "Unnamed: 79": "MI 205",
         "Unnamed: 80": "MI 267",
         "Unnamed: 81": "MI 285",
         "Unnamed: 82": "MI 319",
         "Unnamed: 83": "MI 327",
         "Unnamed: 84": "MI 345",
         "Unnamed: 85": "MI 346",
         "Unnamed: 86": "MI 348",
         "Unnamed: 87": "MI 369",
         "Unnamed: 88": "MI 370",
         "Unnamed: 89": "MI 430",
         "Unnamed: 90": "MI 439",
         "Unnamed: 91": "MI 479",
         "Unnamed: 92": "MI 539",
         "Unnamed: 93": "MI 548",
         "Unnamed: 94": "MI 569",
         "Unnamed: 95": "MI 691",
         "Unnamed: 96": "MI 693",
         "Unnamed: 97": "MI 726",
         "Unnamed: 98": "MI 739",
         "Unnamed: 99": "MI 20",
         "Unnamed: 100": "MI 49",
         "Unnamed: 101": "MI 89",
         "Unnamed: 102": "MI 152",
         "Unnamed: 103": "MI 253",
         "Unnamed: 104": "MI 303",
         "Unnamed: 105": "MI 307",
         "Unnamed: 106": "MI 324",
         "Unnamed: 107": "MI 350",
         "Unnamed: 108": "MI 376",
         "Unnamed: 109": "MI 379",
         "Unnamed: 110": "MI 428",
         "Unnamed: 111": "MI 519",
         "Unnamed: 112": "MI 522",
         "Unnamed: 113": "MI 524",
         "Unnamed: 114": "MI 547",
         "Unnamed: 115": "MI 582",
         "Unnamed: 116": "MI 589",
         "Unnamed: 117": "MI 635",
         "Unnamed: 118": "MI 702",
         "Unnamed: 119": "MI 29",
         "Unnamed: 120": "MI 32",
         "Unnamed: 121": "MI 36",
         "Unnamed: 122": "MI 38",
         "Unnamed: 123": "MI 42",
         "Unnamed: 124": "MI 45",
         "Unnamed: 125": "MI 50",
         "Unnamed: 126": "MI 52",
         "Unnamed: 127": "MI 55",
         "Unnamed: 128": "MI 59",
         "Unnamed: 129": "MI 60",
         "Unnamed: 130": "MI 62",
         "Unnamed: 131": "MI 65",
         "Unnamed: 132": "MI 66",
         "Unnamed: 133": "MI 68",
         "Unnamed: 134": "MI 92",
         "Unnamed: 135": "MI 121",
         "Unnamed: 136": "MI 124",
         "Unnamed: 137": "MI 128",
         "Unnamed: 138": "MI 137",
         "Unnamed: 139": "MI 143",
         "Unnamed: 140": "MI 160",
         "Unnamed: 141": "MI 164",
         "Unnamed: 142": "MI 165",
         "Unnamed: 143": "MI 204",
         "Unnamed: 144": "MI 207",
         "Unnamed: 145": "MI 296",
         "Unnamed: 146": "MI 297",
         "Unnamed: 147": "MI 300",
         "Unnamed: 148": "MI 305",
         "Unnamed: 149": "MI 337",
         "Unnamed: 150": "MI 338",
         "Unnamed: 151": "MI 374",
         "Unnamed: 152": "MI 383",
         "Unnamed: 153": "MI 388",
         "Unnamed: 154": "MI 391",
         "Unnamed: 155": "MI 400",
         "Unnamed: 156": "MI 414",
         "Unnamed: 157": "MI 422",
         "Unnamed: 158": "MI 445",
         "Unnamed: 159": "MI 451",
         "Unnamed: 160": "MI 453",
         "Unnamed: 161": "MI 491",
         "Unnamed: 162": "MI 505",
         "Unnamed: 163": "MI 509",
         "Unnamed: 164": "MI 540",
         "Unnamed: 165": "MI 581",
         "Unnamed: 166": "MI 616",
         "Unnamed: 167": "MI 641",
         "Unnamed: 168": "MI 655",
         "Unnamed: 169": "MI 662",
         "Unnamed: 170": "MI 675",
         "Unnamed: 171": "MI 683",
         "Unnamed: 172": "MI 684",
         "Unnamed: 173": "MI 3",
         "Unnamed: 174": "MI 37",
         "Unnamed: 175": "MI 39",
         "Unnamed: 176": "MI 53",
         "Unnamed: 177": "MI 63",
         "Unnamed: 178": "MI 108",
         "Unnamed: 179": "MI 119",
         "Unnamed: 180": "MI 173",
         "Unnamed: 181": "MI 201",
         "Unnamed: 182": "MI 202",
         "Unnamed: 183": "MI 293",
         "Unnamed: 184": "MI 308",
         "Unnamed: 185": "MI 349",
         "Unnamed: 186": "MI 353",
         "Unnamed: 187": "MI 356",
         "Unnamed: 188": "MI 386",
         "Unnamed: 189": "MI 426",
         "Unnamed: 190": "MI 517",
         "Unnamed: 191": "MI 538",
         "Unnamed: 192": "MI 550",
         "Unnamed: 193": "MI 613",
         "Unnamed: 194": "MI 692",
         "Unnamed: 195": "MI 695",
         "Unnamed: 196": "MI 706",
         "Unnamed: 197": "MI 713",
         "Unnamed: 198": "MI 718",
         "Unnamed: 199": "MI 725",
         "Unnamed: 200": "MI 732",
         "Unnamed: 201": "MI 735",
         "Unnamed: 202": "MI 737",
         "Unnamed: 203": "nan",
         "Unnamed: 204": "nan",
         "Unnamed: 205": "nan",
         "_deepnote_index_column": 15
        },
        {
         "Average intensity": "DP",
         "Unnamed: 1": "4778283.333333333",
         "1x PBS": "1475638.3333333333",
         "Unnamed: 3": "2054503.3333333333",
         "Unnamed: 4": "5001728.333333333",
         "Unnamed: 5": "0",
         "Unnamed: 6": "540277.5",
         "Unnamed: 7": "0",
         "Unnamed: 8": "0",
         "Unnamed: 9": "661162.5",
         "Unnamed: 10": "0",
         "Unnamed: 11": "575437.5",
         "Unnamed: 12": "0",
         "Unnamed: 13": "0",
         "Unnamed: 14": "2145622.5",
         "Unnamed: 15": "2579452.5",
         "Unnamed: 16": "1181727.5",
         "Unnamed: 17": "7358187.5",
         "Unnamed: 18": "7585437.5",
         "Unnamed: 19": "9579587.5",
         "Unnamed: 20": "1884107.5",
         "Unnamed: 21": "6733137.5",
         "Unnamed: 22": "0",
         "Unnamed: 23": "9049937.5",
         "Unnamed: 24": "448077.5",
         "Unnamed: 25": "1798550.833333333",
         "Unnamed: 26": "0",
         "Unnamed: 27": "698225.833333333",
         "Unnamed: 28": "1352945.833333333",
         "Unnamed: 29": "8058990.833333333",
         "Unnamed: 30": "1815505.833333333",
         "Unnamed: 31": "2738105.833333333",
         "Unnamed: 32": "0",
         "Unnamed: 33": "3750690.833333333",
         "Unnamed: 34": "13429640.833333332",
         "Unnamed: 35": "2424175.833333333",
         "Unnamed: 36": "2699105.833333333",
         "Unnamed: 37": "176880.83333333302",
         "Unnamed: 38": "5445590.833333333",
         "Unnamed: 39": "4128664.166666667",
         "Unnamed: 40": "1290414.166666667",
         "Unnamed: 41": "8614144.166666668",
         "Unnamed: 42": "4734894.166666667",
         "Unnamed: 43": "732799.166666667",
         "Unnamed: 44": "2788899.166666667",
         "Unnamed: 45": "5585294.166666667",
         "Unnamed: 46": "3354164.166666667",
         "Unnamed: 47": "2342374.166666667",
         "Unnamed: 48": "1077664.166666667",
         "Unnamed: 49": "660009.166666667",
         "Unnamed: 50": "10876544.166666668",
         "Unnamed: 51": "12859044.166666668",
         "Unnamed: 52": "1478794.166666667",
         "Unnamed: 53": "0",
         "Unnamed: 54": "5339994.166666667",
         "Unnamed: 55": "4243749.166666667",
         "Unnamed: 56": "7691694.166666667",
         "Unnamed: 57": "9014244.166666668",
         "Unnamed: 58": "4963494.166666667",
         "Unnamed: 59": "11820897.5",
         "Unnamed: 60": "7979097.5",
         "Unnamed: 61": "6733947.5",
         "Unnamed: 62": "4252047.5",
         "Unnamed: 63": "1896232.5",
         "Unnamed: 64": "4604897.5",
         "Unnamed: 65": "10661097.5",
         "Unnamed: 66": "0",
         "Unnamed: 67": "3868797.5",
         "Unnamed: 68": "4523097.5",
         "Unnamed: 69": "4869847.5",
         "Unnamed: 70": "2093852.5",
         "Unnamed: 71": "812202.5",
         "Unnamed: 72": "1974157.5",
         "Unnamed: 73": "449907.5",
         "Unnamed: 74": "3100892.5",
         "Unnamed: 75": "4128852.5",
         "Unnamed: 76": "3369722.5",
         "Unnamed: 77": "5823597.5",
         "Unnamed: 78": "10944697.5",
         "Unnamed: 79": "5977140.833333333",
         "Unnamed: 80": "3262630.833333333",
         "Unnamed: 81": "6062990.833333333",
         "Unnamed: 82": "7631540.833333333",
         "Unnamed: 83": "11676890.833333332",
         "Unnamed: 84": "8859490.833333332",
         "Unnamed: 85": "5514810.833333333",
         "Unnamed: 86": "4795595.833333333",
         "Unnamed: 87": "4392885.833333333",
         "Unnamed: 88": "9859240.833333332",
         "Unnamed: 89": "7890090.833333333",
         "Unnamed: 90": "3105850.833333333",
         "Unnamed: 91": "3105850.833333333",
         "Unnamed: 92": "3945105.833333333",
         "Unnamed: 93": "4188330.833333333",
         "Unnamed: 94": "9497590.833333332",
         "Unnamed: 95": "3194330.833333333",
         "Unnamed: 96": "5369260.833333333",
         "Unnamed: 97": "3003560.833333333",
         "Unnamed: 98": "4939610.833333333",
         "Unnamed: 99": "7605276.666666667",
         "Unnamed: 100": "15395826.666666668",
         "Unnamed: 101": "2959811.666666667",
         "Unnamed: 102": "4699771.666666667",
         "Unnamed: 103": "6790226.666666667",
         "Unnamed: 104": "8329526.666666667",
         "Unnamed: 105": "3923016.666666667",
         "Unnamed: 106": "4341021.666666667",
         "Unnamed: 107": "4970306.666666667",
         "Unnamed: 108": "4363166.666666667",
         "Unnamed: 109": "5313196.666666667",
         "Unnamed: 110": "5932426.666666667",
         "Unnamed: 111": "6418576.666666667",
         "Unnamed: 112": "4848091.666666667",
         "Unnamed: 113": "5404576.666666667",
         "Unnamed: 114": "3735621.666666667",
         "Unnamed: 115": "7872726.666666667",
         "Unnamed: 116": "4825811.666666667",
         "Unnamed: 117": "4219521.666666667",
         "Unnamed: 118": "4111991.666666667",
         "Unnamed: 119": "3462260.833333333",
         "Unnamed: 120": "1955910.833333333",
         "Unnamed: 121": "2155895.833333333",
         "Unnamed: 122": "6813600.833333333",
         "Unnamed: 123": "4774100.833333333",
         "Unnamed: 124": "6490050.833333333",
         "Unnamed: 125": "3361785.833333333",
         "Unnamed: 126": "3528485.833333333",
         "Unnamed: 127": "2033520.833333333",
         "Unnamed: 128": "2427830.833333333",
         "Unnamed: 129": "2839950.833333333",
         "Unnamed: 130": "8201900.833333333",
         "Unnamed: 131": "4878605.833333333",
         "Unnamed: 132": "4516120.833333333",
         "Unnamed: 133": "2076135.833333333",
         "Unnamed: 134": "1379770.833333333",
         "Unnamed: 135": "1063185.833333333",
         "Unnamed: 136": "3796155.833333333",
         "Unnamed: 137": "5573600.833333333",
         "Unnamed: 138": "0",
         "Unnamed: 139": "1914645.833333333",
         "Unnamed: 140": "1305410.833333333",
         "Unnamed: 141": "2376495.833333333",
         "Unnamed: 142": "1287470.833333333",
         "Unnamed: 143": "8915430",
         "Unnamed: 144": "4247625",
         "Unnamed: 145": "2556530",
         "Unnamed: 146": "2992745",
         "Unnamed: 147": "5407045",
         "Unnamed: 148": "5125285",
         "Unnamed: 149": "6081540",
         "Unnamed: 150": "7943080",
         "Unnamed: 151": "3328000",
         "Unnamed: 152": "4705550",
         "Unnamed: 153": "3139930",
         "Unnamed: 154": "4260725",
         "Unnamed: 155": "4728905",
         "Unnamed: 156": "4467170",
         "Unnamed: 157": "1050465",
         "Unnamed: 158": "1021800",
         "Unnamed: 159": "5807370",
         "Unnamed: 160": "4717505",
         "Unnamed: 161": "3324955",
         "Unnamed: 162": "1561735",
         "Unnamed: 163": "753585",
         "Unnamed: 164": "6710280",
         "Unnamed: 165": "4832585",
         "Unnamed: 166": "1818790",
         "Unnamed: 167": "1042215",
         "Unnamed: 168": "2030510",
         "Unnamed: 169": "3071200",
         "Unnamed: 170": "3471080",
         "Unnamed: 171": "6543680",
         "Unnamed: 172": "2112965",
         "Unnamed: 173": "2633179.166666667",
         "Unnamed: 174": "4061579.166666667",
         "Unnamed: 175": "5877159.166666667",
         "Unnamed: 176": "133929.16666666698",
         "Unnamed: 177": "769779.166666667",
         "Unnamed: 178": "1426284.166666667",
         "Unnamed: 179": "1665809.166666667",
         "Unnamed: 180": "0",
         "Unnamed: 181": "1521674.166666667",
         "Unnamed: 182": "1953104.166666667",
         "Unnamed: 183": "190229.16666666698",
         "Unnamed: 184": "1828614.166666667",
         "Unnamed: 185": "2933889.166666667",
         "Unnamed: 186": "471274.166666667",
         "Unnamed: 187": "1473329.166666667",
         "Unnamed: 188": "697174.166666667",
         "Unnamed: 189": "2776204.166666667",
         "Unnamed: 190": "4261569.166666667",
         "Unnamed: 191": "2812744.166666667",
         "Unnamed: 192": "1925414.166666667",
         "Unnamed: 193": "425929.166666667",
         "Unnamed: 194": "2226114.166666667",
         "Unnamed: 195": "2478474.166666667",
         "Unnamed: 196": "2769479.166666667",
         "Unnamed: 197": "1506519.166666667",
         "Unnamed: 198": "1343364.166666667",
         "Unnamed: 199": "2729519.166666667",
         "Unnamed: 200": "755549.166666667",
         "Unnamed: 201": "794239.166666667",
         "Unnamed: 202": "220319.16666666698",
         "Unnamed: 203": "nan",
         "Unnamed: 204": "nan",
         "Unnamed: 205": "nan",
         "_deepnote_index_column": 16
        },
        {
         "Average intensity": "DF",
         "Unnamed: 1": "5033768.333333333",
         "1x PBS": "834443.3333333333",
         "Unnamed: 3": "1786923.3333333333",
         "Unnamed: 4": "2187423.333333333",
         "Unnamed: 5": "0",
         "Unnamed: 6": "0",
         "Unnamed: 7": "0",
         "Unnamed: 8": "0",
         "Unnamed: 9": "0",
         "Unnamed: 10": "0",
         "Unnamed: 11": "0",
         "Unnamed: 12": "0",
         "Unnamed: 13": "0",
         "Unnamed: 14": "874052.5",
         "Unnamed: 15": "510862.5",
         "Unnamed: 16": "0",
         "Unnamed: 17": "4630572.5",
         "Unnamed: 18": "2334677.5",
         "Unnamed: 19": "5906437.5",
         "Unnamed: 20": "606717.5",
         "Unnamed: 21": "4260832.5",
         "Unnamed: 22": "0",
         "Unnamed: 23": "3156372.5",
         "Unnamed: 24": "0",
         "Unnamed: 25": "0",
         "Unnamed: 26": "0",
         "Unnamed: 27": "0",
         "Unnamed: 28": "300475.833333333",
         "Unnamed: 29": "7048490.833333333",
         "Unnamed: 30": "507945.833333333",
         "Unnamed: 31": "1766765.833333333",
         "Unnamed: 32": "0",
         "Unnamed: 33": "2157715.833333333",
         "Unnamed: 34": "4665790.833333333",
         "Unnamed: 35": "0",
         "Unnamed: 36": "0",
         "Unnamed: 37": "0",
         "Unnamed: 38": "4407640.833333333",
         "Unnamed: 39": "2301284.166666667",
         "Unnamed: 40": "0",
         "Unnamed: 41": "5717794.166666667",
         "Unnamed: 42": "1515774.166666667",
         "Unnamed: 43": "673564.166666667",
         "Unnamed: 44": "407744.166666667",
         "Unnamed: 45": "3074299.166666667",
         "Unnamed: 46": "661369.166666667",
         "Unnamed: 47": "1509799.166666667",
         "Unnamed: 48": "0",
         "Unnamed: 49": "0",
         "Unnamed: 50": "7168544.166666667",
         "Unnamed: 51": "10252844.166666668",
         "Unnamed: 52": "0",
         "Unnamed: 53": "0",
         "Unnamed: 54": "357559.166666667",
         "Unnamed: 55": "2105074.166666667",
         "Unnamed: 56": "6067444.166666667",
         "Unnamed: 57": "8579244.166666668",
         "Unnamed: 58": "3114059.166666667",
         "Unnamed: 59": "3724282.5",
         "Unnamed: 60": "6832897.5",
         "Unnamed: 61": "9802047.5",
         "Unnamed: 62": "4462647.5",
         "Unnamed: 63": "796682.5",
         "Unnamed: 64": "3314797.5",
         "Unnamed: 65": "8261797.5",
         "Unnamed: 66": "0",
         "Unnamed: 67": "3349447.5",
         "Unnamed: 68": "4223597.5",
         "Unnamed: 69": "4419097.5",
         "Unnamed: 70": "2769462.5",
         "Unnamed: 71": "422942.5",
         "Unnamed: 72": "187957.5",
         "Unnamed: 73": "240137.5",
         "Unnamed: 74": "1537077.5",
         "Unnamed: 75": "3579667.5",
         "Unnamed: 76": "1530522.5",
         "Unnamed: 77": "5096347.5",
         "Unnamed: 78": "9100047.5",
         "Unnamed: 79": "5018815.833333333",
         "Unnamed: 80": "3287665.833333333",
         "Unnamed: 81": "5014020.833333333",
         "Unnamed: 82": "5718460.833333333",
         "Unnamed: 83": "10045690.833333332",
         "Unnamed: 84": "7638540.833333333",
         "Unnamed: 85": "6015240.833333333",
         "Unnamed: 86": "4690055.833333333",
         "Unnamed: 87": "4511525.833333333",
         "Unnamed: 88": "4451915.833333333",
         "Unnamed: 89": "5095775.833333333",
         "Unnamed: 90": "3357125.833333333",
         "Unnamed: 91": "3357125.833333333",
         "Unnamed: 92": "3567570.833333333",
         "Unnamed: 93": "3646065.833333333",
         "Unnamed: 94": "8736090.833333332",
         "Unnamed: 95": "3046240.833333333",
         "Unnamed: 96": "5322790.833333333",
         "Unnamed: 97": "3259575.833333333",
         "Unnamed: 98": "4805970.833333333",
         "Unnamed: 99": "7192176.666666667",
         "Unnamed: 100": "15597826.666666668",
         "Unnamed: 101": "3646561.666666667",
         "Unnamed: 102": "4211576.666666667",
         "Unnamed: 103": "6770426.666666667",
         "Unnamed: 104": "9297076.666666668",
         "Unnamed: 105": "4335496.666666667",
         "Unnamed: 106": "4552591.666666667",
         "Unnamed: 107": "5117641.666666667",
         "Unnamed: 108": "4542931.666666667",
         "Unnamed: 109": "5805926.666666667",
         "Unnamed: 110": "6876176.666666667",
         "Unnamed: 111": "5158601.666666667",
         "Unnamed: 112": "4891756.666666667",
         "Unnamed: 113": "6122026.666666667",
         "Unnamed: 114": "4194476.666666667",
         "Unnamed: 115": "7961826.666666667",
         "Unnamed: 116": "4527536.666666667",
         "Unnamed: 117": "5425996.666666667",
         "Unnamed: 118": "4066561.666666667",
         "Unnamed: 119": "3159455.833333333",
         "Unnamed: 120": "1899945.833333333",
         "Unnamed: 121": "1796725.833333333",
         "Unnamed: 122": "4712250.833333333",
         "Unnamed: 123": "3765125.833333333",
         "Unnamed: 124": "5856450.833333333",
         "Unnamed: 125": "2899585.833333333",
         "Unnamed: 126": "3372095.833333333",
         "Unnamed: 127": "2138560.833333333",
         "Unnamed: 128": "2107890.833333333",
         "Unnamed: 129": "2369445.833333333",
         "Unnamed: 130": "7717400.833333333",
         "Unnamed: 131": "3765050.833333333",
         "Unnamed: 132": "3437575.833333333",
         "Unnamed: 133": "974295.833333333",
         "Unnamed: 134": "1268630.833333333",
         "Unnamed: 135": "0",
         "Unnamed: 136": "2843870.833333333",
         "Unnamed: 137": "4822750.833333333",
         "Unnamed: 138": "0",
         "Unnamed: 139": "1101700.833333333",
         "Unnamed: 140": "1119115.833333333",
         "Unnamed: 141": "2175270.833333333",
         "Unnamed: 142": "294385.833333333",
         "Unnamed: 143": "7281980",
         "Unnamed: 144": "5415665",
         "Unnamed: 145": "3650185",
         "Unnamed: 146": "4039010",
         "Unnamed: 147": "5816860",
         "Unnamed: 148": "4514465",
         "Unnamed: 149": "6970980",
         "Unnamed: 150": "5056840",
         "Unnamed: 151": "4307645",
         "Unnamed: 152": "4157280",
         "Unnamed: 153": "2974255",
         "Unnamed: 154": "3714060",
         "Unnamed: 155": "4425250",
         "Unnamed: 156": "3997215",
         "Unnamed: 157": "427295",
         "Unnamed: 158": "2116680",
         "Unnamed: 159": "4188905",
         "Unnamed: 160": "4634695",
         "Unnamed: 161": "4481200",
         "Unnamed: 162": "2132230",
         "Unnamed: 163": "2154300",
         "Unnamed: 164": "3994120",
         "Unnamed: 165": "4312920",
         "Unnamed: 166": "2184965",
         "Unnamed: 167": "1312565",
         "Unnamed: 168": "3175905",
         "Unnamed: 169": "3983980",
         "Unnamed: 170": "2804835",
         "Unnamed: 171": "3821840",
         "Unnamed: 172": "3448745",
         "Unnamed: 173": "3781704.166666667",
         "Unnamed: 174": "4790989.166666667",
         "Unnamed: 175": "5620339.166666667",
         "Unnamed: 176": "1363824.166666667",
         "Unnamed: 177": "814119.166666667",
         "Unnamed: 178": "825409.166666667",
         "Unnamed: 179": "1089939.166666667",
         "Unnamed: 180": "518359.166666667",
         "Unnamed: 181": "1804214.166666667",
         "Unnamed: 182": "1169979.166666667",
         "Unnamed: 183": "0",
         "Unnamed: 184": "1933264.166666667",
         "Unnamed: 185": "1554549.166666667",
         "Unnamed: 186": "746844.166666667",
         "Unnamed: 187": "698654.166666667",
         "Unnamed: 188": "559914.166666667",
         "Unnamed: 189": "1883954.166666667",
         "Unnamed: 190": "4313364.166666667",
         "Unnamed: 191": "3031839.166666667",
         "Unnamed: 192": "2763864.166666667",
         "Unnamed: 193": "929749.166666667",
         "Unnamed: 194": "2012249.166666667",
         "Unnamed: 195": "3797279.166666667",
         "Unnamed: 196": "2736049.166666667",
         "Unnamed: 197": "787674.166666667",
         "Unnamed: 198": "1562754.166666667",
         "Unnamed: 199": "2638529.166666667",
         "Unnamed: 200": "1314139.166666667",
         "Unnamed: 201": "839429.166666667",
         "Unnamed: 202": "1147214.166666667",
         "Unnamed: 203": "nan",
         "Unnamed: 204": "nan",
         "Unnamed: 205": "nan",
         "_deepnote_index_column": 17
        },
        {
         "Average intensity": "BT",
         "Unnamed: 1": "5476128.333333333",
         "1x PBS": "836173.3333333333",
         "Unnamed: 3": "1742253.3333333333",
         "Unnamed: 4": "1922193.3333333333",
         "Unnamed: 5": "0",
         "Unnamed: 6": "0",
         "Unnamed: 7": "0",
         "Unnamed: 8": "0",
         "Unnamed: 9": "0",
         "Unnamed: 10": "0",
         "Unnamed: 11": "0",
         "Unnamed: 12": "0",
         "Unnamed: 13": "0",
         "Unnamed: 14": "0",
         "Unnamed: 15": "486067.5",
         "Unnamed: 16": "0",
         "Unnamed: 17": "1845892.5",
         "Unnamed: 18": "6717787.5",
         "Unnamed: 19": "8685137.5",
         "Unnamed: 20": "647677.5",
         "Unnamed: 21": "4130327.5",
         "Unnamed: 22": "98497.5",
         "Unnamed: 23": "4041762.5",
         "Unnamed: 24": "4338637.5",
         "Unnamed: 25": "0",
         "Unnamed: 26": "0",
         "Unnamed: 27": "0",
         "Unnamed: 28": "953110.833333333",
         "Unnamed: 29": "5194290.833333333",
         "Unnamed: 30": "0",
         "Unnamed: 31": "5089840.833333333",
         "Unnamed: 32": "0",
         "Unnamed: 33": "1839995.833333333",
         "Unnamed: 34": "9560690.833333332",
         "Unnamed: 35": "0",
         "Unnamed: 36": "666580.833333333",
         "Unnamed: 37": "2606775.833333333",
         "Unnamed: 38": "4831990.833333333",
         "Unnamed: 39": "0",
         "Unnamed: 40": "0",
         "Unnamed: 41": "5410844.166666667",
         "Unnamed: 42": "0",
         "Unnamed: 43": "0",
         "Unnamed: 44": "0",
         "Unnamed: 45": "4135584.166666667",
         "Unnamed: 46": "0",
         "Unnamed: 47": "6538244.166666667",
         "Unnamed: 48": "0",
         "Unnamed: 49": "0",
         "Unnamed: 50": "6141094.166666667",
         "Unnamed: 51": "6738094.166666667",
         "Unnamed: 52": "0",
         "Unnamed: 53": "0",
         "Unnamed: 54": "962744.166666667",
         "Unnamed: 55": "685294.166666667",
         "Unnamed: 56": "9843594.166666668",
         "Unnamed: 57": "4108454.166666667",
         "Unnamed: 58": "2419914.166666667",
         "Unnamed: 59": "2163252.5",
         "Unnamed: 60": "6159797.5",
         "Unnamed: 61": "12485297.5",
         "Unnamed: 62": "3427947.5",
         "Unnamed: 63": "2482537.5",
         "Unnamed: 64": "1484787.5",
         "Unnamed: 65": "5686847.5",
         "Unnamed: 66": "0",
         "Unnamed: 67": "0",
         "Unnamed: 68": "340722.5",
         "Unnamed: 69": "407997.5",
         "Unnamed: 70": "0",
         "Unnamed: 71": "0",
         "Unnamed: 72": "0",
         "Unnamed: 73": "0",
         "Unnamed: 74": "316207.5",
         "Unnamed: 75": "0",
         "Unnamed: 76": "0",
         "Unnamed: 77": "6700997.5",
         "Unnamed: 78": "4665397.5",
         "Unnamed: 79": "5921840.833333333",
         "Unnamed: 80": "1694280.833333333",
         "Unnamed: 81": "2961500.833333333",
         "Unnamed: 82": "5739035.833333333",
         "Unnamed: 83": "2728155.833333333",
         "Unnamed: 84": "8252040.833333333",
         "Unnamed: 85": "3300640.833333333",
         "Unnamed: 86": "2139815.833333333",
         "Unnamed: 87": "892210.833333333",
         "Unnamed: 88": "4372665.833333333",
         "Unnamed: 89": "2597810.833333333",
         "Unnamed: 90": "392680.833333333",
         "Unnamed: 91": "392680.833333333",
         "Unnamed: 92": "1606180.833333333",
         "Unnamed: 93": "1353055.833333333",
         "Unnamed: 94": "4688660.833333333",
         "Unnamed: 95": "800640.833333333",
         "Unnamed: 96": "2183860.833333333",
         "Unnamed: 97": "975550.833333333",
         "Unnamed: 98": "2137800.833333333",
         "Unnamed: 99": "5366326.666666667",
         "Unnamed: 100": "12262126.666666668",
         "Unnamed: 101": "2002011.666666667",
         "Unnamed: 102": "1764631.666666667",
         "Unnamed: 103": "3496221.666666667",
         "Unnamed: 104": "4909571.666666667",
         "Unnamed: 105": "730831.666666667",
         "Unnamed: 106": "1931271.666666667",
         "Unnamed: 107": "2967106.666666667",
         "Unnamed: 108": "1764146.666666667",
         "Unnamed: 109": "3284871.666666667",
         "Unnamed: 110": "10773826.666666668",
         "Unnamed: 111": "4074306.666666667",
         "Unnamed: 112": "2676686.666666667",
         "Unnamed: 113": "3413016.666666667",
         "Unnamed: 114": "1856941.666666667",
         "Unnamed: 115": "7542176.666666667",
         "Unnamed: 116": "2716531.666666667",
         "Unnamed: 117": "3329821.666666667",
         "Unnamed: 118": "2090706.666666667",
         "Unnamed: 119": "2207010.833333333",
         "Unnamed: 120": "631005.833333333",
         "Unnamed: 121": "172860.83333333302",
         "Unnamed: 122": "2070555.833333333",
         "Unnamed: 123": "2128730.833333333",
         "Unnamed: 124": "5111250.833333333",
         "Unnamed: 125": "1024580.833333333",
         "Unnamed: 126": "4828155.833333333",
         "Unnamed: 127": "0",
         "Unnamed: 128": "28830.833333333023",
         "Unnamed: 129": "0",
         "Unnamed: 130": "6534900.833333333",
         "Unnamed: 131": "2047570.833333333",
         "Unnamed: 132": "3341535.833333333",
         "Unnamed: 133": "0",
         "Unnamed: 134": "162820.83333333302",
         "Unnamed: 135": "0",
         "Unnamed: 136": "1520305.833333333",
         "Unnamed: 137": "1930430.833333333",
         "Unnamed: 138": "0",
         "Unnamed: 139": "509580.833333333",
         "Unnamed: 140": "0",
         "Unnamed: 141": "563410.833333333",
         "Unnamed: 142": "0",
         "Unnamed: 143": "5509625",
         "Unnamed: 144": "10698430",
         "Unnamed: 145": "6496680",
         "Unnamed: 146": "1651010",
         "Unnamed: 147": "7981030",
         "Unnamed: 148": "6234330",
         "Unnamed: 149": "3520345",
         "Unnamed: 150": "3658805",
         "Unnamed: 151": "2150820",
         "Unnamed: 152": "1411540",
         "Unnamed: 153": "1440665",
         "Unnamed: 154": "2847420",
         "Unnamed: 155": "3019780",
         "Unnamed: 156": "3488245",
         "Unnamed: 157": "0",
         "Unnamed: 158": "74320",
         "Unnamed: 159": "6604350",
         "Unnamed: 160": "3693450",
         "Unnamed: 161": "1902710",
         "Unnamed: 162": "850000",
         "Unnamed: 163": "0",
         "Unnamed: 164": "1311420",
         "Unnamed: 165": "2735075",
         "Unnamed: 166": "1568135",
         "Unnamed: 167": "36135",
         "Unnamed: 168": "281020",
         "Unnamed: 169": "2428540",
         "Unnamed: 170": "386600",
         "Unnamed: 171": "1883630",
         "Unnamed: 172": "1166445",
         "Unnamed: 173": "3171809.166666667",
         "Unnamed: 174": "2898114.166666667",
         "Unnamed: 175": "4185554.166666667",
         "Unnamed: 176": "0",
         "Unnamed: 177": "0",
         "Unnamed: 178": "0",
         "Unnamed: 179": "0",
         "Unnamed: 180": "0",
         "Unnamed: 181": "0",
         "Unnamed: 182": "0",
         "Unnamed: 183": "0",
         "Unnamed: 184": "65399.16666666698",
         "Unnamed: 185": "0",
         "Unnamed: 186": "0",
         "Unnamed: 187": "0",
         "Unnamed: 188": "0",
         "Unnamed: 189": "1050644.166666667",
         "Unnamed: 190": "731479.166666667",
         "Unnamed: 191": "428389.166666667",
         "Unnamed: 192": "537034.166666667",
         "Unnamed: 193": "0",
         "Unnamed: 194": "1457879.166666667",
         "Unnamed: 195": "3042499.166666667",
         "Unnamed: 196": "1965379.166666667",
         "Unnamed: 197": "0",
         "Unnamed: 198": "0",
         "Unnamed: 199": "1838069.166666667",
         "Unnamed: 200": "0",
         "Unnamed: 201": "1076849.166666667",
         "Unnamed: 202": "0",
         "Unnamed: 203": "nan",
         "Unnamed: 204": "nan",
         "Unnamed: 205": "nan",
         "_deepnote_index_column": 18
        },
        {
         "Average intensity": "PA",
         "Unnamed: 1": "984743.3333333333",
         "1x PBS": "739388.3333333333",
         "Unnamed: 3": "1806118.3333333333",
         "Unnamed: 4": "834983.3333333333",
         "Unnamed: 5": "0",
         "Unnamed: 6": "0",
         "Unnamed: 7": "0",
         "Unnamed: 8": "0",
         "Unnamed: 9": "0",
         "Unnamed: 10": "0",
         "Unnamed: 11": "0",
         "Unnamed: 12": "0",
         "Unnamed: 13": "729807.5",
         "Unnamed: 14": "8321687.5",
         "Unnamed: 15": "0",
         "Unnamed: 16": "139972.5",
         "Unnamed: 17": "3795072.5",
         "Unnamed: 18": "932237.5",
         "Unnamed: 19": "4890652.5",
         "Unnamed: 20": "1137112.5",
         "Unnamed: 21": "780862.5",
         "Unnamed: 22": "1314157.5",
         "Unnamed: 23": "1820927.5",
         "Unnamed: 24": "666837.5",
         "Unnamed: 25": "259500.83333333302",
         "Unnamed: 26": "0",
         "Unnamed: 27": "0",
         "Unnamed: 28": "1550060.833333333",
         "Unnamed: 29": "5491090.833333333",
         "Unnamed: 30": "0",
         "Unnamed: 31": "3046505.833333333",
         "Unnamed: 32": "0",
         "Unnamed: 33": "0",
         "Unnamed: 34": "4923790.833333333",
         "Unnamed: 35": "1388140.833333333",
         "Unnamed: 36": "0",
         "Unnamed: 37": "0",
         "Unnamed: 38": "8537840.833333332",
         "Unnamed: 39": "727789.166666667",
         "Unnamed: 40": "0",
         "Unnamed: 41": "1333499.166666667",
         "Unnamed: 42": "652719.166666667",
         "Unnamed: 43": "0",
         "Unnamed: 44": "0",
         "Unnamed: 45": "344069.166666667",
         "Unnamed: 46": "0",
         "Unnamed: 47": "0",
         "Unnamed: 48": "1282569.166666667",
         "Unnamed: 49": "0",
         "Unnamed: 50": "4415029.166666667",
         "Unnamed: 51": "2658289.166666667",
         "Unnamed: 52": "192149.16666666698",
         "Unnamed: 53": "0",
         "Unnamed: 54": "2042529.166666667",
         "Unnamed: 55": "799324.166666667",
         "Unnamed: 56": "568499.166666667",
         "Unnamed: 57": "1535654.166666667",
         "Unnamed: 58": "8015244.166666667",
         "Unnamed: 59": "5693297.5",
         "Unnamed: 60": "6095647.5",
         "Unnamed: 61": "5732647.5",
         "Unnamed: 62": "4149407.5",
         "Unnamed: 63": "0",
         "Unnamed: 64": "1396697.5",
         "Unnamed: 65": "692822.5",
         "Unnamed: 66": "0",
         "Unnamed: 67": "0",
         "Unnamed: 68": "516382.5",
         "Unnamed: 69": "436777.5",
         "Unnamed: 70": "0",
         "Unnamed: 71": "0",
         "Unnamed: 72": "0",
         "Unnamed: 73": "0",
         "Unnamed: 74": "542207.5",
         "Unnamed: 75": "0",
         "Unnamed: 76": "396672.5",
         "Unnamed: 77": "2302742.5",
         "Unnamed: 78": "1167722.5",
         "Unnamed: 79": "3490970.833333333",
         "Unnamed: 80": "2262895.833333333",
         "Unnamed: 81": "4037900.833333333",
         "Unnamed: 82": "4584740.833333333",
         "Unnamed: 83": "4550585.833333333",
         "Unnamed: 84": "5013305.833333333",
         "Unnamed: 85": "2357565.833333333",
         "Unnamed: 86": "1459875.833333333",
         "Unnamed: 87": "995290.833333333",
         "Unnamed: 88": "1489330.833333333",
         "Unnamed: 89": "1679505.833333333",
         "Unnamed: 90": "453430.833333333",
         "Unnamed: 91": "453430.833333333",
         "Unnamed: 92": "995635.833333333",
         "Unnamed: 93": "1493040.833333333",
         "Unnamed: 94": "2905980.833333333",
         "Unnamed: 95": "1119065.833333333",
         "Unnamed: 96": "2321530.833333333",
         "Unnamed: 97": "1132555.833333333",
         "Unnamed: 98": "2680315.833333333",
         "Unnamed: 99": "4626921.666666667",
         "Unnamed: 100": "10389176.666666668",
         "Unnamed: 101": "1349361.666666667",
         "Unnamed: 102": "2808501.666666667",
         "Unnamed: 103": "3107896.666666667",
         "Unnamed: 104": "4870471.666666667",
         "Unnamed: 105": "822791.666666667",
         "Unnamed: 106": "2152526.666666667",
         "Unnamed: 107": "2699981.666666667",
         "Unnamed: 108": "2840496.666666667",
         "Unnamed: 109": "3445451.666666667",
         "Unnamed: 110": "3184111.666666667",
         "Unnamed: 111": "4759951.666666667",
         "Unnamed: 112": "3306736.666666667",
         "Unnamed: 113": "3163546.666666667",
         "Unnamed: 114": "2866141.666666667",
         "Unnamed: 115": "4836346.666666667",
         "Unnamed: 116": "2866236.666666667",
         "Unnamed: 117": "3352106.666666667",
         "Unnamed: 118": "3521861.666666667",
         "Unnamed: 119": "2974985.833333333",
         "Unnamed: 120": "234100.83333333302",
         "Unnamed: 121": "96250.83333333302",
         "Unnamed: 122": "3302235.833333333",
         "Unnamed: 123": "2362000.833333333",
         "Unnamed: 124": "3259285.833333333",
         "Unnamed: 125": "818935.833333333",
         "Unnamed: 126": "2280370.833333333",
         "Unnamed: 127": "212620.83333333302",
         "Unnamed: 128": "0",
         "Unnamed: 129": "0",
         "Unnamed: 130": "4544230.833333333",
         "Unnamed: 131": "1838605.833333333",
         "Unnamed: 132": "1333375.833333333",
         "Unnamed: 133": "54715.83333333302",
         "Unnamed: 134": "3188135.833333333",
         "Unnamed: 135": "0",
         "Unnamed: 136": "2669335.833333333",
         "Unnamed: 137": "1677545.833333333",
         "Unnamed: 138": "0",
         "Unnamed: 139": "517600.833333333",
         "Unnamed: 140": "1433855.833333333",
         "Unnamed: 141": "315070.833333333",
         "Unnamed: 142": "0",
         "Unnamed: 143": "5301205",
         "Unnamed: 144": "5211005",
         "Unnamed: 145": "3191205",
         "Unnamed: 146": "2523525",
         "Unnamed: 147": "3431430",
         "Unnamed: 148": "2002875",
         "Unnamed: 149": "5371530",
         "Unnamed: 150": "3123415",
         "Unnamed: 151": "1888595",
         "Unnamed: 152": "2223630",
         "Unnamed: 153": "2414090",
         "Unnamed: 154": "2749470",
         "Unnamed: 155": "3206940",
         "Unnamed: 156": "3775780",
         "Unnamed: 157": "569530",
         "Unnamed: 158": "0",
         "Unnamed: 159": "3063765",
         "Unnamed: 160": "2060940",
         "Unnamed: 161": "2967775",
         "Unnamed: 162": "0",
         "Unnamed: 163": "1212730",
         "Unnamed: 164": "1673170",
         "Unnamed: 165": "3196900",
         "Unnamed: 166": "660165",
         "Unnamed: 167": "1443300",
         "Unnamed: 168": "1449435",
         "Unnamed: 169": "2484750",
         "Unnamed: 170": "1471070",
         "Unnamed: 171": "4403995",
         "Unnamed: 172": "2912845",
         "Unnamed: 173": "2943989.166666667",
         "Unnamed: 174": "5181594.166666667",
         "Unnamed: 175": "5358154.166666667",
         "Unnamed: 176": "830999.166666667",
         "Unnamed: 177": "0",
         "Unnamed: 178": "0",
         "Unnamed: 179": "613899.166666667",
         "Unnamed: 180": "950674.166666667",
         "Unnamed: 181": "1607234.166666667",
         "Unnamed: 182": "119959.16666666698",
         "Unnamed: 183": "0",
         "Unnamed: 184": "1058934.166666667",
         "Unnamed: 185": "115314.16666666698",
         "Unnamed: 186": "3949.166666666977",
         "Unnamed: 187": "0",
         "Unnamed: 188": "66834.16666666698",
         "Unnamed: 189": "1222969.166666667",
         "Unnamed: 190": "836954.166666667",
         "Unnamed: 191": "678634.166666667",
         "Unnamed: 192": "1230384.166666667",
         "Unnamed: 193": "711289.166666667",
         "Unnamed: 194": "1857914.166666667",
         "Unnamed: 195": "2254799.166666667",
         "Unnamed: 196": "2826474.166666667",
         "Unnamed: 197": "322429.166666667",
         "Unnamed: 198": "424959.166666667",
         "Unnamed: 199": "1708564.166666667",
         "Unnamed: 200": "1125864.166666667",
         "Unnamed: 201": "1233849.166666667",
         "Unnamed: 202": "0",
         "Unnamed: 203": "nan",
         "Unnamed: 204": "nan",
         "Unnamed: 205": "nan",
         "_deepnote_index_column": 19
        }
       ]
      },
      "text/plain": "   Average intensity      Unnamed: 1          1x PBS      Unnamed: 3  \\\n0                NaN              B1              B2              B3   \n1               1000        11070250         9548330        13692850   \n2                500         9749385         9012655        13244850   \n3                250         8010275        11050575        11050575   \n4                125         7576430         7711945        12355000   \n..               ...             ...             ...             ...   \n87          Bla g 10  1158608.333333  1424333.333333  1689318.333333   \n88          Bla g 11  1021478.333333   418523.333333  1810868.333333   \n89          Bla g 12   564673.333333   453313.333333   819283.333333   \n90          Bla g 13   827523.333333  1344788.333333   962713.333333   \n91          Bla g 16   245908.333333   491373.333333   129783.333333   \n\n        Unnamed: 4 Unnamed: 5 Unnamed: 6 Unnamed: 7 Unnamed: 8 Unnamed: 9  \\\n0               B4         B5         B6         B7         B8         B9   \n1         19885350   15728900   18015250   17120500   17482250   18349050   \n2         20327300   13953900   16377750   14808450   17841700   17833700   \n3         20487700   11527750   13208550   12141050   15137500   14976900   \n4         18249050   10731750   12480950   10774450   15046700   15211550   \n..             ...        ...        ...        ...        ...        ...   \n87  2015643.333333          0  1878952.5          0          0          0   \n88  1903113.333333          0   396462.5          0          0   883317.5   \n89  1361433.333333          0   658152.5          0          0          0   \n90  1819703.333333  2084567.5  1090072.5          0  1589087.5  1588862.5   \n91   947553.333333          0          0          0          0          0   \n\n    ...    Unnamed: 196   Unnamed: 197    Unnamed: 198    Unnamed: 199  \\\n0   ...             NaN            NaN             NaN             NaN   \n1   ...             NaN            NaN             NaN             NaN   \n2   ...             NaN            NaN             NaN             NaN   \n3   ...             NaN            NaN             NaN             NaN   \n4   ...             NaN            NaN             NaN             NaN   \n..  ...             ...            ...             ...             ...   \n87  ...  1264779.166667              0   849084.166667   727219.166667   \n88  ...   594854.166667              0   613364.166667   550199.166667   \n89  ...   279449.166667              0   480949.166667   265954.166667   \n90  ...  1269709.166667  447039.166667  1810369.166667  2328604.166667   \n91  ...               0              0               0               0   \n\n     Unnamed: 200    Unnamed: 201   Unnamed: 202 Unnamed: 203 Unnamed: 204  \\\n0             NaN             NaN            NaN          NaN          NaN   \n1             NaN             NaN            NaN          NaN          NaN   \n2             NaN             NaN            NaN          NaN          NaN   \n3             NaN             NaN            NaN          NaN          NaN   \n4             NaN             NaN            NaN          NaN          NaN   \n..            ...             ...            ...          ...          ...   \n87              0               0              0          NaN          NaN   \n88              0               0              0          NaN          NaN   \n89              0               0              0          NaN          NaN   \n90  514734.166667  1702049.166667  115149.166667          NaN          NaN   \n91              0               0              0          NaN          NaN   \n\n   Unnamed: 205  \n0           NaN  \n1           NaN  \n2           NaN  \n3           NaN  \n4           NaN  \n..          ...  \n87          NaN  \n88          NaN  \n89          NaN  \n90          NaN  \n91          NaN  \n\n[92 rows x 206 columns]",
      "text/html": "<div>\n<style scoped>\n    .dataframe tbody tr th:only-of-type {\n        vertical-align: middle;\n    }\n\n    .dataframe tbody tr th {\n        vertical-align: top;\n    }\n\n    .dataframe thead th {\n        text-align: right;\n    }\n</style>\n<table border=\"1\" class=\"dataframe\">\n  <thead>\n    <tr style=\"text-align: right;\">\n      <th></th>\n      <th>Average intensity</th>\n      <th>Unnamed: 1</th>\n      <th>1x PBS</th>\n      <th>Unnamed: 3</th>\n      <th>Unnamed: 4</th>\n      <th>Unnamed: 5</th>\n      <th>Unnamed: 6</th>\n      <th>Unnamed: 7</th>\n      <th>Unnamed: 8</th>\n      <th>Unnamed: 9</th>\n      <th>...</th>\n      <th>Unnamed: 196</th>\n      <th>Unnamed: 197</th>\n      <th>Unnamed: 198</th>\n      <th>Unnamed: 199</th>\n      <th>Unnamed: 200</th>\n      <th>Unnamed: 201</th>\n      <th>Unnamed: 202</th>\n      <th>Unnamed: 203</th>\n      <th>Unnamed: 204</th>\n      <th>Unnamed: 205</th>\n    </tr>\n  </thead>\n  <tbody>\n    <tr>\n      <th>0</th>\n      <td>NaN</td>\n      <td>B1</td>\n      <td>B2</td>\n      <td>B3</td>\n      <td>B4</td>\n      <td>B5</td>\n      <td>B6</td>\n      <td>B7</td>\n      <td>B8</td>\n      <td>B9</td>\n      <td>...</td>\n      <td>NaN</td>\n      <td>NaN</td>\n      <td>NaN</td>\n      <td>NaN</td>\n      <td>NaN</td>\n      <td>NaN</td>\n      <td>NaN</td>\n      <td>NaN</td>\n      <td>NaN</td>\n      <td>NaN</td>\n    </tr>\n    <tr>\n      <th>1</th>\n      <td>1000</td>\n      <td>11070250</td>\n      <td>9548330</td>\n      <td>13692850</td>\n      <td>19885350</td>\n      <td>15728900</td>\n      <td>18015250</td>\n      <td>17120500</td>\n      <td>17482250</td>\n      <td>18349050</td>\n      <td>...</td>\n      <td>NaN</td>\n      <td>NaN</td>\n      <td>NaN</td>\n      <td>NaN</td>\n      <td>NaN</td>\n      <td>NaN</td>\n      <td>NaN</td>\n      <td>NaN</td>\n      <td>NaN</td>\n      <td>NaN</td>\n    </tr>\n    <tr>\n      <th>2</th>\n      <td>500</td>\n      <td>9749385</td>\n      <td>9012655</td>\n      <td>13244850</td>\n      <td>20327300</td>\n      <td>13953900</td>\n      <td>16377750</td>\n      <td>14808450</td>\n      <td>17841700</td>\n      <td>17833700</td>\n      <td>...</td>\n      <td>NaN</td>\n      <td>NaN</td>\n      <td>NaN</td>\n      <td>NaN</td>\n      <td>NaN</td>\n      <td>NaN</td>\n      <td>NaN</td>\n      <td>NaN</td>\n      <td>NaN</td>\n      <td>NaN</td>\n    </tr>\n    <tr>\n      <th>3</th>\n      <td>250</td>\n      <td>8010275</td>\n      <td>11050575</td>\n      <td>11050575</td>\n      <td>20487700</td>\n      <td>11527750</td>\n      <td>13208550</td>\n      <td>12141050</td>\n      <td>15137500</td>\n      <td>14976900</td>\n      <td>...</td>\n      <td>NaN</td>\n      <td>NaN</td>\n      <td>NaN</td>\n      <td>NaN</td>\n      <td>NaN</td>\n      <td>NaN</td>\n      <td>NaN</td>\n      <td>NaN</td>\n      <td>NaN</td>\n      <td>NaN</td>\n    </tr>\n    <tr>\n      <th>4</th>\n      <td>125</td>\n      <td>7576430</td>\n      <td>7711945</td>\n      <td>12355000</td>\n      <td>18249050</td>\n      <td>10731750</td>\n      <td>12480950</td>\n      <td>10774450</td>\n      <td>15046700</td>\n      <td>15211550</td>\n      <td>...</td>\n      <td>NaN</td>\n      <td>NaN</td>\n      <td>NaN</td>\n      <td>NaN</td>\n      <td>NaN</td>\n      <td>NaN</td>\n      <td>NaN</td>\n      <td>NaN</td>\n      <td>NaN</td>\n      <td>NaN</td>\n    </tr>\n    <tr>\n      <th>...</th>\n      <td>...</td>\n      <td>...</td>\n      <td>...</td>\n      <td>...</td>\n      <td>...</td>\n      <td>...</td>\n      <td>...</td>\n      <td>...</td>\n      <td>...</td>\n      <td>...</td>\n      <td>...</td>\n      <td>...</td>\n      <td>...</td>\n      <td>...</td>\n      <td>...</td>\n      <td>...</td>\n      <td>...</td>\n      <td>...</td>\n      <td>...</td>\n      <td>...</td>\n      <td>...</td>\n    </tr>\n    <tr>\n      <th>87</th>\n      <td>Bla g 10</td>\n      <td>1158608.333333</td>\n      <td>1424333.333333</td>\n      <td>1689318.333333</td>\n      <td>2015643.333333</td>\n      <td>0</td>\n      <td>1878952.5</td>\n      <td>0</td>\n      <td>0</td>\n      <td>0</td>\n      <td>...</td>\n      <td>1264779.166667</td>\n      <td>0</td>\n      <td>849084.166667</td>\n      <td>727219.166667</td>\n      <td>0</td>\n      <td>0</td>\n      <td>0</td>\n      <td>NaN</td>\n      <td>NaN</td>\n      <td>NaN</td>\n    </tr>\n    <tr>\n      <th>88</th>\n      <td>Bla g 11</td>\n      <td>1021478.333333</td>\n      <td>418523.333333</td>\n      <td>1810868.333333</td>\n      <td>1903113.333333</td>\n      <td>0</td>\n      <td>396462.5</td>\n      <td>0</td>\n      <td>0</td>\n      <td>883317.5</td>\n      <td>...</td>\n      <td>594854.166667</td>\n      <td>0</td>\n      <td>613364.166667</td>\n      <td>550199.166667</td>\n      <td>0</td>\n      <td>0</td>\n      <td>0</td>\n      <td>NaN</td>\n      <td>NaN</td>\n      <td>NaN</td>\n    </tr>\n    <tr>\n      <th>89</th>\n      <td>Bla g 12</td>\n      <td>564673.333333</td>\n      <td>453313.333333</td>\n      <td>819283.333333</td>\n      <td>1361433.333333</td>\n      <td>0</td>\n      <td>658152.5</td>\n      <td>0</td>\n      <td>0</td>\n      <td>0</td>\n      <td>...</td>\n      <td>279449.166667</td>\n      <td>0</td>\n      <td>480949.166667</td>\n      <td>265954.166667</td>\n      <td>0</td>\n      <td>0</td>\n      <td>0</td>\n      <td>NaN</td>\n      <td>NaN</td>\n      <td>NaN</td>\n    </tr>\n    <tr>\n      <th>90</th>\n      <td>Bla g 13</td>\n      <td>827523.333333</td>\n      <td>1344788.333333</td>\n      <td>962713.333333</td>\n      <td>1819703.333333</td>\n      <td>2084567.5</td>\n      <td>1090072.5</td>\n      <td>0</td>\n      <td>1589087.5</td>\n      <td>1588862.5</td>\n      <td>...</td>\n      <td>1269709.166667</td>\n      <td>447039.166667</td>\n      <td>1810369.166667</td>\n      <td>2328604.166667</td>\n      <td>514734.166667</td>\n      <td>1702049.166667</td>\n      <td>115149.166667</td>\n      <td>NaN</td>\n      <td>NaN</td>\n      <td>NaN</td>\n    </tr>\n    <tr>\n      <th>91</th>\n      <td>Bla g 16</td>\n      <td>245908.333333</td>\n      <td>491373.333333</td>\n      <td>129783.333333</td>\n      <td>947553.333333</td>\n      <td>0</td>\n      <td>0</td>\n      <td>0</td>\n      <td>0</td>\n      <td>0</td>\n      <td>...</td>\n      <td>0</td>\n      <td>0</td>\n      <td>0</td>\n      <td>0</td>\n      <td>0</td>\n      <td>0</td>\n      <td>0</td>\n      <td>NaN</td>\n      <td>NaN</td>\n      <td>NaN</td>\n    </tr>\n  </tbody>\n</table>\n<p>92 rows × 206 columns</p>\n</div>"
     },
     "metadata": {}
    }
   ]
  },
  {
   "cell_type": "code",
   "metadata": {
    "cell_id": "85c24876-46ec-4ddb-b9c3-4b626048bae2",
    "tags": [],
    "deepnote_cell_height": 762,
    "deepnote_to_be_reexecuted": false,
    "source_hash": "9ae0d1ae",
    "execution_start": 1645427659599,
    "execution_millis": 6,
    "deepnote_output_heights": [
     611
    ],
    "deepnote_cell_type": "code"
   },
   "source": "# We see that the serum ids are in row 15. Let's get that\nsunway_c_id = sunway_c.iloc[15].dropna()\nsunway_c_id = list(sunway_c_id)\nsunway_c_id",
   "execution_count": null,
   "outputs": [
    {
     "output_type": "execute_result",
     "execution_count": 5,
     "data": {
      "text/plain": "['MI 23',\n 'MI 408',\n 'MI 564',\n 'MI 566',\n 'MI 1',\n 'MI 2',\n 'MI 4',\n 'MI 5',\n 'MI 8',\n 'MI 10',\n 'MI 15',\n 'MI 56',\n 'MI 70',\n 'MI 71',\n 'MI 78',\n 'MI 209',\n 'MI 210',\n 'MI 212',\n 'MI 217',\n 'MI 238',\n 'MI 241',\n 'MI 252',\n 'MI 254',\n 'MI 264',\n 'MI 148',\n 'MI 211',\n 'MI 299',\n 'MI 340',\n 'MI 387',\n 'MI 393',\n 'MI 409',\n 'MI 416',\n 'MI 432',\n 'MI 452',\n 'MI 474',\n 'MI 545',\n 'MI 580',\n 'MI 602',\n 'MI 104',\n 'MI 136',\n 'MI 171',\n 'MI 220',\n 'MI 221',\n 'MI 240',\n 'MI 261',\n 'MI 265',\n 'MI 322',\n 'MI 357',\n 'MI 392',\n 'MI 402',\n 'MI 418',\n 'MI 433',\n 'MI 489',\n 'MI 573',\n 'MI 615',\n 'MI 705',\n 'MI 711',\n 'MI 721',\n 'MI 11',\n 'MI 25',\n 'MI 86',\n 'MI 159',\n 'MI 172',\n 'MI 183',\n 'MI 218',\n 'MI 255',\n 'MI 263',\n 'MI 427',\n 'MI 435',\n 'MI 473',\n 'MI 498',\n 'MI 599',\n 'MI 633 ',\n 'MI 651',\n 'MI 666',\n 'MI 670',\n 'MI 682',\n 'MI 704',\n 'MI 205',\n 'MI 267',\n 'MI 285',\n 'MI 319',\n 'MI 327',\n 'MI 345',\n 'MI 346',\n 'MI 348',\n 'MI 369',\n 'MI 370',\n 'MI 430',\n 'MI 439',\n 'MI 479',\n 'MI 539',\n 'MI 548',\n 'MI 569',\n 'MI 691',\n 'MI 693',\n 'MI 726',\n 'MI 739',\n 'MI 20',\n 'MI 49',\n 'MI 89',\n 'MI 152',\n 'MI 253',\n 'MI 303',\n 'MI 307',\n 'MI 324',\n 'MI 350',\n 'MI 376',\n 'MI 379',\n 'MI 428',\n 'MI 519',\n 'MI 522',\n 'MI 524',\n 'MI 547',\n 'MI 582',\n 'MI 589',\n 'MI 635',\n 'MI 702',\n 'MI 29',\n 'MI 32',\n 'MI 36',\n 'MI 38',\n 'MI 42',\n 'MI 45',\n 'MI 50',\n 'MI 52',\n 'MI 55',\n 'MI 59',\n 'MI 60',\n 'MI 62',\n 'MI 65',\n 'MI 66',\n 'MI 68',\n 'MI 92',\n 'MI 121',\n 'MI 124',\n 'MI 128',\n 'MI 137',\n 'MI 143',\n 'MI 160',\n 'MI 164',\n 'MI 165',\n 'MI 204',\n 'MI 207',\n 'MI 296',\n 'MI 297',\n 'MI 300',\n 'MI 305',\n 'MI 337',\n 'MI 338',\n 'MI 374',\n 'MI 383',\n 'MI 388',\n 'MI 391',\n 'MI 400',\n 'MI 414',\n 'MI 422',\n 'MI 445',\n 'MI 451',\n 'MI 453',\n 'MI 491',\n 'MI 505',\n 'MI 509',\n 'MI 540',\n 'MI 581',\n 'MI 616',\n 'MI 641',\n 'MI 655',\n 'MI 662',\n 'MI 675',\n 'MI 683',\n 'MI 684',\n 'MI 3',\n 'MI 37',\n 'MI 39',\n 'MI 53',\n 'MI 63',\n 'MI 108',\n 'MI 119',\n 'MI 173',\n 'MI 201',\n 'MI 202',\n 'MI 293',\n 'MI 308',\n 'MI 349',\n 'MI 353',\n 'MI 356',\n 'MI 386',\n 'MI 426',\n 'MI 517',\n 'MI 538',\n 'MI 550',\n 'MI 613',\n 'MI 692',\n 'MI 695',\n 'MI 706',\n 'MI 713',\n 'MI 718',\n 'MI 725',\n 'MI 732',\n 'MI 735',\n 'MI 737']"
     },
     "metadata": {}
    }
   ]
  },
  {
   "cell_type": "code",
   "metadata": {
    "cell_id": "2a744a1b-3e4a-4c7b-9be2-b86fe0d17ff4",
    "tags": [],
    "deepnote_cell_height": 99,
    "deepnote_to_be_reexecuted": false,
    "source_hash": "978a0491",
    "execution_start": 1645427659610,
    "execution_millis": 24,
    "deepnote_cell_type": "code"
   },
   "source": "# Load in what we have\nour_xl = pd.read_excel(\"Sunway_Cockroach_Ours.xlsx\")",
   "execution_count": null,
   "outputs": []
  },
  {
   "cell_type": "code",
   "metadata": {
    "cell_id": "2239759e-87e6-4dac-b412-2fb547107483",
    "tags": [],
    "deepnote_cell_height": 598,
    "deepnote_to_be_reexecuted": false,
    "source_hash": "3b1dd807",
    "execution_start": 1645427659666,
    "execution_millis": 7,
    "deepnote_cell_type": "code"
   },
   "source": "our_xl",
   "execution_count": null,
   "outputs": [
    {
     "output_type": "execute_result",
     "execution_count": 7,
     "data": {
      "application/vnd.deepnote.dataframe.v3+json": {
       "column_count": 3,
       "row_count": 131,
       "columns": [
        {
         "name": "Batch",
         "dtype": "object",
         "stats": {
          "unique_count": 1,
          "nan_count": 0,
          "categories": [
           {
            "name": "MI",
            "count": 131
           }
          ]
         }
        },
        {
         "name": "ID",
         "dtype": "int64",
         "stats": {
          "unique_count": 130,
          "nan_count": 0,
          "min": "1",
          "max": "738",
          "histogram": [
           {
            "bin_start": 1,
            "bin_end": 74.7,
            "count": 13
           },
           {
            "bin_start": 74.7,
            "bin_end": 148.4,
            "count": 7
           },
           {
            "bin_start": 148.4,
            "bin_end": 222.10000000000002,
            "count": 8
           },
           {
            "bin_start": 222.10000000000002,
            "bin_end": 295.8,
            "count": 6
           },
           {
            "bin_start": 295.8,
            "bin_end": 369.5,
            "count": 7
           },
           {
            "bin_start": 369.5,
            "bin_end": 443.20000000000005,
            "count": 13
           },
           {
            "bin_start": 443.20000000000005,
            "bin_end": 516.9,
            "count": 17
           },
           {
            "bin_start": 516.9,
            "bin_end": 590.6,
            "count": 17
           },
           {
            "bin_start": 590.6,
            "bin_end": 664.3000000000001,
            "count": 18
           },
           {
            "bin_start": 664.3000000000001,
            "bin_end": 738,
            "count": 25
           }
          ]
         }
        },
        {
         "name": "Unnamed: 2",
         "dtype": "object",
         "stats": {
          "unique_count": 2,
          "nan_count": 121,
          "categories": [
           {
            "name": "?",
            "count": 9
           },
           {
            "name": "Repeat?",
            "count": 1
           },
           {
            "name": "Missing",
            "count": 121
           }
          ]
         }
        },
        {
         "name": "_deepnote_index_column",
         "dtype": "int64"
        }
       ],
       "rows": [
        {
         "Batch": "MI",
         "ID": 1,
         "Unnamed: 2": "nan",
         "_deepnote_index_column": 0
        },
        {
         "Batch": "MI",
         "ID": 2,
         "Unnamed: 2": "nan",
         "_deepnote_index_column": 1
        },
        {
         "Batch": "MI",
         "ID": 4,
         "Unnamed: 2": "nan",
         "_deepnote_index_column": 2
        },
        {
         "Batch": "MI",
         "ID": 5,
         "Unnamed: 2": "nan",
         "_deepnote_index_column": 3
        },
        {
         "Batch": "MI",
         "ID": 8,
         "Unnamed: 2": "nan",
         "_deepnote_index_column": 4
        },
        {
         "Batch": "MI",
         "ID": 10,
         "Unnamed: 2": "nan",
         "_deepnote_index_column": 5
        },
        {
         "Batch": "MI",
         "ID": 14,
         "Unnamed: 2": "nan",
         "_deepnote_index_column": 6
        },
        {
         "Batch": "MI",
         "ID": 15,
         "Unnamed: 2": "nan",
         "_deepnote_index_column": 7
        },
        {
         "Batch": "MI",
         "ID": 27,
         "Unnamed: 2": "nan",
         "_deepnote_index_column": 8
        },
        {
         "Batch": "MI",
         "ID": 30,
         "Unnamed: 2": "nan",
         "_deepnote_index_column": 9
        }
       ]
      },
      "text/plain": "    Batch   ID Unnamed: 2\n0      MI    1        NaN\n1      MI    2        NaN\n2      MI    4        NaN\n3      MI    5        NaN\n4      MI    8        NaN\n..    ...  ...        ...\n126    MI  339        NaN\n127    MI  340        NaN\n128    MI  351        NaN\n129    MI  386          ?\n130    MI  393        NaN\n\n[131 rows x 3 columns]",
      "text/html": "<div>\n<style scoped>\n    .dataframe tbody tr th:only-of-type {\n        vertical-align: middle;\n    }\n\n    .dataframe tbody tr th {\n        vertical-align: top;\n    }\n\n    .dataframe thead th {\n        text-align: right;\n    }\n</style>\n<table border=\"1\" class=\"dataframe\">\n  <thead>\n    <tr style=\"text-align: right;\">\n      <th></th>\n      <th>Batch</th>\n      <th>ID</th>\n      <th>Unnamed: 2</th>\n    </tr>\n  </thead>\n  <tbody>\n    <tr>\n      <th>0</th>\n      <td>MI</td>\n      <td>1</td>\n      <td>NaN</td>\n    </tr>\n    <tr>\n      <th>1</th>\n      <td>MI</td>\n      <td>2</td>\n      <td>NaN</td>\n    </tr>\n    <tr>\n      <th>2</th>\n      <td>MI</td>\n      <td>4</td>\n      <td>NaN</td>\n    </tr>\n    <tr>\n      <th>3</th>\n      <td>MI</td>\n      <td>5</td>\n      <td>NaN</td>\n    </tr>\n    <tr>\n      <th>4</th>\n      <td>MI</td>\n      <td>8</td>\n      <td>NaN</td>\n    </tr>\n    <tr>\n      <th>...</th>\n      <td>...</td>\n      <td>...</td>\n      <td>...</td>\n    </tr>\n    <tr>\n      <th>126</th>\n      <td>MI</td>\n      <td>339</td>\n      <td>NaN</td>\n    </tr>\n    <tr>\n      <th>127</th>\n      <td>MI</td>\n      <td>340</td>\n      <td>NaN</td>\n    </tr>\n    <tr>\n      <th>128</th>\n      <td>MI</td>\n      <td>351</td>\n      <td>NaN</td>\n    </tr>\n    <tr>\n      <th>129</th>\n      <td>MI</td>\n      <td>386</td>\n      <td>?</td>\n    </tr>\n    <tr>\n      <th>130</th>\n      <td>MI</td>\n      <td>393</td>\n      <td>NaN</td>\n    </tr>\n  </tbody>\n</table>\n<p>131 rows × 3 columns</p>\n</div>"
     },
     "metadata": {}
    }
   ]
  },
  {
   "cell_type": "code",
   "metadata": {
    "cell_id": "6405b231-2dc7-404a-9ac5-c22ff4c81554",
    "tags": [],
    "deepnote_cell_height": 224.796875,
    "deepnote_to_be_reexecuted": false,
    "source_hash": "d85d39ba",
    "execution_start": 1645427659680,
    "execution_millis": 22,
    "deepnote_cell_type": "code"
   },
   "source": "# Create a list of \"Batch ID\" for comparison\nours = []\nfor index, row in our_xl.iterrows():\n    id = row[\"Batch\"] + \" \" + str(row[\"ID\"])\n    ours.append(id)\n\nprint(ours)",
   "execution_count": null,
   "outputs": [
    {
     "name": "stdout",
     "text": "['MI 1', 'MI 2', 'MI 4', 'MI 5', 'MI 8', 'MI 10', 'MI 14', 'MI 15', 'MI 27', 'MI 30', 'MI 61', 'MI 74', 'MI 120', 'MI 122', 'MI 127', 'MI 129', 'MI 131', 'MI 142', 'MI 146', 'MI 158', 'MI 162', 'MI 168', 'MI 169', 'MI 216', 'MI 217', 'MI 219', 'MI 220', 'MI 234', 'MI 235', 'MI 257', 'MI 266', 'MI 270', 'MI 409', 'MI 427', 'MI 428', 'MI 430', 'MI 301', 'MI 394', 'MI 398', 'MI 389', 'MI 332', 'MI 377', 'MI 344', 'MI 405', 'MI 547', 'MI 615', 'MI 616', 'MI 619', 'MI 621', 'MI 626', 'MI 635', 'MI 638', 'MI 642', 'MI 651', 'MI 641', 'MI 655', 'MI 656', 'MI 658', 'MI 659', 'MI 662', 'MI 611', 'MI 618', 'MI 620', 'MI 704', 'MI 708', 'MI 728', 'MI 738', 'MI 668', 'MI 675', 'MI 676', 'MI 688', 'MI 683', 'MI 688', 'MI 690', 'MI 694', 'MI 701', 'MI 703', 'MI 705', 'MI 706', 'MI 710', 'MI 712', 'MI 713', 'MI 721', 'MI 725', 'MI 732', 'MI 737', 'MI 711', 'MI 733', 'MI 461', 'MI 474', 'MI 519', 'MI 520', 'MI 523', 'MI 539', 'MI 545', 'MI 580', 'MI 581', 'MI 589', 'MI 573', 'MI 578', 'MI 528', 'MI 555', 'MI 587', 'MI 552', 'MI 504', 'MI 505', 'MI 506', 'MI 515', 'MI 548', 'MI 561', 'MI 479', 'MI 492', 'MI 489', 'MI 499', 'MI 471', 'MI 44', 'MI 472', 'MI 467', 'MI 445', 'MI 439', 'MI 446', 'MI 442', 'MI 453', 'MI 452', 'MI 287', 'MI 299', 'MI 339', 'MI 340', 'MI 351', 'MI 386', 'MI 393']\n",
     "output_type": "stream"
    }
   ]
  },
  {
   "cell_type": "markdown",
   "source": "Now we can compare between the 2 lists, sunway_c_id and ours",
   "metadata": {
    "cell_id": "b28d0370-c350-427c-8656-d7e71506f2cc",
    "tags": [],
    "deepnote_cell_height": 52.390625,
    "deepnote_cell_type": "markdown"
   }
  },
  {
   "cell_type": "code",
   "metadata": {
    "cell_id": "89a89f67-1c58-4b1f-9ddb-bf160522f31f",
    "tags": [],
    "deepnote_cell_height": 242,
    "deepnote_to_be_reexecuted": false,
    "source_hash": "21663f9d",
    "execution_start": 1645427659706,
    "execution_millis": 7,
    "deepnote_cell_type": "code"
   },
   "source": "print(f\"Number screened by Malaysia: {len(sunway_c_id)}\")\nprint(f\"Number we have: {len(ours)}\")\n\nintersection = list(set(sunway_c_id) & set(ours))\n\nprint(f\"Number in common: {len(intersection)}\")",
   "execution_count": null,
   "outputs": [
    {
     "name": "stdout",
     "text": "Number screened by Malaysia: 202\nNumber we have: 131\nNumber in common: 52\n",
     "output_type": "stream"
    }
   ]
  },
  {
   "cell_type": "markdown",
   "source": "It is either we only have 52 to screen, or we have to find the Batch I serum from our fridges",
   "metadata": {
    "cell_id": "b58c74a9-a5a6-4eaf-bec6-65e0cd0d213b",
    "tags": [],
    "deepnote_cell_height": 52.390625,
    "deepnote_cell_type": "markdown"
   }
  },
  {
   "cell_type": "code",
   "metadata": {
    "cell_id": "ffac1985-cc19-471b-9491-e6908efd8628",
    "tags": [],
    "deepnote_cell_height": 190.796875,
    "deepnote_to_be_reexecuted": false,
    "source_hash": "97ce6af6",
    "execution_start": 1645427659720,
    "execution_millis": 6,
    "deepnote_output_heights": [
     611
    ],
    "deepnote_cell_type": "code"
   },
   "source": "ours.sort()\nsunway_c_id.sort()\nprint(ours)\nprint(sunway_c_id)",
   "execution_count": null,
   "outputs": [
    {
     "name": "stdout",
     "text": "['MI 1', 'MI 10', 'MI 120', 'MI 122', 'MI 127', 'MI 129', 'MI 131', 'MI 14', 'MI 142', 'MI 146', 'MI 15', 'MI 158', 'MI 162', 'MI 168', 'MI 169', 'MI 2', 'MI 216', 'MI 217', 'MI 219', 'MI 220', 'MI 234', 'MI 235', 'MI 257', 'MI 266', 'MI 27', 'MI 270', 'MI 287', 'MI 299', 'MI 30', 'MI 301', 'MI 332', 'MI 339', 'MI 340', 'MI 344', 'MI 351', 'MI 377', 'MI 386', 'MI 389', 'MI 393', 'MI 394', 'MI 398', 'MI 4', 'MI 405', 'MI 409', 'MI 427', 'MI 428', 'MI 430', 'MI 439', 'MI 44', 'MI 442', 'MI 445', 'MI 446', 'MI 452', 'MI 453', 'MI 461', 'MI 467', 'MI 471', 'MI 472', 'MI 474', 'MI 479', 'MI 489', 'MI 492', 'MI 499', 'MI 5', 'MI 504', 'MI 505', 'MI 506', 'MI 515', 'MI 519', 'MI 520', 'MI 523', 'MI 528', 'MI 539', 'MI 545', 'MI 547', 'MI 548', 'MI 552', 'MI 555', 'MI 561', 'MI 573', 'MI 578', 'MI 580', 'MI 581', 'MI 587', 'MI 589', 'MI 61', 'MI 611', 'MI 615', 'MI 616', 'MI 618', 'MI 619', 'MI 620', 'MI 621', 'MI 626', 'MI 635', 'MI 638', 'MI 641', 'MI 642', 'MI 651', 'MI 655', 'MI 656', 'MI 658', 'MI 659', 'MI 662', 'MI 668', 'MI 675', 'MI 676', 'MI 683', 'MI 688', 'MI 688', 'MI 690', 'MI 694', 'MI 701', 'MI 703', 'MI 704', 'MI 705', 'MI 706', 'MI 708', 'MI 710', 'MI 711', 'MI 712', 'MI 713', 'MI 721', 'MI 725', 'MI 728', 'MI 732', 'MI 733', 'MI 737', 'MI 738', 'MI 74', 'MI 8']\n['MI 1', 'MI 10', 'MI 104', 'MI 108', 'MI 11', 'MI 119', 'MI 121', 'MI 124', 'MI 128', 'MI 136', 'MI 137', 'MI 143', 'MI 148', 'MI 15', 'MI 152', 'MI 159', 'MI 160', 'MI 164', 'MI 165', 'MI 171', 'MI 172', 'MI 173', 'MI 183', 'MI 2', 'MI 20', 'MI 201', 'MI 202', 'MI 204', 'MI 205', 'MI 207', 'MI 209', 'MI 210', 'MI 211', 'MI 212', 'MI 217', 'MI 218', 'MI 220', 'MI 221', 'MI 23', 'MI 238', 'MI 240', 'MI 241', 'MI 25', 'MI 252', 'MI 253', 'MI 254', 'MI 255', 'MI 261', 'MI 263', 'MI 264', 'MI 265', 'MI 267', 'MI 285', 'MI 29', 'MI 293', 'MI 296', 'MI 297', 'MI 299', 'MI 3', 'MI 300', 'MI 303', 'MI 305', 'MI 307', 'MI 308', 'MI 319', 'MI 32', 'MI 322', 'MI 324', 'MI 327', 'MI 337', 'MI 338', 'MI 340', 'MI 345', 'MI 346', 'MI 348', 'MI 349', 'MI 350', 'MI 353', 'MI 356', 'MI 357', 'MI 36', 'MI 369', 'MI 37', 'MI 370', 'MI 374', 'MI 376', 'MI 379', 'MI 38', 'MI 383', 'MI 386', 'MI 387', 'MI 388', 'MI 39', 'MI 391', 'MI 392', 'MI 393', 'MI 4', 'MI 400', 'MI 402', 'MI 408', 'MI 409', 'MI 414', 'MI 416', 'MI 418', 'MI 42', 'MI 422', 'MI 426', 'MI 427', 'MI 428', 'MI 430', 'MI 432', 'MI 433', 'MI 435', 'MI 439', 'MI 445', 'MI 45', 'MI 451', 'MI 452', 'MI 453', 'MI 473', 'MI 474', 'MI 479', 'MI 489', 'MI 49', 'MI 491', 'MI 498', 'MI 5', 'MI 50', 'MI 505', 'MI 509', 'MI 517', 'MI 519', 'MI 52', 'MI 522', 'MI 524', 'MI 53', 'MI 538', 'MI 539', 'MI 540', 'MI 545', 'MI 547', 'MI 548', 'MI 55', 'MI 550', 'MI 56', 'MI 564', 'MI 566', 'MI 569', 'MI 573', 'MI 580', 'MI 581', 'MI 582', 'MI 589', 'MI 59', 'MI 599', 'MI 60', 'MI 602', 'MI 613', 'MI 615', 'MI 616', 'MI 62', 'MI 63', 'MI 633 ', 'MI 635', 'MI 641', 'MI 65', 'MI 651', 'MI 655', 'MI 66', 'MI 662', 'MI 666', 'MI 670', 'MI 675', 'MI 68', 'MI 682', 'MI 683', 'MI 684', 'MI 691', 'MI 692', 'MI 693', 'MI 695', 'MI 70', 'MI 702', 'MI 704', 'MI 705', 'MI 706', 'MI 71', 'MI 711', 'MI 713', 'MI 718', 'MI 721', 'MI 725', 'MI 726', 'MI 732', 'MI 735', 'MI 737', 'MI 739', 'MI 78', 'MI 8', 'MI 86', 'MI 89', 'MI 92']\n",
     "output_type": "stream"
    }
   ]
  },
  {
   "cell_type": "markdown",
   "source": "### Check what I have screened, but they have not screened yet",
   "metadata": {
    "cell_id": "27fc9412-4d79-4b9f-955a-1edd74d16d87",
    "tags": [],
    "deepnote_cell_type": "markdown"
   }
  },
  {
   "cell_type": "code",
   "metadata": {
    "cell_id": "0b44581e-1d35-4c94-941b-1778cbad8be6",
    "tags": [],
    "deepnote_to_be_reexecuted": false,
    "source_hash": "55a78f3",
    "execution_start": 1645428159270,
    "execution_millis": 2,
    "deepnote_cell_type": "code"
   },
   "source": "# Load in what I have screened\nscreened_by_me = [\"MI 1\", \"MI 2\", \"MI 4\", \"MI 5\", \"MI 8\", \"MI 10\", \"MI 14\", \"MI 15\", \"MI 27\", \"MI 30\",\n                  \"MI 61\", \"MI 74\", \"MI 120\", \"MI 122\", \"MI 127\", \"MI 129\", \"MI 131\", \"MI 142\", \"MI 146\", \"MI 158\",\n                  \"MI 162\", \"MI 168\", \"MI 169\", \"MI 216\", \"MI 217\", \"MI 219\", \"MI 220\", \"MI 234\", \"MI 235\"]\n\nscreened_by_both = []\nnot_screened_by_them = []\nfor m in screened_by_me:\n    if m in sunway_c_id:\n        screened_by_both.append(m)\n    else:\n        not_screened_by_them.append(m)\n\n# print(len(screened_by_both) + len(not_screened_by_them))\nprint(f\"Screened by both count: {len(screened_by_both)} - {screened_by_both}\")\nprint(f\"Not screened by them count: {len(not_screened_by_them)} - {not_screened_by_them}\")",
   "execution_count": null,
   "outputs": [
    {
     "name": "stdout",
     "text": "Screened by both count: 9 - ['MI 1', 'MI 2', 'MI 4', 'MI 5', 'MI 8', 'MI 10', 'MI 15', 'MI 217', 'MI 220']\nNot screened by them count: 20 - ['MI 14', 'MI 27', 'MI 30', 'MI 61', 'MI 74', 'MI 120', 'MI 122', 'MI 127', 'MI 129', 'MI 131', 'MI 142', 'MI 146', 'MI 158', 'MI 162', 'MI 168', 'MI 169', 'MI 216', 'MI 219', 'MI 234', 'MI 235']\n",
     "output_type": "stream"
    }
   ]
  },
  {
   "cell_type": "markdown",
   "source": "<a style='text-decoration:none;line-height:16px;display:flex;color:#5B5B62;padding:10px;justify-content:end;' href='https://deepnote.com?utm_source=created-in-deepnote-cell&projectId=72487218-bfd4-4a63-a450-c076490888ed' target=\"_blank\">\n<img alt='Created in deepnote.com' style='display:inline;max-height:16px;margin:0px;margin-right:7.5px;' src='data:image/svg+xml;base64,PD94bWwgdmVyc2lvbj0iMS4wIiBlbmNvZGluZz0iVVRGLTgiPz4KPHN2ZyB3aWR0aD0iODBweCIgaGVpZ2h0PSI4MHB4IiB2aWV3Qm94PSIwIDAgODAgODAiIHZlcnNpb249IjEuMSIgeG1sbnM9Imh0dHA6Ly93d3cudzMub3JnLzIwMDAvc3ZnIiB4bWxuczp4bGluaz0iaHR0cDovL3d3dy53My5vcmcvMTk5OS94bGluayI+CiAgICA8IS0tIEdlbmVyYXRvcjogU2tldGNoIDU0LjEgKDc2NDkwKSAtIGh0dHBzOi8vc2tldGNoYXBwLmNvbSAtLT4KICAgIDx0aXRsZT5Hcm91cCAzPC90aXRsZT4KICAgIDxkZXNjPkNyZWF0ZWQgd2l0aCBTa2V0Y2guPC9kZXNjPgogICAgPGcgaWQ9IkxhbmRpbmciIHN0cm9rZT0ibm9uZSIgc3Ryb2tlLXdpZHRoPSIxIiBmaWxsPSJub25lIiBmaWxsLXJ1bGU9ImV2ZW5vZGQiPgogICAgICAgIDxnIGlkPSJBcnRib2FyZCIgdHJhbnNmb3JtPSJ0cmFuc2xhdGUoLTEyMzUuMDAwMDAwLCAtNzkuMDAwMDAwKSI+CiAgICAgICAgICAgIDxnIGlkPSJHcm91cC0zIiB0cmFuc2Zvcm09InRyYW5zbGF0ZSgxMjM1LjAwMDAwMCwgNzkuMDAwMDAwKSI+CiAgICAgICAgICAgICAgICA8cG9seWdvbiBpZD0iUGF0aC0yMCIgZmlsbD0iIzAyNjVCNCIgcG9pbnRzPSIyLjM3NjIzNzYyIDgwIDM4LjA0NzY2NjcgODAgNTcuODIxNzgyMiA3My44MDU3NTkyIDU3LjgyMTc4MjIgMzIuNzU5MjczOSAzOS4xNDAyMjc4IDMxLjY4MzE2ODMiPjwvcG9seWdvbj4KICAgICAgICAgICAgICAgIDxwYXRoIGQ9Ik0zNS4wMDc3MTgsODAgQzQyLjkwNjIwMDcsNzYuNDU0OTM1OCA0Ny41NjQ5MTY3LDcxLjU0MjI2NzEgNDguOTgzODY2LDY1LjI2MTk5MzkgQzUxLjExMjI4OTksNTUuODQxNTg0MiA0MS42NzcxNzk1LDQ5LjIxMjIyODQgMjUuNjIzOTg0Niw0OS4yMTIyMjg0IEMyNS40ODQ5Mjg5LDQ5LjEyNjg0NDggMjkuODI2MTI5Niw0My4yODM4MjQ4IDM4LjY0NzU4NjksMzEuNjgzMTY4MyBMNzIuODcxMjg3MSwzMi41NTQ0MjUgTDY1LjI4MDk3Myw2Ny42NzYzNDIxIEw1MS4xMTIyODk5LDc3LjM3NjE0NCBMMzUuMDA3NzE4LDgwIFoiIGlkPSJQYXRoLTIyIiBmaWxsPSIjMDAyODY4Ij48L3BhdGg+CiAgICAgICAgICAgICAgICA8cGF0aCBkPSJNMCwzNy43MzA0NDA1IEwyNy4xMTQ1MzcsMC4yNTcxMTE0MzYgQzYyLjM3MTUxMjMsLTEuOTkwNzE3MDEgODAsMTAuNTAwMzkyNyA4MCwzNy43MzA0NDA1IEM4MCw2NC45NjA0ODgyIDY0Ljc3NjUwMzgsNzkuMDUwMzQxNCAzNC4zMjk1MTEzLDgwIEM0Ny4wNTUzNDg5LDc3LjU2NzA4MDggNTMuNDE4MjY3Nyw3MC4zMTM2MTAzIDUzLjQxODI2NzcsNTguMjM5NTg4NSBDNTMuNDE4MjY3Nyw0MC4xMjg1NTU3IDM2LjMwMzk1NDQsMzcuNzMwNDQwNSAyNS4yMjc0MTcsMzcuNzMwNDQwNSBDMTcuODQzMDU4NiwzNy43MzA0NDA1IDkuNDMzOTE5NjYsMzcuNzMwNDQwNSAwLDM3LjczMDQ0MDUgWiIgaWQ9IlBhdGgtMTkiIGZpbGw9IiMzNzkzRUYiPjwvcGF0aD4KICAgICAgICAgICAgPC9nPgogICAgICAgIDwvZz4KICAgIDwvZz4KPC9zdmc+' > </img>\nCreated in <span style='font-weight:600;margin-left:4px;'>Deepnote</span></a>",
   "metadata": {
    "tags": [],
    "created_in_deepnote_cell": true,
    "deepnote_cell_type": "markdown"
   }
  }
 ],
 "nbformat": 4,
 "nbformat_minor": 2,
 "metadata": {
  "orig_nbformat": 2,
  "deepnote": {
   "is_reactive": false
  },
  "deepnote_notebook_id": "c36425a9-2b02-4bf6-a355-1d67fd46793e",
  "deepnote_execution_queue": []
 }
}